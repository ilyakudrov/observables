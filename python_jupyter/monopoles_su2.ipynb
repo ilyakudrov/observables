{
 "cells": [
  {
   "cell_type": "code",
   "execution_count": 3,
   "id": "authentic-store",
   "metadata": {
    "scrolled": true
   },
   "outputs": [],
   "source": [
    "import numpy as np\n",
    "import pandas as pd\n",
    "import struct\n",
    "import math\n",
    "import matplotlib.pyplot as plt\n",
    "from scipy.optimize import curve_fit\n",
    "import seaborn as sns\n",
    "sns.set_style('darkgrid')\n",
    "import sys\n",
    "import os\n",
    "import seaborn\n",
    "from  matplotlib import pyplot"
   ]
  },
  {
   "cell_type": "code",
   "execution_count": 4,
   "id": "billion-equivalent",
   "metadata": {
    "scrolled": true
   },
   "outputs": [],
   "source": [
    "import io\n",
    "\n",
    "# functions for reading files\n",
    "        \n",
    "def read_data(start, end, paths, data_name):\n",
    "    data = []\n",
    "    for path in paths:\n",
    "        for i in range(start, end + 1):\n",
    "            data_path = f'{path[0]}/{data_name}_{i:04}'\n",
    "            if(os.path.isfile(data_path)):\n",
    "                data.append(pd.read_csv(data_path, header = 0, names=['cluster size', 'number']))\n",
    "                data[-1]['conf'] = i\n",
    "                data[-1]['time size'] = path[1]\n",
    "    \n",
    "    return pd.concat(data)"
   ]
  },
  {
   "cell_type": "code",
   "execution_count": 5,
   "id": "7ce41701",
   "metadata": {},
   "outputs": [],
   "source": [
    "# save image\n",
    "def save_image_time(image_path, image_name, fg):\n",
    "    try:\n",
    "        os.makedirs(image_path)\n",
    "    except:\n",
    "        pass\n",
    "    \n",
    "    output_path = f'{image_path}/{image_name}'\n",
    "    fg.savefig(output_path, dpi=400)"
   ]
  },
  {
   "cell_type": "code",
   "execution_count": 19,
   "id": "fleet-simulation",
   "metadata": {},
   "outputs": [],
   "source": [
    "# functions for density of wrapped and unwrapped clusters\n",
    "\n",
    "def data_process_density(data):\n",
    "    return data.groupby(['cluster size', 'time size'])['number']\\\n",
    "        .agg([('number', np.mean), ('std', lambda x: np.std(x, ddof=1)/math.sqrt(np.size(x)))]).reset_index()\n",
    "\n",
    "def fill_zeroes(data):\n",
    "    return data.set_index(['conf', 'cluster size']).unstack('cluster size', fill_value=0).stack()\n",
    "\n",
    "def make_bins(data):\n",
    "    print(data)\n",
    "    bin_size = (data.name.left + data.name.right) / 2\n",
    "    return data.sum()/bin_size\n",
    "\n",
    "def data_process_upper(data, bin_num):\n",
    "    return data.groupby([pd.cut(data['cluster size'], bin_num)])['number']\\\n",
    "        .apply(make_bins).reset_index()\\\n",
    "        .groupby(['cluster size'])['number']\\\n",
    "        .agg([('number', np.mean), ('std', lambda x: np.std(x, ddof=1)/math.sqrt(np.size(x)))])\n",
    "\n",
    "def density(start, end, paths, bin_num, file_name):\n",
    "    data = read_data(start, end, paths, file_name)\n",
    "\n",
    "    data = data.groupby(['time size'])[['cluster size', 'number', 'conf']].apply(fill_zeroes).reset_index()\n",
    "\n",
    "    # print(data)\n",
    "\n",
    "    # data = data.groupby(['cluster size', 'time size', 'conf'])['number']\\\n",
    "    #     .agg([('number', np.mean)]).reset_index()\\\n",
    "    #     .groupby(['time size'])\\\n",
    "    #     .apply(data_process_upper, bin_num).reset_index()\n",
    "\n",
    "    # data['cluster size'] = data['cluster size'].apply(lambda x: (x.right + x.left) / 2)\n",
    "\n",
    "    data = data_process_density(data)\n",
    "\n",
    "    data = data[(data['cluster size'] <= 50) & (data['cluster size'] >= 1)]\n",
    "    # data = data[data['cluster size'] <= 500]\n",
    "\n",
    "    print(data)\n",
    "\n",
    "    fg = seaborn.FacetGrid(data=data, hue = 'time size', height=5, aspect=1.61)\n",
    "    fg.fig.suptitle(f'cluster density')\n",
    "    plt.yscale('log')\n",
    "    plt.xscale('log')\n",
    "    fg.map(plt.errorbar, 'cluster size', 'number', 'std', marker=\"o\", fmt='', linestyle = '').add_legend()\n",
    "\n",
    "    # print(data)\n",
    "\n",
    "def maximal_cluster(start, end, paths):\n",
    "    data = []\n",
    "    data.append(read_data(start, end, paths, 'unwrapped'))\n",
    "    data.append(read_data(start, end, paths, 'wrapped'))\n",
    "\n",
    "    data = pd.concat(data)\n",
    "    \n",
    "def max_clusters(start, end, paths, file_name):\n",
    "    data = read_data(start, end, paths, file_name)\n",
    "\n",
    "    data = data.groupby(['conf'])[['cluster size']].agg([('max cluster', max)]).reset_index()\n",
    "    print(data)"
   ]
  },
  {
   "cell_type": "code",
   "execution_count": 20,
   "id": "b01ba509",
   "metadata": {},
   "outputs": [
    {
     "name": "stdout",
     "output_type": "stream",
     "text": [
      "    cluster size      time size       number       std\n",
      "0              4  T_step=0.0001  2628.937500  8.356709\n",
      "1              4  T_step=0.0005  2635.479167  8.832312\n",
      "2              4   T_step=0.001  2622.187500  8.414445\n",
      "3              6  T_step=0.0001   900.208333  4.312994\n",
      "4              6  T_step=0.0005   892.791667  4.359301\n",
      "..           ...            ...          ...       ...\n",
      "67            48  T_step=0.0005     0.375000  0.087443\n",
      "68            48   T_step=0.001     0.520833  0.098704\n",
      "69            50  T_step=0.0001     0.375000  0.105794\n",
      "70            50  T_step=0.0005     0.291667  0.078541\n",
      "71            50   T_step=0.001     0.458333  0.115156\n",
      "\n",
      "[72 rows x 4 columns]\n"
     ]
    },
    {
     "data": {
      "image/png": "[encoded data removed]",
      "text/plain": [
       "<Figure size 691.1x360 with 1 Axes>"
      ]
     },
     "metadata": {},
     "output_type": "display_data"
    }
   ],
   "source": [
    "path = '../data/monopoles_su2/su2/su2_suzuki/48^4/beta2.8'\n",
    "paths = [(f'{path}/T_step=0.0001/T_final=0.5/OR_steps=4/clusters_unwrapped', 'T_step=0.0001'), \n",
    "        (f'{path}/T_step=0.0005/T_final=0.0005/OR_steps=4/clusters_unwrapped', 'T_step=0.0005'),\n",
    "        (f'{path}/T_step=0.001/T_final=0.5/OR_steps=4/clusters_unwrapped', 'T_step=0.001')]\n",
    "\n",
    "density(1, 50, paths, 10, 'clusters_unwrapped')"
   ]
  },
  {
   "cell_type": "code",
   "execution_count": 6,
   "id": "4ff1a2d2",
   "metadata": {},
   "outputs": [
    {
     "name": "stdout",
     "output_type": "stream",
     "text": [
      "   conf cluster size\n",
      "         max cluster\n",
      "0     1         5964\n",
      "1     2          284\n",
      "2     3         5872\n",
      "3     4         2468\n",
      "4     5         2656\n",
      "5     6         2200\n",
      "6     7         6720\n",
      "7     8          922\n",
      "8     9         7090\n",
      "9    10         3366\n",
      "10   11         2046\n",
      "11   12         2458\n",
      "12   14          452\n",
      "13   15         1986\n",
      "14   16         5192\n",
      "15   17         8606\n",
      "16   18         5922\n",
      "17   19         4582\n",
      "18   20         4658\n",
      "19   21          530\n",
      "20   22         3054\n",
      "21   23         4446\n",
      "22   24          466\n",
      "23   25         5568\n",
      "24   26         8886\n",
      "25   27         3070\n",
      "26   28         3508\n",
      "27   29          860\n",
      "28   30         6148\n",
      "29   31          170\n",
      "30   32         4632\n",
      "31   33         5340\n",
      "32   34         8964\n",
      "33   35         1458\n",
      "34   36          728\n",
      "35   37         1478\n",
      "36   38         5010\n",
      "37   39          886\n",
      "38   40          116\n",
      "39   41          412\n",
      "40   42         3430\n",
      "41   43         4092\n",
      "42   44         2276\n",
      "43   45         9356\n",
      "44   46         1424\n",
      "45   48          242\n",
      "46   49         1062\n",
      "47   50          178\n"
     ]
    }
   ],
   "source": [
    "path = '../data/monopoles_su2/su2/su2_suzuki/48^4/beta2.8'\n",
    "paths = [(f'{path}/T_step=0.0001/T_final=0.5/OR_steps=4/clusters_unwrapped', 'T_step=0.0001')]\n",
    "\n",
    "max_clusters(1, 50, paths, 'clusters_unwrapped')"
   ]
  },
  {
   "cell_type": "code",
   "execution_count": 7,
   "id": "9e33537f",
   "metadata": {},
   "outputs": [
    {
     "name": "stdout",
     "output_type": "stream",
     "text": [
      "   cluster size number  conf      time size\n",
      "0          1032      1     2  T_step=0.0001\n",
      "1          3480      1     2  T_step=0.0001\n",
      "2           828      1     4  T_step=0.0001\n",
      "3          3582      1     4  T_step=0.0001\n",
      "4           294      1     5  T_step=0.0001\n",
      "..          ...    ...   ...            ...\n",
      "58         3578      1    48  T_step=0.0001\n",
      "59         1324      1    49  T_step=0.0001\n",
      "60         3724      1    49  T_step=0.0001\n",
      "61         2770      1    50  T_step=0.0001\n",
      "62         6300      1    50  T_step=0.0001\n",
      "\n",
      "[63 rows x 4 columns]\n"
     ]
    }
   ],
   "source": [
    "path = '../data/monopoles_su2/su2/su2_suzuki/48^4/beta2.8'\n",
    "paths = [(f'{path}/T_step=0.0001/T_final=0.5/OR_steps=4/clusters_wrapped', 'T_step=0.0001')]\n",
    "\n",
    "data = read_data(1, 50, paths, 'clusters_wrapped').reset_index(drop=True)\n",
    "print(data)"
   ]
  },
  {
   "cell_type": "code",
   "execution_count": 8,
   "id": "20f5003f",
   "metadata": {},
   "outputs": [],
   "source": [
    "def get_large_wrapped(data, threshold):\n",
    "    if data.shape[0] >= 2:\n",
    "        data = data.sort_values(by=['cluster size'])\n",
    "        if (data['cluster size'].iloc[-1] > threshold) or (data['cluster size'].iloc[-2] > threshold):\n",
    "            return data.iloc[-2:]\n",
    "\n",
    "\n",
    "def clusters_divide(data_unwrapped, data_wrapped, size_threshold):\n",
    "    data_large_unwrapped = data_unwrapped[data_unwrapped['cluster size'] > size_threshold]\n",
    "\n",
    "    data_small_unwrapped = data_unwrapped[data_unwrapped['cluster size'] <= size_threshold]\n",
    "\n",
    "    data_large_wrapped = data_wrapped.groupby(['conf']).apply(get_large_wrapped, size_threshold).reset_index(drop=True)\n",
    "\n",
    "\n",
    "    data_large = pd.concat([data_large_unwrapped, data_large_wrapped])\n",
    "    print(data_large)\n",
    "    data_large = data_large.groupby(['conf', 'time size'])[['cluster size']].apply(sum).reset_index()\n",
    "    print(data_large)"
   ]
  },
  {
   "cell_type": "code",
   "execution_count": 13,
   "id": "46c79bc5",
   "metadata": {},
   "outputs": [
    {
     "name": "stdout",
     "output_type": "stream",
     "text": [
      "   cluster size number  conf      time size\n",
      "0          1032      1     2  T_step=0.0001\n",
      "1          3480      1     2  T_step=0.0001\n",
      "3          3582      1     4  T_step=0.0001\n",
      "6          3536      1     5  T_step=0.0001\n",
      "7          1586      1     8  T_step=0.0001\n",
      "8          3580      1     8  T_step=0.0001\n",
      "10         5084      1    10  T_step=0.0001\n",
      "12         1034      1    12  T_step=0.0001\n",
      "13         1164      1    14  T_step=0.0001\n",
      "14         5016      1    14  T_step=0.0001\n",
      "15         3068      1    15  T_step=0.0001\n",
      "16         4702      1    15  T_step=0.0001\n",
      "17         1224      1    21  T_step=0.0001\n",
      "18         5600      1    21  T_step=0.0001\n",
      "19         4740      1    24  T_step=0.0001\n",
      "20         5952      1    24  T_step=0.0001\n",
      "21         1580      1    25  T_step=0.0001\n",
      "22         2086      1    25  T_step=0.0001\n",
      "23         1532      1    27  T_step=0.0001\n",
      "24         1714      1    27  T_step=0.0001\n",
      "25         3220      1    28  T_step=0.0001\n",
      "26         3386      1    28  T_step=0.0001\n",
      "27         2118      1    29  T_step=0.0001\n",
      "28         2760      1    29  T_step=0.0001\n",
      "30         6856      1    31  T_step=0.0001\n",
      "31         1508      1    32  T_step=0.0001\n",
      "32         2938      1    32  T_step=0.0001\n",
      "33         1526      1    33  T_step=0.0001\n",
      "34         2288      1    33  T_step=0.0001\n",
      "35         1150      1    35  T_step=0.0001\n",
      "36         1336      1    35  T_step=0.0001\n",
      "37         1464      1    35  T_step=0.0001\n",
      "38         2460      1    35  T_step=0.0001\n",
      "39         2668      1    36  T_step=0.0001\n",
      "40         3974      1    36  T_step=0.0001\n",
      "41         1850      1    37  T_step=0.0001\n",
      "42         3264      1    37  T_step=0.0001\n",
      "43         2072      1    39  T_step=0.0001\n",
      "44         2372      1    39  T_step=0.0001\n",
      "46         1018      1    40  T_step=0.0001\n",
      "47         1170      1    40  T_step=0.0001\n",
      "48         1234      1    40  T_step=0.0001\n",
      "49         1020      1    41  T_step=0.0001\n",
      "50         4808      1    41  T_step=0.0001\n",
      "52         4326      1    42  T_step=0.0001\n",
      "53         2060      1    44  T_step=0.0001\n",
      "54         3656      1    44  T_step=0.0001\n",
      "55         1960      1    46  T_step=0.0001\n",
      "56         4076      1    46  T_step=0.0001\n",
      "57         1736      1    48  T_step=0.0001\n",
      "58         3578      1    48  T_step=0.0001\n",
      "59         1324      1    49  T_step=0.0001\n",
      "60         3724      1    49  T_step=0.0001\n",
      "61         2770      1    50  T_step=0.0001\n",
      "62         6300      1    50  T_step=0.0001\n"
     ]
    }
   ],
   "source": [
    "path = '../data/monopoles_su2/su2/su2_suzuki/48^4/beta2.8'\n",
    "paths_unwrapped = [(f'{path}/T_step=0.0001/T_final=0.5/OR_steps=4/clusters_unwrapped', 'T_step=0.0001')]\n",
    "paths_wrapped = [(f'{path}/T_step=0.0001/T_final=0.5/OR_steps=4/clusters_wrapped', 'T_step=0.0001')]\n",
    "\n",
    "data_unwrapped = read_data(1, 50, paths_unwrapped, 'clusters_unwrapped').reset_index(drop=True)\n",
    "data_wrapped = read_data(1, 50, paths_wrapped, 'clusters_wrapped').reset_index(drop=True)\n",
    "\n",
    "data_wrapped_test = data_wrapped[data_wrapped['cluster size'] > 1000]\n",
    "print(data_wrapped_test)\n",
    "\n",
    "# print(data_unwrapped)\n",
    "# print(data_wrapped)\n",
    "size_threshold = 800\n",
    "\n",
    "# clusters_divide(data_unwrapped, data_wrapped, size_threshold)"
   ]
  },
  {
   "cell_type": "code",
   "execution_count": 10,
   "id": "4de1b1b2",
   "metadata": {},
   "outputs": [],
   "source": [
    "def cluster_gap_unwrapped(data, threshold_max):\n",
    "    \n",
    "    for threshold in range(threshold_max):\n",
    "        data1 = data[data['cluster size'] <= threshold]\n",
    "        "
   ]
  },
  {
   "cell_type": "code",
   "execution_count": null,
   "id": "474d9e24",
   "metadata": {},
   "outputs": [],
   "source": []
  }
 ],
 "metadata": {
  "kernelspec": {
   "display_name": "Python 3.8.5 64-bit",
   "language": "python",
   "name": "python3"
  },
  "language_info": {
   "codemirror_mode": {
    "name": "ipython",
    "version": 3
   },
   "file_extension": ".py",
   "mimetype": "text/x-python",
   "name": "python",
   "nbconvert_exporter": "python",
   "pygments_lexer": "ipython3",
   "version": "3.8.5"
  },
  "vscode": {
   "interpreter": {
    "hash": "916dbcbb3f70747c44a77c7bcd40155683ae19c65e1c03b4aa3499c5328201f1"
   }
  }
 },
 "nbformat": 4,
 "nbformat_minor": 5
}
