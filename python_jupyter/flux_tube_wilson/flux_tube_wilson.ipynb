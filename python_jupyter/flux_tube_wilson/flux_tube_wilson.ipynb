{
 "cells": [
  {
   "cell_type": "code",
   "execution_count": 1,
   "metadata": {},
   "outputs": [],
   "source": [
    "import numpy as np\n",
    "import pandas as pd\n",
    "import matplotlib.pyplot as plt\n",
    "import seaborn as sns\n",
    "import seaborn\n",
    "import os\n",
    "import io\n",
    "import math\n",
    "from scipy.optimize import curve_fit\n",
    "\n",
    "import flux_tube_wilson\n",
    "import plots"
   ]
  },
  {
   "cell_type": "code",
   "execution_count": null,
   "metadata": {},
   "outputs": [],
   "source": [
    "paths = [('../../result/flux_tube_wilson/su3/gluodynamics/32^4/beta6.2/HYP1_alpha=1_1_0.5_APE_alpha=0.5/longitudinal', {'original': 6}, '40^4')]\n",
    "flux_tube_wilson.flux(paths, 'd', '../images/flux_tube_wilson/gluodynamics/24^4/mu_comparison/longitudinal', plots.plot_flux, 0.0128912)"
   ]
  },
  {
   "cell_type": "code",
   "execution_count": null,
   "metadata": {},
   "outputs": [],
   "source": [
    "paths = [('../../result/flux_tube_wilson/su3/gluodynamics/32^4/beta6.2/HYP1_alpha=1_1_0.5_APE_alpha=0.5/longitudinal', {'original': 6}, '40^4')]\n",
    "flux_tube_wilson.flux(paths, 'd', '../images/flux_tube_wilson/gluodynamics/32^4/mu_comparison/longitudinal', plots.plot_flux, 0.0128912)"
   ]
  },
  {
   "cell_type": "code",
   "execution_count": 4,
   "metadata": {},
   "outputs": [
    {
     "ename": "KeyError",
     "evalue": "'field_type'",
     "output_type": "error",
     "traceback": [
      "\u001b[0;31m---------------------------------------------------------------------------\u001b[0m",
      "\u001b[0;31mKeyError\u001b[0m                                  Traceback (most recent call last)",
      "\u001b[0;32m<ipython-input-4-296a608ce77e>\u001b[0m in \u001b[0;36m<module>\u001b[0;34m\u001b[0m\n\u001b[1;32m      1\u001b[0m \u001b[0mpaths\u001b[0m \u001b[0;34m=\u001b[0m \u001b[0;34m[\u001b[0m\u001b[0;34m{\u001b[0m\u001b[0;34m'path'\u001b[0m\u001b[0;34m:\u001b[0m \u001b[0;34m'../../result/flux_tube_wilson/su3/gluodynamics/32^4/beta6.2/HYP1_alpha=1_1_0.5_APE_alpha=0.5/transversal/flux_tube_original-original.csv'\u001b[0m\u001b[0;34m,\u001b[0m \u001b[0;34m'constraints'\u001b[0m\u001b[0;34m:\u001b[0m \u001b[0;34m{\u001b[0m\u001b[0;34m'T'\u001b[0m\u001b[0;34m:\u001b[0m \u001b[0;36m6\u001b[0m\u001b[0;34m}\u001b[0m\u001b[0;34m,\u001b[0m \u001b[0;34m'label'\u001b[0m\u001b[0;34m:\u001b[0m \u001b[0;34m'32^4'\u001b[0m\u001b[0;34m}\u001b[0m\u001b[0;34m]\u001b[0m\u001b[0;34m\u001b[0m\u001b[0;34m\u001b[0m\u001b[0m\n\u001b[0;32m----> 2\u001b[0;31m \u001b[0mflux_tube_wilson\u001b[0m\u001b[0;34m.\u001b[0m\u001b[0mflux\u001b[0m\u001b[0;34m(\u001b[0m\u001b[0mpaths\u001b[0m\u001b[0;34m,\u001b[0m \u001b[0;34m'd'\u001b[0m\u001b[0;34m,\u001b[0m \u001b[0;34m'../images/flux_tube_wilson/gluodynamics/32^4/mu_comparison/transversal'\u001b[0m\u001b[0;34m,\u001b[0m \u001b[0mplots\u001b[0m\u001b[0;34m.\u001b[0m\u001b[0mplot_flux\u001b[0m\u001b[0;34m)\u001b[0m\u001b[0;34m\u001b[0m\u001b[0;34m\u001b[0m\u001b[0m\n\u001b[0m",
      "\u001b[0;32m~/soft/lattice/observables/python_jupyter/flux_tube_wilson/flux_tube_wilson.py\u001b[0m in \u001b[0;36mflux\u001b[0;34m(paths, flux_coord, image_path, plot_function)\u001b[0m\n\u001b[1;32m     33\u001b[0m     \u001b[0mdata\u001b[0m \u001b[0;34m=\u001b[0m \u001b[0mflux_data\u001b[0m\u001b[0;34m.\u001b[0m\u001b[0mget_flux_data\u001b[0m\u001b[0;34m(\u001b[0m\u001b[0mpaths\u001b[0m\u001b[0;34m)\u001b[0m\u001b[0;34m\u001b[0m\u001b[0;34m\u001b[0m\u001b[0m\n\u001b[1;32m     34\u001b[0m \u001b[0;34m\u001b[0m\u001b[0m\n\u001b[0;32m---> 35\u001b[0;31m     data.groupby(['R', 'field_type']).apply(\n\u001b[0m\u001b[1;32m     36\u001b[0m         plot_function, flux_coord, image_path)\n\u001b[1;32m     37\u001b[0m \u001b[0;34m\u001b[0m\u001b[0m\n",
      "\u001b[0;32m~/.local/lib/python3.8/site-packages/pandas/core/frame.py\u001b[0m in \u001b[0;36mgroupby\u001b[0;34m(self, by, axis, level, as_index, sort, group_keys, squeeze, observed, dropna)\u001b[0m\n\u001b[1;32m   8387\u001b[0m         \u001b[0maxis\u001b[0m \u001b[0;34m=\u001b[0m \u001b[0mself\u001b[0m\u001b[0;34m.\u001b[0m\u001b[0m_get_axis_number\u001b[0m\u001b[0;34m(\u001b[0m\u001b[0maxis\u001b[0m\u001b[0;34m)\u001b[0m\u001b[0;34m\u001b[0m\u001b[0;34m\u001b[0m\u001b[0m\n\u001b[1;32m   8388\u001b[0m \u001b[0;34m\u001b[0m\u001b[0m\n\u001b[0;32m-> 8389\u001b[0;31m         return DataFrameGroupBy(\n\u001b[0m\u001b[1;32m   8390\u001b[0m             \u001b[0mobj\u001b[0m\u001b[0;34m=\u001b[0m\u001b[0mself\u001b[0m\u001b[0;34m,\u001b[0m\u001b[0;34m\u001b[0m\u001b[0;34m\u001b[0m\u001b[0m\n\u001b[1;32m   8391\u001b[0m             \u001b[0mkeys\u001b[0m\u001b[0;34m=\u001b[0m\u001b[0mby\u001b[0m\u001b[0;34m,\u001b[0m\u001b[0;34m\u001b[0m\u001b[0;34m\u001b[0m\u001b[0m\n",
      "\u001b[0;32m~/.local/lib/python3.8/site-packages/pandas/core/groupby/groupby.py\u001b[0m in \u001b[0;36m__init__\u001b[0;34m(self, obj, keys, axis, level, grouper, exclusions, selection, as_index, sort, group_keys, squeeze, observed, mutated, dropna)\u001b[0m\n\u001b[1;32m    957\u001b[0m             \u001b[0;32mfrom\u001b[0m \u001b[0mpandas\u001b[0m\u001b[0;34m.\u001b[0m\u001b[0mcore\u001b[0m\u001b[0;34m.\u001b[0m\u001b[0mgroupby\u001b[0m\u001b[0;34m.\u001b[0m\u001b[0mgrouper\u001b[0m \u001b[0;32mimport\u001b[0m \u001b[0mget_grouper\u001b[0m\u001b[0;34m\u001b[0m\u001b[0;34m\u001b[0m\u001b[0m\n\u001b[1;32m    958\u001b[0m \u001b[0;34m\u001b[0m\u001b[0m\n\u001b[0;32m--> 959\u001b[0;31m             grouper, exclusions, obj = get_grouper(\n\u001b[0m\u001b[1;32m    960\u001b[0m                 \u001b[0mobj\u001b[0m\u001b[0;34m,\u001b[0m\u001b[0;34m\u001b[0m\u001b[0;34m\u001b[0m\u001b[0m\n\u001b[1;32m    961\u001b[0m                 \u001b[0mkeys\u001b[0m\u001b[0;34m,\u001b[0m\u001b[0;34m\u001b[0m\u001b[0;34m\u001b[0m\u001b[0m\n",
      "\u001b[0;32m~/.local/lib/python3.8/site-packages/pandas/core/groupby/grouper.py\u001b[0m in \u001b[0;36mget_grouper\u001b[0;34m(obj, key, axis, level, sort, observed, mutated, validate, dropna)\u001b[0m\n\u001b[1;32m    886\u001b[0m                 \u001b[0min_axis\u001b[0m\u001b[0;34m,\u001b[0m \u001b[0mlevel\u001b[0m\u001b[0;34m,\u001b[0m \u001b[0mgpr\u001b[0m \u001b[0;34m=\u001b[0m \u001b[0;32mFalse\u001b[0m\u001b[0;34m,\u001b[0m \u001b[0mgpr\u001b[0m\u001b[0;34m,\u001b[0m \u001b[0;32mNone\u001b[0m\u001b[0;34m\u001b[0m\u001b[0;34m\u001b[0m\u001b[0m\n\u001b[1;32m    887\u001b[0m             \u001b[0;32melse\u001b[0m\u001b[0;34m:\u001b[0m\u001b[0;34m\u001b[0m\u001b[0;34m\u001b[0m\u001b[0m\n\u001b[0;32m--> 888\u001b[0;31m                 \u001b[0;32mraise\u001b[0m \u001b[0mKeyError\u001b[0m\u001b[0;34m(\u001b[0m\u001b[0mgpr\u001b[0m\u001b[0;34m)\u001b[0m\u001b[0;34m\u001b[0m\u001b[0;34m\u001b[0m\u001b[0m\n\u001b[0m\u001b[1;32m    889\u001b[0m         \u001b[0;32melif\u001b[0m \u001b[0misinstance\u001b[0m\u001b[0;34m(\u001b[0m\u001b[0mgpr\u001b[0m\u001b[0;34m,\u001b[0m \u001b[0mGrouper\u001b[0m\u001b[0;34m)\u001b[0m \u001b[0;32mand\u001b[0m \u001b[0mgpr\u001b[0m\u001b[0;34m.\u001b[0m\u001b[0mkey\u001b[0m \u001b[0;32mis\u001b[0m \u001b[0;32mnot\u001b[0m \u001b[0;32mNone\u001b[0m\u001b[0;34m:\u001b[0m\u001b[0;34m\u001b[0m\u001b[0;34m\u001b[0m\u001b[0m\n\u001b[1;32m    890\u001b[0m             \u001b[0;31m# Add key to exclusions\u001b[0m\u001b[0;34m\u001b[0m\u001b[0;34m\u001b[0m\u001b[0;34m\u001b[0m\u001b[0m\n",
      "\u001b[0;31mKeyError\u001b[0m: 'field_type'"
     ]
    }
   ],
   "source": [
    "paths = [{'path': '../../result/flux_tube_wilson/su3/gluodynamics/32^4/beta6.2/HYP1_alpha=1_1_0.5_APE_alpha=0.5/transversal/flux_tube_original-original.csv', 'constraints': {'T': 6}, 'label': '32^4'}]\n",
    "flux_tube_wilson.flux(paths, 'd', '../images/flux_tube_wilson/gluodynamics/32^4/mu_comparison/transversal', plots.plot_flux)"
   ]
  },
  {
   "cell_type": "code",
   "execution_count": null,
   "metadata": {},
   "outputs": [],
   "source": [
    "paths = [('../../result/flux_tube_wilson/su2/qc2dstag/40^4/mu0.00/HYP3_alpha=1_1_0.5_APE_alpha=0.5/transversal', {'original': 6}, 'mu0.00')]\n",
    "flux_tube_wilson.flux(paths, 'd', '../images/flux_tube_wilson/qc2dstag/40^4/mu_comparison/transversal', plots.plot_flux, 0.0128912)"
   ]
  },
  {
   "cell_type": "code",
   "execution_count": null,
   "metadata": {},
   "outputs": [],
   "source": [
    "paths = [('../../result/flux_tube_wilson/su2/qc2dstag/40^4/mu0.20/HYP3_alpha=1_1_0.5_APE_alpha=0.5/transversal', {'original': 6}, 'mu0.20')]\n",
    "flux_tube_wilson.flux(paths, 'd', '../images/flux_tube_wilson/qc2dstag/40^4/mu_comparison/transversal', plots.plot_flux, 0.0128912)"
   ]
  },
  {
   "cell_type": "code",
   "execution_count": null,
   "metadata": {},
   "outputs": [],
   "source": [
    "paths = [('../../result/flux_tube_wilson/su2/qc2dstag/40^4/mu0.30/HYP3_alpha=1_1_0.5_APE_alpha=0.5/transversal', {'original': 6}, 'mu0.30')]\n",
    "flux_tube_wilson.flux(paths, 'd', '../images/flux_tube_wilson/qc2dstag/40^4/mu_comparison/transversal', plots.plot_flux, 0.0128912)"
   ]
  },
  {
   "cell_type": "code",
   "execution_count": null,
   "metadata": {},
   "outputs": [],
   "source": [
    "paths = [('../../result/flux_tube_wilson/su2/qc2dstag/40^4/mu0.35/HYP3_alpha=1_1_0.5_APE_alpha=0.5/transversal', {'original': 6}, 'mu0.35')]\n",
    "flux_tube_wilson.flux(paths, 'd', '../images/flux_tube_wilson/qc2dstag/40^4/mu_comparison/transversal', plots.plot_flux, 0.0128912)"
   ]
  },
  {
   "cell_type": "code",
   "execution_count": null,
   "metadata": {},
   "outputs": [],
   "source": [
    "paths = [('../../result/flux_tube_wilson/su2/qc2dstag/40^4/mu0.40/HYP3_alpha=1_1_0.5_APE_alpha=0.5/transversal', {'original': 6}, 'mu0.40')]\n",
    "flux_tube_wilson.flux(paths, 'd', '../images/flux_tube_wilson/qc2dstag/40^4/mu_comparison/transversal', plots.plot_flux, 0.0128912)"
   ]
  },
  {
   "cell_type": "code",
   "execution_count": null,
   "metadata": {},
   "outputs": [],
   "source": [
    "paths = [('../../result/flux_tube_wilson/su2/qc2dstag/40^4/mu0.45/HYP3_alpha=1_1_0.5_APE_alpha=0.5/transversal', {'original': 6}, 'mu0.45')]\n",
    "flux_tube_wilson.flux(paths, 'd', '../images/flux_tube_wilson/qc2dstag/40^4/mu_comparison/transversal', plots.plot_flux, 0.0128912)"
   ]
  },
  {
   "cell_type": "code",
   "execution_count": null,
   "metadata": {},
   "outputs": [],
   "source": [
    "paths = [('../../result/flux_tube_wilson/su2/qc2dstag/40^4/mu0.00/HYP1_alpha=1_1_0.5_APE_alpha=0.5/longitudinal', {'original': 8}, 'mu0.00')]\n",
    "flux_tube_wilson.flux(paths, 'd', '../images/flux_tube_wilson/qc2dstag/40^4/mu_comparison/longitudinal', plots.plot_flux, 0.0128912)"
   ]
  },
  {
   "cell_type": "code",
   "execution_count": null,
   "metadata": {},
   "outputs": [],
   "source": [
    "paths = [('../../result/flux_tube_wilson/su2/qc2dstag/40^4/mu0.05/HYP1_alpha=1_1_0.5_APE_alpha=0.5/longitudinal', {'original': 8}, 'mu0.05')]\n",
    "flux_tube_wilson.flux(paths, 'd', '../images/flux_tube_wilson/qc2dstag/40^4/mu_comparison/longitudinal', plots.plot_flux, 0.0128912)"
   ]
  },
  {
   "cell_type": "code",
   "execution_count": null,
   "metadata": {},
   "outputs": [],
   "source": [
    "paths = [('../../result/flux_tube_wilson/su2/qc2dstag/40^4/mu0.20/HYP1_alpha=1_1_0.5_APE_alpha=0.5/longitudinal', {'original': 8}, 'mu0.20')]\n",
    "flux_tube_wilson.flux(paths, 'd', '../images/flux_tube_wilson/qc2dstag/40^4/mu_comparison/longitudinal', plots.plot_flux, 0.0128912)"
   ]
  },
  {
   "cell_type": "code",
   "execution_count": null,
   "metadata": {},
   "outputs": [],
   "source": [
    "paths = [('../../result/flux_tube_wilson/su2/qc2dstag/40^4/mu0.25/HYP1_alpha=1_1_0.5_APE_alpha=0.5/longitudinal', {'original': 8}, 'mu0.25')]\n",
    "flux_tube_wilson.flux(paths, 'd', '../images/flux_tube_wilson/qc2dstag/40^4/mu_comparison/longitudinal', plots.plot_flux, 0.0128912)"
   ]
  },
  {
   "cell_type": "code",
   "execution_count": null,
   "metadata": {},
   "outputs": [],
   "source": [
    "paths = [('../../result/flux_tube_wilson/su2/qc2dstag/40^4/mu0.30/HYP1_alpha=1_1_0.5_APE_alpha=0.5/longitudinal', {'original': 8}, 'mu0.30')]\n",
    "flux_tube_wilson.flux(paths, 'd', '../images/flux_tube_wilson/qc2dstag/40^4/mu_comparison/longitudinal', plots.plot_flux, 0.0128912)"
   ]
  },
  {
   "cell_type": "code",
   "execution_count": null,
   "metadata": {},
   "outputs": [],
   "source": [
    "paths = [('../../result/flux_tube_wilson/su2/qc2dstag/40^4/mu0.33/HYP1_alpha=1_1_0.5_APE_alpha=0.5/longitudinal', {'original': 8}, 'mu0.33')]\n",
    "flux_tube_wilson.flux(paths, 'd', '../images/flux_tube_wilson/qc2dstag/40^4/mu_comparison/longitudinal', plots.plot_flux, 0.0128912)"
   ]
  },
  {
   "cell_type": "code",
   "execution_count": null,
   "metadata": {},
   "outputs": [],
   "source": [
    "paths = [('../../result/flux_tube_wilson/su2/qc2dstag/40^4/mu0.35/HYP1_alpha=1_1_0.5_APE_alpha=0.5/longitudinal', {'original': 8}, 'mu0.35')]\n",
    "flux_tube_wilson.flux(paths, 'd', '../images/flux_tube_wilson/qc2dstag/40^4/mu_comparison/longitudinal', plots.plot_flux, 0.0128912)"
   ]
  },
  {
   "cell_type": "code",
   "execution_count": null,
   "metadata": {},
   "outputs": [],
   "source": [
    "paths = [('../../result/flux_tube_wilson/su2/qc2dstag/40^4/mu0.40/HYP1_alpha=1_1_0.5_APE_alpha=0.5/longitudinal', {'original': 8}, 'mu0.40')]\n",
    "flux_tube_wilson.flux(paths, 'd', '../images/flux_tube_wilson/qc2dstag/40^4/mu_comparison/longitudinal', plots.plot_flux, 0.0128912)"
   ]
  },
  {
   "cell_type": "code",
   "execution_count": null,
   "metadata": {},
   "outputs": [],
   "source": [
    "paths = [('../../result/flux_tube_wilson/su2/qc2dstag/40^4/mu0.45/HYP1_alpha=1_1_0.5_APE_alpha=0.5/longitudinal', {'original': 8}, 'mu0.45')]\n",
    "flux_tube_wilson.flux(paths, 'd', '../images/flux_tube_wilson/qc2dstag/40^4/mu_comparison/longitudinal', plots.plot_flux, 0.0128912)"
   ]
  }
 ],
 "metadata": {
  "interpreter": {
   "hash": "31f2aee4e71d21fbe5cf8b01ff0e069b9275f58929596ceb00d14d90e3e16cd6"
  },
  "kernelspec": {
   "display_name": "Python 3.8.5 64-bit",
   "language": "python",
   "name": "python3"
  },
  "language_info": {
   "codemirror_mode": {
    "name": "ipython",
    "version": 3
   },
   "file_extension": ".py",
   "mimetype": "text/x-python",
   "name": "python",
   "nbconvert_exporter": "python",
   "pygments_lexer": "ipython3",
   "version": "3.8.5"
  },
  "orig_nbformat": 4
 },
 "nbformat": 4,
 "nbformat_minor": 2
}
