{
 "cells": [
  {
   "cell_type": "code",
   "execution_count": null,
   "metadata": {},
   "outputs": [],
   "source": [
    "import pandas as pd\n",
    "import math\n",
    "import matplotlib.pyplot as plt\n",
    "import seaborn\n",
    "import os\n",
    "import numpy as np"
   ]
  },
  {
   "cell_type": "code",
   "execution_count": null,
   "metadata": {},
   "outputs": [],
   "source": [
    "data = pd.read_csv(\"/home/ilya/soft/lattice/general_code/tests/cpu/code/thermalization\")\n",
    "# print(data)\n",
    "# fg = seaborn.FacetGrid(data=data, height=15, aspect=1.2)\n",
    "# fg.map(plt.errorbar, 'T', 'functional', marker=\"o\", fmt='', linestyle = '')"
   ]
  },
  {
   "cell_type": "code",
   "execution_count": null,
   "metadata": {},
   "outputs": [],
   "source": [
    "data = pd.read_csv(\"../result/potential/on-axis/su2/trunin/Wr_mu=0.0_nt=20\", header=0, names=['r/a', \"T\", \"wilson_loop\", \"err\"], delim_whitespace=True)\n",
    "print(data)"
   ]
  },
  {
   "cell_type": "code",
   "execution_count": null,
   "metadata": {},
   "outputs": [],
   "source": [
    "from datetime import date\n",
    "\n",
    "today = date.today()\n",
    "\n",
    "if(today == date(2022, 6, 3)):\n",
    "    print(\"Happy birthday, Boris\")"
   ]
  },
  {
   "cell_type": "code",
   "execution_count": null,
   "metadata": {},
   "outputs": [],
   "source": [
    "# functions for reading data\n",
    "\n",
    "def read_data_qc2dstag_decomposition(path, params, sigma):\n",
    "    data = []\n",
    "    for key, value in params.items():\n",
    "        data.append(pd.read_csv(f\"{path}/potential_{key}.csv\", index_col=None))\n",
    "        data[-1] = data[-1][data[-1]['T'] == value]\n",
    "        data[-1] = data[-1].drop(['T'], axis = 1)\n",
    "        data[-1].reset_index(drop=True, inplace=True)\n",
    "        data[-1] = data[-1].rename(columns={'aV(r)': f'aV(r)_{key}', 'err': f'err_{key}'})\n",
    "        data[-1]['r/a'] = data[-1]['r/a'] * math.sqrt(sigma)\n",
    "        data[-1][f'aV(r)_{key}'] = data[-1][f'aV(r)_{key}'] / math.sqrt(sigma)\n",
    "        data[-1][f'err_{key}'] = data[-1][f'err_{key}'] / math.sqrt(sigma)\n",
    "    data = pd.concat(data, axis = 1)\n",
    "    data = data.loc[:,~data.columns.duplicated()]\n",
    "\n",
    "    return data\n",
    "\n",
    "def read_file_vitaliy(file_path, T_max):\n",
    "    if(os.path.isfile(file_path)):\n",
    "        df = []\n",
    "        with open(file_path, 'r') as f:\n",
    "            lines = f.readlines()\n",
    "\n",
    "            R_sizes = []\n",
    "            T_sizes = list(range(1, T_max + 1))\n",
    "            for line in lines:\n",
    "                line_split = line.split()\n",
    "                R_sizes = [int(line_split[0])] * T_max\n",
    "                line_potential = []\n",
    "                line_err = []\n",
    "                for i in range(3):\n",
    "                    line_potential.append([float(i) for i in line_split[1 + i * (2 * T_max + 1) : T_max + 1 + i * (2 * T_max + 1)]])\n",
    "                    line_err.append([float(i) for i in line_split[T_max + 1 + i * (2 * T_max + 1) : 2 * T_max + 1 + i * (2 * T_max + 1)]])\n",
    "\n",
    "                df.append(pd.DataFrame({'R': R_sizes, 'T': T_sizes, 'potential_monopole': line_potential[0], 'err_monopole': line_err[0],\n",
    "                'potential_monopoless': line_potential[1], 'err_monopoless': line_err[1],\n",
    "                'potential_su2': line_potential[2], 'err_su2': line_err[2]}))\n",
    "\n",
    "            return pd.concat(df)\n",
    "\n",
    "def read_data_potential_vitaliy():\n",
    "    data = []\n",
    "    data.append(read_file_vitaliy('../result/potential/on-axis/su2/vitaliy/pot_vs_r_all3_B2p4.dat', 11))\n",
    "    data[-1]['beta'] = float(2.4)\n",
    "    data[-1]['sigma'] = float(0.258265528440037)\n",
    "    data.append(read_file_vitaliy('../result/potential/on-axis/su2/vitaliy/pot_vs_r_all3_B2p5.dat', 11))\n",
    "    data[-1]['beta'] = float(2.5)\n",
    "    data[-1]['sigma'] = float(0.181839887534859)\n",
    "    data.append(read_file_vitaliy('../result/potential/on-axis/su2/vitaliy/pot_vs_r_all3_b2p6_L32.dat', 15))\n",
    "    data[-1]['beta'] = float(2.6)\n",
    "    data[-1]['sigma'] = float(0.134725276024954)\n",
    "\n",
    "    return pd.concat(data)"
   ]
  },
  {
   "cell_type": "code",
   "execution_count": null,
   "metadata": {},
   "outputs": [],
   "source": [
    "def save_image(image_path, image_name, fg):\n",
    "    try:\n",
    "        os.makedirs(image_path)\n",
    "    except:\n",
    "        pass\n",
    "    \n",
    "    output_path = f'{image_path}/{image_name}'\n",
    "    fg.savefig(output_path, dpi=400)\n",
    "\n",
    "def plot_relative_variation_potential(data):\n",
    "    # T = data['T'].iloc[0]\n",
    "    # sigma = data['sigma'].iloc[0]\n",
    "    fg = seaborn.FacetGrid(data=data, hue = 'beta', height=5, aspect=1.2)\n",
    "    fg.fig.suptitle(f'relative variation')\n",
    "    fg.map(plt.errorbar, 'R', 'potential_diff', 'err_diff', marker=\"o\", fmt='', linestyle = ''\n",
    "    ).add_legend()\n",
    "    fg.ax.set_xlabel(r\"r$\\sqrt{\\sigma}$\")\n",
    "    fg.ax.set_ylabel(r\"$\\Delta$\")\n",
    "    plt.xlim((0, 2.5))\n",
    "    plt.ylim((-0.3, 0.3))\n",
    "    fg.ax.spines['right'].set_visible(True)\n",
    "    fg.ax.spines['top'].set_visible(True)\n",
    "    fg.ax.minorticks_on()\n",
    "    fg.ax.tick_params(which = 'both', bottom = True, top = True, left = True, right = True)\n",
    "    plt.axhline(y = 0, color = 'k', linestyle = '-')\n",
    "    # plt.show()\n",
    "\n",
    "    save_image(f'../images/potential/relative_variation/vitaliy', f'relative_variation', fg)\n",
    "\n",
    "def choose_data(data, T_sizes):\n",
    "    data_new = []\n",
    "    for beta in [2.4, 2.5, 2.6]:\n",
    "        df = []\n",
    "        df1 = data[data['beta'] == beta]\n",
    "        for monopole in ['monopole', 'monopoless', 'su2']:\n",
    "            df.append(df1[df1['T'] == T_sizes[beta][monopole]][['R', f'potential_{monopole}', f'err_{monopole}', 'beta', 'sigma']])\n",
    "\n",
    "        df[-1] = df[-1].reset_index()\n",
    "        df[-2] = df[-2].reset_index()\n",
    "        df[-3] = df[-3].reset_index()\n",
    "\n",
    "        df = pd.concat(df, axis = 1).reset_index()\n",
    "        df = df.loc[:,~df.columns.duplicated()]\n",
    "        data_new.append(df)\n",
    "\n",
    "    return pd.concat(data_new)\n",
    "        \n",
    "def relative_variation_potential():\n",
    "    data = read_data_potential_vitaliy()\n",
    "\n",
    "    T_sizes = {2.4: {'monopole': 5, 'monopoless': 6, 'su2': 8}, \n",
    "        2.5: {'monopole': 5, 'monopoless': 6, 'su2': 8}, \n",
    "        2.6: {'monopole': 7, 'monopoless': 6, 'su2': 9}}\n",
    "    data = choose_data(data, T_sizes)\n",
    "\n",
    "    data = data[data['potential_su2'] != 0.0]\n",
    "\n",
    "    data['potential_diff'] = data.apply(lambda x: x['potential_su2'] - x['potential_monopole'] - x['potential_monopoless'], axis=1)\n",
    "    data['err_diff'] = data.apply(lambda x: math.sqrt(x['err_su2'] ** 2 + x['err_monopole'] ** 2 + x['err_monopoless'] ** 2), axis=1)\n",
    "    data['err_diff'] = data.apply(lambda x: math.sqrt(x['err_diff'] ** 2 / x['potential_su2'] ** 2 + x['err_su2'] ** 2 * x['potential_diff'] ** 2 / x['potential_su2'] ** 4), axis=1)\n",
    "    data['potential_diff'] = data.apply(lambda x: x['potential_diff'] / x['potential_su2'], axis=1)\n",
    "\n",
    "    data['R'] = data.apply(lambda x: x['R'] * x['sigma'], axis = 1)\n",
    "\n",
    "    plot_relative_variation_potential(data)\n",
    "\n",
    "\n",
    "def plot_potential_decomposition(data, image_path, image_name):\n",
    "    fg = seaborn.FacetGrid(data=data, hue = 'matrix_type', height=5, aspect=1.4, legend_out=False, hue_kws={\"ls\" : ['-', '--', '--', '']})\n",
    "    fg.fig.suptitle(f'potential decomposition')\n",
    "    fg.map(plt.errorbar, 'r/a', 'aV(r)', 'err', mfc=None, fmt='o', ms = 3, capsize = 5, lw = 0.5\n",
    "    ).add_legend()\n",
    "    # plt.legend(loc='upper left')\n",
    "    fg.ax.set_xlabel(r\"R$\\sqrt{\\sigma}$\")\n",
    "    fg.ax.set_ylabel(r\"V(r)/$\\sigma$\")\n",
    "    fg.ax.spines['right'].set_visible(True)\n",
    "    fg.ax.spines['top'].set_visible(True)\n",
    "    fg.ax.minorticks_on()\n",
    "    fg.ax.tick_params(which = 'both', bottom = True, top = True, left = True, right = True)\n",
    "    plt.grid(dash_capstyle = 'round')\n",
    "\n",
    "    plt.show()\n",
    "    save_image(image_path, image_name, fg)\n",
    "\n",
    "def join_back(data, matrix_types):\n",
    "    data1 = []\n",
    "    for matrix_type in matrix_types:\n",
    "        data1.append(data[['r/a', f'aV(r)_{matrix_type}', f'err_{matrix_type}']])\n",
    "        data1[-1] = data1[-1].rename(columns={f'aV(r)_{matrix_type}': 'aV(r)', f'err_{matrix_type}': 'err'})\n",
    "        if matrix_type == 'monopole':\n",
    "            matrix_type1 = 'mon'\n",
    "        elif matrix_type == 'monopoless':\n",
    "            matrix_type1 = 'mod'\n",
    "        elif matrix_type == 'mon+nomon':\n",
    "            matrix_type1 = 'mon+mod'\n",
    "        else:\n",
    "            matrix_type1 = matrix_type\n",
    "        data1[-1]['matrix_type'] = matrix_type1\n",
    "\n",
    "    return pd.concat(data1)\n",
    "\n",
    "def find_sum(data, term1, term2, sum):\n",
    "    data[f'err_' + sum] = data.apply(lambda x: math.sqrt(x[f'err_' + term1] ** 2 + x[f'err_' + term2] ** 2), axis = 1)\n",
    "    data[f'aV(r)_' + sum] = data.apply(lambda x: x[f'aV(r)_' + term1] + x[f'aV(r)_' + term2], axis = 1)\n",
    "\n",
    "    return data\n",
    "\n",
    "def potential_decomposition(path, params, image_path, image_name, sigma):\n",
    "    data = read_data_qc2dstag_decomposition(path, params, sigma)\n",
    "\n",
    "    data = find_sum(data, 'monopole', 'monopoless', 'mon+nomon')\n",
    "\n",
    "    data = join_back(data, ['su2', 'monopole', 'monopoless', 'mon+nomon'])\n",
    "\n",
    "    plot_potential_decomposition(data, image_path, image_name)\n",
    "\n",
    "def potential_decomposition_phot(path, params, image_path, image_name, sigma):\n",
    "    data = read_data_qc2dstag_decomposition(path, params, sigma)\n",
    "\n",
    "    data = find_sum(data, 'photon', 'monopole', 'mon+phot')\n",
    "\n",
    "    data = join_back(data, ['abelian', 'monopole', 'photon', 'mon+phot'])\n",
    "\n",
    "    plot_potential_decomposition(data, image_path, image_name)"
   ]
  },
  {
   "cell_type": "code",
   "execution_count": null,
   "metadata": {},
   "outputs": [],
   "source": [
    "path = '../result/potential/on-axis/su2/qc2dstag/40^4/mu0.00/smeared'\n",
    "potential_decomposition(path, {'su2': 10, 'monopole': 16, 'monopoless': 14}, f'../images/potential/decomposition/qc2dstag', 'potential_qc2dstag_mu00', 0.0128912)"
   ]
  },
  {
   "cell_type": "code",
   "execution_count": null,
   "metadata": {},
   "outputs": [],
   "source": [
    "path = '../result/potential/on-axis/su2/qc2dstag/40^4/mu0.05/smeared'\n",
    "potential_decomposition(path, {'su2': 10, 'monopole': 16, 'monopoless': 14}, f'../images/potential/decomposition/mu0.00/HYP0_alpha=1_1_0.5_APE200_alpha=0.5', 'potential_mu00', 0.0128912)"
   ]
  },
  {
   "cell_type": "code",
   "execution_count": null,
   "metadata": {},
   "outputs": [],
   "source": [
    "path = '../result/potential/on-axis/su2/qc2dstag/40^4/mu0.20/smeared'\n",
    "potential_decomposition(path, {'su2': 4, 'monopole': 10, 'monopoless': 8}, f'../images/potential/decomposition/qc2dstag', 'potential_qc2dstag_mu20', 0.0128912)"
   ]
  },
  {
   "cell_type": "code",
   "execution_count": null,
   "metadata": {},
   "outputs": [],
   "source": [
    "path = '../result/potential/on-axis/su2/qc2dstag/40^4/mu0.25/smeared'\n",
    "potential_decomposition(path, {'su2': 6, 'monopole': 10, 'monopoless': 6}, f'../images/potential/decomposition/mu0.00/HYP0_alpha=1_1_0.5_APE200_alpha=0.5', 'potential_mu00', 0.0128912)"
   ]
  },
  {
   "cell_type": "code",
   "execution_count": null,
   "metadata": {},
   "outputs": [],
   "source": [
    "path = '../result/potential/on-axis/su2/qc2dstag/40^4/mu0.30/smeared'\n",
    "potential_decomposition(path, {'su2': 4, 'monopole': 10, 'monopoless': 8}, f'../images/potential/decomposition/qc2dstag', 'potential_qc2dstag_mu30', 0.0128912)"
   ]
  },
  {
   "cell_type": "code",
   "execution_count": null,
   "metadata": {},
   "outputs": [],
   "source": [
    "path = '../result/potential/on-axis/su2/qc2dstag/40^4/mu0.35/smeared'\n",
    "potential_decomposition(path, {'su2': 8, 'monopole': 12, 'monopoless': 8}, f'../images/potential/decomposition/mu0.00', 'potential_mu00', 0.0128912)"
   ]
  },
  {
   "cell_type": "code",
   "execution_count": null,
   "metadata": {},
   "outputs": [],
   "source": [
    "path = '../result/potential/on-axis/su2/qc2dstag/40^4/mu0.45/smeared'\n",
    "potential_decomposition(path, {'su2': 8, 'monopole': 14, 'monopoless': 14}, f'../images/potential/decomposition/mu0.00', 'potential_mu00', 0.0128912)"
   ]
  },
  {
   "cell_type": "code",
   "execution_count": null,
   "metadata": {},
   "outputs": [],
   "source": [
    "path = '../result/potential/on-axis/su2/su2_suzuki/48^4/beta2.7/HYP1_alpha=1_1_0.5_APE400_alpha=0.5'\n",
    "potential_decomposition(path, {'su2': 10, 'monopole': 18, 'monopoless': 14}, f'../images/potential/decomposition/mu0.00', 'potential_mu00', 0.0128912)"
   ]
  },
  {
   "cell_type": "code",
   "execution_count": null,
   "metadata": {},
   "outputs": [],
   "source": [
    "path = '../result/potential/on-axis/su2/su2_suzuki/24^4/beta2.4/HYP0_alpha=1_1_0.5_APE100_alpha=0.5'\n",
    "potential_decomposition(path, {'su2': 4, 'monopole': 4, 'monopoless': 4}, f'../images/potential/decomposition/beta2.4', 'potential_beta2p4', 0.258265528440037)"
   ]
  },
  {
   "cell_type": "code",
   "execution_count": null,
   "metadata": {},
   "outputs": [],
   "source": [
    "path = '../result/potential/on-axis/su2/su2_suzuki/24^4/beta2.5/HYP0_alpha=1_1_0.5_APE100_alpha=0.5'\n",
    "potential_decomposition(path, {'su2': 4, 'monopole': 4, 'monopoless': 4}, f'../images/potential/decomposition/beta2.5', 'potential_beta2p5', 0.258265528440037)"
   ]
  },
  {
   "cell_type": "code",
   "execution_count": null,
   "metadata": {},
   "outputs": [],
   "source": [
    "path = '../result/potential/on-axis/su2/su2_suzuki/24^4/beta2.6/HYP0_alpha=1_1_0.5_APE100_alpha=0.5'\n",
    "potential_decomposition(path, {'su2': 4, 'monopole': 4, 'monopoless': 4}, f'../images/potential/decomposition/beta2.6', 'potential_beta2p6', 0.258265528440037)"
   ]
  },
  {
   "cell_type": "code",
   "execution_count": null,
   "metadata": {},
   "outputs": [],
   "source": [
    "path = '../result/potential_adjoint/on-axis/su2/su2_suzuki/24^4/beta2.4/HYP0_alpha=1_0.5_0.5_APE100_alpha=0.5'\n",
    "potential_decomposition(path, {'su2': 4, 'monopole': 4, 'monopoless': 4}, f'../images/potential_adjoint/decomposition/beta2.4', 'potential_adjoint_beta2p4', 0.258265528440037)"
   ]
  },
  {
   "cell_type": "code",
   "execution_count": null,
   "metadata": {},
   "outputs": [],
   "source": [
    "path = '../result/potential_adjoint/on-axis/su2/su2_suzuki/24^4/beta2.5/HYP1_alpha=1_0.5_0.5_APE100_alpha=0.5'\n",
    "potential_decomposition(path, {'su2': 4, 'monopole': 4, 'monopoless': 4}, f'../images/potential_adjoint/decomposition/beta2.5', 'potential_adjoint_beta2p5', 0.258265528440037)"
   ]
  },
  {
   "cell_type": "code",
   "execution_count": null,
   "metadata": {},
   "outputs": [],
   "source": [
    "path = '../result/potential_adjoint/on-axis/su2/su2_suzuki/24^4/beta2.6/HYP0_alpha=1_0.5_0.5_APE100_alpha=0.5'\n",
    "potential_decomposition(path, {'su2': 4, 'monopole': 4, 'monopoless': 4}, f'../images/potential_adjoint/decomposition/beta2.6', 'potential_adjoint_beta2p6', 0.258265528440037)"
   ]
  },
  {
   "cell_type": "code",
   "execution_count": null,
   "metadata": {},
   "outputs": [],
   "source": [
    "path = '../result/potential_adjoint/on-axis/su2/qc2dstag/40^4/mu0.00/HYP1_alpha=1_1_0.5_APE200_alpha=0.5'\n",
    "potential_decomposition(path, {'su2': 4, 'monopole': 6, 'monopoless': 6}, f'../images/potential_adjoint/decomposition/mu0.00', 'potential_mu00', 0.258265528440037)"
   ]
  },
  {
   "cell_type": "code",
   "execution_count": null,
   "metadata": {},
   "outputs": [],
   "source": [
    "path = '../result/potential/on-axis/su2/su2_suzuki/24^4/beta2.4/HYP0_alpha=1_1_0.5_APE100_alpha=0.5'\n",
    "potential_decomposition_phot(path, {'abelian': 4, 'monopole': 5, 'photon': 5}, f'../images/potential/decomposition_phot/beta2.4', 'potential_beta2p4', 0.258265528440037)"
   ]
  },
  {
   "cell_type": "code",
   "execution_count": null,
   "metadata": {},
   "outputs": [],
   "source": [
    "path = '../result/potential/on-axis/su2/su2_suzuki/24^4/beta2.5/HYP0_alpha=1_1_0.5_APE100_alpha=0.5'\n",
    "potential_decomposition_phot(path, {'abelian': 4, 'monopole': 5, 'photon': 4}, f'../images/potential/decomposition_phot/beta2.5', 'potential_beta2p5', 0.258265528440037)"
   ]
  },
  {
   "cell_type": "code",
   "execution_count": null,
   "metadata": {},
   "outputs": [],
   "source": [
    "path = '../result/potential/on-axis/su2/su2_suzuki/24^4/beta2.6/HYP0_alpha=1_1_0.5_APE100_alpha=0.5'\n",
    "potential_decomposition_phot(path, {'abelian': 5, 'monopole': 5, 'photon': 5}, f'../images/potential/decomposition_phot/beta2.6', 'potential_beta2p6', 0.258265528440037)"
   ]
  },
  {
   "cell_type": "code",
   "execution_count": null,
   "metadata": {},
   "outputs": [],
   "source": [
    "path = '../result/potential/on-axis/su2/qc2dstag/40^4/mu0.00/HYP0_alpha=1_1_0.5_APE200_alpha=0.5'\n",
    "potential_decomposition_phot(path, {'abelian': 4, 'monopole': 5, 'photon': 5}, f'../images/potential/decomposition_phot/mu0.00', 'potential_mu0.00', 0.258265528440037)"
   ]
  },
  {
   "cell_type": "code",
   "execution_count": null,
   "metadata": {},
   "outputs": [],
   "source": [
    "relative_variation_potential()"
   ]
  },
  {
   "cell_type": "code",
   "execution_count": null,
   "metadata": {},
   "outputs": [],
   "source": [
    "def plot_time_dependence(mu, monopole, lattice_size, smearing, statistics_type):\n",
    "    df_data_40_5 = pd.read_csv(f\"../result/potential/on-axis/{monopole}/qc2dstag/{smearing}/{lattice_size}/potential_mu=0.{mu}.csv\", index_col=None)\n",
    "    \n",
    "    time_sizes = [6, 8, 10, 12, 14, 16, 18, 20]\n",
    "#     space_sizes = [1, 2, 3]\n",
    "    \n",
    "    df1 = df_data_40_5[df_data_40_5['T'].isin(time_sizes)]\n",
    "#     df1 = df1[df1['r/a'].isin(space_sizes)]\n",
    "    fg = seaborn.FacetGrid(data=df1, hue='T',  aspect=1.61)\n",
    "    fg.map(plt.errorbar, 'r/a', f'aV{statistics_type}(r)', f'err{statistics_type}', marker=\"o\", fmt='', linestyle = '').add_legend()\n",
    "    \n",
    "    image_path = f'../images/potential/on-axis/qc2dstag/{smearing}/{lattice_size}'\n",
    "    try:\n",
    "        os.makedirs(image_path)\n",
    "    except:\n",
    "        pass\n",
    "    \n",
    "    image_path = f'{image_path}/potential_{monopole}_mu=0p{mu}_time_dependence'\n",
    "    fg.savefig(image_path)\n",
    "    \n",
    "def plot_time_dependence_space(mu, monopole, smearing, lattice_size):\n",
    "    df_data_40_5 = pd.read_csv(f\"../result/potential_spatial/{monopole}/qc2dstag/{lattice_size}/potential_spatial_mu=0.{mu}.csv\", index_col=None)\n",
    "    \n",
    "    time_sizes = [6, 8, 10, 12, 14, 16, 18, 20]\n",
    "    \n",
    "    df1 = df_data_40_5[df_data_40_5['T'].isin(time_sizes)]\n",
    "    fg = seaborn.FacetGrid(data=df1, hue='T',  aspect=1.61)\n",
    "    fg.map(plt.errorbar, 'r/a', 'aV(r)', 'err', marker=\"o\", fmt='', linestyle = '').add_legend()\n",
    "    \n",
    "    image_path = f'../images/potential_spatial/qc2dstag/{lattice_size}'\n",
    "    try:\n",
    "        os.makedirs(image_path)\n",
    "    except:\n",
    "        pass\n",
    "    \n",
    "    image_path = f'{image_path}/potential_space_{monopole}_mu=0p{mu}_time_dependence'\n",
    "    fg.savefig(image_path)"
   ]
  },
  {
   "cell_type": "code",
   "execution_count": null,
   "metadata": {},
   "outputs": [],
   "source": [
    "plot_time_dependence('05', 'monopole', '40^4', 'smeared')\n",
    "plot_time_dependence('35', 'monopole', '40^4')\n",
    "plot_time_dependence('45', 'monopole', '40^4')"
   ]
  },
  {
   "cell_type": "code",
   "execution_count": null,
   "metadata": {},
   "outputs": [],
   "source": [
    "plot_time_dependence('05', 'monopoless', '40^4')\n",
    "plot_time_dependence('35', 'monopoless', '40^4')\n",
    "plot_time_dependence('45', 'monopoless', '40^4')"
   ]
  },
  {
   "cell_type": "code",
   "execution_count": null,
   "metadata": {},
   "outputs": [],
   "source": [
    "plot_time_dependence('05', '', '40^4', 'smeared')\n",
    "plot_time_dependence('35', '', '40^4', 'smeared')\n",
    "plot_time_dependence('45', '', '40^4', 'smeared')"
   ]
  },
  {
   "cell_type": "code",
   "execution_count": null,
   "metadata": {},
   "outputs": [],
   "source": [
    "plot_time_dependence('05', '', '40^4', 'unsmeared')"
   ]
  },
  {
   "cell_type": "code",
   "execution_count": null,
   "metadata": {},
   "outputs": [],
   "source": [
    "plot_time_dependence('00', 'monopole', '32^4', 'unsmeared')\n",
    "plot_time_dependence('00', 'monopoless', '32^4', 'smeared')\n",
    "plot_time_dependence('00', '', '32^4', 'smeared')"
   ]
  },
  {
   "cell_type": "code",
   "execution_count": null,
   "metadata": {},
   "outputs": [],
   "source": [
    "plot_time_dependence('00', '', '32^4', 'HYP1_alpha=1_1_0.5_APE60_APE_alpha=0.75', '')\n",
    "plot_time_dependence('00', '', '32^4', 'HYP1_alpha=1_1_0.5_APE60_APE_alpha=0.75', '1')\n",
    "plot_time_dependence('00', '', '32^4', 'HYP1_alpha=1_1_0.5_APE60_APE_alpha=0.75', '2')"
   ]
  },
  {
   "cell_type": "code",
   "execution_count": null,
   "metadata": {},
   "outputs": [],
   "source": [
    "plot_time_dependence_space('05', '', '', '40^4')"
   ]
  },
  {
   "cell_type": "code",
   "execution_count": null,
   "metadata": {},
   "outputs": [],
   "source": [
    "def plot_time_dependence_several_sizes(mu, monopole, lattice_size, smearing, space_sizes, statistics_type):\n",
    "    df_data = pd.read_csv(f\"../result/potential/on-axis/{monopole}/qc2dstag/{smearing}/{lattice_size}/potential_mu=0.{mu}.csv\", index_col=None)\n",
    "    \n",
    "#     time_sizes = [6, 8, 10, 12, 14, 16, 18, 20]\n",
    "#     space_sizes = [1, 2, 3]\n",
    "    \n",
    "    df1 = df_data[df_data['r/a'].isin(space_sizes)]\n",
    "    df1 = df1[df1['T'] <= 16]\n",
    "    fg = seaborn.FacetGrid(data=df1, hue='r/a',  aspect=1.61)\n",
    "    fg.map(plt.errorbar, 'T', f'aV{statistics_type}(r)', f'err{statistics_type}', marker=\"o\", fmt='', linestyle = '').add_legend()\n",
    "    \n",
    "    image_path = f'../images/potential/on-axis/qc2dstag/{smearing}/{lattice_size}'\n",
    "    try:\n",
    "        os.makedirs(image_path)\n",
    "    except:\n",
    "        pass\n",
    "    \n",
    "    image_path = f'{image_path}/potential_{monopole}_mu=0p{mu}_time_dependence'\n",
    "    fg.savefig(image_path)"
   ]
  },
  {
   "cell_type": "code",
   "execution_count": null,
   "metadata": {},
   "outputs": [],
   "source": [
    "space_sizes = [[1], [6], [10], [14], [18]]\n",
    "for space_size in space_sizes:\n",
    "    plot_time_dependence_several_sizes('05', '', '40^4', 'smeared', space_size, '')"
   ]
  },
  {
   "cell_type": "code",
   "execution_count": null,
   "metadata": {},
   "outputs": [],
   "source": [
    "space_sizes = [[1], [2], [3], [4], [6], [10], [14], [16]]\n",
    "for space_size in space_sizes:\n",
    "    plot_time_dependence_several_sizes('00', '', '32^4', 'HYP1_alpha=1_1_0.5_APE60_APE_alpha=0.75', space_size, '')"
   ]
  },
  {
   "cell_type": "code",
   "execution_count": null,
   "metadata": {},
   "outputs": [],
   "source": [
    "space_sizes = [[1], [2], [3], [4], [6], [10], [14], [16]]\n",
    "for space_size in space_sizes:\n",
    "    plot_time_dependence_several_sizes('00', '', '32^4', 'HYP1_alpha=1_1_0.5_APE60_APE_alpha=0.75', space_size, '1')"
   ]
  },
  {
   "cell_type": "code",
   "execution_count": null,
   "metadata": {},
   "outputs": [],
   "source": [
    "space_sizes = [[1], [2], [3], [4], [6], [10], [14], [16]]\n",
    "for space_size in space_sizes:\n",
    "    plot_time_dependence_several_sizes('00', '', '32^4', 'HYP1_alpha=1_1_0.5_APE60_APE_alpha=0.75', space_size, '2')"
   ]
  },
  {
   "cell_type": "code",
   "execution_count": 93,
   "metadata": {},
   "outputs": [],
   "source": [
    "from scipy.optimize import curve_fit\n",
    "\n",
    "def make_potential_trunin(data, df1, df, time_size_max):\n",
    "   \n",
    "    time_size = data[\"T\"].iloc[0]\n",
    "    space_size = data[\"r/a\"].iloc[0]\n",
    "\n",
    "    if time_size < time_size_max:\n",
    "\n",
    "        wilson_loop_T = df[(df['T'] == time_size) & (df['r/a'] == space_size)]['wilson_loop'].values[0]\n",
    "        wilson_loop_T1 = df[(df['T'] == time_size + 1) & (df['r/a'] == space_size)]['wilson_loop'].values[0]\n",
    "\n",
    "        wilson_loop_err_T = df[(df['T'] == time_size) & (df['r/a'] == space_size)]['wilson_loop_err'].values[0]\n",
    "        wilson_loop_err_T1 = df[(df['T'] == time_size + 1) & (df['r/a'] == space_size)]['wilson_loop_err'].values[0]\n",
    "\n",
    "        try:\n",
    "            new_row = {'aV(r)': math.log(wilson_loop_T/wilson_loop_T1), 'err': math.sqrt(wilson_loop_err_T ** 2 / wilson_loop_T1 ** 2 + wilson_loop_err_T1 ** 2 * wilson_loop_T ** 2 / wilson_loop_T1 ** 4)}\n",
    "\n",
    "            df1 = df1.append(new_row, ignore_index=True)\n",
    "\n",
    "            return df1\n",
    "        except ValueError:\n",
    "            return df1\n",
    "\n",
    "def plots_T(data, fit_start, fit_end, procedure, T_lim):\n",
    "\n",
    "    x = data[(data['T'] >= fit_start) & (data['T'] <= fit_end)]['T'].to_numpy()\n",
    "    y = data[(data['T'] >= fit_start) & (data['T'] <= fit_end)]['aV(r)'].to_numpy()\n",
    "\n",
    "    fg = seaborn.FacetGrid(data=data, height=5, aspect=1.2)\n",
    "    fg.map(plt.errorbar, 'T', 'aV(r)', 'err', marker=\"o\", fmt='', linestyle = '')\n",
    "\n",
    "    if procedure == 'fitting':\n",
    "        popt, pcov = curve_fit(func_exponent, x, y)\n",
    "\n",
    "        x1 = np.arange(x.min(), x.max(), 0.01)\n",
    "        y1 = func_exponent(x1, popt[0], popt[1], popt[2])\n",
    "\n",
    "        plt.plot(x1, y1)\n",
    "\n",
    "    plt.show()\n",
    "\n",
    "    if procedure == 'fitting':\n",
    "        return pd.Series([popt[0], math.sqrt(pcov[0][0])], index=['aV(r)', 'err'])\n",
    "    elif procedure == 'limit':\n",
    "        return pd.Series([data[data['T'] == T_lim]['aV(r)'].iloc[0], data[data['T'] == T_lim]['err'].iloc[0]], index=['aV(r)', 'err'])\n",
    "\n",
    "\n",
    "def func_exponent(x, a, b, c):\n",
    "    return a + b * np.exp(-x * c)\n",
    "\n",
    "def func_linear_potential(x, c, alpha, sigma):\n",
    "    return c + alpha * np.power(x, -1) + sigma * x\n",
    "\n",
    "def func_coulomb(x, c, alpha, mu):\n",
    "    return c + alpha * np.exp(-mu * x) * np.power(x, -1)\n",
    "    "
   ]
  },
  {
   "cell_type": "code",
   "execution_count": 96,
   "metadata": {},
   "outputs": [],
   "source": [
    "def get_string_tension(path, fit_start, fit_end, procedure):    \n",
    "\n",
    "    data = pd.read_csv(path, header=0, names=['r/a', \"T\", \"wilson_loop\", \"wilson_loop_err\"], delim_whitespace=True)\n",
    "\n",
    "    time_size_max = data[\"T\"].max()\n",
    "\n",
    "    df1 = pd.DataFrame(columns=[\"aV(r)\", \"err\"])\n",
    "\n",
    "    df1 = data.groupby(['T', 'r/a']).apply(make_potential_trunin, df1, data, time_size_max).reset_index()\n",
    "\n",
    "    print(\"fitting\")\n",
    "\n",
    "    df = df1.groupby(['r/a']).apply(plots_T, 2, 10, procedure, 10).reset_index()\n",
    "\n",
    "    x = df[(df['r/a'] >= fit_start) & (df['r/a'] <= fit_end)]['r/a'].to_numpy()\n",
    "    y = df[(df['r/a'] >= fit_start) & (df['r/a'] <= fit_end)]['aV(r)'].to_numpy()\n",
    "\n",
    "    popt, pcov = curve_fit(func_linear_potential, x, y) \n",
    "\n",
    "    print(popt[0], popt[1], popt[2])\n",
    "\n",
    "    fg = seaborn.FacetGrid(data=df, height=5, aspect=1.2)\n",
    "    fg.map(plt.errorbar, 'r/a', 'aV(r)', 'err', marker=\"o\", fmt='', linestyle = '')\n",
    "\n",
    "    x1 = np.arange(x.min(), x.max(), 0.01)\n",
    "    y1 = func_linear_potential(x1, popt[0], popt[1], popt[2])\n",
    "\n",
    "    plt.plot(x1, y1)\n",
    "\n",
    "    plt.show()\n",
    "\n",
    "    return popt[2], math.sqrt(pcov[2][2])\n",
    "\n",
    "def get_string_tension_test(path, fit_start, fit_end):\n",
    "\n",
    "    df_common = []\n",
    "\n",
    "    data = pd.read_csv(path, header=0, names=['r/a', \"T\", \"wilson_loop\", \"wilson_loop_err\"], delim_whitespace=True)\n",
    "\n",
    "    time_size_max = data[\"T\"].max()\n",
    "\n",
    "    df1 = pd.DataFrame(columns=[\"aV(r)\", \"err\"])\n",
    "\n",
    "    df1 = data.groupby(['T', 'r/a']).apply(make_potential_trunin, df1, data, time_size_max).reset_index()\n",
    "\n",
    "    df = df1.groupby(['r/a']).apply(plots_T, 2, 10, 'fitting', 8).reset_index()\n",
    "\n",
    "    df_common.append(df)\n",
    "    df_common[-1]['procedure'] = 'fitting'\n",
    "\n",
    "    x = df[(df['r/a'] >= fit_start) & (df['r/a'] <= fit_end)]['r/a'].to_numpy()\n",
    "    y = df[(df['r/a'] >= fit_start) & (df['r/a'] <= fit_end)]['aV(r)'].to_numpy()\n",
    "\n",
    "    popt, pcov = curve_fit(func_linear_potential, x, y) \n",
    "\n",
    "    print(popt[0], popt[1], popt[2])\n",
    "\n",
    "    # fg = seaborn.FacetGrid(data=df, height=5, aspect=1.2)\n",
    "    # fg.map(plt.errorbar, 'r/a', 'aV(r)', 'err', marker=\"o\", fmt='', linestyle = '')\n",
    "\n",
    "    x1 = np.arange(x.min(), x.max(), 0.01)\n",
    "    y1 = func_linear_potential(x1, popt[0], popt[1], popt[2])\n",
    "\n",
    "    df = df1.groupby(['r/a']).apply(plots_T, 2, 10, 'limit', 8).reset_index()\n",
    "\n",
    "    df_common.append(df)\n",
    "    df_common[-1]['procedure'] = 'limit'\n",
    "\n",
    "    df_common = pd.concat(df_common)\n",
    "\n",
    "    x = df[(df['r/a'] >= fit_start) & (df['r/a'] <= fit_end)]['r/a'].to_numpy()\n",
    "    y = df[(df['r/a'] >= fit_start) & (df['r/a'] <= fit_end)]['aV(r)'].to_numpy()\n",
    "\n",
    "    popt, pcov = curve_fit(func_linear_potential, x, y) \n",
    "\n",
    "    print(popt[0], popt[1], popt[2])\n",
    "\n",
    "    fg = seaborn.FacetGrid(data=df_common, hue = 'procedure', height=5, aspect=1.2)\n",
    "    fg.map(plt.errorbar, 'r/a', 'aV(r)', 'err', marker=\"o\", fmt='', linestyle = '').add_legend()\n",
    "\n",
    "    x2 = np.arange(x.min(), x.max(), 0.01)\n",
    "    y2 = func_linear_potential(x1, popt[0], popt[1], popt[2])\n",
    "\n",
    "    # plt.plot(x1, y1)\n",
    "\n",
    "    # plt.plot(x2, y2)\n",
    "\n",
    "    plt.show()"
   ]
  },
  {
   "cell_type": "code",
   "execution_count": 104,
   "metadata": {},
   "outputs": [
    {
     "name": "stdout",
     "output_type": "stream",
     "text": [
      "fitting\n"
     ]
    },
    {
     "data": {
      "image/png": "[encoded data removed]",
      "text/plain": [
       "<Figure size 432x360 with 1 Axes>"
      ]
     },
     "metadata": {
      "needs_background": "light"
     },
     "output_type": "display_data"
    },
    {
     "data": {
      "image/png": "[encoded data removed]",
      "text/plain": [
       "<Figure size 432x360 with 1 Axes>"
      ]
     },
     "metadata": {
      "needs_background": "light"
     },
     "output_type": "display_data"
    },
    {
     "data": {
      "image/png": "[encoded data removed]",
      "text/plain": [
       "<Figure size 432x360 with 1 Axes>"
      ]
     },
     "metadata": {
      "needs_background": "light"
     },
     "output_type": "display_data"
    },
    {
     "data": {
      "image/png": "[encoded data removed]",
      "text/plain": [
       "<Figure size 432x360 with 1 Axes>"
      ]
     },
     "metadata": {
      "needs_background": "light"
     },
     "output_type": "display_data"
    },
    {
     "data": {
      "image/png": "[encoded data removed]",
      "text/plain": [
       "<Figure size 432x360 with 1 Axes>"
      ]
     },
     "metadata": {
      "needs_background": "light"
     },
     "output_type": "display_data"
    },
    {
     "data": {
      "image/png": "[encoded data removed]",
      "text/plain": [
       "<Figure size 432x360 with 1 Axes>"
      ]
     },
     "metadata": {
      "needs_background": "light"
     },
     "output_type": "display_data"
    },
    {
     "data": {
      "image/png": "[encoded data removed]",
      "text/plain": [
       "<Figure size 432x360 with 1 Axes>"
      ]
     },
     "metadata": {
      "needs_background": "light"
     },
     "output_type": "display_data"
    },
    {
     "data": {
      "image/png": "[encoded data removed]",
      "text/plain": [
       "<Figure size 432x360 with 1 Axes>"
      ]
     },
     "metadata": {
      "needs_background": "light"
     },
     "output_type": "display_data"
    },
    {
     "data": {
      "image/png": "[encoded data removed]",
      "text/plain": [
       "<Figure size 432x360 with 1 Axes>"
      ]
     },
     "metadata": {
      "needs_background": "light"
     },
     "output_type": "display_data"
    },
    {
     "name": "stderr",
     "output_type": "stream",
     "text": [
      "/home/ilya/.local/lib/python3.8/site-packages/scipy/optimize/minpack.py:828: OptimizeWarning: Covariance of the parameters could not be estimated\n",
      "  warnings.warn('Covariance of the parameters could not be estimated',\n"
     ]
    },
    {
     "data": {
      "image/png": "[encoded data removed]",
      "text/plain": [
       "<Figure size 432x360 with 1 Axes>"
      ]
     },
     "metadata": {
      "needs_background": "light"
     },
     "output_type": "display_data"
    },
    {
     "name": "stdout",
     "output_type": "stream",
     "text": [
      "0.21154729529504324 -0.2523391681872307 0.0059686707426861866\n"
     ]
    },
    {
     "data": {
      "image/png": "[encoded data removed]",
      "text/plain": [
       "<Figure size 432x360 with 1 Axes>"
      ]
     },
     "metadata": {
      "needs_background": "light"
     },
     "output_type": "display_data"
    },
    {
     "data": {
      "text/plain": [
       "(0.0059686707426861866, 0.010099616490027058)"
      ]
     },
     "execution_count": 104,
     "metadata": {},
     "output_type": "execute_result"
    }
   ],
   "source": [
    "get_string_tension(f\"../result/potential/on-axis/su2/trunin/Wr_mu=0.25_nt=20\", 2, 10, 'fitting')"
   ]
  },
  {
   "cell_type": "code",
   "execution_count": 98,
   "metadata": {},
   "outputs": [],
   "source": [
    "def string_tension_dependence(nt):\n",
    "    arr_mu = ['0.0', '0.25', '0.35', '0.45']\n",
    "    string_tension = []\n",
    "    string_tension_err = []\n",
    "\n",
    "    for mu in arr_mu:\n",
    "        sigma, err = get_string_tension(f\"../result/potential/on-axis/su2/trunin/Wr_mu={mu}_nt={nt}\", 2, 10, 'limit')\n",
    "        string_tension.append(sigma)\n",
    "        string_tension_err.append(err)\n",
    "\n",
    "    print(string_tension)\n",
    "    plt.errorbar(list(map(float, arr_mu)), string_tension)"
   ]
  },
  {
   "cell_type": "code",
   "execution_count": null,
   "metadata": {},
   "outputs": [],
   "source": [
    "string_tension_dependence(20)"
   ]
  },
  {
   "cell_type": "code",
   "execution_count": null,
   "metadata": {},
   "outputs": [],
   "source": [
    "string_tension_dependence(24)"
   ]
  },
  {
   "cell_type": "code",
   "execution_count": null,
   "metadata": {},
   "outputs": [],
   "source": [
    "string_tension_dependence(28)"
   ]
  },
  {
   "cell_type": "code",
   "execution_count": null,
   "metadata": {},
   "outputs": [],
   "source": [
    "string_tension_dependence(32)"
   ]
  },
  {
   "cell_type": "code",
   "execution_count": null,
   "metadata": {},
   "outputs": [],
   "source": [
    "string_tension_dependence(36)"
   ]
  },
  {
   "cell_type": "code",
   "execution_count": null,
   "metadata": {},
   "outputs": [],
   "source": [
    "string_tension_dependence(40)"
   ]
  },
  {
   "cell_type": "code",
   "execution_count": null,
   "metadata": {},
   "outputs": [],
   "source": [
    "get_string_tension_test(f\"../result/potential/on-axis/su2/trunin/Wr_mu=0.0_nt=20\", 2, 10)\n",
    "get_string_tension_test(f\"../result/potential/on-axis/su2/trunin/Wr_mu=0.25_nt=20\", 2, 10)\n",
    "get_string_tension_test(f\"../result/potential/on-axis/su2/trunin/Wr_mu=0.35_nt=20\", 2, 10)\n",
    "get_string_tension_test(f\"../result/potential/on-axis/su2/trunin/Wr_mu=0.45_nt=20\", 2, 10)"
   ]
  },
  {
   "cell_type": "code",
   "execution_count": null,
   "metadata": {},
   "outputs": [],
   "source": []
  }
 ],
 "metadata": {
  "interpreter": {
   "hash": "916dbcbb3f70747c44a77c7bcd40155683ae19c65e1c03b4aa3499c5328201f1"
  },
  "kernelspec": {
   "display_name": "Python 3.8.5 64-bit",
   "language": "python",
   "name": "python3"
  },
  "language_info": {
   "codemirror_mode": {
    "name": "ipython",
    "version": 3
   },
   "file_extension": ".py",
   "mimetype": "text/x-python",
   "name": "python",
   "nbconvert_exporter": "python",
   "pygments_lexer": "ipython3",
   "version": "3.8.5"
  }
 },
 "nbformat": 4,
 "nbformat_minor": 2
}
