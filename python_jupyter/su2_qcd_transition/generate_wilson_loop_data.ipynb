{
 "cells": [
  {
   "cell_type": "code",
   "execution_count": 1,
   "id": "530a2fb1",
   "metadata": {},
   "outputs": [],
   "source": [
    "import numpy as np\n",
    "import math\n",
    "import matplotlib.pyplot as plt\n",
    "import pandas as pd"
   ]
  },
  {
   "cell_type": "code",
   "execution_count": 8,
   "id": "c78f02f5",
   "metadata": {},
   "outputs": [],
   "source": [
    "def get_coefficients(exponent_number, c0, c_fraction):\n",
    "    coefficients = []\n",
    "    coefficients.append(c0)\n",
    "    squares_sum = c0**2\n",
    "    for i in range(1, exponent_number -1):\n",
    "        c = math.sqrt(1 - squares_sum) * c_fraction\n",
    "        coefficients.append(c)\n",
    "        squares_sum += c**2\n",
    "    coefficients.append(math.sqrt(1 - squares_sum))\n",
    "    return coefficients\n",
    "\n",
    "def smearing_func(x, y0):\n",
    "    return -(1-y0)/10000*x**2+(1-y0)/50*x+y0\n",
    "\n",
    "def get_c0_smearing_dependence(smearing_steps, c0):\n",
    "    c_smeared = []\n",
    "    y0 = math.sqrt(c0)\n",
    "    for x in smearing_steps:\n",
    "        tmp = []\n",
    "        for y in smearing_steps:\n",
    "            tmp.append(smearing_func(x, y0) * smearing_func(y, y0))\n",
    "        c_smeared.append(tmp)\n",
    "    return c_smeared\n",
    "\n",
    "def get_coefficients_smeared(c0_smeared, exponent_number, c_fraction):\n",
    "    coefficients = []\n",
    "    for i in range(len(c0_smeared)):\n",
    "        tmp = []\n",
    "        for j in range(len(c0_smeared[i])):\n",
    "            tmp.append(get_coefficients(exponent_number, c0_smeared[i][j], c_fraction))\n",
    "        coefficients.append(tmp)\n",
    "    return coefficients\n",
    "\n",
    "def potential_func(x, alpha, sigma, V0):\n",
    "    return V0 + alpha / x + sigma * x\n",
    "\n",
    "def sigma_dependence(n):\n",
    "    return 0.0125 * (n + 1)\n",
    "\n",
    "def alpha_dependence(n):\n",
    "    return -0.25 * (n + 1)\n",
    "\n",
    "def V0_dependence(n):\n",
    "    return 0.2 * (n + 1)\n",
    "\n",
    "def get_wilson_loops_mean(Nt, Ns, exponent_number, coefficients_smeared):\n",
    "    expotent_enumeration = np.arange(exponent_number, dtype=float)\n",
    "    sigma_i = sigma_dependence(expotent_enumeration)\n",
    "    alpha_i = alpha_dependence(expotent_enumeration)\n",
    "    V0_i = V0_dependence(expotent_enumeration)\n",
    "    W = np.zeros((Nt, Ns, coefficients_smeared.shape[0], coefficients_smeared.shape[1]))\n",
    "    for T in range(Nt):\n",
    "        for R in range(Ns):\n",
    "            W[T, R] = np.sum(np.exp(-potential_func(R + 1, alpha_i, sigma_i, V0_i) * (T + 1)) * coefficients_smeared, 2)\n",
    "    return W\n",
    "\n",
    "def get_relative_error(Nt, Ns, min, k):\n",
    "    relative_error = np.zeros((Ns, Nt))\n",
    "    a = math.sqrt(min)\n",
    "    for i in range(Nt):\n",
    "        for j in range(Ns):\n",
    "            relative_error[i][j] = (a * (i + 1)**k) * (a * (j + 1)**k)\n",
    "    return relative_error\n",
    "\n",
    "def get_std(Nt, Ns, min, k, W):\n",
    "    relative_error = get_relative_error(Nt, Ns, min, k)\n",
    "    std = np.zeros(W.shape)\n",
    "    # print(std)\n",
    "    for i in range(Nt):\n",
    "        for j in range(Ns):\n",
    "            for m in range(W.shape[2]):\n",
    "                for n in range(W.shape[3]):\n",
    "                    std[i][j][m][n] = W[i][j][m][n] * relative_error[i][j]\n",
    "    return std\n",
    "\n",
    "def generate_data(W, std_arr):\n",
    "    return np.random.default_rng().normal(W, std_arr)\n",
    "\n",
    "def make_data_frame(data, smearing_steps):\n",
    "    Nt_arr = []\n",
    "    Ns_arr = []\n",
    "    smearing1 = []\n",
    "    smearing2 = []\n",
    "    W = []\n",
    "    for j in range(data.shape[0]):\n",
    "        for k in range(data.shape[1]):\n",
    "            for m in range(data.shape[2]):\n",
    "                for n in range(data.shape[3]):\n",
    "                    Nt_arr.append(j + 1)\n",
    "                    Ns_arr.append(k + 1)\n",
    "                    smearing1.append(smearing_steps[m])\n",
    "                    smearing2.append(smearing_steps[n])\n",
    "                    W.append(data[j][k][m][n])\n",
    "    return pd.DataFrame({'smearing_step1': smearing1, 'smearing_step2': smearing2, 'time_size': Nt_arr, 'space_size': Ns_arr, 'wilson_loop': W})"
   ]
  },
  {
   "cell_type": "code",
   "execution_count": 10,
   "id": "5b694c16",
   "metadata": {},
   "outputs": [],
   "source": [
    "Ns = 30\n",
    "Nt = 30\n",
    "N = 50000\n",
    "exponent_number = 3\n",
    "c0 = 0.3\n",
    "c_fraction = 0.8\n",
    "smearing_steps = [20, 50, 90]\n",
    "coefficients_smeared = np.array(get_coefficients_smeared(get_c0_smearing_dependence(smearing_steps, c0), exponent_number, c_fraction))\n",
    "W = get_wilson_loops_mean(Nt, Ns, exponent_number, coefficients_smeared)\n",
    "std_arr = get_std(Nt, Ns, 0.001, 1.01, W)\n",
    "for i in range(N):\n",
    "    data = generate_data(W, std_arr)\n",
    "    df = make_data_frame(data, smearing_steps)\n",
    "    df = df[df['smearing_step2'] >= df['smearing_step1']]\n",
    "    df.to_csv(f'/home/ilya/soft/lattice/observables/data/synthetic/wilson_gevp/conf_{(i+1):05}', index=False)"
   ]
  },
  {
   "cell_type": "code",
   "execution_count": null,
   "id": "733a8359",
   "metadata": {},
   "outputs": [
    {
     "name": "stdout",
     "output_type": "stream",
     "text": [
      "[0.3101250274787133, 0.3042653031222051, 0.29967886506105573, 0.296122247306575, 0.2933840568619446, 0.29128766070653395, 0.289689461365102, 0.2884750229436367, 0.28755447655379945, 0.2868580086315503, 0.286331821855969, 0.28593471009458693, 0.285635253542209, 0.2854095753466574, 0.2852395767136675, 0.28511156473071053, 0.2850151946140498, 0.2849426594257038, 0.2848880722254939]\n"
     ]
    },
    {
     "data": {
      "text/plain": [
       "[<matplotlib.lines.Line2D at 0x7070cc927ef0>]"
      ]
     },
     "execution_count": 18,
     "metadata": {},
     "output_type": "execute_result"
    },
    {
     "data": {
      "image/png": "[encoded data removed]",
      "text/plain": [
       "<Figure size 640x480 with 1 Axes>"
      ]
     },
     "metadata": {},
     "output_type": "display_data"
    }
   ],
   "source": [
    "y = []\n",
    "x = []\n",
    "for i in range(Nt-1):\n",
    "    x.append(i + 1)\n",
    "    y.append(math.log(W[i][8][1][1]/W[i+1][8][1][1]))\n",
    "print(y)\n",
    "plt.plot(x, y)"
   ]
  },
  {
   "cell_type": "code",
   "execution_count": null,
   "id": "45385b07",
   "metadata": {},
   "outputs": [],
   "source": []
  }
 ],
 "metadata": {
  "kernelspec": {
   "display_name": "python3.12",
   "language": "python",
   "name": "python3"
  },
  "language_info": {
   "codemirror_mode": {
    "name": "ipython",
    "version": 3
   },
   "file_extension": ".py",
   "mimetype": "text/x-python",
   "name": "python",
   "nbconvert_exporter": "python",
   "pygments_lexer": "ipython3",
   "version": "3.12.8"
  }
 },
 "nbformat": 4,
 "nbformat_minor": 5
}
