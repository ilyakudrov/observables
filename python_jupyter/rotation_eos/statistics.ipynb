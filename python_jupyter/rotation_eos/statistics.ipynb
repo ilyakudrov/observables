{
 "cells": [
  {
   "cell_type": "code",
   "execution_count": 1,
   "metadata": {},
   "outputs": [],
   "source": [
    "import pandas as pd\n",
    "import numpy as np\n",
    "import scipy\n",
    "from scipy.stats import norm, binned_statistic\n",
    "import scipy.stats\n",
    "import astropy\n",
    "import eos_data\n",
    "import plots"
   ]
  },
  {
   "cell_type": "code",
   "execution_count": 2,
   "metadata": {},
   "outputs": [
    {
     "name": "stdout",
     "output_type": "stream",
     "text": [
      "     beta         S     S_err\n",
      "0   3.920  3.845292  0.000037\n",
      "1   3.960  3.763157  0.000033\n",
      "2   4.000  3.686488  0.000031\n",
      "3   4.040  3.615521  0.000033\n",
      "4   4.080  3.550114  0.000029\n",
      "5   4.120  3.489785  0.000029\n",
      "6   4.160  3.433723  0.000023\n",
      "7   4.200  3.381091  0.000021\n",
      "8   4.204  3.371846  0.000047\n",
      "9   4.208  3.366205  0.000036\n",
      "10  4.212  3.360758  0.000034\n",
      "11  4.216  3.355513  0.000023\n",
      "12  4.220  3.350335  0.000027\n",
      "13  4.230  3.337843  0.000028\n",
      "14  4.240  3.325785  0.000025\n",
      "15  4.260  3.302258  0.000021\n",
      "16  4.280  3.279698  0.000019\n",
      "17  4.320  3.236375  0.000018\n",
      "18  4.360  3.195120  0.000017\n",
      "19  4.440  3.117396  0.000017\n",
      "20  4.520  3.044846  0.000015\n",
      "21  4.600  2.976695  0.000013\n",
      "22  4.680  2.912344  0.000014\n",
      "23  4.760  2.851239  0.000014\n",
      "24  4.840  2.793203  0.000012\n",
      "25  4.920  2.737847  0.000013\n",
      "26  5.000  2.684949  0.000015\n",
      "27  5.080  2.634351  0.000012\n",
      "28  5.160  2.585864  0.000013\n"
     ]
    }
   ],
   "source": [
    "path = '../../result/eos_high_precision/5x30x121sq/PBC_cV/0.000000v/beta_actS.txt'\n",
    "df = eos_data.read_S(path)\n",
    "print(df)"
   ]
  },
  {
   "cell_type": "code",
   "execution_count": null,
   "metadata": {},
   "outputs": [],
   "source": []
  }
 ],
 "metadata": {
  "kernelspec": {
   "display_name": "python3.12",
   "language": "python",
   "name": "python3"
  },
  "language_info": {
   "codemirror_mode": {
    "name": "ipython",
    "version": 3
   },
   "file_extension": ".py",
   "mimetype": "text/x-python",
   "name": "python",
   "nbconvert_exporter": "python",
   "pygments_lexer": "ipython3",
   "version": "3.12.5"
  }
 },
 "nbformat": 4,
 "nbformat_minor": 2
}
