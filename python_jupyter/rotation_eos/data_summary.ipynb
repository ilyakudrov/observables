{
 "cells": [
  {
   "cell_type": "code",
   "execution_count": 2,
   "metadata": {},
   "outputs": [],
   "source": [
    "import pandas as pd"
   ]
  },
  {
   "cell_type": "code",
   "execution_count": 5,
   "metadata": {},
   "outputs": [
    {
     "name": "stdout",
     "output_type": "stream",
     "text": [
      "   A  B\n",
      "0  1  4\n",
      "1  2  5\n",
      "2  3  6\n",
      "3  4  7\n",
      "[[1 2 3 4]\n",
      " [4 5 6 7]]\n"
     ]
    }
   ],
   "source": [
    "import numpy as np\n",
    "df = pd.DataFrame({'A': [1, 2, 3, 4], 'B': [4, 5, 6, 7]})\n",
    "print(df)\n",
    "print(df[['A', 'B']].to_numpy().T)"
   ]
  },
  {
   "cell_type": "code",
   "execution_count": 7,
   "metadata": {},
   "outputs": [
    {
     "name": "stdout",
     "output_type": "stream",
     "text": [
      "      lattice_size boundary   velocity  beta\n",
      "0        4x24x97sq  OBCb_cV  0.565685v  3.96\n",
      "1        4x24x97sq  OBCb_cV  0.565685v  3.86\n",
      "2        4x24x97sq  OBCb_cV  0.565685v  4.76\n",
      "3        4x24x97sq  OBCb_cV  0.565685v  3.70\n",
      "4        4x24x97sq  OBCb_cV  0.565685v  4.04\n",
      "...            ...      ...        ...   ...\n",
      "11583   7x42x169sq   PBC_cV  0.346410v  4.10\n",
      "11584   7x42x169sq   PBC_cV  0.346410v  4.48\n",
      "11585   7x42x169sq   PBC_cV  0.346410v  5.40\n",
      "11586   7x42x169sq   PBC_cV  0.346410v  4.52\n",
      "11587   7x42x169sq   PBC_cV  0.346410v  4.84\n",
      "\n",
      "[11588 rows x 4 columns]\n"
     ]
    }
   ],
   "source": [
    "# summary of the obtained result\n",
    "df_result = pd.read_csv('../../result/eos_rotation_imaginary/result_summary.csv')\n",
    "print(df_result)"
   ]
  },
  {
   "cell_type": "code",
   "execution_count": 8,
   "metadata": {},
   "outputs": [
    {
     "name": "stdout",
     "output_type": "stream",
     "text": [
      "                                             lattice_dir lattice_size  \\\n",
      "0      /home/clusters/rrcmpi/kudrov/eos_high_precisio...   6x36x145sq   \n",
      "1      /home/clusters/rrcmpi/kudrov/eos_high_precisio...   6x36x145sq   \n",
      "2      /home/clusters/rrcmpi/kudrov/eos_high_precisio...   6x36x145sq   \n",
      "3      /home/clusters/rrcmpi/kudrov/eos_high_precisio...   6x36x145sq   \n",
      "4      /home/clusters/rrcmpi/kudrov/eos_high_precisio...   6x36x145sq   \n",
      "...                                                  ...          ...   \n",
      "15867  /home/clusters/rrcmpi/sychev/gluo_rotation/eos...   6x36x145sq   \n",
      "15868  /home/clusters/rrcmpi/sychev/gluo_rotation/eos...   6x36x145sq   \n",
      "15869  /home/clusters/rrcmpi/sychev/gluo_rotation/eos...   6x36x145sq   \n",
      "15870  /home/clusters/rrcmpi/sychev/gluo_rotation/eos...   6x36x145sq   \n",
      "15871  /home/clusters/rrcmpi/sychev/gluo_rotation/eos...   6x36x145sq   \n",
      "\n",
      "      boundary   velocity  beta  file_number  observation_number  \\\n",
      "0      OBCb_cV  0.000000v  4.40          450                4500   \n",
      "1      OBCb_cV  0.000000v  5.00          450                4500   \n",
      "2      OBCb_cV  0.000000v  4.12          450                4500   \n",
      "3      OBCb_cV  0.000000v  4.08          450                4500   \n",
      "4      OBCb_cV  0.000000v  4.28          450                4500   \n",
      "...        ...        ...   ...          ...                 ...   \n",
      "15867   PBC_cV  0.663325v  4.68            0                   0   \n",
      "15868   PBC_cV  0.663325v  5.32            0                   0   \n",
      "15869   PBC_cV  0.663325v  4.20            0                   0   \n",
      "15870   PBC_cV  0.663325v  3.92            0                   0   \n",
      "15871   PBC_cV  0.663325v  3.88            0                   0   \n",
      "\n",
      "       unblocked_data  \n",
      "0                   0  \n",
      "1                   0  \n",
      "2                   0  \n",
      "3                   0  \n",
      "4                   0  \n",
      "...               ...  \n",
      "15867               0  \n",
      "15868               0  \n",
      "15869               0  \n",
      "15870               0  \n",
      "15871               0  \n",
      "\n",
      "[15152 rows x 8 columns]\n"
     ]
    }
   ],
   "source": [
    "# summary for data\n",
    "df_data = pd.read_csv('../../result/eos_rotation_imaginary/data_summary.csv')\n",
    "df_data['beta1'] = pd.to_numeric(df_data['beta'], errors='coerce')\n",
    "df_data = df_data[~df_data['beta1'].isnull()]\n",
    "df_data = df_data.drop(labels='beta1', axis=1)\n",
    "df_data['beta'] = pd.to_numeric(df_data['beta'], errors='coerce')\n",
    "print(df_data)"
   ]
  },
  {
   "cell_type": "code",
   "execution_count": 9,
   "metadata": {},
   "outputs": [
    {
     "name": "stdout",
     "output_type": "stream",
     "text": [
      "                                                                        lattice_dir lattice_size boundary   velocity   beta  file_number  observation_number  unblocked_data\n",
      "3757  /lustre/rrcmpi/roenko/gluo_rotation_omp/results_hydra/EoS-Sym/logs/7x42x169sq   7x42x169sq   PBC_cV  0.000000v  4.415          390               19500               0\n"
     ]
    }
   ],
   "source": [
    "print(df_data[df_data['observation_number'] == df_data['observation_number'].max()].to_string())"
   ]
  },
  {
   "cell_type": "code",
   "execution_count": 22,
   "metadata": {},
   "outputs": [
    {
     "name": "stdout",
     "output_type": "stream",
     "text": [
      "                                                                                  lattice_dir lattice_size boundary   velocity  beta  file_number  observation_number  unblocked_data\n",
      "7918  /lustre/rrcmpi/roenko/sychev_hydra/gluo_rotation/eos_run2/nt5l_pbc_zfs/logs/30x30x181sq  30x30x181sq   PBC_cV  0.400000v  4.15           35                 350               0\n",
      "7919  /lustre/rrcmpi/roenko/sychev_hydra/gluo_rotation/eos_run2/nt5l_pbc_zfs/logs/30x30x181sq  30x30x181sq   PBC_cV  0.400000v  4.14           35                 350               0\n",
      "7922  /lustre/rrcmpi/roenko/sychev_hydra/gluo_rotation/eos_run2/nt5l_pbc_zfs/logs/30x30x181sq  30x30x181sq   PBC_cV  0.400000v  4.17           35                 350               0\n",
      "7924  /lustre/rrcmpi/roenko/sychev_hydra/gluo_rotation/eos_run2/nt5l_pbc_zfs/logs/30x30x181sq  30x30x181sq   PBC_cV  0.400000v  4.13           35                 350               0\n"
     ]
    }
   ],
   "source": [
    "print(df_data[(df_data['lattice_size'] == '30x30x181sq') & (df_data['boundary'] == 'PBC_cV') & (df_data['velocity'] == '0.400000v') & ((df_data['beta'] == 4.13) | (df_data['beta'] == 4.17) | (df_data['beta'] == 4.14) | (df_data['beta'] == 4.15))].to_string())"
   ]
  },
  {
   "cell_type": "code",
   "execution_count": 11,
   "metadata": {},
   "outputs": [
    {
     "name": "stdout",
     "output_type": "stream",
     "text": [
      "      lattice_size boundary   velocity  beta lattice_reduced\n",
      "3510   30x30x181sq   PBC_cV  0.400000v  4.13        30x181sq\n",
      "3517   30x30x181sq   PBC_cV  0.400000v  4.17        30x181sq\n",
      "3525   30x30x181sq   PBC_cV  0.400000v  4.14        30x181sq\n",
      "3526   30x30x181sq   PBC_cV  0.400000v  4.15        30x181sq\n",
      "11417   7x42x169sq   PBC_cV  0.663325v  4.16        42x169sq\n",
      "11429   7x42x169sq   PBC_cV  0.663325v  4.14        42x169sq\n"
     ]
    }
   ],
   "source": [
    "# parameters with no results with joint thermal counterpart\n",
    "df1 = df_result.copy()\n",
    "df1['lattice_reduced'] = df1['lattice_size'].apply(lambda x: x[x.find('x')+1:])\n",
    "df1 = df1[~(df1.duplicated(['lattice_reduced', 'boundary', 'velocity', 'beta'], keep=False))]\n",
    "print(df1.to_string())"
   ]
  },
  {
   "cell_type": "code",
   "execution_count": 12,
   "metadata": {},
   "outputs": [
    {
     "name": "stdout",
     "output_type": "stream",
     "text": [
      "                                             lattice_dir lattice_size  \\\n",
      "383    /home/clusters/rrcmpi/kudrov/eos_high_precisio...   7x42x169sq   \n",
      "384    /home/clusters/rrcmpi/kudrov/eos_high_precisio...   7x42x169sq   \n",
      "385    /home/clusters/rrcmpi/kudrov/eos_high_precisio...   7x42x169sq   \n",
      "386    /home/clusters/rrcmpi/kudrov/eos_high_precisio...   7x42x169sq   \n",
      "387    /home/clusters/rrcmpi/kudrov/eos_high_precisio...   7x42x169sq   \n",
      "...                                                  ...          ...   \n",
      "15867  /home/clusters/rrcmpi/sychev/gluo_rotation/eos...   6x36x145sq   \n",
      "15868  /home/clusters/rrcmpi/sychev/gluo_rotation/eos...   6x36x145sq   \n",
      "15869  /home/clusters/rrcmpi/sychev/gluo_rotation/eos...   6x36x145sq   \n",
      "15870  /home/clusters/rrcmpi/sychev/gluo_rotation/eos...   6x36x145sq   \n",
      "15871  /home/clusters/rrcmpi/sychev/gluo_rotation/eos...   6x36x145sq   \n",
      "\n",
      "      boundary   velocity  beta  file_number  observation_number  \\\n",
      "383    OBCb_cV  0.000000v  4.12          690                6900   \n",
      "384    OBCb_cV  0.000000v  5.00          690                6900   \n",
      "385    OBCb_cV  0.000000v  4.40          690                6900   \n",
      "386    OBCb_cV  0.000000v  4.60          690                6900   \n",
      "387    OBCb_cV  0.000000v  4.38          690                6900   \n",
      "...        ...        ...   ...          ...                 ...   \n",
      "15867   PBC_cV  0.663325v  4.68            0                   0   \n",
      "15868   PBC_cV  0.663325v  5.32            0                   0   \n",
      "15869   PBC_cV  0.663325v  4.20            0                   0   \n",
      "15870   PBC_cV  0.663325v  3.92            0                   0   \n",
      "15871   PBC_cV  0.663325v  3.88            0                   0   \n",
      "\n",
      "       unblocked_data  \n",
      "383                 0  \n",
      "384                 0  \n",
      "385                 0  \n",
      "386                 0  \n",
      "387                 0  \n",
      "...               ...  \n",
      "15867               0  \n",
      "15868               0  \n",
      "15869               0  \n",
      "15870               0  \n",
      "15871               0  \n",
      "\n",
      "[6295 rows x 8 columns]\n"
     ]
    }
   ],
   "source": [
    "# duplicated\n",
    "df1 = df_data[df_data.duplicated(['lattice_size', 'boundary', 'velocity', 'beta'], keep=False)]\n",
    "print(df1)"
   ]
  },
  {
   "cell_type": "code",
   "execution_count": 13,
   "metadata": {},
   "outputs": [],
   "source": [
    "def absent_parameters(df):\n",
    "    # print(df)\n",
    "    df = df.reset_index(level=['lattice_size', 'boundary'], drop=True).set_index(['velocity', 'beta']).unstack('beta', fill_value=0).stack(future_stack=True)['observation_number'].reset_index(level=['velocity', 'beta'])\n",
    "    return df"
   ]
  },
  {
   "cell_type": "code",
   "execution_count": 14,
   "metadata": {},
   "outputs": [
    {
     "name": "stdout",
     "output_type": "stream",
     "text": [
      "    lattice_size boundary   velocity   beta  observation_number\n",
      "4     24x24x97sq  OBCb_cV  0.000000v  3.720                   0\n",
      "6     24x24x97sq  OBCb_cV  0.000000v  3.760                   0\n",
      "17    24x24x97sq  OBCb_cV  0.000000v  3.970                   0\n",
      "19    24x24x97sq  OBCb_cV  0.000000v  3.990                   0\n",
      "21    24x24x97sq  OBCb_cV  0.000000v  4.010                   0\n",
      "..           ...      ...        ...    ...                 ...\n",
      "630   7x42x169sq   PBC_cV  0.692820v  4.415                   0\n",
      "632   7x42x169sq   PBC_cV  0.692820v  4.430                   0\n",
      "634   7x42x169sq   PBC_cV  0.692820v  4.460                   0\n",
      "636   7x42x169sq   PBC_cV  0.692820v  4.500                   0\n",
      "638   7x42x169sq   PBC_cV  0.692820v  4.560                   0\n",
      "\n",
      "[6012 rows x 5 columns]\n"
     ]
    }
   ],
   "source": [
    "# for each ('lattice_size', 'boundary') find beta which are absent in some velocities but are present in others\n",
    "df1 = df_data[df_data['observation_number'] > 100]\n",
    "df1 = df1[~(df1.duplicated(['lattice_size', 'boundary', 'velocity', 'beta'], keep=False)) | ~(df1.duplicated(['lattice_size', 'boundary', 'velocity', 'beta'])) & (df1.duplicated(['lattice_size', 'boundary', 'velocity', 'beta'], keep=False))]\n",
    "df1 = df1.set_index(['lattice_size', 'boundary']).groupby(['lattice_size', 'boundary']).apply(absent_parameters, include_groups=False).reset_index(level=['lattice_size', 'boundary'])\n",
    "df1 = df1[df1['observation_number'] == 0]\n",
    "print(df1)\n",
    "df1.to_csv(f'../../result/eos_rotation_imaginary/beta_absent.csv', index=False)"
   ]
  },
  {
   "cell_type": "code",
   "execution_count": 15,
   "metadata": {},
   "outputs": [],
   "source": [
    "# parameters with absent spec files\n",
    "# df1 = df_data[df_data['observation_number'] > 100]\n",
    "# df1 = df1[(df1['spec_bin_Pl.log'] != 'exists,not empty,readable') | (df1['spec_bin_S.log'] != 'exists,not empty,readable') | (df1['spec_therm.log'] != 'exists,not empty,readable')]\n",
    "# print(df1)\n",
    "# df1.to_csv(f'../../result/eos_rotation_imaginary/spec_absent.csv', index=False)"
   ]
  },
  {
   "cell_type": "code",
   "execution_count": 16,
   "metadata": {},
   "outputs": [
    {
     "name": "stdout",
     "output_type": "stream",
     "text": [
      "                                                                          lattice_dir lattice_size boundary   velocity   beta  file_number  observation_number  unblocked_data\n",
      "1673  /lustre/rrcmpi/roenko/gluo_rotation_omp/results_hydra/inhom-Sym/logs/5x30x181sq   5x30x181sq  OBCb_cV  0.529150v  4.162            0                   0               0\n",
      "1674  /lustre/rrcmpi/roenko/gluo_rotation_omp/results_hydra/inhom-Sym/logs/5x30x181sq   5x30x181sq  OBCb_cV  0.529150v  4.226            0                   0               0\n",
      "1675  /lustre/rrcmpi/roenko/gluo_rotation_omp/results_hydra/inhom-Sym/logs/5x30x181sq   5x30x181sq  OBCb_cV  0.529150v  4.018            0                   0               0\n",
      "1676  /lustre/rrcmpi/roenko/gluo_rotation_omp/results_hydra/inhom-Sym/logs/5x30x181sq   5x30x181sq  OBCb_cV  0.529150v  4.130            0                   0               0\n",
      "1677  /lustre/rrcmpi/roenko/gluo_rotation_omp/results_hydra/inhom-Sym/logs/5x30x181sq   5x30x181sq  OBCb_cV  0.529150v  4.098            0                   0               0\n",
      "1678  /lustre/rrcmpi/roenko/gluo_rotation_omp/results_hydra/inhom-Sym/logs/5x30x181sq   5x30x181sq  OBCb_cV  0.529150v  3.986            0                   0               0\n",
      "1679  /lustre/rrcmpi/roenko/gluo_rotation_omp/results_hydra/inhom-Sym/logs/5x30x181sq   5x30x181sq  OBCb_cV  0.529150v  4.242            0                   0               0\n",
      "1680  /lustre/rrcmpi/roenko/gluo_rotation_omp/results_hydra/inhom-Sym/logs/5x30x181sq   5x30x181sq  OBCb_cV  0.529150v  4.194            0                   0               0\n",
      "1681  /lustre/rrcmpi/roenko/gluo_rotation_omp/results_hydra/inhom-Sym/logs/5x30x181sq   5x30x181sq  OBCb_cV  0.529150v  4.146            0                   0               0\n",
      "1682  /lustre/rrcmpi/roenko/gluo_rotation_omp/results_hydra/inhom-Sym/logs/5x30x181sq   5x30x181sq  OBCb_cV  0.529150v  4.034            0                   0               0\n",
      "1683  /lustre/rrcmpi/roenko/gluo_rotation_omp/results_hydra/inhom-Sym/logs/5x30x181sq   5x30x181sq  OBCb_cV  0.529150v  4.178            0                   0               0\n",
      "1684  /lustre/rrcmpi/roenko/gluo_rotation_omp/results_hydra/inhom-Sym/logs/5x30x181sq   5x30x181sq  OBCb_cV  0.529150v  4.002            0                   0               0\n",
      "1685  /lustre/rrcmpi/roenko/gluo_rotation_omp/results_hydra/inhom-Sym/logs/5x30x181sq   5x30x181sq  OBCb_cV  0.529150v  4.050            0                   0               0\n",
      "1686  /lustre/rrcmpi/roenko/gluo_rotation_omp/results_hydra/inhom-Sym/logs/5x30x181sq   5x30x181sq  OBCb_cV  0.529150v  4.082            0                   0               0\n",
      "1687  /lustre/rrcmpi/roenko/gluo_rotation_omp/results_hydra/inhom-Sym/logs/5x30x181sq   5x30x181sq  OBCb_cV  0.529150v  3.970            0                   0               0\n",
      "1688  /lustre/rrcmpi/roenko/gluo_rotation_omp/results_hydra/inhom-Sym/logs/5x30x181sq   5x30x181sq  OBCb_cV  0.529150v  4.066            0                   0               0\n",
      "1689  /lustre/rrcmpi/roenko/gluo_rotation_omp/results_hydra/inhom-Sym/logs/5x30x181sq   5x30x181sq  OBCb_cV  0.529150v  4.114            0                   0               0\n",
      "1690  /lustre/rrcmpi/roenko/gluo_rotation_omp/results_hydra/inhom-Sym/logs/5x30x181sq   5x30x181sq  OBCb_cV  0.692820v  3.872            0                   0               0\n",
      "1692  /lustre/rrcmpi/roenko/gluo_rotation_omp/results_hydra/inhom-Sym/logs/5x30x181sq   5x30x181sq  OBCb_cV  0.692820v  4.028            0                   0               0\n",
      "1693  /lustre/rrcmpi/roenko/gluo_rotation_omp/results_hydra/inhom-Sym/logs/5x30x181sq   5x30x181sq  OBCb_cV  0.692820v  4.106            0                   0               0\n",
      "1694  /lustre/rrcmpi/roenko/gluo_rotation_omp/results_hydra/inhom-Sym/logs/5x30x181sq   5x30x181sq  OBCb_cV  0.692820v  4.054            0                   0               0\n",
      "1695  /lustre/rrcmpi/roenko/gluo_rotation_omp/results_hydra/inhom-Sym/logs/5x30x181sq   5x30x181sq  OBCb_cV  0.692820v  4.210            0                   0               0\n",
      "1696  /lustre/rrcmpi/roenko/gluo_rotation_omp/results_hydra/inhom-Sym/logs/5x30x181sq   5x30x181sq  OBCb_cV  0.692820v  3.898            0                   0               0\n",
      "1697  /lustre/rrcmpi/roenko/gluo_rotation_omp/results_hydra/inhom-Sym/logs/5x30x181sq   5x30x181sq  OBCb_cV  0.692820v  4.262            0                   0               0\n",
      "1698  /lustre/rrcmpi/roenko/gluo_rotation_omp/results_hydra/inhom-Sym/logs/5x30x181sq   5x30x181sq  OBCb_cV  0.692820v  4.236            0                   0               0\n",
      "1699  /lustre/rrcmpi/roenko/gluo_rotation_omp/results_hydra/inhom-Sym/logs/5x30x181sq   5x30x181sq  OBCb_cV  0.692820v  3.820            0                   0               0\n",
      "1700  /lustre/rrcmpi/roenko/gluo_rotation_omp/results_hydra/inhom-Sym/logs/5x30x181sq   5x30x181sq  OBCb_cV  0.692820v  3.846            0                   0               0\n",
      "1701  /lustre/rrcmpi/roenko/gluo_rotation_omp/results_hydra/inhom-Sym/logs/5x30x181sq   5x30x181sq  OBCb_cV  0.692820v  4.158            0                   0               0\n",
      "1702  /lustre/rrcmpi/roenko/gluo_rotation_omp/results_hydra/inhom-Sym/logs/5x30x181sq   5x30x181sq  OBCb_cV  0.692820v  3.924            0                   0               0\n",
      "1703  /lustre/rrcmpi/roenko/gluo_rotation_omp/results_hydra/inhom-Sym/logs/5x30x181sq   5x30x181sq  OBCb_cV  0.692820v  4.132            0                   0               0\n",
      "1704  /lustre/rrcmpi/roenko/gluo_rotation_omp/results_hydra/inhom-Sym/logs/5x30x181sq   5x30x181sq  OBCb_cV  0.692820v  3.950            0                   0               0\n",
      "1705  /lustre/rrcmpi/roenko/gluo_rotation_omp/results_hydra/inhom-Sym/logs/5x30x181sq   5x30x181sq  OBCb_cV  0.692820v  3.976            0                   0               0\n",
      "1706  /lustre/rrcmpi/roenko/gluo_rotation_omp/results_hydra/inhom-Sym/logs/5x30x181sq   5x30x181sq  OBCb_cV  0.692820v  4.002            0                   0               0\n",
      "1707  /lustre/rrcmpi/roenko/gluo_rotation_omp/results_hydra/inhom-Sym/logs/5x30x181sq   5x30x181sq  OBCb_cV  0.692820v  4.184            0                   0               0\n",
      "1708  /lustre/rrcmpi/roenko/gluo_rotation_omp/results_hydra/inhom-Sym/logs/5x30x181sq   5x30x181sq  OBCb_cV  0.400000v  4.070            0                   0               0\n",
      "1718  /lustre/rrcmpi/roenko/gluo_rotation_omp/results_hydra/inhom-Sym/logs/5x30x181sq   5x30x181sq  OBCb_cV  0.400000v  4.230            0                   0               0\n",
      "1727  /lustre/rrcmpi/roenko/gluo_rotation_omp/results_hydra/inhom-Sym/logs/5x30x181sq   5x30x181sq  OBCb_cV  0.282843v  4.132            0                   0               0\n",
      "1728  /lustre/rrcmpi/roenko/gluo_rotation_omp/results_hydra/inhom-Sym/logs/5x30x181sq   5x30x181sq  OBCb_cV  0.282843v  4.204            0                   0               0\n",
      "1729  /lustre/rrcmpi/roenko/gluo_rotation_omp/results_hydra/inhom-Sym/logs/5x30x181sq   5x30x181sq  OBCb_cV  0.282843v  4.192            0                   0               0\n",
      "1730  /lustre/rrcmpi/roenko/gluo_rotation_omp/results_hydra/inhom-Sym/logs/5x30x181sq   5x30x181sq  OBCb_cV  0.282843v  4.222            0                   0               0\n",
      "1731  /lustre/rrcmpi/roenko/gluo_rotation_omp/results_hydra/inhom-Sym/logs/5x30x181sq   5x30x181sq  OBCb_cV  0.282843v  4.168            0                   0               0\n",
      "1732  /lustre/rrcmpi/roenko/gluo_rotation_omp/results_hydra/inhom-Sym/logs/5x30x181sq   5x30x181sq  OBCb_cV  0.282843v  4.156            0                   0               0\n",
      "1733  /lustre/rrcmpi/roenko/gluo_rotation_omp/results_hydra/inhom-Sym/logs/5x30x181sq   5x30x181sq  OBCb_cV  0.282843v  4.198            0                   0               0\n",
      "1734  /lustre/rrcmpi/roenko/gluo_rotation_omp/results_hydra/inhom-Sym/logs/5x30x181sq   5x30x181sq  OBCb_cV  0.282843v  4.138            0                   0               0\n",
      "1737  /lustre/rrcmpi/roenko/gluo_rotation_omp/results_hydra/inhom-Sym/logs/5x30x181sq   5x30x181sq  OBCb_cV  0.282843v  4.174            0                   0               0\n",
      "1738  /lustre/rrcmpi/roenko/gluo_rotation_omp/results_hydra/inhom-Sym/logs/5x30x181sq   5x30x181sq  OBCb_cV  0.282843v  4.216            0                   0               0\n",
      "1739  /lustre/rrcmpi/roenko/gluo_rotation_omp/results_hydra/inhom-Sym/logs/5x30x181sq   5x30x181sq  OBCb_cV  0.282843v  4.186            0                   0               0\n",
      "1741  /lustre/rrcmpi/roenko/gluo_rotation_omp/results_hydra/inhom-Sym/logs/5x30x181sq   5x30x181sq  OBCb_cV  0.282843v  4.126            0                   0               0\n",
      "1742  /lustre/rrcmpi/roenko/gluo_rotation_omp/results_hydra/inhom-Sym/logs/5x30x181sq   5x30x181sq  OBCb_cV  0.282843v  4.162            0                   0               0\n",
      "1743  /lustre/rrcmpi/roenko/gluo_rotation_omp/results_hydra/inhom-Sym/logs/5x30x181sq   5x30x181sq  OBCb_cV  0.282843v  4.144            0                   0               0\n",
      "1744  /lustre/rrcmpi/roenko/gluo_rotation_omp/results_hydra/inhom-Sym/logs/5x30x181sq   5x30x181sq  OBCb_cV  0.489898v  4.168            0                   0               0\n",
      "1745  /lustre/rrcmpi/roenko/gluo_rotation_omp/results_hydra/inhom-Sym/logs/5x30x181sq   5x30x181sq  OBCb_cV  0.489898v  4.112            0                   0               0\n",
      "1746  /lustre/rrcmpi/roenko/gluo_rotation_omp/results_hydra/inhom-Sym/logs/5x30x181sq   5x30x181sq  OBCb_cV  0.489898v  4.224            0                   0               0\n",
      "1747  /lustre/rrcmpi/roenko/gluo_rotation_omp/results_hydra/inhom-Sym/logs/5x30x181sq   5x30x181sq  OBCb_cV  0.489898v  4.056            0                   0               0\n",
      "1748  /lustre/rrcmpi/roenko/gluo_rotation_omp/results_hydra/inhom-Sym/logs/5x30x181sq   5x30x181sq  OBCb_cV  0.489898v  4.084            0                   0               0\n",
      "1749  /lustre/rrcmpi/roenko/gluo_rotation_omp/results_hydra/inhom-Sym/logs/5x30x181sq   5x30x181sq  OBCb_cV  0.489898v  4.070            0                   0               0\n",
      "1750  /lustre/rrcmpi/roenko/gluo_rotation_omp/results_hydra/inhom-Sym/logs/5x30x181sq   5x30x181sq  OBCb_cV  0.489898v  4.182            0                   0               0\n",
      "1752  /lustre/rrcmpi/roenko/gluo_rotation_omp/results_hydra/inhom-Sym/logs/5x30x181sq   5x30x181sq  OBCb_cV  0.489898v  4.014            0                   0               0\n",
      "1753  /lustre/rrcmpi/roenko/gluo_rotation_omp/results_hydra/inhom-Sym/logs/5x30x181sq   5x30x181sq  OBCb_cV  0.489898v  4.126            0                   0               0\n",
      "1756  /lustre/rrcmpi/roenko/gluo_rotation_omp/results_hydra/inhom-Sym/logs/5x30x181sq   5x30x181sq  OBCb_cV  0.489898v  4.154            0                   0               0\n",
      "1757  /lustre/rrcmpi/roenko/gluo_rotation_omp/results_hydra/inhom-Sym/logs/5x30x181sq   5x30x181sq  OBCb_cV  0.489898v  4.196            0                   0               0\n",
      "1758  /lustre/rrcmpi/roenko/gluo_rotation_omp/results_hydra/inhom-Sym/logs/5x30x181sq   5x30x181sq  OBCb_cV  0.489898v  4.098            0                   0               0\n",
      "1759  /lustre/rrcmpi/roenko/gluo_rotation_omp/results_hydra/inhom-Sym/logs/5x30x181sq   5x30x181sq  OBCb_cV  0.489898v  4.042            0                   0               0\n",
      "1760  /lustre/rrcmpi/roenko/gluo_rotation_omp/results_hydra/inhom-Sym/logs/5x30x181sq   5x30x181sq  OBCb_cV  0.489898v  4.028            0                   0               0\n",
      "1761  /lustre/rrcmpi/roenko/gluo_rotation_omp/results_hydra/inhom-Sym/logs/5x30x181sq   5x30x181sq  OBCb_cV  0.489898v  4.238            0                   0               0\n",
      "1762  /lustre/rrcmpi/roenko/gluo_rotation_omp/results_hydra/inhom-Sym/logs/5x30x181sq   5x30x181sq  OBCb_cV  0.632456v  4.122            0                   0               0\n",
      "1763  /lustre/rrcmpi/roenko/gluo_rotation_omp/results_hydra/inhom-Sym/logs/5x30x181sq   5x30x181sq  OBCb_cV  0.632456v  4.232            0                   0               0\n",
      "1764  /lustre/rrcmpi/roenko/gluo_rotation_omp/results_hydra/inhom-Sym/logs/5x30x181sq   5x30x181sq  OBCb_cV  0.632456v  3.946            0                   0               0\n",
      "1765  /lustre/rrcmpi/roenko/gluo_rotation_omp/results_hydra/inhom-Sym/logs/5x30x181sq   5x30x181sq  OBCb_cV  0.632456v  3.968            0                   0               0\n",
      "1766  /lustre/rrcmpi/roenko/gluo_rotation_omp/results_hydra/inhom-Sym/logs/5x30x181sq   5x30x181sq  OBCb_cV  0.632456v  3.902            0                   0               0\n",
      "1767  /lustre/rrcmpi/roenko/gluo_rotation_omp/results_hydra/inhom-Sym/logs/5x30x181sq   5x30x181sq  OBCb_cV  0.632456v  4.166            0                   0               0\n",
      "1768  /lustre/rrcmpi/roenko/gluo_rotation_omp/results_hydra/inhom-Sym/logs/5x30x181sq   5x30x181sq  OBCb_cV  0.632456v  3.924            0                   0               0\n",
      "1769  /lustre/rrcmpi/roenko/gluo_rotation_omp/results_hydra/inhom-Sym/logs/5x30x181sq   5x30x181sq  OBCb_cV  0.632456v  4.034            0                   0               0\n",
      "1770  /lustre/rrcmpi/roenko/gluo_rotation_omp/results_hydra/inhom-Sym/logs/5x30x181sq   5x30x181sq  OBCb_cV  0.632456v  4.012            0                   0               0\n",
      "1771  /lustre/rrcmpi/roenko/gluo_rotation_omp/results_hydra/inhom-Sym/logs/5x30x181sq   5x30x181sq  OBCb_cV  0.632456v  4.056            0                   0               0\n",
      "1772  /lustre/rrcmpi/roenko/gluo_rotation_omp/results_hydra/inhom-Sym/logs/5x30x181sq   5x30x181sq  OBCb_cV  0.632456v  4.078            0                   0               0\n",
      "1773  /lustre/rrcmpi/roenko/gluo_rotation_omp/results_hydra/inhom-Sym/logs/5x30x181sq   5x30x181sq  OBCb_cV  0.632456v  4.188            0                   0               0\n",
      "1774  /lustre/rrcmpi/roenko/gluo_rotation_omp/results_hydra/inhom-Sym/logs/5x30x181sq   5x30x181sq  OBCb_cV  0.632456v  4.210            0                   0               0\n",
      "1775  /lustre/rrcmpi/roenko/gluo_rotation_omp/results_hydra/inhom-Sym/logs/5x30x181sq   5x30x181sq  OBCb_cV  0.632456v  3.990            0                   0               0\n",
      "1776  /lustre/rrcmpi/roenko/gluo_rotation_omp/results_hydra/inhom-Sym/logs/5x30x181sq   5x30x181sq  OBCb_cV  0.632456v  4.100            0                   0               0\n",
      "1777  /lustre/rrcmpi/roenko/gluo_rotation_omp/results_hydra/inhom-Sym/logs/5x30x181sq   5x30x181sq  OBCb_cV  0.632456v  4.144            0                   0               0\n",
      "1778  /lustre/rrcmpi/roenko/gluo_rotation_omp/results_hydra/inhom-Sym/logs/5x30x181sq   5x30x181sq  OBCb_cV  0.632456v  3.880            0                   0               0\n",
      "1779  /lustre/rrcmpi/roenko/gluo_rotation_omp/results_hydra/inhom-Sym/logs/5x30x181sq   5x30x181sq  OBCb_cV  0.632456v  4.254            0                   0               0\n",
      "1780  /lustre/rrcmpi/roenko/gluo_rotation_omp/results_hydra/inhom-Sym/logs/5x30x181sq   5x30x181sq  OBCb_cV  0.565685v  3.958            0                   0               0\n",
      "1781  /lustre/rrcmpi/roenko/gluo_rotation_omp/results_hydra/inhom-Sym/logs/5x30x181sq   5x30x181sq  OBCb_cV  0.565685v  4.012            0                   0               0\n",
      "1782  /lustre/rrcmpi/roenko/gluo_rotation_omp/results_hydra/inhom-Sym/logs/5x30x181sq   5x30x181sq  OBCb_cV  0.565685v  3.976            0                   0               0\n",
      "1783  /lustre/rrcmpi/roenko/gluo_rotation_omp/results_hydra/inhom-Sym/logs/5x30x181sq   5x30x181sq  OBCb_cV  0.565685v  3.940            0                   0               0\n",
      "1784  /lustre/rrcmpi/roenko/gluo_rotation_omp/results_hydra/inhom-Sym/logs/5x30x181sq   5x30x181sq  OBCb_cV  0.565685v  4.102            0                   0               0\n",
      "1785  /lustre/rrcmpi/roenko/gluo_rotation_omp/results_hydra/inhom-Sym/logs/5x30x181sq   5x30x181sq  OBCb_cV  0.565685v  4.156            0                   0               0\n",
      "1786  /lustre/rrcmpi/roenko/gluo_rotation_omp/results_hydra/inhom-Sym/logs/5x30x181sq   5x30x181sq  OBCb_cV  0.565685v  4.246            0                   0               0\n",
      "1787  /lustre/rrcmpi/roenko/gluo_rotation_omp/results_hydra/inhom-Sym/logs/5x30x181sq   5x30x181sq  OBCb_cV  0.565685v  4.084            0                   0               0\n",
      "1788  /lustre/rrcmpi/roenko/gluo_rotation_omp/results_hydra/inhom-Sym/logs/5x30x181sq   5x30x181sq  OBCb_cV  0.565685v  3.994            0                   0               0\n",
      "1789  /lustre/rrcmpi/roenko/gluo_rotation_omp/results_hydra/inhom-Sym/logs/5x30x181sq   5x30x181sq  OBCb_cV  0.565685v  4.048            0                   0               0\n",
      "1790  /lustre/rrcmpi/roenko/gluo_rotation_omp/results_hydra/inhom-Sym/logs/5x30x181sq   5x30x181sq  OBCb_cV  0.565685v  4.066            0                   0               0\n",
      "1791  /lustre/rrcmpi/roenko/gluo_rotation_omp/results_hydra/inhom-Sym/logs/5x30x181sq   5x30x181sq  OBCb_cV  0.565685v  4.192            0                   0               0\n",
      "1793  /lustre/rrcmpi/roenko/gluo_rotation_omp/results_hydra/inhom-Sym/logs/5x30x181sq   5x30x181sq  OBCb_cV  0.565685v  4.228            0                   0               0\n",
      "1794  /lustre/rrcmpi/roenko/gluo_rotation_omp/results_hydra/inhom-Sym/logs/5x30x181sq   5x30x181sq  OBCb_cV  0.565685v  4.138            0                   0               0\n",
      "1795  /lustre/rrcmpi/roenko/gluo_rotation_omp/results_hydra/inhom-Sym/logs/5x30x181sq   5x30x181sq  OBCb_cV  0.565685v  4.030            0                   0               0\n",
      "1796  /lustre/rrcmpi/roenko/gluo_rotation_omp/results_hydra/inhom-Sym/logs/5x30x181sq   5x30x181sq  OBCb_cV  0.565685v  4.174            0                   0               0\n",
      "1798  /lustre/rrcmpi/roenko/gluo_rotation_omp/results_hydra/inhom-Sym/logs/5x30x181sq   5x30x181sq  OBCb_cV  0.346410v  4.162            0                   0               0\n",
      "1799  /lustre/rrcmpi/roenko/gluo_rotation_omp/results_hydra/inhom-Sym/logs/5x30x181sq   5x30x181sq  OBCb_cV  0.346410v  4.226            0                   0               0\n",
      "1800  /lustre/rrcmpi/roenko/gluo_rotation_omp/results_hydra/inhom-Sym/logs/5x30x181sq   5x30x181sq  OBCb_cV  0.346410v  4.218            0                   0               0\n",
      "1801  /lustre/rrcmpi/roenko/gluo_rotation_omp/results_hydra/inhom-Sym/logs/5x30x181sq   5x30x181sq  OBCb_cV  0.346410v  4.186            0                   0               0\n",
      "1802  /lustre/rrcmpi/roenko/gluo_rotation_omp/results_hydra/inhom-Sym/logs/5x30x181sq   5x30x181sq  OBCb_cV  0.346410v  4.154            0                   0               0\n",
      "1804  /lustre/rrcmpi/roenko/gluo_rotation_omp/results_hydra/inhom-Sym/logs/5x30x181sq   5x30x181sq  OBCb_cV  0.346410v  4.106            0                   0               0\n",
      "1805  /lustre/rrcmpi/roenko/gluo_rotation_omp/results_hydra/inhom-Sym/logs/5x30x181sq   5x30x181sq  OBCb_cV  0.346410v  4.090            0                   0               0\n",
      "1807  /lustre/rrcmpi/roenko/gluo_rotation_omp/results_hydra/inhom-Sym/logs/5x30x181sq   5x30x181sq  OBCb_cV  0.346410v  4.098            0                   0               0\n",
      "1808  /lustre/rrcmpi/roenko/gluo_rotation_omp/results_hydra/inhom-Sym/logs/5x30x181sq   5x30x181sq  OBCb_cV  0.346410v  4.138            0                   0               0\n",
      "1809  /lustre/rrcmpi/roenko/gluo_rotation_omp/results_hydra/inhom-Sym/logs/5x30x181sq   5x30x181sq  OBCb_cV  0.346410v  4.178            0                   0               0\n",
      "1811  /lustre/rrcmpi/roenko/gluo_rotation_omp/results_hydra/inhom-Sym/logs/5x30x181sq   5x30x181sq  OBCb_cV  0.346410v  4.202            0                   0               0\n",
      "1812  /lustre/rrcmpi/roenko/gluo_rotation_omp/results_hydra/inhom-Sym/logs/5x30x181sq   5x30x181sq  OBCb_cV  0.346410v  4.146            0                   0               0\n",
      "1813  /lustre/rrcmpi/roenko/gluo_rotation_omp/results_hydra/inhom-Sym/logs/5x30x181sq   5x30x181sq  OBCb_cV  0.346410v  4.194            0                   0               0\n",
      "1814  /lustre/rrcmpi/roenko/gluo_rotation_omp/results_hydra/inhom-Sym/logs/5x30x181sq   5x30x181sq  OBCb_cV  0.346410v  4.114            0                   0               0\n",
      "1815  /lustre/rrcmpi/roenko/gluo_rotation_omp/results_hydra/inhom-Sym/logs/5x30x181sq   5x30x181sq  OBCb_cV  0.346410v  4.122            0                   0               0\n",
      "1816  /lustre/rrcmpi/roenko/gluo_rotation_omp/results_hydra/inhom-Sym/logs/5x30x181sq   5x30x181sq  OBCb_cV  0.447214v  4.222            0                   0               0\n",
      "1817  /lustre/rrcmpi/roenko/gluo_rotation_omp/results_hydra/inhom-Sym/logs/5x30x181sq   5x30x181sq  OBCb_cV  0.447214v  4.066            0                   0               0\n",
      "1818  /lustre/rrcmpi/roenko/gluo_rotation_omp/results_hydra/inhom-Sym/logs/5x30x181sq   5x30x181sq  OBCb_cV  0.447214v  4.114            0                   0               0\n",
      "1819  /lustre/rrcmpi/roenko/gluo_rotation_omp/results_hydra/inhom-Sym/logs/5x30x181sq   5x30x181sq  OBCb_cV  0.447214v  4.150            0                   0               0\n",
      "1820  /lustre/rrcmpi/roenko/gluo_rotation_omp/results_hydra/inhom-Sym/logs/5x30x181sq   5x30x181sq  OBCb_cV  0.447214v  4.234            0                   0               0\n",
      "1821  /lustre/rrcmpi/roenko/gluo_rotation_omp/results_hydra/inhom-Sym/logs/5x30x181sq   5x30x181sq  OBCb_cV  0.447214v  4.102            0                   0               0\n",
      "1822  /lustre/rrcmpi/roenko/gluo_rotation_omp/results_hydra/inhom-Sym/logs/5x30x181sq   5x30x181sq  OBCb_cV  0.447214v  4.078            0                   0               0\n",
      "1823  /lustre/rrcmpi/roenko/gluo_rotation_omp/results_hydra/inhom-Sym/logs/5x30x181sq   5x30x181sq  OBCb_cV  0.447214v  4.174            0                   0               0\n",
      "1824  /lustre/rrcmpi/roenko/gluo_rotation_omp/results_hydra/inhom-Sym/logs/5x30x181sq   5x30x181sq  OBCb_cV  0.447214v  4.198            0                   0               0\n",
      "1825  /lustre/rrcmpi/roenko/gluo_rotation_omp/results_hydra/inhom-Sym/logs/5x30x181sq   5x30x181sq  OBCb_cV  0.447214v  4.042            0                   0               0\n",
      "1826  /lustre/rrcmpi/roenko/gluo_rotation_omp/results_hydra/inhom-Sym/logs/5x30x181sq   5x30x181sq  OBCb_cV  0.447214v  4.090            0                   0               0\n",
      "1827  /lustre/rrcmpi/roenko/gluo_rotation_omp/results_hydra/inhom-Sym/logs/5x30x181sq   5x30x181sq  OBCb_cV  0.447214v  4.138            0                   0               0\n",
      "1828  /lustre/rrcmpi/roenko/gluo_rotation_omp/results_hydra/inhom-Sym/logs/5x30x181sq   5x30x181sq  OBCb_cV  0.447214v  4.030            0                   0               0\n",
      "1829  /lustre/rrcmpi/roenko/gluo_rotation_omp/results_hydra/inhom-Sym/logs/5x30x181sq   5x30x181sq  OBCb_cV  0.447214v  4.162            0                   0               0\n",
      "1830  /lustre/rrcmpi/roenko/gluo_rotation_omp/results_hydra/inhom-Sym/logs/5x30x181sq   5x30x181sq  OBCb_cV  0.447214v  4.186            0                   0               0\n",
      "1831  /lustre/rrcmpi/roenko/gluo_rotation_omp/results_hydra/inhom-Sym/logs/5x30x181sq   5x30x181sq  OBCb_cV  0.447214v  4.126            0                   0               0\n",
      "1833  /lustre/rrcmpi/roenko/gluo_rotation_omp/results_hydra/inhom-Sym/logs/5x30x181sq   5x30x181sq  OBCb_cV  0.447214v  4.054            0                   0               0\n",
      "1834  /lustre/rrcmpi/roenko/gluo_rotation_omp/results_hydra/inhom-Sym/logs/5x30x181sq   5x30x181sq  OBCb_cV  0.200000v  4.196            0                   0               0\n",
      "1836  /lustre/rrcmpi/roenko/gluo_rotation_omp/results_hydra/inhom-Sym/logs/5x30x181sq   5x30x181sq  OBCb_cV  0.200000v  4.162            0                   0               0\n",
      "1838  /lustre/rrcmpi/roenko/gluo_rotation_omp/results_hydra/inhom-Sym/logs/5x30x181sq   5x30x181sq  OBCb_cV  0.200000v  4.186            0                   0               0\n",
      "1839  /lustre/rrcmpi/roenko/gluo_rotation_omp/results_hydra/inhom-Sym/logs/5x30x181sq   5x30x181sq  OBCb_cV  0.200000v  4.154            0                   0               0\n",
      "1840  /lustre/rrcmpi/roenko/gluo_rotation_omp/results_hydra/inhom-Sym/logs/5x30x181sq   5x30x181sq  OBCb_cV  0.200000v  4.218            0                   0               0\n",
      "1841  /lustre/rrcmpi/roenko/gluo_rotation_omp/results_hydra/inhom-Sym/logs/5x30x181sq   5x30x181sq  OBCb_cV  0.200000v  4.174            0                   0               0\n",
      "1842  /lustre/rrcmpi/roenko/gluo_rotation_omp/results_hydra/inhom-Sym/logs/5x30x181sq   5x30x181sq  OBCb_cV  0.200000v  4.188            0                   0               0\n",
      "1845  /lustre/rrcmpi/roenko/gluo_rotation_omp/results_hydra/inhom-Sym/logs/5x30x181sq   5x30x181sq  OBCb_cV  0.200000v  4.198            0                   0               0\n",
      "1846  /lustre/rrcmpi/roenko/gluo_rotation_omp/results_hydra/inhom-Sym/logs/5x30x181sq   5x30x181sq  OBCb_cV  0.200000v  4.206            0                   0               0\n",
      "1848  /lustre/rrcmpi/roenko/gluo_rotation_omp/results_hydra/inhom-Sym/logs/5x30x181sq   5x30x181sq  OBCb_cV  0.200000v  4.178            0                   0               0\n",
      "1849  /lustre/rrcmpi/roenko/gluo_rotation_omp/results_hydra/inhom-Sym/logs/5x30x181sq   5x30x181sq  OBCb_cV  0.200000v  4.184            0                   0               0\n",
      "1850  /lustre/rrcmpi/roenko/gluo_rotation_omp/results_hydra/inhom-Sym/logs/5x30x181sq   5x30x181sq  OBCb_cV  0.200000v  4.194            0                   0               0\n",
      "1851  /lustre/rrcmpi/roenko/gluo_rotation_omp/results_hydra/inhom-Sym/logs/5x30x181sq   5x30x181sq  OBCb_cV  0.200000v  4.202            0                   0               0\n",
      "1852  /lustre/rrcmpi/roenko/gluo_rotation_omp/results_hydra/inhom-Sym/logs/5x30x181sq   5x30x181sq  OBCb_cV  0.200000v  4.192            0                   0               0\n",
      "1853  /lustre/rrcmpi/roenko/gluo_rotation_omp/results_hydra/inhom-Sym/logs/5x30x181sq   5x30x181sq  OBCb_cV  0.200000v  4.204            0                   0               0\n",
      "1854  /lustre/rrcmpi/roenko/gluo_rotation_omp/results_hydra/inhom-Sym/logs/5x30x181sq   5x30x181sq  OBCb_cV  0.200000v  4.166            0                   0               0\n",
      "1855  /lustre/rrcmpi/roenko/gluo_rotation_omp/results_hydra/inhom-Sym/logs/5x30x181sq   5x30x181sq  OBCb_cV  0.200000v  4.176            0                   0               0\n",
      "1856  /lustre/rrcmpi/roenko/gluo_rotation_omp/results_hydra/inhom-Sym/logs/5x30x181sq   5x30x181sq  OBCb_cV  0.200000v  4.158            0                   0               0\n",
      "1857  /lustre/rrcmpi/roenko/gluo_rotation_omp/results_hydra/inhom-Sym/logs/5x30x181sq   5x30x181sq  OBCb_cV  0.200000v  4.214            0                   0               0\n",
      "1858  /lustre/rrcmpi/roenko/gluo_rotation_omp/results_hydra/inhom-Sym/logs/5x30x181sq   5x30x181sq  OBCb_cV  0.200000v  4.150            0                   0               0\n",
      "1859  /lustre/rrcmpi/roenko/gluo_rotation_omp/results_hydra/inhom-Sym/logs/5x30x181sq   5x30x181sq  OBCb_cV  0.200000v  4.182            0                   0               0\n",
      "1864  /lustre/rrcmpi/roenko/gluo_rotation_omp/results_hydra/inhom-Sym/logs/5x30x181sq   5x30x181sq   PBC_cV  0.400000v  4.050            0                   0               0\n",
      "1872  /lustre/rrcmpi/roenko/gluo_rotation_omp/results_hydra/inhom-Sym/logs/5x30x181sq   5x30x181sq   PBC_cV  0.400000v  4.030            0                   0               0\n",
      "1880  /lustre/rrcmpi/roenko/gluo_rotation_omp/results_hydra/inhom-Sym/logs/5x30x181sq   5x30x181sq   PBC_cV  0.400000v  4.230            0                   0               0\n"
     ]
    }
   ],
   "source": [
    "# betas with zero data\n",
    "df1 = df_data[~(df_data.duplicated(['lattice_size', 'boundary', 'velocity', 'beta'], keep=False))]\n",
    "df1 = df1[df1['observation_number'] == 0]\n",
    "print(df1.to_string())\n",
    "df1.to_csv(f'../../result/eos_rotation_imaginary/beta_zero.csv', index=False)"
   ]
  },
  {
   "cell_type": "code",
   "execution_count": 17,
   "metadata": {},
   "outputs": [
    {
     "name": "stdout",
     "output_type": "stream",
     "text": [
      "                                                                       lattice_dir lattice_size boundary     velocity  beta  file_number  observation_number  unblocked_data lattice_reduced\n",
      "3799  /lustre/rrcmpi/roenko/gluo_rotation_omp/results/test-script-X/logs/4x24x97sq    4x24x97sq   PBC_cV    0.600000v  4.25            9                 450              20         24x97sq\n",
      "3800  /lustre/rrcmpi/roenko/gluo_rotation_omp/results/test-script-X/logs/4x24x97sq    4x24x97sq   PBC_cV   0.4898976v  4.25           12                 600               7         24x97sq\n",
      "3801  /lustre/rrcmpi/roenko/gluo_rotation_omp/results/test-script-X/logs/4x24x97sq    4x24x97sq   PBC_cV          00v  4.25           20                1000               0         24x97sq\n",
      "3802  /lustre/rrcmpi/roenko/gluo_rotation_omp/results/test-script-X/logs/4x24x97sq    4x24x97sq   PBC_cV  0.20000016v  4.25           12                 600              14         24x97sq\n",
      "3803  /lustre/rrcmpi/roenko/gluo_rotation_omp/results/test-script-X/logs/4x24x97sq    4x24x97sq   PBC_cV  0.28284288v  4.25           12                 600              11         24x97sq\n",
      "3804  /lustre/rrcmpi/roenko/gluo_rotation_omp/results/test-script-X/logs/4x24x97sq    4x24x97sq   PBC_cV      0.6000v  4.25           12                 600              34         24x97sq\n",
      "3807  /lustre/rrcmpi/roenko/gluo_rotation_omp/results/test-script-X/logs/4x24x97sq    4x24x97sq   PBC_cV    0.489898v  4.25            4                 200              22         24x97sq\n",
      "3808  /lustre/rrcmpi/roenko/gluo_rotation_omp/results/test-script-X/logs/4x24x97sq    4x24x97sq   PBC_cV    0.529152v  4.25           24                1200               8         24x97sq\n",
      "3809  /lustre/rrcmpi/roenko/gluo_rotation_omp/results/test-script-X/logs/4x24x97sq    4x24x97sq   PBC_cV    0.282843v  4.25            4                 200              23         24x97sq\n"
     ]
    }
   ],
   "source": [
    "# beta without thermal counterpart in data\n",
    "df1 = df_data.copy()\n",
    "df1['lattice_reduced'] = df1['lattice_size'].apply(lambda x: x[x.find('x')+1:])\n",
    "df1 = df1[~(df1.duplicated(['lattice_reduced', 'boundary', 'velocity', 'beta'], keep=False))]\n",
    "df1 = df1[df1['observation_number'] >= 100]\n",
    "print(df1.to_string())\n",
    "df1.to_csv(f'../../result/eos_rotation_imaginary/beta_without_thermal_counterpart.csv', index=False)"
   ]
  },
  {
   "cell_type": "code",
   "execution_count": 18,
   "metadata": {},
   "outputs": [
    {
     "name": "stdout",
     "output_type": "stream",
     "text": [
      "                                                                         lattice_dir lattice_size boundary   velocity  beta  file_number  observation_number  unblocked_data\n",
      "15212  /home/clusters/rrcmpi/sychev/gluo_rotation/eos_run3/nt5lp_v1/confs/5x30x181sq   5x30x181sq   PBC_cV  0.663325v  4.36            0                   0               0\n",
      "15263   /home/clusters/rrcmpi/sychev/gluo_rotation/eos_run3/nt5lp_v1/logs/5x30x181sq   5x30x181sq   PBC_cV  0.663325v  4.36           42                2100               0\n",
      "     lattice_size boundary   velocity  beta\n",
      "4219   5x30x181sq   PBC_cV  0.663325v  4.36\n"
     ]
    }
   ],
   "source": [
    "print(df_data[(df_data['lattice_size'] == '5x30x181sq') & (df_data['boundary'] == 'PBC_cV') & (df_data['velocity'] == '0.663325v') & (df_data['beta'] == 4.36)].to_string())\n",
    "print(df_result[(df_result['lattice_size'] == '5x30x181sq') & (df_result['boundary'] == 'PBC_cV') & (df_result['velocity'] == '0.663325v') & (df_result['beta'] == 4.36)].to_string())"
   ]
  },
  {
   "cell_type": "code",
   "execution_count": 19,
   "metadata": {},
   "outputs": [
    {
     "name": "stdout",
     "output_type": "stream",
     "text": [
      "      lattice_size boundary   velocity  beta lattice_reduced\n",
      "3510   30x30x181sq   PBC_cV  0.400000v  4.13        30x181sq\n",
      "3517   30x30x181sq   PBC_cV  0.400000v  4.17        30x181sq\n",
      "3525   30x30x181sq   PBC_cV  0.400000v  4.14        30x181sq\n",
      "3526   30x30x181sq   PBC_cV  0.400000v  4.15        30x181sq\n",
      "11417   7x42x169sq   PBC_cV  0.663325v  4.16        42x169sq\n",
      "11429   7x42x169sq   PBC_cV  0.663325v  4.14        42x169sq\n"
     ]
    }
   ],
   "source": [
    "# beta without thermal counterpart in result\n",
    "df1 = df_result.copy()\n",
    "df1['lattice_reduced'] = df1['lattice_size'].apply(lambda x: x[x.find('x')+1:])\n",
    "df1 = df1[~(df1.duplicated(['lattice_reduced', 'boundary', 'velocity', 'beta'], keep=False))]\n",
    "print(df1.to_string())\n",
    "df1.to_csv(f'../../result/eos_rotation_imaginary/beta_without_thermal_counterpart.csv', index=False)"
   ]
  },
  {
   "cell_type": "code",
   "execution_count": 20,
   "metadata": {},
   "outputs": [
    {
     "name": "stdout",
     "output_type": "stream",
     "text": [
      "                                                                               lattice_dir lattice_size boundary     velocity  beta  file_number  observation_number  unblocked_data     _merge\n",
      "3741          /lustre/rrcmpi/roenko/gluo_rotation_omp/results/test-script-X/logs/4x24x97sq    4x24x97sq   PBC_cV    0.600000v  4.25            9                 450              20  left_only\n",
      "3742          /lustre/rrcmpi/roenko/gluo_rotation_omp/results/test-script-X/logs/4x24x97sq    4x24x97sq   PBC_cV   0.4898976v  4.25           12                 600               7  left_only\n",
      "3743          /lustre/rrcmpi/roenko/gluo_rotation_omp/results/test-script-X/logs/4x24x97sq    4x24x97sq   PBC_cV          00v  4.25           20                1000               0  left_only\n",
      "3744          /lustre/rrcmpi/roenko/gluo_rotation_omp/results/test-script-X/logs/4x24x97sq    4x24x97sq   PBC_cV  0.20000016v  4.25           12                 600              14  left_only\n",
      "3745          /lustre/rrcmpi/roenko/gluo_rotation_omp/results/test-script-X/logs/4x24x97sq    4x24x97sq   PBC_cV  0.28284288v  4.25           12                 600              11  left_only\n",
      "3746          /lustre/rrcmpi/roenko/gluo_rotation_omp/results/test-script-X/logs/4x24x97sq    4x24x97sq   PBC_cV      0.6000v  4.25           12                 600              34  left_only\n",
      "3747          /lustre/rrcmpi/roenko/gluo_rotation_omp/results/test-script-X/logs/4x24x97sq    4x24x97sq   PBC_cV    0.489898v  4.25            4                 200              22  left_only\n",
      "3748          /lustre/rrcmpi/roenko/gluo_rotation_omp/results/test-script-X/logs/4x24x97sq    4x24x97sq   PBC_cV    0.529152v  4.25           24                1200               8  left_only\n",
      "3749          /lustre/rrcmpi/roenko/gluo_rotation_omp/results/test-script-X/logs/4x24x97sq    4x24x97sq   PBC_cV    0.282843v  4.25            4                 200              23  left_only\n",
      "9133  /lustre/rrcmpi/roenko/sychev_hydra/gluo_rotation/eos_run3_p3/tmp/nt7p_d2/42x42x169sq  42x42x169sq   PBC_cV    0.663325v  4.14           36                 360               0  left_only\n",
      "9140  /lustre/rrcmpi/roenko/sychev_hydra/gluo_rotation/eos_run3_p3/tmp/nt7p_d2/42x42x169sq  42x42x169sq   PBC_cV    0.663325v  4.16           31                 310               0  left_only\n"
     ]
    }
   ],
   "source": [
    "# found in data but not found in result\n",
    "df_absent = df_data.drop_duplicates(['lattice_size', 'boundary', 'velocity', 'beta']).merge(df_result, on=['lattice_size', 'boundary', 'velocity', 'beta'], how='left', indicator=True)\n",
    "df_absent = df_absent[df_absent['_merge'] == 'left_only']\n",
    "df_absent = df_absent[df_absent['observation_number'] >= 100]\n",
    "print(df_absent.to_string())"
   ]
  },
  {
   "cell_type": "code",
   "execution_count": null,
   "metadata": {},
   "outputs": [],
   "source": []
  }
 ],
 "metadata": {
  "kernelspec": {
   "display_name": "python3.12",
   "language": "python",
   "name": "python3"
  },
  "language_info": {
   "codemirror_mode": {
    "name": "ipython",
    "version": 3
   },
   "file_extension": ".py",
   "mimetype": "text/x-python",
   "name": "python",
   "nbconvert_exporter": "python",
   "pygments_lexer": "ipython3",
   "version": "3.12.5"
  }
 },
 "nbformat": 4,
 "nbformat_minor": 2
}
