{
 "cells": [
  {
   "cell_type": "code",
   "execution_count": 1,
   "metadata": {},
   "outputs": [],
   "source": [
    "import pandas as pd\n",
    "import math\n",
    "import matplotlib.pyplot as plt\n",
    "import seaborn\n",
    "import os\n",
    "import numpy as np\n",
    "from scipy.optimize import curve_fit\n",
    "\n",
    "import decomposition\n",
    "import scaler\n",
    "import potential_data\n",
    "import plots\n",
    "import fit\n",
    "\n",
    "pd.options.mode.chained_assignment = None"
   ]
  },
  {
   "cell_type": "code",
   "execution_count": 2,
   "metadata": {},
   "outputs": [
    {
     "data": {
      "image/png": "[encoded data removed]",
      "text/plain": [
       "<Figure size 667.975x360 with 1 Axes>"
      ]
     },
     "metadata": {
      "needs_background": "light"
     },
     "output_type": "display_data"
    },
    {
     "name": "stdout",
     "output_type": "stream",
     "text": [
      "../../images/potential/su3/gluodynamics/decomposition/original_sum_beta\n"
     ]
    }
   ],
   "source": [
    "path1 = '../../result/potential/wilson_loop/fundamental/on-axis/su3/gluodynamics'\n",
    "paths = [{'original': {'path' : f'{path1}/24^4/beta6.0/HYP0_APE_alpha=0.5/potential_original.csv', 'parameters': {'beta': 6.0, 'name': 'SU(3)'}, 'constraints': {'r/a': (1, 12), 'T': (1, 12)}},\n",
    "        'monopole': {'path' : f'{path1}/24^4/beta6.0/HYP0_APE_alpha=0.5/steps_500/copies=4/potential_monopole.csv', 'parameters': {'beta': 6.0, 'name': 'mon'}, 'constraints': {'r/a': (1, 12), 'T': (11, 11)}},\n",
    "        'monopoless': {'path' : f'{path1}/24^4/beta6.0/HYP0_APE_alpha=0.5/steps_500/copies=4/potential_monopoless.csv', 'parameters': {'beta': 6.0, 'name': 'mod'}, 'constraints': {'r/a': (1, 12), 'T': (8, 8)}}},\n",
    "        {'original': {'path' : f'{path1}/28^4/beta6.1/HYP0_APE_alpha=0.5/potential_original.csv', 'parameters': {'beta': 6.1, 'name': 'SU(3)'}, 'constraints': {'r/a': (1, 14), 'T': (1, 14)}},\n",
    "        'monopole': {'path' : f'{path1}/28^4/beta6.1/HYP0_APE_alpha=0.5/steps_500/copies=3/potential_monopole.csv', 'parameters': {'beta': 6.1, 'name': 'mon'}, 'constraints': {'r/a': (1, 14), 'T': (13, 13)}},\n",
    "        'monopoless': {'path' : f'{path1}/28^4/beta6.1/HYP0_APE_alpha=0.5/steps_500/copies=3/potential_monopoless.csv', 'parameters': {'beta': 6.1, 'name': 'mod'}, 'constraints': {'r/a': (1, 14), 'T': (8, 8)}}},\n",
    "        {'original': {'path' : f'{path1}/32^4/beta6.2/HYP0_APE_alpha=0.5/potential_original.csv', 'parameters': {'beta': 6.2, 'name': 'SU(3)'}, 'constraints': {'r/a': (1, 16), 'T': (1, 16)}},\n",
    "        'monopole': {'path' : f'{path1}/32^4/beta6.2/HYP0_APE_alpha=0.5/steps_500/copies=3/potential_monopole.csv', 'parameters': {'beta': 6.2, 'name': 'mon'}, 'constraints': {'r/a': (1, 16), 'T': (15, 15)}},\n",
    "        'monopoless': {'path' : f'{path1}/32^4/beta6.2/HYP0_APE_alpha=0.5/steps_500/copies=3/potential_monopoless.csv', 'parameters': {'beta': 6.2, 'name': 'mod'}, 'constraints': {'r/a': (1, 16), 'T': (8, 8)}}},\n",
    "        {'original': {'path' : f'{path1}/36^4/beta6.3/HYP0_APE_alpha=0.5/potential_original.csv', 'parameters': {'beta': 6.3, 'name': 'SU(3)'}, 'constraints': {'r/a': (1, 18), 'T': (1, 18)}},\n",
    "        'monopole': {'path' : f'{path1}/36^4/beta6.3/HYP0_APE_alpha=0.5/steps_500/copies=4/potential_monopole.csv', 'parameters': {'beta': 6.3, 'name': 'mon'}, 'constraints': {'r/a': (1, 18), 'T': (17, 17)}},\n",
    "        'monopoless': {'path' : f'{path1}/36^4/beta6.3/HYP0_APE_alpha=0.5/steps_500/copies=4/potential_monopoless.csv', 'parameters': {'beta': 6.3, 'name': 'mod'}, 'constraints': {'r/a': (1, 18), 'T': (8, 8)}}}]\n",
    "data_beta = []\n",
    "for path in paths:\n",
    "    data = potential_data.DataDecomposition(path)\n",
    "    data.fit_original_T((2, 8))\n",
    "    data.df = data.df.drop('T', axis = 1)\n",
    "    data.find_sum('monopole', 'monopoless')\n",
    "    data.remove_from_plot(['monopole', 'monopoless'])\n",
    "    r0 = scaler.get_r0(path['original']['parameters']['beta'])\n",
    "    data.scale_potentials(r0)\n",
    "    popt, pcov = fit.fit_single(data.df[data.df['potential_type'] == 'original'], (3*r0, 18*r0), fit.func_quark_potential)\n",
    "    data.df['aV(r)'] = data.df['aV(r)'] - fit.func_quark_potential(0.5, *popt)\n",
    "    data_beta.append(data.df)\n",
    "data_beta = pd.concat(data_beta)\n",
    "data_beta.loc[data_beta['beta'] == 6.0, 'marker'] = 'v'\n",
    "data_beta.loc[data_beta['beta'] == 6.1, 'marker'] = '^'\n",
    "data_beta.loc[data_beta['beta'] == 6.2, 'marker'] = 'o'\n",
    "data_beta.loc[data_beta['beta'] == 6.3, 'marker'] = 's'\n",
    "# print(data_beta)\n",
    "plots.plot_potential_err_markers(data_beta, 'r/a', 'aV(r)', 'err', ['name', 'beta'], 'r/a', 'aV(r)', 'original potential', f'../../images/potential/su3/gluodynamics/decomposition', 'original_sum_beta', True)\n"
   ]
  },
  {
   "cell_type": "code",
   "execution_count": 3,
   "metadata": {},
   "outputs": [],
   "source": [
    "def get_latttice_size_su3(beta):\n",
    "    return 0.5 * scaler.get_r0(beta)\n",
    "\n",
    "def get_lattice_size(beta, size):\n",
    "    return get_latttice_size_su3(beta) * size"
   ]
  },
  {
   "cell_type": "code",
   "execution_count": 8,
   "metadata": {},
   "outputs": [
    {
     "name": "stdout",
     "output_type": "stream",
     "text": [
      "0.09314972067846226\n",
      "2.2355932962830942\n",
      "0.07890971086555033\n",
      "2.2094719042354094\n",
      "0.06772407288164212\n",
      "2.1671703322125477\n",
      "0.058730753445411295\n",
      "2.1143071240348066\n"
     ]
    }
   ],
   "source": [
    "beta_arr = [6, 6.1, 6.2, 6.3]\n",
    "size_arr = [24, 28, 32, 36]\n",
    "for i in range(len(beta_arr)):\n",
    "    print(get_latttice_size_su3(beta_arr[i]))\n",
    "    print(get_lattice_size(beta_arr[i], size_arr[i]))"
   ]
  },
  {
   "cell_type": "code",
   "execution_count": 9,
   "metadata": {},
   "outputs": [
    {
     "name": "stdout",
     "output_type": "stream",
     "text": [
      "5.367702622812138\n"
     ]
    },
    {
     "ename": "FileNotFoundError",
     "evalue": "[Errno 2] No such file or directory: '../../result/potential/wilson_loop/fundamental/su3/gluodynamics/24^4/beta6.0/HYP0_alpha=1_1_0.5_APE_alpha=0.5/potential/potential_original.csv'",
     "output_type": "error",
     "traceback": [
      "\u001b[0;31m---------------------------------------------------------------------------\u001b[0m",
      "\u001b[0;31mFileNotFoundError\u001b[0m                         Traceback (most recent call last)",
      "\u001b[0;32m<ipython-input-9-3bf1227a2b1a>\u001b[0m in \u001b[0;36m<module>\u001b[0;34m\u001b[0m\n\u001b[1;32m     19\u001b[0m \u001b[0mterm\u001b[0m \u001b[0;34m=\u001b[0m \u001b[0;34m'mon+mod'\u001b[0m\u001b[0;34m\u001b[0m\u001b[0;34m\u001b[0m\u001b[0m\n\u001b[1;32m     20\u001b[0m \u001b[0;34m\u001b[0m\u001b[0m\n\u001b[0;32m---> 21\u001b[0;31m \u001b[0mdecomposition\u001b[0m\u001b[0;34m.\u001b[0m\u001b[0mpotential_together_shifted\u001b[0m\u001b[0;34m(\u001b[0m\u001b[0mpaths\u001b[0m\u001b[0;34m,\u001b[0m \u001b[0;34mf'../../images/potential/together/su3/gluodynamics/beta_dependence'\u001b[0m\u001b[0;34m,\u001b[0m \u001b[0;34mf'potential_mon_mod'\u001b[0m\u001b[0;34m,\u001b[0m \u001b[0my_lims\u001b[0m\u001b[0;34m,\u001b[0m \u001b[0;32mFalse\u001b[0m\u001b[0;34m,\u001b[0m \u001b[0mremove_from_plot\u001b[0m\u001b[0;34m,\u001b[0m \u001b[0;32mFalse\u001b[0m\u001b[0;34m,\u001b[0m \u001b[0mterm\u001b[0m\u001b[0;34m,\u001b[0m \u001b[0;34m'sum'\u001b[0m\u001b[0;34m)\u001b[0m\u001b[0;34m\u001b[0m\u001b[0;34m\u001b[0m\u001b[0m\n\u001b[0m",
      "\u001b[0;32m~/soft/lattice/observables/python_jupyter/potential/decomposition.py\u001b[0m in \u001b[0;36mpotential_together_shifted\u001b[0;34m(paths, image_path, image_name, y_lims, fit_original, remove_from_plot, black_colors, term, title)\u001b[0m\n\u001b[1;32m    292\u001b[0m         \u001b[0mr0\u001b[0m \u001b[0;34m=\u001b[0m \u001b[0mscaler\u001b[0m\u001b[0;34m.\u001b[0m\u001b[0mget_r0\u001b[0m\u001b[0;34m(\u001b[0m\u001b[0mbeta\u001b[0m\u001b[0;34m)\u001b[0m\u001b[0;34m\u001b[0m\u001b[0;34m\u001b[0m\u001b[0m\n\u001b[1;32m    293\u001b[0m         \u001b[0mprint\u001b[0m\u001b[0;34m(\u001b[0m\u001b[0;36m1\u001b[0m \u001b[0;34m/\u001b[0m \u001b[0mr0\u001b[0m\u001b[0;34m)\u001b[0m\u001b[0;34m\u001b[0m\u001b[0;34m\u001b[0m\u001b[0m\n\u001b[0;32m--> 294\u001b[0;31m         d, d_fit = get_potential_beta_shift(\n\u001b[0m\u001b[1;32m    295\u001b[0m             path['data'], fit_original, r0, path['fit_range'], remove_from_plot)\n\u001b[1;32m    296\u001b[0m         \u001b[0mdata\u001b[0m\u001b[0;34m.\u001b[0m\u001b[0mappend\u001b[0m\u001b[0;34m(\u001b[0m\u001b[0md\u001b[0m\u001b[0;34m)\u001b[0m\u001b[0;34m\u001b[0m\u001b[0;34m\u001b[0m\u001b[0m\n",
      "\u001b[0;32m~/soft/lattice/observables/python_jupyter/potential/decomposition.py\u001b[0m in \u001b[0;36mget_potential_beta_shift\u001b[0;34m(paths, fit_original, r0, fit_range, remove_from_plot)\u001b[0m\n\u001b[1;32m    211\u001b[0m \u001b[0;34m\u001b[0m\u001b[0m\n\u001b[1;32m    212\u001b[0m \u001b[0;32mdef\u001b[0m \u001b[0mget_potential_beta_shift\u001b[0m\u001b[0;34m(\u001b[0m\u001b[0mpaths\u001b[0m\u001b[0;34m,\u001b[0m \u001b[0mfit_original\u001b[0m\u001b[0;34m,\u001b[0m \u001b[0mr0\u001b[0m\u001b[0;34m,\u001b[0m \u001b[0mfit_range\u001b[0m\u001b[0;34m,\u001b[0m \u001b[0mremove_from_plot\u001b[0m\u001b[0;34m)\u001b[0m\u001b[0;34m:\u001b[0m\u001b[0;34m\u001b[0m\u001b[0;34m\u001b[0m\u001b[0m\n\u001b[0;32m--> 213\u001b[0;31m     \u001b[0mdata\u001b[0m \u001b[0;34m=\u001b[0m \u001b[0mpotential_data\u001b[0m\u001b[0;34m.\u001b[0m\u001b[0mread_data_potential\u001b[0m\u001b[0;34m(\u001b[0m\u001b[0mpaths\u001b[0m\u001b[0;34m)\u001b[0m\u001b[0;34m\u001b[0m\u001b[0;34m\u001b[0m\u001b[0m\n\u001b[0m\u001b[1;32m    214\u001b[0m     \u001b[0mdata1\u001b[0m \u001b[0;34m=\u001b[0m \u001b[0;34m[\u001b[0m\u001b[0;34m]\u001b[0m\u001b[0;34m\u001b[0m\u001b[0;34m\u001b[0m\u001b[0m\n\u001b[1;32m    215\u001b[0m     \u001b[0;32mfor\u001b[0m \u001b[0mtype\u001b[0m\u001b[0;34m,\u001b[0m \u001b[0mpath\u001b[0m \u001b[0;32min\u001b[0m \u001b[0mpaths\u001b[0m\u001b[0;34m.\u001b[0m\u001b[0mitems\u001b[0m\u001b[0;34m(\u001b[0m\u001b[0;34m)\u001b[0m\u001b[0;34m:\u001b[0m\u001b[0;34m\u001b[0m\u001b[0;34m\u001b[0m\u001b[0m\n",
      "\u001b[0;32m~/soft/lattice/observables/python_jupyter/potential/potential_data.py\u001b[0m in \u001b[0;36mread_data_potential\u001b[0;34m(paths)\u001b[0m\n\u001b[1;32m    210\u001b[0m     \u001b[0mdata\u001b[0m \u001b[0;34m=\u001b[0m \u001b[0;34m[\u001b[0m\u001b[0;34m]\u001b[0m\u001b[0;34m\u001b[0m\u001b[0;34m\u001b[0m\u001b[0m\n\u001b[1;32m    211\u001b[0m     \u001b[0;32mfor\u001b[0m \u001b[0mtype\u001b[0m\u001b[0;34m,\u001b[0m \u001b[0mpath\u001b[0m \u001b[0;32min\u001b[0m \u001b[0mpaths\u001b[0m\u001b[0;34m.\u001b[0m\u001b[0mitems\u001b[0m\u001b[0;34m(\u001b[0m\u001b[0;34m)\u001b[0m\u001b[0;34m:\u001b[0m\u001b[0;34m\u001b[0m\u001b[0;34m\u001b[0m\u001b[0m\n\u001b[0;32m--> 212\u001b[0;31m         \u001b[0mdata\u001b[0m\u001b[0;34m.\u001b[0m\u001b[0mappend\u001b[0m\u001b[0;34m(\u001b[0m\u001b[0mpd\u001b[0m\u001b[0;34m.\u001b[0m\u001b[0mread_csv\u001b[0m\u001b[0;34m(\u001b[0m\u001b[0mpath\u001b[0m\u001b[0;34m[\u001b[0m\u001b[0;34m'path'\u001b[0m\u001b[0;34m]\u001b[0m\u001b[0;34m,\u001b[0m \u001b[0mindex_col\u001b[0m\u001b[0;34m=\u001b[0m\u001b[0;32mNone\u001b[0m\u001b[0;34m)\u001b[0m\u001b[0;34m)\u001b[0m\u001b[0;34m\u001b[0m\u001b[0;34m\u001b[0m\u001b[0m\n\u001b[0m\u001b[1;32m    213\u001b[0m         \u001b[0mdata\u001b[0m\u001b[0;34m[\u001b[0m\u001b[0;34m-\u001b[0m\u001b[0;36m1\u001b[0m\u001b[0;34m]\u001b[0m\u001b[0;34m.\u001b[0m\u001b[0mreset_index\u001b[0m\u001b[0;34m(\u001b[0m\u001b[0mdrop\u001b[0m\u001b[0;34m=\u001b[0m\u001b[0;32mTrue\u001b[0m\u001b[0;34m,\u001b[0m \u001b[0minplace\u001b[0m\u001b[0;34m=\u001b[0m\u001b[0;32mTrue\u001b[0m\u001b[0;34m)\u001b[0m\u001b[0;34m\u001b[0m\u001b[0;34m\u001b[0m\u001b[0m\n\u001b[1;32m    214\u001b[0m         \u001b[0;32mif\u001b[0m \u001b[0;34m'constraints'\u001b[0m \u001b[0;32min\u001b[0m \u001b[0mpath\u001b[0m\u001b[0;34m:\u001b[0m\u001b[0;34m\u001b[0m\u001b[0;34m\u001b[0m\u001b[0m\n",
      "\u001b[0;32m~/.local/lib/python3.8/site-packages/pandas/util/_decorators.py\u001b[0m in \u001b[0;36mwrapper\u001b[0;34m(*args, **kwargs)\u001b[0m\n\u001b[1;32m    209\u001b[0m                 \u001b[0;32melse\u001b[0m\u001b[0;34m:\u001b[0m\u001b[0;34m\u001b[0m\u001b[0;34m\u001b[0m\u001b[0m\n\u001b[1;32m    210\u001b[0m                     \u001b[0mkwargs\u001b[0m\u001b[0;34m[\u001b[0m\u001b[0mnew_arg_name\u001b[0m\u001b[0;34m]\u001b[0m \u001b[0;34m=\u001b[0m \u001b[0mnew_arg_value\u001b[0m\u001b[0;34m\u001b[0m\u001b[0;34m\u001b[0m\u001b[0m\n\u001b[0;32m--> 211\u001b[0;31m             \u001b[0;32mreturn\u001b[0m \u001b[0mfunc\u001b[0m\u001b[0;34m(\u001b[0m\u001b[0;34m*\u001b[0m\u001b[0margs\u001b[0m\u001b[0;34m,\u001b[0m \u001b[0;34m**\u001b[0m\u001b[0mkwargs\u001b[0m\u001b[0;34m)\u001b[0m\u001b[0;34m\u001b[0m\u001b[0;34m\u001b[0m\u001b[0m\n\u001b[0m\u001b[1;32m    212\u001b[0m \u001b[0;34m\u001b[0m\u001b[0m\n\u001b[1;32m    213\u001b[0m         \u001b[0;32mreturn\u001b[0m \u001b[0mcast\u001b[0m\u001b[0;34m(\u001b[0m\u001b[0mF\u001b[0m\u001b[0;34m,\u001b[0m \u001b[0mwrapper\u001b[0m\u001b[0;34m)\u001b[0m\u001b[0;34m\u001b[0m\u001b[0;34m\u001b[0m\u001b[0m\n",
      "\u001b[0;32m~/.local/lib/python3.8/site-packages/pandas/util/_decorators.py\u001b[0m in \u001b[0;36mwrapper\u001b[0;34m(*args, **kwargs)\u001b[0m\n\u001b[1;32m    329\u001b[0m                     \u001b[0mstacklevel\u001b[0m\u001b[0;34m=\u001b[0m\u001b[0mfind_stack_level\u001b[0m\u001b[0;34m(\u001b[0m\u001b[0;34m)\u001b[0m\u001b[0;34m,\u001b[0m\u001b[0;34m\u001b[0m\u001b[0;34m\u001b[0m\u001b[0m\n\u001b[1;32m    330\u001b[0m                 )\n\u001b[0;32m--> 331\u001b[0;31m             \u001b[0;32mreturn\u001b[0m \u001b[0mfunc\u001b[0m\u001b[0;34m(\u001b[0m\u001b[0;34m*\u001b[0m\u001b[0margs\u001b[0m\u001b[0;34m,\u001b[0m \u001b[0;34m**\u001b[0m\u001b[0mkwargs\u001b[0m\u001b[0;34m)\u001b[0m\u001b[0;34m\u001b[0m\u001b[0;34m\u001b[0m\u001b[0m\n\u001b[0m\u001b[1;32m    332\u001b[0m \u001b[0;34m\u001b[0m\u001b[0m\n\u001b[1;32m    333\u001b[0m         \u001b[0;31m# error: \"Callable[[VarArg(Any), KwArg(Any)], Any]\" has no\u001b[0m\u001b[0;34m\u001b[0m\u001b[0;34m\u001b[0m\u001b[0;34m\u001b[0m\u001b[0m\n",
      "\u001b[0;32m~/.local/lib/python3.8/site-packages/pandas/io/parsers/readers.py\u001b[0m in \u001b[0;36mread_csv\u001b[0;34m(filepath_or_buffer, sep, delimiter, header, names, index_col, usecols, squeeze, prefix, mangle_dupe_cols, dtype, engine, converters, true_values, false_values, skipinitialspace, skiprows, skipfooter, nrows, na_values, keep_default_na, na_filter, verbose, skip_blank_lines, parse_dates, infer_datetime_format, keep_date_col, date_parser, dayfirst, cache_dates, iterator, chunksize, compression, thousands, decimal, lineterminator, quotechar, quoting, doublequote, escapechar, comment, encoding, encoding_errors, dialect, error_bad_lines, warn_bad_lines, on_bad_lines, delim_whitespace, low_memory, memory_map, float_precision, storage_options)\u001b[0m\n\u001b[1;32m    948\u001b[0m     \u001b[0mkwds\u001b[0m\u001b[0;34m.\u001b[0m\u001b[0mupdate\u001b[0m\u001b[0;34m(\u001b[0m\u001b[0mkwds_defaults\u001b[0m\u001b[0;34m)\u001b[0m\u001b[0;34m\u001b[0m\u001b[0;34m\u001b[0m\u001b[0m\n\u001b[1;32m    949\u001b[0m \u001b[0;34m\u001b[0m\u001b[0m\n\u001b[0;32m--> 950\u001b[0;31m     \u001b[0;32mreturn\u001b[0m \u001b[0m_read\u001b[0m\u001b[0;34m(\u001b[0m\u001b[0mfilepath_or_buffer\u001b[0m\u001b[0;34m,\u001b[0m \u001b[0mkwds\u001b[0m\u001b[0;34m)\u001b[0m\u001b[0;34m\u001b[0m\u001b[0;34m\u001b[0m\u001b[0m\n\u001b[0m\u001b[1;32m    951\u001b[0m \u001b[0;34m\u001b[0m\u001b[0m\n\u001b[1;32m    952\u001b[0m \u001b[0;34m\u001b[0m\u001b[0m\n",
      "\u001b[0;32m~/.local/lib/python3.8/site-packages/pandas/io/parsers/readers.py\u001b[0m in \u001b[0;36m_read\u001b[0;34m(filepath_or_buffer, kwds)\u001b[0m\n\u001b[1;32m    603\u001b[0m \u001b[0;34m\u001b[0m\u001b[0m\n\u001b[1;32m    604\u001b[0m     \u001b[0;31m# Create the parser.\u001b[0m\u001b[0;34m\u001b[0m\u001b[0;34m\u001b[0m\u001b[0;34m\u001b[0m\u001b[0m\n\u001b[0;32m--> 605\u001b[0;31m     \u001b[0mparser\u001b[0m \u001b[0;34m=\u001b[0m \u001b[0mTextFileReader\u001b[0m\u001b[0;34m(\u001b[0m\u001b[0mfilepath_or_buffer\u001b[0m\u001b[0;34m,\u001b[0m \u001b[0;34m**\u001b[0m\u001b[0mkwds\u001b[0m\u001b[0;34m)\u001b[0m\u001b[0;34m\u001b[0m\u001b[0;34m\u001b[0m\u001b[0m\n\u001b[0m\u001b[1;32m    606\u001b[0m \u001b[0;34m\u001b[0m\u001b[0m\n\u001b[1;32m    607\u001b[0m     \u001b[0;32mif\u001b[0m \u001b[0mchunksize\u001b[0m \u001b[0;32mor\u001b[0m \u001b[0miterator\u001b[0m\u001b[0;34m:\u001b[0m\u001b[0;34m\u001b[0m\u001b[0;34m\u001b[0m\u001b[0m\n",
      "\u001b[0;32m~/.local/lib/python3.8/site-packages/pandas/io/parsers/readers.py\u001b[0m in \u001b[0;36m__init__\u001b[0;34m(self, f, engine, **kwds)\u001b[0m\n\u001b[1;32m   1440\u001b[0m \u001b[0;34m\u001b[0m\u001b[0m\n\u001b[1;32m   1441\u001b[0m         \u001b[0mself\u001b[0m\u001b[0;34m.\u001b[0m\u001b[0mhandles\u001b[0m\u001b[0;34m:\u001b[0m \u001b[0mIOHandles\u001b[0m \u001b[0;34m|\u001b[0m \u001b[0;32mNone\u001b[0m \u001b[0;34m=\u001b[0m \u001b[0;32mNone\u001b[0m\u001b[0;34m\u001b[0m\u001b[0;34m\u001b[0m\u001b[0m\n\u001b[0;32m-> 1442\u001b[0;31m         \u001b[0mself\u001b[0m\u001b[0;34m.\u001b[0m\u001b[0m_engine\u001b[0m \u001b[0;34m=\u001b[0m \u001b[0mself\u001b[0m\u001b[0;34m.\u001b[0m\u001b[0m_make_engine\u001b[0m\u001b[0;34m(\u001b[0m\u001b[0mf\u001b[0m\u001b[0;34m,\u001b[0m \u001b[0mself\u001b[0m\u001b[0;34m.\u001b[0m\u001b[0mengine\u001b[0m\u001b[0;34m)\u001b[0m\u001b[0;34m\u001b[0m\u001b[0;34m\u001b[0m\u001b[0m\n\u001b[0m\u001b[1;32m   1443\u001b[0m \u001b[0;34m\u001b[0m\u001b[0m\n\u001b[1;32m   1444\u001b[0m     \u001b[0;32mdef\u001b[0m \u001b[0mclose\u001b[0m\u001b[0;34m(\u001b[0m\u001b[0mself\u001b[0m\u001b[0;34m)\u001b[0m \u001b[0;34m->\u001b[0m \u001b[0;32mNone\u001b[0m\u001b[0;34m:\u001b[0m\u001b[0;34m\u001b[0m\u001b[0;34m\u001b[0m\u001b[0m\n",
      "\u001b[0;32m~/.local/lib/python3.8/site-packages/pandas/io/parsers/readers.py\u001b[0m in \u001b[0;36m_make_engine\u001b[0;34m(self, f, engine)\u001b[0m\n\u001b[1;32m   1733\u001b[0m                 \u001b[0;32mif\u001b[0m \u001b[0;34m\"b\"\u001b[0m \u001b[0;32mnot\u001b[0m \u001b[0;32min\u001b[0m \u001b[0mmode\u001b[0m\u001b[0;34m:\u001b[0m\u001b[0;34m\u001b[0m\u001b[0;34m\u001b[0m\u001b[0m\n\u001b[1;32m   1734\u001b[0m                     \u001b[0mmode\u001b[0m \u001b[0;34m+=\u001b[0m \u001b[0;34m\"b\"\u001b[0m\u001b[0;34m\u001b[0m\u001b[0;34m\u001b[0m\u001b[0m\n\u001b[0;32m-> 1735\u001b[0;31m             self.handles = get_handle(\n\u001b[0m\u001b[1;32m   1736\u001b[0m                 \u001b[0mf\u001b[0m\u001b[0;34m,\u001b[0m\u001b[0;34m\u001b[0m\u001b[0;34m\u001b[0m\u001b[0m\n\u001b[1;32m   1737\u001b[0m                 \u001b[0mmode\u001b[0m\u001b[0;34m,\u001b[0m\u001b[0;34m\u001b[0m\u001b[0;34m\u001b[0m\u001b[0m\n",
      "\u001b[0;32m~/.local/lib/python3.8/site-packages/pandas/io/common.py\u001b[0m in \u001b[0;36mget_handle\u001b[0;34m(path_or_buf, mode, encoding, compression, memory_map, is_text, errors, storage_options)\u001b[0m\n\u001b[1;32m    854\u001b[0m         \u001b[0;32mif\u001b[0m \u001b[0mioargs\u001b[0m\u001b[0;34m.\u001b[0m\u001b[0mencoding\u001b[0m \u001b[0;32mand\u001b[0m \u001b[0;34m\"b\"\u001b[0m \u001b[0;32mnot\u001b[0m \u001b[0;32min\u001b[0m \u001b[0mioargs\u001b[0m\u001b[0;34m.\u001b[0m\u001b[0mmode\u001b[0m\u001b[0;34m:\u001b[0m\u001b[0;34m\u001b[0m\u001b[0;34m\u001b[0m\u001b[0m\n\u001b[1;32m    855\u001b[0m             \u001b[0;31m# Encoding\u001b[0m\u001b[0;34m\u001b[0m\u001b[0;34m\u001b[0m\u001b[0;34m\u001b[0m\u001b[0m\n\u001b[0;32m--> 856\u001b[0;31m             handle = open(\n\u001b[0m\u001b[1;32m    857\u001b[0m                 \u001b[0mhandle\u001b[0m\u001b[0;34m,\u001b[0m\u001b[0;34m\u001b[0m\u001b[0;34m\u001b[0m\u001b[0m\n\u001b[1;32m    858\u001b[0m                 \u001b[0mioargs\u001b[0m\u001b[0;34m.\u001b[0m\u001b[0mmode\u001b[0m\u001b[0;34m,\u001b[0m\u001b[0;34m\u001b[0m\u001b[0;34m\u001b[0m\u001b[0m\n",
      "\u001b[0;31mFileNotFoundError\u001b[0m: [Errno 2] No such file or directory: '../../result/potential/wilson_loop/fundamental/su3/gluodynamics/24^4/beta6.0/HYP0_alpha=1_1_0.5_APE_alpha=0.5/potential/potential_original.csv'"
     ]
    }
   ],
   "source": [
    "path1 = '../../result/potential/wilson_loop/fundamental/su3/gluodynamics'\n",
    "params = 'steps_500/copies=3'\n",
    "compensate = 'compensate_1'\n",
    "r_max = 18\n",
    "T_max = 11\n",
    "y_lims = (-2, 3)\n",
    "constraints = {'r/a': (1, r_max), 'T': (1, T_max)}\n",
    "paths = []\n",
    "# param_arr = ['steps_25/copies=4', 'steps_50/copies=4',\n",
    "#              'steps_100/copies=4', 'steps_200/copies=4',\n",
    "#              'steps_1000/copies=4', 'steps_2000/copies=4']\n",
    "param_arr = ['steps_25/copies=4']\n",
    "for params in param_arr:\n",
    "    paths.append({'beta': 6.0, 'fit_range': (2, 12),\n",
    "        'data': {'original': {'name' : 'SU3', 'path' : f'{path1}/24^4/beta6.0/HYP0_APE_alpha=0.5/potential/potential_original.csv', 'T' : 6, 'constraints': {'r/a': (1, 11), 'T': (1, 11)}},\n",
    "        'monopole': {'name' : 'mon', 'path' : f'{path1}/24^4/beta6.0/HYP0_APE_alpha=0.5/{params}/potential/potential_monopole.csv', 'T' : 11, 'constraints': {'r/a': (1, 11), 'T': (1, 11)}},\n",
    "        'monopoless': {'name' : 'mod', 'path' : f'{path1}/24^4/beta6.0/HYP0_APE_alpha=0.5/{params}/potential/potential_monopoless.csv', 'T' : 8, 'constraints': {'r/a': (1, 11), 'T': (1, 11)}}}})\n",
    "remove_from_plot = ['monopole', 'monopoless']\n",
    "term = 'mon+mod'\n",
    "\n",
    "decomposition.potential_together_shifted(paths, f'../../images/potential/together/su3/gluodynamics/beta_dependence', f'potential_mon_mod', y_lims, False, remove_from_plot, False, term, 'sum')"
   ]
  },
  {
   "cell_type": "code",
   "execution_count": 2,
   "metadata": {},
   "outputs": [
    {
     "ename": "AttributeError",
     "evalue": "module 'decomposition' has no attribute 'potential_together_shifted'",
     "output_type": "error",
     "traceback": [
      "\u001b[0;31m---------------------------------------------------------------------------\u001b[0m",
      "\u001b[0;31mAttributeError\u001b[0m                            Traceback (most recent call last)",
      "\u001b[0;32m<ipython-input-2-1e399c4f212b>\u001b[0m in \u001b[0;36m<module>\u001b[0;34m\u001b[0m\n\u001b[1;32m     26\u001b[0m \u001b[0mterm\u001b[0m \u001b[0;34m=\u001b[0m \u001b[0;34m'mon+mod'\u001b[0m\u001b[0;34m\u001b[0m\u001b[0;34m\u001b[0m\u001b[0m\n\u001b[1;32m     27\u001b[0m \u001b[0;34m\u001b[0m\u001b[0m\n\u001b[0;32m---> 28\u001b[0;31m \u001b[0mdecomposition\u001b[0m\u001b[0;34m.\u001b[0m\u001b[0mpotential_together_shifted\u001b[0m\u001b[0;34m(\u001b[0m\u001b[0mpaths\u001b[0m\u001b[0;34m,\u001b[0m \u001b[0;34mf'../../images/potential/together/su3/gluodynamics/beta_dependence'\u001b[0m\u001b[0;34m,\u001b[0m \u001b[0;34mf'potential_mon_mod'\u001b[0m\u001b[0;34m,\u001b[0m \u001b[0my_lims\u001b[0m\u001b[0;34m,\u001b[0m \u001b[0;32mFalse\u001b[0m\u001b[0;34m,\u001b[0m \u001b[0mremove_from_plot\u001b[0m\u001b[0;34m,\u001b[0m \u001b[0;32mFalse\u001b[0m\u001b[0;34m,\u001b[0m \u001b[0mterm\u001b[0m\u001b[0;34m,\u001b[0m \u001b[0;34m'sum'\u001b[0m\u001b[0;34m)\u001b[0m\u001b[0;34m\u001b[0m\u001b[0;34m\u001b[0m\u001b[0m\n\u001b[0m",
      "\u001b[0;31mAttributeError\u001b[0m: module 'decomposition' has no attribute 'potential_together_shifted'"
     ]
    }
   ],
   "source": [
    "path1 = '../../result/potential/wilson_loop/fundamental/su3/gluodynamics'\n",
    "params = 'steps_500/copies=3'\n",
    "compensate = 'compensate_1'\n",
    "r_max = 18\n",
    "T_max = 11\n",
    "y_lims = (-2, 3)\n",
    "constraints = {'r/a': (1, r_max), 'T': (1, T_max)}\n",
    "paths = [{'beta': 6.0, 'fit_range': (2, 12),\n",
    "        'data': {'original': {'name' : 'SU3', 'path' : f'{path1}/24^4/beta6.0/HYP0_alpha=1_1_0.5_APE_alpha=0.5/potential/potential_original.csv', 'constraints': {'r/a': (1, 12), 'T': (1, 12)}},\n",
    "        'monopole': {'name' : 'mon', 'path' : f'{path1}/24^4/beta6.0/HYP0_alpha=1_1_0.5_APE_alpha=0.5/{params}/{compensate}/potential/potential_monopole.csv', 'T' : 11, 'constraints': {'r/a': (1, 12), 'T': (1, 12)}},\n",
    "        'monopoless': {'name' : 'mod', 'path' : f'{path1}/24^4/beta6.0/HYP0_alpha=1_1_0.5_APE_alpha=0.5/{params}/{compensate}/potential/potential_monopoless.csv', 'T' : 8, 'constraints': {'r/a': (1, 12), 'T': (1, 12)}}}},\n",
    "        {'beta': 6.1, 'fit_range': (2, 14),\n",
    "        'data': {'original': {'name' : 'SU3', 'path' : f'{path1}/28^4/beta6.1/HYP0_alpha=1_1_0.5_APE_alpha=0.5/potential/potential_original.csv', 'constraints': {'r/a': (1, 14), 'T': (1, 13)}},\n",
    "        'monopole': {'name' : 'mon', 'path' : f'{path1}/28^4/beta6.1/HYP0_alpha=1_1_0.5_APE_alpha=0.5/{params}/{compensate}/potential/potential_monopole.csv', 'T' : 11, 'constraints': {'r/a': (1, 14), 'T': (1, 13)}},\n",
    "        'monopoless': {'name' : 'mod', 'path' : f'{path1}/28^4/beta6.1/HYP0_alpha=1_1_0.5_APE_alpha=0.5/{params}/{compensate}/potential/potential_monopoless.csv', 'T' : 8, 'constraints': {'r/a': (1, 14), 'T': (1, 13)}}}},\n",
    "        {'beta': 6.2, 'constraints': {'r/a': (1, 16), 'T': (1, 15)}, 'fit_range': (2, 16),\n",
    "        'data': {'original': {'name' : 'SU3', 'path' : f'{path1}/32^4/beta6.2/HYP0_alpha=1_1_0.5_APE_alpha=0.5/potential/potential_original.csv', 'constraints': {'r/a': (1, 16), 'T': (1, 15)}},\n",
    "        'monopole': {'name' : 'mon', 'path' : f'{path1}/32^4/beta6.2/HYP0_alpha=1_1_0.5_APE_alpha=0.5/{params}/{compensate}/potential/potential_monopole.csv', 'T' : 11, 'constraints': {'r/a': (1, 16), 'T': (1, 15)}},\n",
    "        'monopoless': {'name' : 'mod', 'path' : f'{path1}/32^4/beta6.2/HYP0_alpha=1_1_0.5_APE_alpha=0.5/{params}/{compensate}/potential/potential_monopoless.csv', 'T' : 8, 'constraints': {'r/a': (1, 16), 'T': (1, 15)}}}},\n",
    "        {'beta': 6.3, 'constraints': {'r/a': (1, 18), 'T': (1, 17)}, 'fit_range': (2, 18),\n",
    "        'data': {'original': {'name' : 'SU3', 'path' : f'{path1}/36^4/beta6.3/HYP0_alpha=1_1_0.5_APE_alpha=0.5/potential/potential_original.csv', 'constraints': {'r/a': (1, 18), 'T': (1, 17)}},\n",
    "        'monopole': {'name' : 'mon', 'path' : f'{path1}/36^4/beta6.3/HYP0_alpha=1_1_0.5_APE_alpha=0.5/{params}/{compensate}/potential/potential_monopole.csv', 'T' : 11, 'constraints': {'r/a': (1, 18), 'T': (1, 17)}},\n",
    "        'monopoless': {'name' : 'mod', 'path' : f'{path1}/36^4/beta6.3/HYP0_alpha=1_1_0.5_APE_alpha=0.5/{params}/{compensate}/potential/potential_monopoless.csv', 'T' : 8, 'constraints': {'r/a': (1, 18), 'T': (1, 17)}}}}]\n",
    "fit_range = (2, 12)\n",
    "remove_from_plot = ['monopole', 'monopoless']\n",
    "term = 'mon+mod'\n",
    "\n",
    "decomposition.potential_together_shifted(paths, f'../../images/potential/together/su3/gluodynamics/beta_dependence', f'potential_mon_mod', y_lims, False, remove_from_plot, False, term, 'sum')"
   ]
  },
  {
   "cell_type": "code",
   "execution_count": 3,
   "metadata": {},
   "outputs": [
    {
     "ename": "AttributeError",
     "evalue": "module 'decomposition' has no attribute 'potential_together_shifted'",
     "output_type": "error",
     "traceback": [
      "\u001b[0;31m---------------------------------------------------------------------------\u001b[0m",
      "\u001b[0;31mAttributeError\u001b[0m                            Traceback (most recent call last)",
      "\u001b[0;32m<ipython-input-3-acb8c7f3cec5>\u001b[0m in \u001b[0;36m<module>\u001b[0;34m\u001b[0m\n\u001b[1;32m     23\u001b[0m \u001b[0mterm\u001b[0m \u001b[0;34m=\u001b[0m \u001b[0;34m'SU3'\u001b[0m\u001b[0;34m\u001b[0m\u001b[0;34m\u001b[0m\u001b[0m\n\u001b[1;32m     24\u001b[0m \u001b[0;34m\u001b[0m\u001b[0m\n\u001b[0;32m---> 25\u001b[0;31m \u001b[0mdecomposition\u001b[0m\u001b[0;34m.\u001b[0m\u001b[0mpotential_together_shifted\u001b[0m\u001b[0;34m(\u001b[0m\u001b[0mpaths\u001b[0m\u001b[0;34m,\u001b[0m \u001b[0;34mf'../../images/potential/together/su3/gluodynamics/beta_dependence'\u001b[0m\u001b[0;34m,\u001b[0m \u001b[0;34mf'potential_abelian'\u001b[0m\u001b[0;34m,\u001b[0m \u001b[0my_lims\u001b[0m\u001b[0;34m,\u001b[0m \u001b[0;32mFalse\u001b[0m\u001b[0;34m,\u001b[0m \u001b[0mremove_from_plot\u001b[0m\u001b[0;34m,\u001b[0m \u001b[0;32mFalse\u001b[0m\u001b[0;34m,\u001b[0m \u001b[0mterm\u001b[0m\u001b[0;34m,\u001b[0m \u001b[0;34m'abelian'\u001b[0m\u001b[0;34m)\u001b[0m\u001b[0;34m\u001b[0m\u001b[0;34m\u001b[0m\u001b[0m\n\u001b[0m",
      "\u001b[0;31mAttributeError\u001b[0m: module 'decomposition' has no attribute 'potential_together_shifted'"
     ]
    }
   ],
   "source": [
    "path1 = '../../result/potential/wilson_loop/fundamental/su3/gluodynamics'\n",
    "size = '24^4'\n",
    "params = 'steps_500/copies=3'\n",
    "compensate = 'compensate_1'\n",
    "r_max = 18\n",
    "T_max = 11\n",
    "y_lims = (-2, 3)\n",
    "constraints = {'r/a': (1, r_max), 'T': (1, T_max)}\n",
    "paths = [{'beta': 6.0, 'fit_range': (2, 12),\n",
    "        'data': {'original': {'name' : 'SU3', 'path' : f'{path1}/24^4/beta6.0/HYP0_alpha=1_1_0.5_APE_alpha=0.5/potential/potential_original.csv', 'constraints': {'r/a': (1, 11), 'T': (1, 12)}},\n",
    "        'abelian': {'name' : 'abelian', 'path' : f'{path1}/24^4/beta6.0/HYP0_alpha=1_1_0.5_APE_alpha=0.5/{params}/potential/potential_abelian.csv', 'T' : 8, 'constraints': {'r/a': (1, 12), 'T': (1, 11)}}}},\n",
    "        {'beta': 6.1, 'fit_range': (2, 14),\n",
    "        'data': {'original': {'name' : 'SU3', 'path' : f'{path1}/28^4/beta6.1/HYP0_alpha=1_1_0.5_APE_alpha=0.5/potential/potential_original.csv', 'constraints': {'r/a': (1, 13), 'T': (1, 13)}},\n",
    "        'abelian': {'name' : 'abelian', 'path' : f'{path1}/28^4/beta6.1/HYP0_alpha=1_1_0.5_APE_alpha=0.5/{params}/potential/potential_abelian.csv', 'T' : 8, 'constraints': {'r/a': (1, 14), 'T': (1, 13)}}}},\n",
    "        {'beta': 6.2, 'constraints': {'r/a': (1, 16), 'T': (1, 15)}, 'fit_range': (2, 16),\n",
    "        'data': {'original': {'name' : 'SU3', 'path' : f'{path1}/32^4/beta6.2/HYP0_alpha=1_1_0.5_APE_alpha=0.5/potential/potential_original.csv', 'constraints': {'r/a': (1, 15), 'T': (1, 15)}},\n",
    "        'abelian': {'name' : 'abelian', 'path' : f'{path1}/32^4/beta6.2/HYP0_alpha=1_1_0.5_APE_alpha=0.5/{params}/potential/potential_abelian.csv', 'T' : 8, 'constraints': {'r/a': (1, 16), 'T': (1, 15)}}}},\n",
    "        {'beta': 6.3, 'constraints': {'r/a': (1, 18), 'T': (1, 17)}, 'fit_range': (2, 18),\n",
    "        'data': {'original': {'name' : 'SU3', 'path' : f'{path1}/36^4/beta6.3/HYP0_alpha=1_1_0.5_APE_alpha=0.5/potential/potential_original.csv', 'constraints': {'r/a': (1, 17), 'T': (1, 17)}},\n",
    "        'abelian': {'name' : 'abelian', 'path' : f'{path1}/36^4/beta6.3/HYP0_alpha=1_1_0.5_APE_alpha=0.5/{params}/potential/potential_abelian.csv', 'T' : 8, 'constraints': {'r/a': (1, 18), 'T': (1, 17)}}}}]\n",
    "fit_range = (2, r_max)\n",
    "remove_from_plot = []\n",
    "term = 'SU3'\n",
    "\n",
    "decomposition.potential_together_shifted(paths, f'../../images/potential/together/su3/gluodynamics/beta_dependence', f'potential_abelian', y_lims, False, remove_from_plot, False, term, 'abelian')"
   ]
  },
  {
   "cell_type": "code",
   "execution_count": 4,
   "metadata": {},
   "outputs": [
    {
     "name": "stdout",
     "output_type": "stream",
     "text": [
      "aV(r)_SU2 0.09724598340307455 0.0024746015610866345 -0.2782058475791838 0.015848894736840338 0.001684471903558177 9.389510562535037e-05 chi_sq = -0.21935382387278998\n"
     ]
    },
    {
     "data": {
      "image/png": "[encoded data removed]",
      "text/plain": [
       "<Figure size 504x360 with 1 Axes>"
      ]
     },
     "metadata": {
      "needs_background": "light"
     },
     "output_type": "display_data"
    },
    {
     "name": "stdout",
     "output_type": "stream",
     "text": [
      "../../images/potential/decomposition/su2/qc2dstag/40^4/mu0.45/potential_fit\n"
     ]
    }
   ],
   "source": [
    "r_max = 20\n",
    "constraints = {'r/a': (1, r_max)}\n",
    "fit_range = (10, 20)\n",
    "mu_arr = ['mu0.45']\n",
    "paths = []\n",
    "r0 = 9.8\n",
    "y_lims = (0, 0.6)\n",
    "for mu in mu_arr:\n",
    "    path = f'../../result/potential/wilson_loop/fundamental/su2/qc2dstag/40^4/{mu}'\n",
    "    paths.append({'name' : 'SU2', 'path' : f'{path}/HYP1_alpha=1_1_0.5_APE_alpha=0.5/potential/potential_monopole.csv', 'T': 15, 'constraints': constraints, })\n",
    "decomposition.potentials_fit(paths, 'SU2', fit_range, r0, y_lims,  f'../../images/potential/decomposition/su2/qc2dstag/40^4/{mu}', 'potential_fit')"
   ]
  },
  {
   "cell_type": "code",
   "execution_count": 5,
   "metadata": {},
   "outputs": [
    {
     "ename": "FileNotFoundError",
     "evalue": "[Errno 2] No such file or directory: '../../result/potential/wilson_loop/fundamental/su2/qc2dstag/40^4/mu0.35/HYP0_alpha=1_1_0.5_APE_alpha=0.5/potential/potential_monopole.csv'",
     "output_type": "error",
     "traceback": [
      "\u001b[0;31m---------------------------------------------------------------------------\u001b[0m",
      "\u001b[0;31mFileNotFoundError\u001b[0m                         Traceback (most recent call last)",
      "\u001b[0;32m<ipython-input-5-110f4beea84f>\u001b[0m in \u001b[0;36m<module>\u001b[0;34m\u001b[0m\n\u001b[1;32m      9\u001b[0m     \u001b[0mpath\u001b[0m \u001b[0;34m=\u001b[0m \u001b[0;34mf'../../result/potential/wilson_loop/fundamental/su2/qc2dstag/40^4/{mu}'\u001b[0m\u001b[0;34m\u001b[0m\u001b[0;34m\u001b[0m\u001b[0m\n\u001b[1;32m     10\u001b[0m     \u001b[0mpaths\u001b[0m\u001b[0;34m.\u001b[0m\u001b[0mappend\u001b[0m\u001b[0;34m(\u001b[0m\u001b[0;34m{\u001b[0m\u001b[0;34m'name'\u001b[0m \u001b[0;34m:\u001b[0m \u001b[0;34m'SU2'\u001b[0m\u001b[0;34m,\u001b[0m \u001b[0;34m'path'\u001b[0m \u001b[0;34m:\u001b[0m \u001b[0;34mf'{path}/HYP0_alpha=1_1_0.5_APE_alpha=0.5/potential/potential_monopole.csv'\u001b[0m\u001b[0;34m,\u001b[0m \u001b[0;34m'T'\u001b[0m\u001b[0;34m:\u001b[0m \u001b[0;36m15\u001b[0m\u001b[0;34m,\u001b[0m \u001b[0;34m'constraints'\u001b[0m\u001b[0;34m:\u001b[0m \u001b[0mconstraints\u001b[0m\u001b[0;34m,\u001b[0m \u001b[0;34m}\u001b[0m\u001b[0;34m)\u001b[0m\u001b[0;34m\u001b[0m\u001b[0;34m\u001b[0m\u001b[0m\n\u001b[0;32m---> 11\u001b[0;31m \u001b[0mdecomposition\u001b[0m\u001b[0;34m.\u001b[0m\u001b[0mpotentials_fit\u001b[0m\u001b[0;34m(\u001b[0m\u001b[0mpaths\u001b[0m\u001b[0;34m,\u001b[0m \u001b[0;34m'SU2'\u001b[0m\u001b[0;34m,\u001b[0m \u001b[0mfit_range\u001b[0m\u001b[0;34m,\u001b[0m \u001b[0mr0\u001b[0m\u001b[0;34m,\u001b[0m \u001b[0my_lims\u001b[0m\u001b[0;34m,\u001b[0m  \u001b[0;34mf'../../images/potential/decomposition/su2/qc2dstag/40^4/{mu}'\u001b[0m\u001b[0;34m,\u001b[0m \u001b[0;34m'potential_fit'\u001b[0m\u001b[0;34m)\u001b[0m\u001b[0;34m\u001b[0m\u001b[0;34m\u001b[0m\u001b[0m\n\u001b[0m",
      "\u001b[0;32m~/soft/lattice/observables/python_jupyter/potential/decomposition.py\u001b[0m in \u001b[0;36mpotentials_fit\u001b[0;34m(paths, term, fit_range, r0, y_lims, image_path, image_name)\u001b[0m\n\u001b[1;32m    323\u001b[0m \u001b[0;32mdef\u001b[0m \u001b[0mpotentials_fit\u001b[0m\u001b[0;34m(\u001b[0m\u001b[0mpaths\u001b[0m\u001b[0;34m,\u001b[0m \u001b[0mterm\u001b[0m\u001b[0;34m,\u001b[0m \u001b[0mfit_range\u001b[0m\u001b[0;34m,\u001b[0m \u001b[0mr0\u001b[0m\u001b[0;34m,\u001b[0m \u001b[0my_lims\u001b[0m\u001b[0;34m,\u001b[0m \u001b[0mimage_path\u001b[0m\u001b[0;34m,\u001b[0m \u001b[0mimage_name\u001b[0m\u001b[0;34m)\u001b[0m\u001b[0;34m:\u001b[0m\u001b[0;34m\u001b[0m\u001b[0;34m\u001b[0m\u001b[0m\n\u001b[1;32m    324\u001b[0m     \u001b[0;32mfor\u001b[0m \u001b[0mpath\u001b[0m \u001b[0;32min\u001b[0m \u001b[0mpaths\u001b[0m\u001b[0;34m:\u001b[0m\u001b[0;34m\u001b[0m\u001b[0;34m\u001b[0m\u001b[0m\n\u001b[0;32m--> 325\u001b[0;31m         potential_fit_single(path, term, fit_range, r0,\n\u001b[0m\u001b[1;32m    326\u001b[0m                              y_lims, image_path, image_name)\n",
      "\u001b[0;32m~/soft/lattice/observables/python_jupyter/potential/decomposition.py\u001b[0m in \u001b[0;36mpotential_fit_single\u001b[0;34m(path, term, fit_range, r0, y_lims, image_path, image_name)\u001b[0m\n\u001b[1;32m    149\u001b[0m \u001b[0;34m\u001b[0m\u001b[0m\n\u001b[1;32m    150\u001b[0m \u001b[0;32mdef\u001b[0m \u001b[0mpotential_fit_single\u001b[0m\u001b[0;34m(\u001b[0m\u001b[0mpath\u001b[0m\u001b[0;34m,\u001b[0m \u001b[0mterm\u001b[0m\u001b[0;34m,\u001b[0m \u001b[0mfit_range\u001b[0m\u001b[0;34m,\u001b[0m \u001b[0mr0\u001b[0m\u001b[0;34m,\u001b[0m \u001b[0my_lims\u001b[0m\u001b[0;34m,\u001b[0m \u001b[0mimage_path\u001b[0m\u001b[0;34m,\u001b[0m \u001b[0mimage_name\u001b[0m\u001b[0;34m)\u001b[0m\u001b[0;34m:\u001b[0m\u001b[0;34m\u001b[0m\u001b[0;34m\u001b[0m\u001b[0m\n\u001b[0;32m--> 151\u001b[0;31m     \u001b[0mdata\u001b[0m \u001b[0;34m=\u001b[0m \u001b[0mpotential_data\u001b[0m\u001b[0;34m.\u001b[0m\u001b[0mread_data_single\u001b[0m\u001b[0;34m(\u001b[0m\u001b[0mpath\u001b[0m\u001b[0;34m)\u001b[0m\u001b[0;34m\u001b[0m\u001b[0;34m\u001b[0m\u001b[0m\n\u001b[0m\u001b[1;32m    152\u001b[0m     \u001b[0;32mif\u001b[0m \u001b[0;34m'T'\u001b[0m \u001b[0;32min\u001b[0m \u001b[0mpath\u001b[0m\u001b[0;34m:\u001b[0m\u001b[0;34m\u001b[0m\u001b[0;34m\u001b[0m\u001b[0m\n\u001b[1;32m    153\u001b[0m         data = data[data['T'] == path['T']].reset_index(\n",
      "\u001b[0;32m~/soft/lattice/observables/python_jupyter/potential/potential_data.py\u001b[0m in \u001b[0;36mread_data_single\u001b[0;34m(path)\u001b[0m\n\u001b[1;32m    230\u001b[0m \u001b[0;34m\u001b[0m\u001b[0m\n\u001b[1;32m    231\u001b[0m \u001b[0;32mdef\u001b[0m \u001b[0mread_data_single\u001b[0m\u001b[0;34m(\u001b[0m\u001b[0mpath\u001b[0m\u001b[0;34m)\u001b[0m\u001b[0;34m:\u001b[0m\u001b[0;34m\u001b[0m\u001b[0;34m\u001b[0m\u001b[0m\n\u001b[0;32m--> 232\u001b[0;31m     \u001b[0mdata\u001b[0m \u001b[0;34m=\u001b[0m \u001b[0mpd\u001b[0m\u001b[0;34m.\u001b[0m\u001b[0mread_csv\u001b[0m\u001b[0;34m(\u001b[0m\u001b[0mpath\u001b[0m\u001b[0;34m[\u001b[0m\u001b[0;34m'path'\u001b[0m\u001b[0;34m]\u001b[0m\u001b[0;34m,\u001b[0m \u001b[0mindex_col\u001b[0m\u001b[0;34m=\u001b[0m\u001b[0;32mNone\u001b[0m\u001b[0;34m)\u001b[0m\u001b[0;34m\u001b[0m\u001b[0;34m\u001b[0m\u001b[0m\n\u001b[0m\u001b[1;32m    233\u001b[0m     \u001b[0mdata\u001b[0m\u001b[0;34m.\u001b[0m\u001b[0mreset_index\u001b[0m\u001b[0;34m(\u001b[0m\u001b[0mdrop\u001b[0m\u001b[0;34m=\u001b[0m\u001b[0;32mTrue\u001b[0m\u001b[0;34m,\u001b[0m \u001b[0minplace\u001b[0m\u001b[0;34m=\u001b[0m\u001b[0;32mTrue\u001b[0m\u001b[0;34m)\u001b[0m\u001b[0;34m\u001b[0m\u001b[0;34m\u001b[0m\u001b[0m\n\u001b[1;32m    234\u001b[0m     \u001b[0;32mif\u001b[0m \u001b[0;34m'constraints'\u001b[0m \u001b[0;32min\u001b[0m \u001b[0mpath\u001b[0m\u001b[0;34m:\u001b[0m\u001b[0;34m\u001b[0m\u001b[0;34m\u001b[0m\u001b[0m\n",
      "\u001b[0;32m~/.local/lib/python3.8/site-packages/pandas/util/_decorators.py\u001b[0m in \u001b[0;36mwrapper\u001b[0;34m(*args, **kwargs)\u001b[0m\n\u001b[1;32m    209\u001b[0m                 \u001b[0;32melse\u001b[0m\u001b[0;34m:\u001b[0m\u001b[0;34m\u001b[0m\u001b[0;34m\u001b[0m\u001b[0m\n\u001b[1;32m    210\u001b[0m                     \u001b[0mkwargs\u001b[0m\u001b[0;34m[\u001b[0m\u001b[0mnew_arg_name\u001b[0m\u001b[0;34m]\u001b[0m \u001b[0;34m=\u001b[0m \u001b[0mnew_arg_value\u001b[0m\u001b[0;34m\u001b[0m\u001b[0;34m\u001b[0m\u001b[0m\n\u001b[0;32m--> 211\u001b[0;31m             \u001b[0;32mreturn\u001b[0m \u001b[0mfunc\u001b[0m\u001b[0;34m(\u001b[0m\u001b[0;34m*\u001b[0m\u001b[0margs\u001b[0m\u001b[0;34m,\u001b[0m \u001b[0;34m**\u001b[0m\u001b[0mkwargs\u001b[0m\u001b[0;34m)\u001b[0m\u001b[0;34m\u001b[0m\u001b[0;34m\u001b[0m\u001b[0m\n\u001b[0m\u001b[1;32m    212\u001b[0m \u001b[0;34m\u001b[0m\u001b[0m\n\u001b[1;32m    213\u001b[0m         \u001b[0;32mreturn\u001b[0m \u001b[0mcast\u001b[0m\u001b[0;34m(\u001b[0m\u001b[0mF\u001b[0m\u001b[0;34m,\u001b[0m \u001b[0mwrapper\u001b[0m\u001b[0;34m)\u001b[0m\u001b[0;34m\u001b[0m\u001b[0;34m\u001b[0m\u001b[0m\n",
      "\u001b[0;32m~/.local/lib/python3.8/site-packages/pandas/util/_decorators.py\u001b[0m in \u001b[0;36mwrapper\u001b[0;34m(*args, **kwargs)\u001b[0m\n\u001b[1;32m    329\u001b[0m                     \u001b[0mstacklevel\u001b[0m\u001b[0;34m=\u001b[0m\u001b[0mfind_stack_level\u001b[0m\u001b[0;34m(\u001b[0m\u001b[0;34m)\u001b[0m\u001b[0;34m,\u001b[0m\u001b[0;34m\u001b[0m\u001b[0;34m\u001b[0m\u001b[0m\n\u001b[1;32m    330\u001b[0m                 )\n\u001b[0;32m--> 331\u001b[0;31m             \u001b[0;32mreturn\u001b[0m \u001b[0mfunc\u001b[0m\u001b[0;34m(\u001b[0m\u001b[0;34m*\u001b[0m\u001b[0margs\u001b[0m\u001b[0;34m,\u001b[0m \u001b[0;34m**\u001b[0m\u001b[0mkwargs\u001b[0m\u001b[0;34m)\u001b[0m\u001b[0;34m\u001b[0m\u001b[0;34m\u001b[0m\u001b[0m\n\u001b[0m\u001b[1;32m    332\u001b[0m \u001b[0;34m\u001b[0m\u001b[0m\n\u001b[1;32m    333\u001b[0m         \u001b[0;31m# error: \"Callable[[VarArg(Any), KwArg(Any)], Any]\" has no\u001b[0m\u001b[0;34m\u001b[0m\u001b[0;34m\u001b[0m\u001b[0;34m\u001b[0m\u001b[0m\n",
      "\u001b[0;32m~/.local/lib/python3.8/site-packages/pandas/io/parsers/readers.py\u001b[0m in \u001b[0;36mread_csv\u001b[0;34m(filepath_or_buffer, sep, delimiter, header, names, index_col, usecols, squeeze, prefix, mangle_dupe_cols, dtype, engine, converters, true_values, false_values, skipinitialspace, skiprows, skipfooter, nrows, na_values, keep_default_na, na_filter, verbose, skip_blank_lines, parse_dates, infer_datetime_format, keep_date_col, date_parser, dayfirst, cache_dates, iterator, chunksize, compression, thousands, decimal, lineterminator, quotechar, quoting, doublequote, escapechar, comment, encoding, encoding_errors, dialect, error_bad_lines, warn_bad_lines, on_bad_lines, delim_whitespace, low_memory, memory_map, float_precision, storage_options)\u001b[0m\n\u001b[1;32m    948\u001b[0m     \u001b[0mkwds\u001b[0m\u001b[0;34m.\u001b[0m\u001b[0mupdate\u001b[0m\u001b[0;34m(\u001b[0m\u001b[0mkwds_defaults\u001b[0m\u001b[0;34m)\u001b[0m\u001b[0;34m\u001b[0m\u001b[0;34m\u001b[0m\u001b[0m\n\u001b[1;32m    949\u001b[0m \u001b[0;34m\u001b[0m\u001b[0m\n\u001b[0;32m--> 950\u001b[0;31m     \u001b[0;32mreturn\u001b[0m \u001b[0m_read\u001b[0m\u001b[0;34m(\u001b[0m\u001b[0mfilepath_or_buffer\u001b[0m\u001b[0;34m,\u001b[0m \u001b[0mkwds\u001b[0m\u001b[0;34m)\u001b[0m\u001b[0;34m\u001b[0m\u001b[0;34m\u001b[0m\u001b[0m\n\u001b[0m\u001b[1;32m    951\u001b[0m \u001b[0;34m\u001b[0m\u001b[0m\n\u001b[1;32m    952\u001b[0m \u001b[0;34m\u001b[0m\u001b[0m\n",
      "\u001b[0;32m~/.local/lib/python3.8/site-packages/pandas/io/parsers/readers.py\u001b[0m in \u001b[0;36m_read\u001b[0;34m(filepath_or_buffer, kwds)\u001b[0m\n\u001b[1;32m    603\u001b[0m \u001b[0;34m\u001b[0m\u001b[0m\n\u001b[1;32m    604\u001b[0m     \u001b[0;31m# Create the parser.\u001b[0m\u001b[0;34m\u001b[0m\u001b[0;34m\u001b[0m\u001b[0;34m\u001b[0m\u001b[0m\n\u001b[0;32m--> 605\u001b[0;31m     \u001b[0mparser\u001b[0m \u001b[0;34m=\u001b[0m \u001b[0mTextFileReader\u001b[0m\u001b[0;34m(\u001b[0m\u001b[0mfilepath_or_buffer\u001b[0m\u001b[0;34m,\u001b[0m \u001b[0;34m**\u001b[0m\u001b[0mkwds\u001b[0m\u001b[0;34m)\u001b[0m\u001b[0;34m\u001b[0m\u001b[0;34m\u001b[0m\u001b[0m\n\u001b[0m\u001b[1;32m    606\u001b[0m \u001b[0;34m\u001b[0m\u001b[0m\n\u001b[1;32m    607\u001b[0m     \u001b[0;32mif\u001b[0m \u001b[0mchunksize\u001b[0m \u001b[0;32mor\u001b[0m \u001b[0miterator\u001b[0m\u001b[0;34m:\u001b[0m\u001b[0;34m\u001b[0m\u001b[0;34m\u001b[0m\u001b[0m\n",
      "\u001b[0;32m~/.local/lib/python3.8/site-packages/pandas/io/parsers/readers.py\u001b[0m in \u001b[0;36m__init__\u001b[0;34m(self, f, engine, **kwds)\u001b[0m\n\u001b[1;32m   1440\u001b[0m \u001b[0;34m\u001b[0m\u001b[0m\n\u001b[1;32m   1441\u001b[0m         \u001b[0mself\u001b[0m\u001b[0;34m.\u001b[0m\u001b[0mhandles\u001b[0m\u001b[0;34m:\u001b[0m \u001b[0mIOHandles\u001b[0m \u001b[0;34m|\u001b[0m \u001b[0;32mNone\u001b[0m \u001b[0;34m=\u001b[0m \u001b[0;32mNone\u001b[0m\u001b[0;34m\u001b[0m\u001b[0;34m\u001b[0m\u001b[0m\n\u001b[0;32m-> 1442\u001b[0;31m         \u001b[0mself\u001b[0m\u001b[0;34m.\u001b[0m\u001b[0m_engine\u001b[0m \u001b[0;34m=\u001b[0m \u001b[0mself\u001b[0m\u001b[0;34m.\u001b[0m\u001b[0m_make_engine\u001b[0m\u001b[0;34m(\u001b[0m\u001b[0mf\u001b[0m\u001b[0;34m,\u001b[0m \u001b[0mself\u001b[0m\u001b[0;34m.\u001b[0m\u001b[0mengine\u001b[0m\u001b[0;34m)\u001b[0m\u001b[0;34m\u001b[0m\u001b[0;34m\u001b[0m\u001b[0m\n\u001b[0m\u001b[1;32m   1443\u001b[0m \u001b[0;34m\u001b[0m\u001b[0m\n\u001b[1;32m   1444\u001b[0m     \u001b[0;32mdef\u001b[0m \u001b[0mclose\u001b[0m\u001b[0;34m(\u001b[0m\u001b[0mself\u001b[0m\u001b[0;34m)\u001b[0m \u001b[0;34m->\u001b[0m \u001b[0;32mNone\u001b[0m\u001b[0;34m:\u001b[0m\u001b[0;34m\u001b[0m\u001b[0;34m\u001b[0m\u001b[0m\n",
      "\u001b[0;32m~/.local/lib/python3.8/site-packages/pandas/io/parsers/readers.py\u001b[0m in \u001b[0;36m_make_engine\u001b[0;34m(self, f, engine)\u001b[0m\n\u001b[1;32m   1733\u001b[0m                 \u001b[0;32mif\u001b[0m \u001b[0;34m\"b\"\u001b[0m \u001b[0;32mnot\u001b[0m \u001b[0;32min\u001b[0m \u001b[0mmode\u001b[0m\u001b[0;34m:\u001b[0m\u001b[0;34m\u001b[0m\u001b[0;34m\u001b[0m\u001b[0m\n\u001b[1;32m   1734\u001b[0m                     \u001b[0mmode\u001b[0m \u001b[0;34m+=\u001b[0m \u001b[0;34m\"b\"\u001b[0m\u001b[0;34m\u001b[0m\u001b[0;34m\u001b[0m\u001b[0m\n\u001b[0;32m-> 1735\u001b[0;31m             self.handles = get_handle(\n\u001b[0m\u001b[1;32m   1736\u001b[0m                 \u001b[0mf\u001b[0m\u001b[0;34m,\u001b[0m\u001b[0;34m\u001b[0m\u001b[0;34m\u001b[0m\u001b[0m\n\u001b[1;32m   1737\u001b[0m                 \u001b[0mmode\u001b[0m\u001b[0;34m,\u001b[0m\u001b[0;34m\u001b[0m\u001b[0;34m\u001b[0m\u001b[0m\n",
      "\u001b[0;32m~/.local/lib/python3.8/site-packages/pandas/io/common.py\u001b[0m in \u001b[0;36mget_handle\u001b[0;34m(path_or_buf, mode, encoding, compression, memory_map, is_text, errors, storage_options)\u001b[0m\n\u001b[1;32m    854\u001b[0m         \u001b[0;32mif\u001b[0m \u001b[0mioargs\u001b[0m\u001b[0;34m.\u001b[0m\u001b[0mencoding\u001b[0m \u001b[0;32mand\u001b[0m \u001b[0;34m\"b\"\u001b[0m \u001b[0;32mnot\u001b[0m \u001b[0;32min\u001b[0m \u001b[0mioargs\u001b[0m\u001b[0;34m.\u001b[0m\u001b[0mmode\u001b[0m\u001b[0;34m:\u001b[0m\u001b[0;34m\u001b[0m\u001b[0;34m\u001b[0m\u001b[0m\n\u001b[1;32m    855\u001b[0m             \u001b[0;31m# Encoding\u001b[0m\u001b[0;34m\u001b[0m\u001b[0;34m\u001b[0m\u001b[0;34m\u001b[0m\u001b[0m\n\u001b[0;32m--> 856\u001b[0;31m             handle = open(\n\u001b[0m\u001b[1;32m    857\u001b[0m                 \u001b[0mhandle\u001b[0m\u001b[0;34m,\u001b[0m\u001b[0;34m\u001b[0m\u001b[0;34m\u001b[0m\u001b[0m\n\u001b[1;32m    858\u001b[0m                 \u001b[0mioargs\u001b[0m\u001b[0;34m.\u001b[0m\u001b[0mmode\u001b[0m\u001b[0;34m,\u001b[0m\u001b[0;34m\u001b[0m\u001b[0;34m\u001b[0m\u001b[0m\n",
      "\u001b[0;31mFileNotFoundError\u001b[0m: [Errno 2] No such file or directory: '../../result/potential/wilson_loop/fundamental/su2/qc2dstag/40^4/mu0.35/HYP0_alpha=1_1_0.5_APE_alpha=0.5/potential/potential_monopole.csv'"
     ]
    }
   ],
   "source": [
    "r_max = 20\n",
    "constraints = {'r/a': (1, r_max)}\n",
    "fit_range = (5, 20)\n",
    "mu_arr = ['mu0.35']\n",
    "paths = []\n",
    "r0 = 9.8\n",
    "y_lims = (0, 0.6)\n",
    "for mu in mu_arr:\n",
    "    path = f'../../result/potential/wilson_loop/fundamental/su2/qc2dstag/40^4/{mu}'\n",
    "    paths.append({'name' : 'SU2', 'path' : f'{path}/HYP0_alpha=1_1_0.5_APE_alpha=0.5/potential/potential_monopole.csv', 'T': 15, 'constraints': constraints, })\n",
    "decomposition.potentials_fit(paths, 'SU2', fit_range, r0, y_lims,  f'../../images/potential/decomposition/su2/qc2dstag/40^4/{mu}', 'potential_fit')"
   ]
  },
  {
   "cell_type": "code",
   "execution_count": 7,
   "metadata": {},
   "outputs": [
    {
     "ename": "FileNotFoundError",
     "evalue": "[Errno 2] No such file or directory: '../../result/potential/wilson_loop/fundamental/su2/qc2dstag/40^4/mu0.40/HYP1_alpha=1_1_0.5_APE_alpha=0.5/potential/potential_original.csv'",
     "output_type": "error",
     "traceback": [
      "\u001b[0;31m---------------------------------------------------------------------------\u001b[0m",
      "\u001b[0;31mFileNotFoundError\u001b[0m                         Traceback (most recent call last)",
      "\u001b[0;32m<ipython-input-7-9be83eaa5922>\u001b[0m in \u001b[0;36m<module>\u001b[0;34m\u001b[0m\n\u001b[1;32m      9\u001b[0m     \u001b[0mpath\u001b[0m \u001b[0;34m=\u001b[0m \u001b[0;34mf'../../result/potential/wilson_loop/fundamental/su2/qc2dstag/40^4/{mu}'\u001b[0m\u001b[0;34m\u001b[0m\u001b[0;34m\u001b[0m\u001b[0m\n\u001b[1;32m     10\u001b[0m     \u001b[0mpaths\u001b[0m\u001b[0;34m.\u001b[0m\u001b[0mappend\u001b[0m\u001b[0;34m(\u001b[0m\u001b[0;34m{\u001b[0m\u001b[0;34m'name'\u001b[0m \u001b[0;34m:\u001b[0m \u001b[0;34m'SU2'\u001b[0m\u001b[0;34m,\u001b[0m \u001b[0;34m'path'\u001b[0m \u001b[0;34m:\u001b[0m \u001b[0;34mf'{path}/HYP1_alpha=1_1_0.5_APE_alpha=0.5/potential/potential_original.csv'\u001b[0m\u001b[0;34m,\u001b[0m \u001b[0;34m'constraints'\u001b[0m\u001b[0;34m:\u001b[0m \u001b[0mconstraints\u001b[0m\u001b[0;34m}\u001b[0m\u001b[0;34m)\u001b[0m\u001b[0;34m\u001b[0m\u001b[0;34m\u001b[0m\u001b[0m\n\u001b[0;32m---> 11\u001b[0;31m \u001b[0mdecomposition\u001b[0m\u001b[0;34m.\u001b[0m\u001b[0mpotentials_fit\u001b[0m\u001b[0;34m(\u001b[0m\u001b[0mpaths\u001b[0m\u001b[0;34m,\u001b[0m \u001b[0;34m'SU2'\u001b[0m\u001b[0;34m,\u001b[0m \u001b[0mfit_range\u001b[0m\u001b[0;34m,\u001b[0m \u001b[0mr0\u001b[0m\u001b[0;34m,\u001b[0m \u001b[0my_lims\u001b[0m\u001b[0;34m,\u001b[0m  \u001b[0;34mf'../../images/potential/decomposition/su2/qc2dstag/40^4/{mu}'\u001b[0m\u001b[0;34m,\u001b[0m \u001b[0;34m'potential_fit'\u001b[0m\u001b[0;34m)\u001b[0m\u001b[0;34m\u001b[0m\u001b[0;34m\u001b[0m\u001b[0m\n\u001b[0m",
      "\u001b[0;32m~/soft/lattice/observables/python_jupyter/potential/decomposition.py\u001b[0m in \u001b[0;36mpotentials_fit\u001b[0;34m(paths, term, fit_range, r0, y_lims, image_path, image_name)\u001b[0m\n\u001b[1;32m    323\u001b[0m \u001b[0;32mdef\u001b[0m \u001b[0mpotentials_fit\u001b[0m\u001b[0;34m(\u001b[0m\u001b[0mpaths\u001b[0m\u001b[0;34m,\u001b[0m \u001b[0mterm\u001b[0m\u001b[0;34m,\u001b[0m \u001b[0mfit_range\u001b[0m\u001b[0;34m,\u001b[0m \u001b[0mr0\u001b[0m\u001b[0;34m,\u001b[0m \u001b[0my_lims\u001b[0m\u001b[0;34m,\u001b[0m \u001b[0mimage_path\u001b[0m\u001b[0;34m,\u001b[0m \u001b[0mimage_name\u001b[0m\u001b[0;34m)\u001b[0m\u001b[0;34m:\u001b[0m\u001b[0;34m\u001b[0m\u001b[0;34m\u001b[0m\u001b[0m\n\u001b[1;32m    324\u001b[0m     \u001b[0;32mfor\u001b[0m \u001b[0mpath\u001b[0m \u001b[0;32min\u001b[0m \u001b[0mpaths\u001b[0m\u001b[0;34m:\u001b[0m\u001b[0;34m\u001b[0m\u001b[0;34m\u001b[0m\u001b[0m\n\u001b[0;32m--> 325\u001b[0;31m         potential_fit_single(path, term, fit_range, r0,\n\u001b[0m\u001b[1;32m    326\u001b[0m                              y_lims, image_path, image_name)\n",
      "\u001b[0;32m~/soft/lattice/observables/python_jupyter/potential/decomposition.py\u001b[0m in \u001b[0;36mpotential_fit_single\u001b[0;34m(path, term, fit_range, r0, y_lims, image_path, image_name)\u001b[0m\n\u001b[1;32m    149\u001b[0m \u001b[0;34m\u001b[0m\u001b[0m\n\u001b[1;32m    150\u001b[0m \u001b[0;32mdef\u001b[0m \u001b[0mpotential_fit_single\u001b[0m\u001b[0;34m(\u001b[0m\u001b[0mpath\u001b[0m\u001b[0;34m,\u001b[0m \u001b[0mterm\u001b[0m\u001b[0;34m,\u001b[0m \u001b[0mfit_range\u001b[0m\u001b[0;34m,\u001b[0m \u001b[0mr0\u001b[0m\u001b[0;34m,\u001b[0m \u001b[0my_lims\u001b[0m\u001b[0;34m,\u001b[0m \u001b[0mimage_path\u001b[0m\u001b[0;34m,\u001b[0m \u001b[0mimage_name\u001b[0m\u001b[0;34m)\u001b[0m\u001b[0;34m:\u001b[0m\u001b[0;34m\u001b[0m\u001b[0;34m\u001b[0m\u001b[0m\n\u001b[0;32m--> 151\u001b[0;31m     \u001b[0mdata\u001b[0m \u001b[0;34m=\u001b[0m \u001b[0mpotential_data\u001b[0m\u001b[0;34m.\u001b[0m\u001b[0mread_data_single\u001b[0m\u001b[0;34m(\u001b[0m\u001b[0mpath\u001b[0m\u001b[0;34m)\u001b[0m\u001b[0;34m\u001b[0m\u001b[0;34m\u001b[0m\u001b[0m\n\u001b[0m\u001b[1;32m    152\u001b[0m     \u001b[0;32mif\u001b[0m \u001b[0;34m'T'\u001b[0m \u001b[0;32min\u001b[0m \u001b[0mpath\u001b[0m\u001b[0;34m:\u001b[0m\u001b[0;34m\u001b[0m\u001b[0;34m\u001b[0m\u001b[0m\n\u001b[1;32m    153\u001b[0m         data = data[data['T'] == path['T']].reset_index(\n",
      "\u001b[0;32m~/soft/lattice/observables/python_jupyter/potential/potential_data.py\u001b[0m in \u001b[0;36mread_data_single\u001b[0;34m(path)\u001b[0m\n\u001b[1;32m    230\u001b[0m \u001b[0;34m\u001b[0m\u001b[0m\n\u001b[1;32m    231\u001b[0m \u001b[0;32mdef\u001b[0m \u001b[0mread_data_single\u001b[0m\u001b[0;34m(\u001b[0m\u001b[0mpath\u001b[0m\u001b[0;34m)\u001b[0m\u001b[0;34m:\u001b[0m\u001b[0;34m\u001b[0m\u001b[0;34m\u001b[0m\u001b[0m\n\u001b[0;32m--> 232\u001b[0;31m     \u001b[0mdata\u001b[0m \u001b[0;34m=\u001b[0m \u001b[0mpd\u001b[0m\u001b[0;34m.\u001b[0m\u001b[0mread_csv\u001b[0m\u001b[0;34m(\u001b[0m\u001b[0mpath\u001b[0m\u001b[0;34m[\u001b[0m\u001b[0;34m'path'\u001b[0m\u001b[0;34m]\u001b[0m\u001b[0;34m,\u001b[0m \u001b[0mindex_col\u001b[0m\u001b[0;34m=\u001b[0m\u001b[0;32mNone\u001b[0m\u001b[0;34m)\u001b[0m\u001b[0;34m\u001b[0m\u001b[0;34m\u001b[0m\u001b[0m\n\u001b[0m\u001b[1;32m    233\u001b[0m     \u001b[0mdata\u001b[0m\u001b[0;34m.\u001b[0m\u001b[0mreset_index\u001b[0m\u001b[0;34m(\u001b[0m\u001b[0mdrop\u001b[0m\u001b[0;34m=\u001b[0m\u001b[0;32mTrue\u001b[0m\u001b[0;34m,\u001b[0m \u001b[0minplace\u001b[0m\u001b[0;34m=\u001b[0m\u001b[0;32mTrue\u001b[0m\u001b[0;34m)\u001b[0m\u001b[0;34m\u001b[0m\u001b[0;34m\u001b[0m\u001b[0m\n\u001b[1;32m    234\u001b[0m     \u001b[0;32mif\u001b[0m \u001b[0;34m'constraints'\u001b[0m \u001b[0;32min\u001b[0m \u001b[0mpath\u001b[0m\u001b[0;34m:\u001b[0m\u001b[0;34m\u001b[0m\u001b[0;34m\u001b[0m\u001b[0m\n",
      "\u001b[0;32m~/.local/lib/python3.8/site-packages/pandas/util/_decorators.py\u001b[0m in \u001b[0;36mwrapper\u001b[0;34m(*args, **kwargs)\u001b[0m\n\u001b[1;32m    209\u001b[0m                 \u001b[0;32melse\u001b[0m\u001b[0;34m:\u001b[0m\u001b[0;34m\u001b[0m\u001b[0;34m\u001b[0m\u001b[0m\n\u001b[1;32m    210\u001b[0m                     \u001b[0mkwargs\u001b[0m\u001b[0;34m[\u001b[0m\u001b[0mnew_arg_name\u001b[0m\u001b[0;34m]\u001b[0m \u001b[0;34m=\u001b[0m \u001b[0mnew_arg_value\u001b[0m\u001b[0;34m\u001b[0m\u001b[0;34m\u001b[0m\u001b[0m\n\u001b[0;32m--> 211\u001b[0;31m             \u001b[0;32mreturn\u001b[0m \u001b[0mfunc\u001b[0m\u001b[0;34m(\u001b[0m\u001b[0;34m*\u001b[0m\u001b[0margs\u001b[0m\u001b[0;34m,\u001b[0m \u001b[0;34m**\u001b[0m\u001b[0mkwargs\u001b[0m\u001b[0;34m)\u001b[0m\u001b[0;34m\u001b[0m\u001b[0;34m\u001b[0m\u001b[0m\n\u001b[0m\u001b[1;32m    212\u001b[0m \u001b[0;34m\u001b[0m\u001b[0m\n\u001b[1;32m    213\u001b[0m         \u001b[0;32mreturn\u001b[0m \u001b[0mcast\u001b[0m\u001b[0;34m(\u001b[0m\u001b[0mF\u001b[0m\u001b[0;34m,\u001b[0m \u001b[0mwrapper\u001b[0m\u001b[0;34m)\u001b[0m\u001b[0;34m\u001b[0m\u001b[0;34m\u001b[0m\u001b[0m\n",
      "\u001b[0;32m~/.local/lib/python3.8/site-packages/pandas/util/_decorators.py\u001b[0m in \u001b[0;36mwrapper\u001b[0;34m(*args, **kwargs)\u001b[0m\n\u001b[1;32m    329\u001b[0m                     \u001b[0mstacklevel\u001b[0m\u001b[0;34m=\u001b[0m\u001b[0mfind_stack_level\u001b[0m\u001b[0;34m(\u001b[0m\u001b[0;34m)\u001b[0m\u001b[0;34m,\u001b[0m\u001b[0;34m\u001b[0m\u001b[0;34m\u001b[0m\u001b[0m\n\u001b[1;32m    330\u001b[0m                 )\n\u001b[0;32m--> 331\u001b[0;31m             \u001b[0;32mreturn\u001b[0m \u001b[0mfunc\u001b[0m\u001b[0;34m(\u001b[0m\u001b[0;34m*\u001b[0m\u001b[0margs\u001b[0m\u001b[0;34m,\u001b[0m \u001b[0;34m**\u001b[0m\u001b[0mkwargs\u001b[0m\u001b[0;34m)\u001b[0m\u001b[0;34m\u001b[0m\u001b[0;34m\u001b[0m\u001b[0m\n\u001b[0m\u001b[1;32m    332\u001b[0m \u001b[0;34m\u001b[0m\u001b[0m\n\u001b[1;32m    333\u001b[0m         \u001b[0;31m# error: \"Callable[[VarArg(Any), KwArg(Any)], Any]\" has no\u001b[0m\u001b[0;34m\u001b[0m\u001b[0;34m\u001b[0m\u001b[0;34m\u001b[0m\u001b[0m\n",
      "\u001b[0;32m~/.local/lib/python3.8/site-packages/pandas/io/parsers/readers.py\u001b[0m in \u001b[0;36mread_csv\u001b[0;34m(filepath_or_buffer, sep, delimiter, header, names, index_col, usecols, squeeze, prefix, mangle_dupe_cols, dtype, engine, converters, true_values, false_values, skipinitialspace, skiprows, skipfooter, nrows, na_values, keep_default_na, na_filter, verbose, skip_blank_lines, parse_dates, infer_datetime_format, keep_date_col, date_parser, dayfirst, cache_dates, iterator, chunksize, compression, thousands, decimal, lineterminator, quotechar, quoting, doublequote, escapechar, comment, encoding, encoding_errors, dialect, error_bad_lines, warn_bad_lines, on_bad_lines, delim_whitespace, low_memory, memory_map, float_precision, storage_options)\u001b[0m\n\u001b[1;32m    948\u001b[0m     \u001b[0mkwds\u001b[0m\u001b[0;34m.\u001b[0m\u001b[0mupdate\u001b[0m\u001b[0;34m(\u001b[0m\u001b[0mkwds_defaults\u001b[0m\u001b[0;34m)\u001b[0m\u001b[0;34m\u001b[0m\u001b[0;34m\u001b[0m\u001b[0m\n\u001b[1;32m    949\u001b[0m \u001b[0;34m\u001b[0m\u001b[0m\n\u001b[0;32m--> 950\u001b[0;31m     \u001b[0;32mreturn\u001b[0m \u001b[0m_read\u001b[0m\u001b[0;34m(\u001b[0m\u001b[0mfilepath_or_buffer\u001b[0m\u001b[0;34m,\u001b[0m \u001b[0mkwds\u001b[0m\u001b[0;34m)\u001b[0m\u001b[0;34m\u001b[0m\u001b[0;34m\u001b[0m\u001b[0m\n\u001b[0m\u001b[1;32m    951\u001b[0m \u001b[0;34m\u001b[0m\u001b[0m\n\u001b[1;32m    952\u001b[0m \u001b[0;34m\u001b[0m\u001b[0m\n",
      "\u001b[0;32m~/.local/lib/python3.8/site-packages/pandas/io/parsers/readers.py\u001b[0m in \u001b[0;36m_read\u001b[0;34m(filepath_or_buffer, kwds)\u001b[0m\n\u001b[1;32m    603\u001b[0m \u001b[0;34m\u001b[0m\u001b[0m\n\u001b[1;32m    604\u001b[0m     \u001b[0;31m# Create the parser.\u001b[0m\u001b[0;34m\u001b[0m\u001b[0;34m\u001b[0m\u001b[0;34m\u001b[0m\u001b[0m\n\u001b[0;32m--> 605\u001b[0;31m     \u001b[0mparser\u001b[0m \u001b[0;34m=\u001b[0m \u001b[0mTextFileReader\u001b[0m\u001b[0;34m(\u001b[0m\u001b[0mfilepath_or_buffer\u001b[0m\u001b[0;34m,\u001b[0m \u001b[0;34m**\u001b[0m\u001b[0mkwds\u001b[0m\u001b[0;34m)\u001b[0m\u001b[0;34m\u001b[0m\u001b[0;34m\u001b[0m\u001b[0m\n\u001b[0m\u001b[1;32m    606\u001b[0m \u001b[0;34m\u001b[0m\u001b[0m\n\u001b[1;32m    607\u001b[0m     \u001b[0;32mif\u001b[0m \u001b[0mchunksize\u001b[0m \u001b[0;32mor\u001b[0m \u001b[0miterator\u001b[0m\u001b[0;34m:\u001b[0m\u001b[0;34m\u001b[0m\u001b[0;34m\u001b[0m\u001b[0m\n",
      "\u001b[0;32m~/.local/lib/python3.8/site-packages/pandas/io/parsers/readers.py\u001b[0m in \u001b[0;36m__init__\u001b[0;34m(self, f, engine, **kwds)\u001b[0m\n\u001b[1;32m   1440\u001b[0m \u001b[0;34m\u001b[0m\u001b[0m\n\u001b[1;32m   1441\u001b[0m         \u001b[0mself\u001b[0m\u001b[0;34m.\u001b[0m\u001b[0mhandles\u001b[0m\u001b[0;34m:\u001b[0m \u001b[0mIOHandles\u001b[0m \u001b[0;34m|\u001b[0m \u001b[0;32mNone\u001b[0m \u001b[0;34m=\u001b[0m \u001b[0;32mNone\u001b[0m\u001b[0;34m\u001b[0m\u001b[0;34m\u001b[0m\u001b[0m\n\u001b[0;32m-> 1442\u001b[0;31m         \u001b[0mself\u001b[0m\u001b[0;34m.\u001b[0m\u001b[0m_engine\u001b[0m \u001b[0;34m=\u001b[0m \u001b[0mself\u001b[0m\u001b[0;34m.\u001b[0m\u001b[0m_make_engine\u001b[0m\u001b[0;34m(\u001b[0m\u001b[0mf\u001b[0m\u001b[0;34m,\u001b[0m \u001b[0mself\u001b[0m\u001b[0;34m.\u001b[0m\u001b[0mengine\u001b[0m\u001b[0;34m)\u001b[0m\u001b[0;34m\u001b[0m\u001b[0;34m\u001b[0m\u001b[0m\n\u001b[0m\u001b[1;32m   1443\u001b[0m \u001b[0;34m\u001b[0m\u001b[0m\n\u001b[1;32m   1444\u001b[0m     \u001b[0;32mdef\u001b[0m \u001b[0mclose\u001b[0m\u001b[0;34m(\u001b[0m\u001b[0mself\u001b[0m\u001b[0;34m)\u001b[0m \u001b[0;34m->\u001b[0m \u001b[0;32mNone\u001b[0m\u001b[0;34m:\u001b[0m\u001b[0;34m\u001b[0m\u001b[0;34m\u001b[0m\u001b[0m\n",
      "\u001b[0;32m~/.local/lib/python3.8/site-packages/pandas/io/parsers/readers.py\u001b[0m in \u001b[0;36m_make_engine\u001b[0;34m(self, f, engine)\u001b[0m\n\u001b[1;32m   1733\u001b[0m                 \u001b[0;32mif\u001b[0m \u001b[0;34m\"b\"\u001b[0m \u001b[0;32mnot\u001b[0m \u001b[0;32min\u001b[0m \u001b[0mmode\u001b[0m\u001b[0;34m:\u001b[0m\u001b[0;34m\u001b[0m\u001b[0;34m\u001b[0m\u001b[0m\n\u001b[1;32m   1734\u001b[0m                     \u001b[0mmode\u001b[0m \u001b[0;34m+=\u001b[0m \u001b[0;34m\"b\"\u001b[0m\u001b[0;34m\u001b[0m\u001b[0;34m\u001b[0m\u001b[0m\n\u001b[0;32m-> 1735\u001b[0;31m             self.handles = get_handle(\n\u001b[0m\u001b[1;32m   1736\u001b[0m                 \u001b[0mf\u001b[0m\u001b[0;34m,\u001b[0m\u001b[0;34m\u001b[0m\u001b[0;34m\u001b[0m\u001b[0m\n\u001b[1;32m   1737\u001b[0m                 \u001b[0mmode\u001b[0m\u001b[0;34m,\u001b[0m\u001b[0;34m\u001b[0m\u001b[0;34m\u001b[0m\u001b[0m\n",
      "\u001b[0;32m~/.local/lib/python3.8/site-packages/pandas/io/common.py\u001b[0m in \u001b[0;36mget_handle\u001b[0;34m(path_or_buf, mode, encoding, compression, memory_map, is_text, errors, storage_options)\u001b[0m\n\u001b[1;32m    854\u001b[0m         \u001b[0;32mif\u001b[0m \u001b[0mioargs\u001b[0m\u001b[0;34m.\u001b[0m\u001b[0mencoding\u001b[0m \u001b[0;32mand\u001b[0m \u001b[0;34m\"b\"\u001b[0m \u001b[0;32mnot\u001b[0m \u001b[0;32min\u001b[0m \u001b[0mioargs\u001b[0m\u001b[0;34m.\u001b[0m\u001b[0mmode\u001b[0m\u001b[0;34m:\u001b[0m\u001b[0;34m\u001b[0m\u001b[0;34m\u001b[0m\u001b[0m\n\u001b[1;32m    855\u001b[0m             \u001b[0;31m# Encoding\u001b[0m\u001b[0;34m\u001b[0m\u001b[0;34m\u001b[0m\u001b[0;34m\u001b[0m\u001b[0m\n\u001b[0;32m--> 856\u001b[0;31m             handle = open(\n\u001b[0m\u001b[1;32m    857\u001b[0m                 \u001b[0mhandle\u001b[0m\u001b[0;34m,\u001b[0m\u001b[0;34m\u001b[0m\u001b[0;34m\u001b[0m\u001b[0m\n\u001b[1;32m    858\u001b[0m                 \u001b[0mioargs\u001b[0m\u001b[0;34m.\u001b[0m\u001b[0mmode\u001b[0m\u001b[0;34m,\u001b[0m\u001b[0;34m\u001b[0m\u001b[0;34m\u001b[0m\u001b[0m\n",
      "\u001b[0;31mFileNotFoundError\u001b[0m: [Errno 2] No such file or directory: '../../result/potential/wilson_loop/fundamental/su2/qc2dstag/40^4/mu0.40/HYP1_alpha=1_1_0.5_APE_alpha=0.5/potential/potential_original.csv'"
     ]
    }
   ],
   "source": [
    "r_max = 17\n",
    "constraints = {'r/a': (1, r_max)}\n",
    "fit_range = (8, r_max)\n",
    "mu_arr = ['mu0.40', 'mu0.45']\n",
    "paths = []\n",
    "r0 = 9.8\n",
    "y_lims = (0, 0.6)\n",
    "for mu in mu_arr:\n",
    "    path = f'../../result/potential/wilson_loop/fundamental/su2/qc2dstag/40^4/{mu}'\n",
    "    paths.append({'name' : 'SU2', 'path' : f'{path}/HYP1_alpha=1_1_0.5_APE_alpha=0.5/potential/potential_original.csv', 'constraints': constraints})\n",
    "decomposition.potentials_fit(paths, 'SU2', fit_range, r0, y_lims,  f'../../images/potential/decomposition/su2/qc2dstag/40^4/{mu}', 'potential_fit')"
   ]
  },
  {
   "cell_type": "code",
   "execution_count": 11,
   "metadata": {},
   "outputs": [],
   "source": [
    "def make_plot_decomposition_su2(path1, size, beta, beta_str, params, compensate, r_max, y_lims, representation):\n",
    "    beta1 = beta_str.replace('.', 'p')\n",
    "    path = f'{path1}/{size}/{beta_str}'\n",
    "    constraints = {'r/a': (1, r_max)}\n",
    "    paths = {'original': {'name' : 'SU2', 'path' : f'{path}/HYP1_alpha=1_1_0.5_APE_alpha=0.5/potential/potential_original.csv', 'T' : 8, 'constraints': constraints},\n",
    "            'monopole': {'name' : 'monopole', 'path' : f'{path}/HYP1_alpha=1_1_0.5_APE_alpha=0.5/{params}/{compensate}/potential/potential_monopole.csv', 'T' : 8, 'constraints': constraints},\n",
    "            'monopoless': {'name' : 'modified', 'path' : f'{path}/HYP1_alpha=1_1_0.5_APE_alpha=0.5/{params}/{compensate}/potential/potential_monopoless.csv', 'T' : 8, 'constraints': constraints},\n",
    "            'abelian': {'name' : 'abel', 'path' : f'{path}/HYP1_alpha=1_1_0.5_APE_alpha=0.5/{params}/potential/potential_abelian.csv', 'T' : 8},\n",
    "            'offdiagonal': {'name' : 'offdiag', 'path' : f'{path}/HYP1_alpha=1_1_0.5_APE_alpha=0.5/{params}/{compensate}/potential/potential_offdiagonal.csv', 'T' : 8}}\n",
    "    r0 = 1/9.8\n",
    "    fit_range = (3*r0, r_max*r0)\n",
    "    remove_from_plot = []\n",
    "    # decomposition.potential_decomposition(paths, f'../../images/potential/decomposition/su2/qc2dstag/{size}/{beta1}', f'potential_decomposition_full_fit_from_original_{size}_{beta1}', beta, y_lims, True, r0, fit_range, remove_from_plot, False)\n",
    "#     decomposition.potential_decomposition(paths, f'../../images/potential/decomposition/su2/qc2dstag/{size}/{beta1}', f'potential_decomposition_full_fit_from_original_{size}_{beta1}_black', beta, y_lims, True, r0, fit_range, remove_from_plot, True)\n",
    "#     decomposition.potential_decomposition(paths, f'../../images/potential/decomposition/su2/qc2dstag/{size}/{beta1}', f'potential_decomposition_full_fit_separate_{size}_{beta1}', beta, y_lims, False, r0, fit_range, remove_from_plot, False)\n",
    "#     decomposition.potential_decomposition(paths, f'../../images/potential/decomposition/su2/qc2dstag/{size}/{beta1}', f'potential_decomposition_full_fit_separate_{size}_{beta1}_black', beta, y_lims, False, r0, fit_range, remove_from_plot, True)\n",
    "#     remove_from_plot = ['monopole', 'monopoless']\n",
    "#     decomposition.potential_decomposition(paths, f'../../images/potential/decomposition/su2/qc2dstag/{size}/{beta1}', f'potential_decomposition_full_mon_mod_removed_fit_from_original_{size}_{beta1}', beta, y_lims, True, r0, fit_range, remove_from_plot, False)\n",
    "#     decomposition.potential_decomposition(paths, f'../../images/potential/decomposition/su2/qc2dstag/{size}/{beta1}', f'potential_decomposition_full_mon_mod_removed_fit_from_original_{size}_{beta1}_black', beta, y_lims, True, r0, fit_range, remove_from_plot, True)\n",
    "#     decomposition.potential_decomposition(paths, f'../../images/potential/decomposition/su2/qc2dstag/{size}/{beta1}', f'potential_decomposition_full_mon_mod_removed_fit_separate_{size}_{beta1}', beta, y_lims, False, r0, fit_range, remove_from_plot, False)\n",
    "#     decomposition.potential_decomposition(paths, f'../../images/potential/decomposition/su2/qc2dstag/{size}/{beta1}', f'potential_decomposition_full_mon_mod_removed_fit_separate_{size}_{beta1}_black', beta, y_lims, False, r0, fit_range, remove_from_plot, True)\n",
    "    paths = {'original': {'name' : 'SU2', 'path' : f'{path}/HYP1_alpha=1_1_0.5_APE_alpha=0.5/potential/potential_original.csv', 'T': 6, 'constraints': constraints},\n",
    "            'monopole': {'name' : 'monopole', 'path' : f'{path}/HYP1_alpha=1_1_0.5_APE_alpha=0.5/{params}/{compensate}/potential/potential_monopole.csv', 'T' : 12, 'constraints': constraints},\n",
    "            'monopoless': {'name' : 'modified', 'path' : f'{path}/HYP1_alpha=1_1_0.5_APE_alpha=0.5/{params}/{compensate}/potential/potential_monopoless.csv', 'T' : 8, 'constraints': constraints}}\n",
    "    remove_from_plot = []\n",
    "    decomposition.potential_decomposition(paths, f'../../images/potential/{representation}/decomposition/su2/qc2dstag/{size}', f'potential_decomposition_mon_mod_fit_from_original_{size}_{beta1}', beta, y_lims, True, r0, fit_range, remove_from_plot, False)\n",
    "#     decomposition.potential_decomposition(paths, f'../../images/potential/decomposition/su2/qc2dstag/{size}/{beta1}', f'potential_decomposition_mon_mod_fit_from_original_{size}_{beta1}_black', beta, y_lims, True, r0, fit_range, remove_from_plot, True)\n",
    "    decomposition.potential_decomposition(paths, f'../../images/potential/{representation}/decomposition/su2/qc2dstag/{size}', f'potential_decomposition_mon_mod_fit_separate_{size}_{beta1}', beta, y_lims, False, r0, fit_range, remove_from_plot, False)\n",
    "#     decomposition.potential_decomposition(paths, f'../../images/potential/decomposition/su2/qc2dstag/{size}/{beta1}', f'potential_decomposition_mon_mod_fit_separate_{size}_{beta1}_black', beta, y_lims, False, r0, fit_range, remove_from_plot, True)"
   ]
  },
  {
   "cell_type": "code",
   "execution_count": 9,
   "metadata": {},
   "outputs": [
    {
     "ename": "TypeError",
     "evalue": "make_plot_decomposition_su2() missing 1 required positional argument: 'representation'",
     "output_type": "error",
     "traceback": [
      "\u001b[0;31m---------------------------------------------------------------------------\u001b[0m",
      "\u001b[0;31mTypeError\u001b[0m                                 Traceback (most recent call last)",
      "\u001b[0;32m<ipython-input-9-b60499d2b2fd>\u001b[0m in \u001b[0;36m<module>\u001b[0;34m\u001b[0m\n\u001b[0;32m----> 1\u001b[0;31m \u001b[0mmake_plot_decomposition_su2\u001b[0m\u001b[0;34m(\u001b[0m\u001b[0;34m'../../result/potential/wilson_loop/adjoint/su2/su2_suzuki'\u001b[0m\u001b[0;34m,\u001b[0m \u001b[0;34m'48^4'\u001b[0m\u001b[0;34m,\u001b[0m \u001b[0;36m2.8\u001b[0m\u001b[0;34m,\u001b[0m \u001b[0;34m'beta2.8'\u001b[0m\u001b[0;34m,\u001b[0m \u001b[0;34m'T_step=0.0002'\u001b[0m\u001b[0;34m,\u001b[0m \u001b[0;34m'/'\u001b[0m\u001b[0;34m,\u001b[0m \u001b[0;36m24\u001b[0m\u001b[0;34m,\u001b[0m \u001b[0;34m(\u001b[0m\u001b[0;34m-\u001b[0m\u001b[0;36m0.1\u001b[0m\u001b[0;34m,\u001b[0m \u001b[0;36m2\u001b[0m\u001b[0;34m)\u001b[0m\u001b[0;34m)\u001b[0m\u001b[0;34m\u001b[0m\u001b[0;34m\u001b[0m\u001b[0m\n\u001b[0m",
      "\u001b[0;31mTypeError\u001b[0m: make_plot_decomposition_su2() missing 1 required positional argument: 'representation'"
     ]
    }
   ],
   "source": [
    "make_plot_decomposition_su2('../../result/potential/wilson_loop/adjoint/su2/su2_suzuki', '48^4', 2.8, 'beta2.8', 'T_step=0.0002', '/', 24, (-0.1, 2))"
   ]
  },
  {
   "cell_type": "code",
   "execution_count": 10,
   "metadata": {},
   "outputs": [
    {
     "ename": "TypeError",
     "evalue": "make_plot_decomposition_su2() missing 1 required positional argument: 'representation'",
     "output_type": "error",
     "traceback": [
      "\u001b[0;31m---------------------------------------------------------------------------\u001b[0m",
      "\u001b[0;31mTypeError\u001b[0m                                 Traceback (most recent call last)",
      "\u001b[0;32m<ipython-input-10-67ef31af7f6d>\u001b[0m in \u001b[0;36m<module>\u001b[0;34m\u001b[0m\n\u001b[0;32m----> 1\u001b[0;31m \u001b[0mmake_plot_decomposition_su2\u001b[0m\u001b[0;34m(\u001b[0m\u001b[0;34m'../../result/potential/wilson_loop/fundamental/su2/su2_suzuki'\u001b[0m\u001b[0;34m,\u001b[0m \u001b[0;34m'48^4'\u001b[0m\u001b[0;34m,\u001b[0m \u001b[0;36m2.6\u001b[0m\u001b[0;34m,\u001b[0m \u001b[0;34m'beta2.6'\u001b[0m\u001b[0;34m,\u001b[0m \u001b[0;34m'T_step=0.01'\u001b[0m\u001b[0;34m,\u001b[0m \u001b[0;34m'/'\u001b[0m\u001b[0;34m,\u001b[0m \u001b[0;36m24\u001b[0m\u001b[0;34m,\u001b[0m \u001b[0;34m(\u001b[0m\u001b[0;34m-\u001b[0m\u001b[0;36m0.03\u001b[0m\u001b[0;34m,\u001b[0m \u001b[0;36m0.75\u001b[0m\u001b[0;34m)\u001b[0m\u001b[0;34m)\u001b[0m\u001b[0;34m\u001b[0m\u001b[0;34m\u001b[0m\u001b[0m\n\u001b[0m",
      "\u001b[0;31mTypeError\u001b[0m: make_plot_decomposition_su2() missing 1 required positional argument: 'representation'"
     ]
    }
   ],
   "source": [
    "make_plot_decomposition_su2('../../result/potential/wilson_loop/fundamental/su2/su2_suzuki', '48^4', 2.6, 'beta2.6', 'T_step=0.01', '/', 24, (-0.03, 0.75))"
   ]
  },
  {
   "cell_type": "code",
   "execution_count": null,
   "metadata": {},
   "outputs": [],
   "source": [
    "params = ['T_step=0.0001', 'T_step=0.0002', 'T_step=0.0004', 'T_step=0.0008', 'T_step=0.0016', 'T_step=0.0032']\n",
    "for p in params:\n",
    "    make_plot_decomposition_su2('../../result/potential/wilson_loop/fundamental/su2/su2_suzuki', '48^4', 2.7, 'beta2.7', p, '/', 24, (-0.03, 0.61))"
   ]
  },
  {
   "cell_type": "code",
   "execution_count": null,
   "metadata": {},
   "outputs": [],
   "source": [
    "params = ['T_step=0.0001', 'T_step=0.0002', 'T_step=0.0004', 'T_step=0.0008', 'T_step=0.001', 'T_step=0.002', 'T_step=0.004', 'T_step=0.008', 'T_step=5e-05']\n",
    "for p in params:\n",
    "    print(p)\n",
    "    make_plot_decomposition_su2('../../result/potential/wilson_loop/fundamental/su2/su2_suzuki', '48^4', 2.8, 'beta2.8', p, '/', 24, (-0.03, 0.61))"
   ]
  },
  {
   "cell_type": "code",
   "execution_count": null,
   "metadata": {},
   "outputs": [],
   "source": [
    "params = ['T_step=0.0001', 'T_step=0.0002', 'T_step=0.0004', 'T_step=0.0008', 'T_step=0.0016', 'T_step=0.0032']\n",
    "for p in params:\n",
    "    make_plot_decomposition_su2('../../result/potential/wilson_loop/fundamental/su2/su2_suzuki', '48^4', 2.6, 'beta2.7', p, '/', 24, (-0.03, 0.61))"
   ]
  },
  {
   "cell_type": "code",
   "execution_count": null,
   "metadata": {},
   "outputs": [],
   "source": [
    "for mu in ['mu0.00', 'mu0.05', 'mu0.20', 'mu0.25', 'mu0.30', 'mu0.35', 'mu0.40', 'mu0.45']:\n",
    "    print(mu)\n",
    "    make_plot_decomposition_su2('../../result/potential/wilson_loop/fundamental/su2/qc2dstag', '40^4', 1, mu, '/', '/', 20, (-2, 6.1), 'fundamental')"
   ]
  },
  {
   "cell_type": "code",
   "execution_count": null,
   "metadata": {},
   "outputs": [],
   "source": [
    "for mu in ['mu0.00', 'mu0.05', 'mu0.20', 'mu0.25', 'mu0.30', 'mu0.35', 'mu0.45']:\n",
    "    print(mu)\n",
    "    make_plot_decomposition_su2('../../result/potential/wilson_loop/adjoint/su2/qc2dstag', '40^4', 1, mu, '/', '/', 12, (-0.4, 11), 'adjoint')"
   ]
  },
  {
   "cell_type": "code",
   "execution_count": 4,
   "metadata": {},
   "outputs": [],
   "source": [
    "def make_plot_decomposition(path1, size, beta, beta_str, params, compensate, r_max, T_max, y_lims):\n",
    "    beta1 = beta_str.replace('.', 'p')\n",
    "    path = f'{path1}/{size}/{beta_str}'\n",
    "    constraints = {'r/a': (1, r_max), 'T': (1, T_max)}\n",
    "    paths = {'original': {'name' : 'SU3', 'path' : f'{path}/HYP0_alpha=1_1_0.5_APE_alpha=0.5/potential_original.csv', 'constraints': constraints},\n",
    "            'monopole': {'name' : 'mon', 'path' : f'{path}/HYP0_alpha=1_1_0.5_APE_alpha=0.5/{params}/{compensate}/potential_monopole.csv', 'T' : 11, 'constraints': constraints},\n",
    "            'monopoless': {'name' : 'mod', 'path' : f'{path}/HYP0_alpha=1_1_0.5_APE_alpha=0.5/{params}/{compensate}/potential_monopoless.csv', 'T' : 8, 'constraints': constraints},\n",
    "            'abelian': {'name' : 'abel', 'path' : f'{path}/HYP0_alpha=1_1_0.5_APE_alpha=0.5/{params}/potential_abelian.csv', 'T' : 8},\n",
    "            'offdiagonal': {'name' : 'offdiag', 'path' : f'{path}/HYP0_alpha=1_1_0.5_APE_alpha=0.5/{params}/{compensate}/potential_offdiagonal.csv', 'T' : 6}}\n",
    "    r0 = scaler.get_r0(beta)\n",
    "    fit_range = (2, r_max)\n",
    "    remove_from_plot = []\n",
    "    # decomposition.potential_decomposition(paths, f'../../images/potential/decomposition/su3/gluodynamics/{size}/{beta_str}', f'potential_decomposition_full_fit_from_original_{size}_{beta1}', beta, y_lims, True, r0, fit_range, remove_from_plot, False)\n",
    "#     decomposition.potential_decomposition(paths, f'../../images/potential/decomposition/su3/gluodynamics/{size}/{beta_str}', f'potential_decomposition_full_fit_from_original_{size}_{beta1}_black', beta, y_lims, True, r0, fit_range, remove_from_plot, True)\n",
    "    # decomposition.potential_decomposition(paths, f'../../images/potential/decomposition/su3/gluodynamics/{size}/{beta_str}', f'potential_decomposition_full_fit_separate_{size}_{beta1}', beta, y_lims, False, r0, fit_range, remove_from_plot, False)\n",
    "#     decomposition.potential_decomposition(paths, f'../../images/potential/decomposition/su3/gluodynamics/{size}/{beta_str}', f'potential_decomposition_full_fit_separate_{size}_{beta1}_black', beta, y_lims, False, r0, fit_range, remove_from_plot, True)\n",
    "    remove_from_plot = ['monopole', 'monopoless']\n",
    "#     decomposition.potential_decomposition(paths, f'../../images/potential/decomposition/su3/gluodynamics/{size}/{beta_str}', f'potential_decomposition_full_mon_mod_removed_fit_from_original_{size}_{beta1}', beta, y_lims, True, r0, fit_range, remove_from_plot, False)\n",
    "#     decomposition.potential_decomposition(paths, f'../../images/potential/decomposition/su3/gluodynamics/{size}/{beta_str}', f'potential_decomposition_full_mon_mod_removed_fit_from_original_{size}_{beta1}_black', beta, y_lims, True, r0, fit_range, remove_from_plot, True)\n",
    "    decomposition.potential_decomposition(paths, f'../../images/potential/decomposition/su3/gluodynamics/{size}/{beta_str}', f'potential_decomposition_full_mon_mod_removed_fit_separate_{size}_{beta1}', beta, y_lims, False, r0, fit_range, remove_from_plot, False)\n",
    "#     decomposition.potential_decomposition(paths, f'../../images/potential/decomposition/su3/gluodynamics/{size}/{beta_str}', f'potential_decomposition_full_mon_mod_removed_fit_separate_{size}_{beta1}_black', beta, y_lims, False, r0, fit_range, remove_from_plot, True)\n",
    "    paths = {'original': {'name' : 'SU3', 'path' : f'{path}/HYP0_alpha=1_1_0.5_APE_alpha=0.5/potential_original.csv', 'constraints': constraints},\n",
    "            'monopole': {'name' : 'mon', 'path' : f'{path}/HYP0_alpha=1_1_0.5_APE_alpha=0.5/{params}/{compensate}/potential_monopole.csv', 'T' : 11, 'constraints': constraints},\n",
    "            'monopoless': {'name' : 'mod', 'path' : f'{path}/HYP0_alpha=1_1_0.5_APE_alpha=0.5/{params}/{compensate}/potential_monopoless.csv', 'T' : 8, 'constraints': constraints}}\n",
    "    remove_from_plot = []\n",
    "    # decomposition.potential_decomposition(paths, f'../../images/potential/decomposition/su3/gluodynamics/{size}/{beta_str}', f'potential_decomposition_mon_mod_fit_from_original_{size}_{beta1}', beta, y_lims, True, r0, fit_range, remove_from_plot, False)\n",
    "#     decomposition.potential_decomposition(paths, f'../../images/potential/decomposition/su3/gluodynamics/{size}/{beta_str}', f'potential_decomposition_mon_mod_fit_from_original_{size}_{beta1}_black', beta, y_lims, True, r0, fit_range, remove_from_plot, True)\n",
    "    decomposition.potential_decomposition(paths, f'../../images/potential/decomposition/su3/gluodynamics/{size}/{beta_str}', f'potential_decomposition_mon_mod_fit_separate_{size}_{beta1}', beta, y_lims, False, r0, fit_range, remove_from_plot, False)\n",
    "#     decomposition.potential_decomposition(paths, f'../../images/potential/decomposition/su3/gluodynamics/{size}/{beta_str}', f'potential_decomposition_mon_mod_fit_separate_{size}_{beta1}_black', beta, y_lims, False, r0, fit_range, remove_from_plot, True)"
   ]
  },
  {
   "cell_type": "code",
   "execution_count": 3,
   "metadata": {},
   "outputs": [
    {
     "name": "stdout",
     "output_type": "stream",
     "text": [
      "{6: 5.367702622812138, 6.1: 6.336355747797897, 6.2: 7.382899148340123, 6.3: 8.513427304567733}\n"
     ]
    }
   ],
   "source": [
    "a = {}\n",
    "for beta in [6, 6.1, 6.2, 6.3]:\n",
    "    a[beta] = 1/ scaler.get_r0(beta)\n",
    "print(a)"
   ]
  },
  {
   "cell_type": "code",
   "execution_count": 5,
   "metadata": {},
   "outputs": [
    {
     "data": {
      "image/png": "[encoded data removed]",
      "text/plain": [
       "<Figure size 504x360 with 1 Axes>"
      ]
     },
     "metadata": {
      "needs_background": "light"
     },
     "output_type": "display_data"
    },
    {
     "name": "stdout",
     "output_type": "stream",
     "text": [
      "../../images/potential/decomposition/su3/gluodynamics/24^4/beta6.0/potential_decomposition_full_mon_mod_removed_fit_separate_24^4_beta6p0\n"
     ]
    },
    {
     "data": {
      "image/png": "[encoded data removed]",
      "text/plain": [
       "<Figure size 504x360 with 1 Axes>"
      ]
     },
     "metadata": {
      "needs_background": "light"
     },
     "output_type": "display_data"
    },
    {
     "name": "stdout",
     "output_type": "stream",
     "text": [
      "../../images/potential/decomposition/su3/gluodynamics/24^4/beta6.0/potential_decomposition_mon_mod_fit_separate_24^4_beta6p0\n"
     ]
    }
   ],
   "source": [
    "# make_plot_decomposition('../../result/potential/wilson_loop/fundamental/su3/gluodynamics', '24^4', 6.0, 'beta6.0', 'steps_25/copies=4', '/', 12, 11, (-1, 8))\n",
    "# make_plot_decomposition('../../result/potential/wilson_loop/fundamental/su3/gluodynamics', '24^4', 6.0, 'beta6.0', 'steps_50/copies=4', '/', 12, 11, (-1, 8))\n",
    "make_plot_decomposition('../../result/potential/wilson_loop/fundamental/su3/gluodynamics', '24^4', 6.0, 'beta6.0', 'steps_100/copies=4', '/', 12, 11, (-1, 8))\n",
    "# make_plot_decomposition('../../result/potential/wilson_loop/fundamental/su3/gluodynamics', '24^4', 6.0, 'beta6.0', 'steps_200/copies=4', '/', 12, 11, (-1, 8))\n",
    "# make_plot_decomposition('../../result/potential/wilson_loop/fundamental/su3/gluodynamics', '24^4', 6.0, 'beta6.0', 'steps_1000/copies=4', '/', 12, 11, (-1, 8))"
   ]
  },
  {
   "cell_type": "code",
   "execution_count": 7,
   "metadata": {},
   "outputs": [
    {
     "name": "stderr",
     "output_type": "stream",
     "text": [
      "/home/ilya/.local/lib/python3.8/site-packages/scipy/optimize/_minpack_py.py:828: RuntimeWarning: divide by zero encountered in divide\n",
      "  transform = 1.0 / sigma\n"
     ]
    },
    {
     "data": {
      "image/png": "[encoded data removed]",
      "text/plain": [
       "<Figure size 504x360 with 1 Axes>"
      ]
     },
     "metadata": {
      "needs_background": "light"
     },
     "output_type": "display_data"
    },
    {
     "name": "stdout",
     "output_type": "stream",
     "text": [
      "../../images/potential/decomposition/su3/gluodynamics/36^4/beta6.3/potential_decomposition_mon_mod_fit_separate_36^4_beta6p3\n"
     ]
    }
   ],
   "source": [
    "make_plot_decomposition('../../result/potential/wilson_loop/fundamental/su3/gluodynamics', '36^4', 6.3, 'beta6.3', 'steps_25/copies=4', '/', 18, 16, (-1, 8.5))"
   ]
  },
  {
   "cell_type": "code",
   "execution_count": 8,
   "metadata": {},
   "outputs": [
    {
     "ename": "FileNotFoundError",
     "evalue": "[Errno 2] No such file or directory: '../../result/potential/wilson_loop/fundamental/su3/gluodynamics/36^4/beta6.3/HYP0_alpha=1_1_0.5_APE_alpha=0.5/steps_50/copies=4///potential_monopoless.csv'",
     "output_type": "error",
     "traceback": [
      "\u001b[0;31m---------------------------------------------------------------------------\u001b[0m",
      "\u001b[0;31mFileNotFoundError\u001b[0m                         Traceback (most recent call last)",
      "\u001b[0;32m<ipython-input-8-35a7d2ec1087>\u001b[0m in \u001b[0;36m<module>\u001b[0;34m\u001b[0m\n\u001b[0;32m----> 1\u001b[0;31m \u001b[0mmake_plot_decomposition\u001b[0m\u001b[0;34m(\u001b[0m\u001b[0;34m'../../result/potential/wilson_loop/fundamental/su3/gluodynamics'\u001b[0m\u001b[0;34m,\u001b[0m \u001b[0;34m'36^4'\u001b[0m\u001b[0;34m,\u001b[0m \u001b[0;36m6.3\u001b[0m\u001b[0;34m,\u001b[0m \u001b[0;34m'beta6.3'\u001b[0m\u001b[0;34m,\u001b[0m \u001b[0;34m'steps_50/copies=4'\u001b[0m\u001b[0;34m,\u001b[0m \u001b[0;34m'/'\u001b[0m\u001b[0;34m,\u001b[0m \u001b[0;36m18\u001b[0m\u001b[0;34m,\u001b[0m \u001b[0;36m16\u001b[0m\u001b[0;34m,\u001b[0m \u001b[0;34m(\u001b[0m\u001b[0;34m-\u001b[0m\u001b[0;36m1\u001b[0m\u001b[0;34m,\u001b[0m \u001b[0;36m8.5\u001b[0m\u001b[0;34m)\u001b[0m\u001b[0;34m)\u001b[0m\u001b[0;34m\u001b[0m\u001b[0;34m\u001b[0m\u001b[0m\n\u001b[0m",
      "\u001b[0;32m<ipython-input-2-90579ce599f2>\u001b[0m in \u001b[0;36mmake_plot_decomposition\u001b[0;34m(path1, size, beta, beta_str, params, compensate, r_max, T_max, y_lims)\u001b[0m\n\u001b[1;32m     26\u001b[0m     \u001b[0;31m# decomposition.potential_decomposition(paths, f'../../images/potential/decomposition/su3/gluodynamics/{size}/{beta_str}', f'potential_decomposition_mon_mod_fit_from_original_{size}_{beta1}', beta, y_lims, True, r0, fit_range, remove_from_plot, False)\u001b[0m\u001b[0;34m\u001b[0m\u001b[0;34m\u001b[0m\u001b[0;34m\u001b[0m\u001b[0m\n\u001b[1;32m     27\u001b[0m \u001b[0;31m#     decomposition.potential_decomposition(paths, f'../../images/potential/decomposition/su3/gluodynamics/{size}/{beta_str}', f'potential_decomposition_mon_mod_fit_from_original_{size}_{beta1}_black', beta, y_lims, True, r0, fit_range, remove_from_plot, True)\u001b[0m\u001b[0;34m\u001b[0m\u001b[0;34m\u001b[0m\u001b[0;34m\u001b[0m\u001b[0m\n\u001b[0;32m---> 28\u001b[0;31m     \u001b[0mdecomposition\u001b[0m\u001b[0;34m.\u001b[0m\u001b[0mpotential_decomposition\u001b[0m\u001b[0;34m(\u001b[0m\u001b[0mpaths\u001b[0m\u001b[0;34m,\u001b[0m \u001b[0;34mf'../../images/potential/decomposition/su3/gluodynamics/{size}/{beta_str}'\u001b[0m\u001b[0;34m,\u001b[0m \u001b[0;34mf'potential_decomposition_mon_mod_fit_separate_{size}_{beta1}'\u001b[0m\u001b[0;34m,\u001b[0m \u001b[0mbeta\u001b[0m\u001b[0;34m,\u001b[0m \u001b[0my_lims\u001b[0m\u001b[0;34m,\u001b[0m \u001b[0;32mFalse\u001b[0m\u001b[0;34m,\u001b[0m \u001b[0mr0\u001b[0m\u001b[0;34m,\u001b[0m \u001b[0mfit_range\u001b[0m\u001b[0;34m,\u001b[0m \u001b[0mremove_from_plot\u001b[0m\u001b[0;34m,\u001b[0m \u001b[0;32mFalse\u001b[0m\u001b[0;34m)\u001b[0m\u001b[0;34m\u001b[0m\u001b[0;34m\u001b[0m\u001b[0m\n\u001b[0m\u001b[1;32m     29\u001b[0m \u001b[0;31m#     decomposition.potential_decomposition(paths, f'../../images/potential/decomposition/su3/gluodynamics/{size}/{beta_str}', f'potential_decomposition_mon_mod_fit_separate_{size}_{beta1}_black', beta, y_lims, False, r0, fit_range, remove_from_plot, True)\u001b[0m\u001b[0;34m\u001b[0m\u001b[0;34m\u001b[0m\u001b[0;34m\u001b[0m\u001b[0m\n",
      "\u001b[0;32m~/soft/lattice/observables/python_jupyter/potential/decomposition.py\u001b[0m in \u001b[0;36mpotential_decomposition\u001b[0;34m(paths, image_path, image_name, beta, y_lims, fit_original, r0, fit_range, remove_from_plot, black_colors)\u001b[0m\n\u001b[1;32m     68\u001b[0m \u001b[0;34m\u001b[0m\u001b[0m\n\u001b[1;32m     69\u001b[0m \u001b[0;32mdef\u001b[0m \u001b[0mpotential_decomposition\u001b[0m\u001b[0;34m(\u001b[0m\u001b[0mpaths\u001b[0m\u001b[0;34m,\u001b[0m \u001b[0mimage_path\u001b[0m\u001b[0;34m,\u001b[0m \u001b[0mimage_name\u001b[0m\u001b[0;34m,\u001b[0m \u001b[0mbeta\u001b[0m\u001b[0;34m,\u001b[0m \u001b[0my_lims\u001b[0m\u001b[0;34m,\u001b[0m \u001b[0mfit_original\u001b[0m\u001b[0;34m,\u001b[0m \u001b[0mr0\u001b[0m\u001b[0;34m,\u001b[0m \u001b[0mfit_range\u001b[0m\u001b[0;34m,\u001b[0m \u001b[0mremove_from_plot\u001b[0m\u001b[0;34m,\u001b[0m \u001b[0mblack_colors\u001b[0m\u001b[0;34m)\u001b[0m\u001b[0;34m:\u001b[0m\u001b[0;34m\u001b[0m\u001b[0;34m\u001b[0m\u001b[0m\n\u001b[0;32m---> 70\u001b[0;31m     \u001b[0mdata_decomposition\u001b[0m \u001b[0;34m=\u001b[0m \u001b[0mpotential_data\u001b[0m\u001b[0;34m.\u001b[0m\u001b[0mDataDecomposition\u001b[0m\u001b[0;34m(\u001b[0m\u001b[0mpaths\u001b[0m\u001b[0;34m)\u001b[0m\u001b[0;34m\u001b[0m\u001b[0;34m\u001b[0m\u001b[0m\n\u001b[0m\u001b[1;32m     71\u001b[0m     \u001b[0;31m# print(data_decomposition.data)\u001b[0m\u001b[0;34m\u001b[0m\u001b[0;34m\u001b[0m\u001b[0;34m\u001b[0m\u001b[0m\n\u001b[1;32m     72\u001b[0m     \u001b[0mdata_decomposition\u001b[0m\u001b[0;34m.\u001b[0m\u001b[0mget_single_T\u001b[0m\u001b[0;34m(\u001b[0m\u001b[0;34m)\u001b[0m\u001b[0;34m\u001b[0m\u001b[0;34m\u001b[0m\u001b[0m\n",
      "\u001b[0;32m~/soft/lattice/observables/python_jupyter/potential/potential_data.py\u001b[0m in \u001b[0;36m__init__\u001b[0;34m(self, paths)\u001b[0m\n\u001b[1;32m     16\u001b[0m         \u001b[0mdata\u001b[0m \u001b[0;34m=\u001b[0m \u001b[0;34m[\u001b[0m\u001b[0;34m]\u001b[0m\u001b[0;34m\u001b[0m\u001b[0;34m\u001b[0m\u001b[0m\n\u001b[1;32m     17\u001b[0m         \u001b[0;32mfor\u001b[0m \u001b[0mtype\u001b[0m\u001b[0;34m,\u001b[0m \u001b[0mpath\u001b[0m \u001b[0;32min\u001b[0m \u001b[0mpaths\u001b[0m\u001b[0;34m.\u001b[0m\u001b[0mitems\u001b[0m\u001b[0;34m(\u001b[0m\u001b[0;34m)\u001b[0m\u001b[0;34m:\u001b[0m\u001b[0;34m\u001b[0m\u001b[0;34m\u001b[0m\u001b[0m\n\u001b[0;32m---> 18\u001b[0;31m             \u001b[0mdata\u001b[0m\u001b[0;34m.\u001b[0m\u001b[0mappend\u001b[0m\u001b[0;34m(\u001b[0m\u001b[0mpd\u001b[0m\u001b[0;34m.\u001b[0m\u001b[0mread_csv\u001b[0m\u001b[0;34m(\u001b[0m\u001b[0mpath\u001b[0m\u001b[0;34m[\u001b[0m\u001b[0;34m'path'\u001b[0m\u001b[0;34m]\u001b[0m\u001b[0;34m,\u001b[0m \u001b[0mindex_col\u001b[0m\u001b[0;34m=\u001b[0m\u001b[0;32mNone\u001b[0m\u001b[0;34m)\u001b[0m\u001b[0;34m)\u001b[0m\u001b[0;34m\u001b[0m\u001b[0;34m\u001b[0m\u001b[0m\n\u001b[0m\u001b[1;32m     19\u001b[0m             \u001b[0mdata\u001b[0m\u001b[0;34m[\u001b[0m\u001b[0;34m-\u001b[0m\u001b[0;36m1\u001b[0m\u001b[0;34m]\u001b[0m\u001b[0;34m.\u001b[0m\u001b[0mreset_index\u001b[0m\u001b[0;34m(\u001b[0m\u001b[0mdrop\u001b[0m\u001b[0;34m=\u001b[0m\u001b[0;32mTrue\u001b[0m\u001b[0;34m,\u001b[0m \u001b[0minplace\u001b[0m\u001b[0;34m=\u001b[0m\u001b[0;32mTrue\u001b[0m\u001b[0;34m)\u001b[0m\u001b[0;34m\u001b[0m\u001b[0;34m\u001b[0m\u001b[0m\n\u001b[1;32m     20\u001b[0m             \u001b[0;32mif\u001b[0m \u001b[0;34m'constraints'\u001b[0m \u001b[0;32min\u001b[0m \u001b[0mpath\u001b[0m\u001b[0;34m:\u001b[0m\u001b[0;34m\u001b[0m\u001b[0;34m\u001b[0m\u001b[0m\n",
      "\u001b[0;32m~/.local/lib/python3.8/site-packages/pandas/util/_decorators.py\u001b[0m in \u001b[0;36mwrapper\u001b[0;34m(*args, **kwargs)\u001b[0m\n\u001b[1;32m    209\u001b[0m                 \u001b[0;32melse\u001b[0m\u001b[0;34m:\u001b[0m\u001b[0;34m\u001b[0m\u001b[0;34m\u001b[0m\u001b[0m\n\u001b[1;32m    210\u001b[0m                     \u001b[0mkwargs\u001b[0m\u001b[0;34m[\u001b[0m\u001b[0mnew_arg_name\u001b[0m\u001b[0;34m]\u001b[0m \u001b[0;34m=\u001b[0m \u001b[0mnew_arg_value\u001b[0m\u001b[0;34m\u001b[0m\u001b[0;34m\u001b[0m\u001b[0m\n\u001b[0;32m--> 211\u001b[0;31m             \u001b[0;32mreturn\u001b[0m \u001b[0mfunc\u001b[0m\u001b[0;34m(\u001b[0m\u001b[0;34m*\u001b[0m\u001b[0margs\u001b[0m\u001b[0;34m,\u001b[0m \u001b[0;34m**\u001b[0m\u001b[0mkwargs\u001b[0m\u001b[0;34m)\u001b[0m\u001b[0;34m\u001b[0m\u001b[0;34m\u001b[0m\u001b[0m\n\u001b[0m\u001b[1;32m    212\u001b[0m \u001b[0;34m\u001b[0m\u001b[0m\n\u001b[1;32m    213\u001b[0m         \u001b[0;32mreturn\u001b[0m \u001b[0mcast\u001b[0m\u001b[0;34m(\u001b[0m\u001b[0mF\u001b[0m\u001b[0;34m,\u001b[0m \u001b[0mwrapper\u001b[0m\u001b[0;34m)\u001b[0m\u001b[0;34m\u001b[0m\u001b[0;34m\u001b[0m\u001b[0m\n",
      "\u001b[0;32m~/.local/lib/python3.8/site-packages/pandas/util/_decorators.py\u001b[0m in \u001b[0;36mwrapper\u001b[0;34m(*args, **kwargs)\u001b[0m\n\u001b[1;32m    329\u001b[0m                     \u001b[0mstacklevel\u001b[0m\u001b[0;34m=\u001b[0m\u001b[0mfind_stack_level\u001b[0m\u001b[0;34m(\u001b[0m\u001b[0;34m)\u001b[0m\u001b[0;34m,\u001b[0m\u001b[0;34m\u001b[0m\u001b[0;34m\u001b[0m\u001b[0m\n\u001b[1;32m    330\u001b[0m                 )\n\u001b[0;32m--> 331\u001b[0;31m             \u001b[0;32mreturn\u001b[0m \u001b[0mfunc\u001b[0m\u001b[0;34m(\u001b[0m\u001b[0;34m*\u001b[0m\u001b[0margs\u001b[0m\u001b[0;34m,\u001b[0m \u001b[0;34m**\u001b[0m\u001b[0mkwargs\u001b[0m\u001b[0;34m)\u001b[0m\u001b[0;34m\u001b[0m\u001b[0;34m\u001b[0m\u001b[0m\n\u001b[0m\u001b[1;32m    332\u001b[0m \u001b[0;34m\u001b[0m\u001b[0m\n\u001b[1;32m    333\u001b[0m         \u001b[0;31m# error: \"Callable[[VarArg(Any), KwArg(Any)], Any]\" has no\u001b[0m\u001b[0;34m\u001b[0m\u001b[0;34m\u001b[0m\u001b[0;34m\u001b[0m\u001b[0m\n",
      "\u001b[0;32m~/.local/lib/python3.8/site-packages/pandas/io/parsers/readers.py\u001b[0m in \u001b[0;36mread_csv\u001b[0;34m(filepath_or_buffer, sep, delimiter, header, names, index_col, usecols, squeeze, prefix, mangle_dupe_cols, dtype, engine, converters, true_values, false_values, skipinitialspace, skiprows, skipfooter, nrows, na_values, keep_default_na, na_filter, verbose, skip_blank_lines, parse_dates, infer_datetime_format, keep_date_col, date_parser, dayfirst, cache_dates, iterator, chunksize, compression, thousands, decimal, lineterminator, quotechar, quoting, doublequote, escapechar, comment, encoding, encoding_errors, dialect, error_bad_lines, warn_bad_lines, on_bad_lines, delim_whitespace, low_memory, memory_map, float_precision, storage_options)\u001b[0m\n\u001b[1;32m    948\u001b[0m     \u001b[0mkwds\u001b[0m\u001b[0;34m.\u001b[0m\u001b[0mupdate\u001b[0m\u001b[0;34m(\u001b[0m\u001b[0mkwds_defaults\u001b[0m\u001b[0;34m)\u001b[0m\u001b[0;34m\u001b[0m\u001b[0;34m\u001b[0m\u001b[0m\n\u001b[1;32m    949\u001b[0m \u001b[0;34m\u001b[0m\u001b[0m\n\u001b[0;32m--> 950\u001b[0;31m     \u001b[0;32mreturn\u001b[0m \u001b[0m_read\u001b[0m\u001b[0;34m(\u001b[0m\u001b[0mfilepath_or_buffer\u001b[0m\u001b[0;34m,\u001b[0m \u001b[0mkwds\u001b[0m\u001b[0;34m)\u001b[0m\u001b[0;34m\u001b[0m\u001b[0;34m\u001b[0m\u001b[0m\n\u001b[0m\u001b[1;32m    951\u001b[0m \u001b[0;34m\u001b[0m\u001b[0m\n\u001b[1;32m    952\u001b[0m \u001b[0;34m\u001b[0m\u001b[0m\n",
      "\u001b[0;32m~/.local/lib/python3.8/site-packages/pandas/io/parsers/readers.py\u001b[0m in \u001b[0;36m_read\u001b[0;34m(filepath_or_buffer, kwds)\u001b[0m\n\u001b[1;32m    603\u001b[0m \u001b[0;34m\u001b[0m\u001b[0m\n\u001b[1;32m    604\u001b[0m     \u001b[0;31m# Create the parser.\u001b[0m\u001b[0;34m\u001b[0m\u001b[0;34m\u001b[0m\u001b[0;34m\u001b[0m\u001b[0m\n\u001b[0;32m--> 605\u001b[0;31m     \u001b[0mparser\u001b[0m \u001b[0;34m=\u001b[0m \u001b[0mTextFileReader\u001b[0m\u001b[0;34m(\u001b[0m\u001b[0mfilepath_or_buffer\u001b[0m\u001b[0;34m,\u001b[0m \u001b[0;34m**\u001b[0m\u001b[0mkwds\u001b[0m\u001b[0;34m)\u001b[0m\u001b[0;34m\u001b[0m\u001b[0;34m\u001b[0m\u001b[0m\n\u001b[0m\u001b[1;32m    606\u001b[0m \u001b[0;34m\u001b[0m\u001b[0m\n\u001b[1;32m    607\u001b[0m     \u001b[0;32mif\u001b[0m \u001b[0mchunksize\u001b[0m \u001b[0;32mor\u001b[0m \u001b[0miterator\u001b[0m\u001b[0;34m:\u001b[0m\u001b[0;34m\u001b[0m\u001b[0;34m\u001b[0m\u001b[0m\n",
      "\u001b[0;32m~/.local/lib/python3.8/site-packages/pandas/io/parsers/readers.py\u001b[0m in \u001b[0;36m__init__\u001b[0;34m(self, f, engine, **kwds)\u001b[0m\n\u001b[1;32m   1440\u001b[0m \u001b[0;34m\u001b[0m\u001b[0m\n\u001b[1;32m   1441\u001b[0m         \u001b[0mself\u001b[0m\u001b[0;34m.\u001b[0m\u001b[0mhandles\u001b[0m\u001b[0;34m:\u001b[0m \u001b[0mIOHandles\u001b[0m \u001b[0;34m|\u001b[0m \u001b[0;32mNone\u001b[0m \u001b[0;34m=\u001b[0m \u001b[0;32mNone\u001b[0m\u001b[0;34m\u001b[0m\u001b[0;34m\u001b[0m\u001b[0m\n\u001b[0;32m-> 1442\u001b[0;31m         \u001b[0mself\u001b[0m\u001b[0;34m.\u001b[0m\u001b[0m_engine\u001b[0m \u001b[0;34m=\u001b[0m \u001b[0mself\u001b[0m\u001b[0;34m.\u001b[0m\u001b[0m_make_engine\u001b[0m\u001b[0;34m(\u001b[0m\u001b[0mf\u001b[0m\u001b[0;34m,\u001b[0m \u001b[0mself\u001b[0m\u001b[0;34m.\u001b[0m\u001b[0mengine\u001b[0m\u001b[0;34m)\u001b[0m\u001b[0;34m\u001b[0m\u001b[0;34m\u001b[0m\u001b[0m\n\u001b[0m\u001b[1;32m   1443\u001b[0m \u001b[0;34m\u001b[0m\u001b[0m\n\u001b[1;32m   1444\u001b[0m     \u001b[0;32mdef\u001b[0m \u001b[0mclose\u001b[0m\u001b[0;34m(\u001b[0m\u001b[0mself\u001b[0m\u001b[0;34m)\u001b[0m \u001b[0;34m->\u001b[0m \u001b[0;32mNone\u001b[0m\u001b[0;34m:\u001b[0m\u001b[0;34m\u001b[0m\u001b[0;34m\u001b[0m\u001b[0m\n",
      "\u001b[0;32m~/.local/lib/python3.8/site-packages/pandas/io/parsers/readers.py\u001b[0m in \u001b[0;36m_make_engine\u001b[0;34m(self, f, engine)\u001b[0m\n\u001b[1;32m   1733\u001b[0m                 \u001b[0;32mif\u001b[0m \u001b[0;34m\"b\"\u001b[0m \u001b[0;32mnot\u001b[0m \u001b[0;32min\u001b[0m \u001b[0mmode\u001b[0m\u001b[0;34m:\u001b[0m\u001b[0;34m\u001b[0m\u001b[0;34m\u001b[0m\u001b[0m\n\u001b[1;32m   1734\u001b[0m                     \u001b[0mmode\u001b[0m \u001b[0;34m+=\u001b[0m \u001b[0;34m\"b\"\u001b[0m\u001b[0;34m\u001b[0m\u001b[0;34m\u001b[0m\u001b[0m\n\u001b[0;32m-> 1735\u001b[0;31m             self.handles = get_handle(\n\u001b[0m\u001b[1;32m   1736\u001b[0m                 \u001b[0mf\u001b[0m\u001b[0;34m,\u001b[0m\u001b[0;34m\u001b[0m\u001b[0;34m\u001b[0m\u001b[0m\n\u001b[1;32m   1737\u001b[0m                 \u001b[0mmode\u001b[0m\u001b[0;34m,\u001b[0m\u001b[0;34m\u001b[0m\u001b[0;34m\u001b[0m\u001b[0m\n",
      "\u001b[0;32m~/.local/lib/python3.8/site-packages/pandas/io/common.py\u001b[0m in \u001b[0;36mget_handle\u001b[0;34m(path_or_buf, mode, encoding, compression, memory_map, is_text, errors, storage_options)\u001b[0m\n\u001b[1;32m    854\u001b[0m         \u001b[0;32mif\u001b[0m \u001b[0mioargs\u001b[0m\u001b[0;34m.\u001b[0m\u001b[0mencoding\u001b[0m \u001b[0;32mand\u001b[0m \u001b[0;34m\"b\"\u001b[0m \u001b[0;32mnot\u001b[0m \u001b[0;32min\u001b[0m \u001b[0mioargs\u001b[0m\u001b[0;34m.\u001b[0m\u001b[0mmode\u001b[0m\u001b[0;34m:\u001b[0m\u001b[0;34m\u001b[0m\u001b[0;34m\u001b[0m\u001b[0m\n\u001b[1;32m    855\u001b[0m             \u001b[0;31m# Encoding\u001b[0m\u001b[0;34m\u001b[0m\u001b[0;34m\u001b[0m\u001b[0;34m\u001b[0m\u001b[0m\n\u001b[0;32m--> 856\u001b[0;31m             handle = open(\n\u001b[0m\u001b[1;32m    857\u001b[0m                 \u001b[0mhandle\u001b[0m\u001b[0;34m,\u001b[0m\u001b[0;34m\u001b[0m\u001b[0;34m\u001b[0m\u001b[0m\n\u001b[1;32m    858\u001b[0m                 \u001b[0mioargs\u001b[0m\u001b[0;34m.\u001b[0m\u001b[0mmode\u001b[0m\u001b[0;34m,\u001b[0m\u001b[0;34m\u001b[0m\u001b[0;34m\u001b[0m\u001b[0m\n",
      "\u001b[0;31mFileNotFoundError\u001b[0m: [Errno 2] No such file or directory: '../../result/potential/wilson_loop/fundamental/su3/gluodynamics/36^4/beta6.3/HYP0_alpha=1_1_0.5_APE_alpha=0.5/steps_50/copies=4///potential_monopoless.csv'"
     ]
    }
   ],
   "source": [
    "make_plot_decomposition('../../result/potential/wilson_loop/fundamental/su3/gluodynamics', '36^4', 6.3, 'beta6.3', 'steps_50/copies=4', '/', 18, 16, (-1, 8.5))"
   ]
  },
  {
   "cell_type": "code",
   "execution_count": null,
   "metadata": {},
   "outputs": [],
   "source": [
    "make_plot_decomposition('../../result/potential/wilson_loop/fundamental/su3/gluodynamics', '36^4', 6.3, 'beta6.3', 'steps_100/copies=4', '/', 18, 16, (-1, 8.5))"
   ]
  },
  {
   "cell_type": "code",
   "execution_count": null,
   "metadata": {},
   "outputs": [],
   "source": [
    "make_plot_decomposition('../../result/potential/wilson_loop/fundamental/su3/gluodynamics', '36^4', 6.3, 'beta6.3', 'steps_200/copies=4', '/', 18, 16, (-1, 8.5))"
   ]
  },
  {
   "cell_type": "code",
   "execution_count": null,
   "metadata": {},
   "outputs": [],
   "source": [
    "make_plot_decomposition('../../result/potential/wilson_loop/fundamental/su3/gluodynamics', '36^4', 6.3, 'beta6.3', 'steps_500/copies=4', '/', 18, 16, (-1, 8.5))"
   ]
  },
  {
   "cell_type": "code",
   "execution_count": 15,
   "metadata": {},
   "outputs": [
    {
     "ename": "FileNotFoundError",
     "evalue": "[Errno 2] No such file or directory: '../../result/potential/wilson_loop/adjoint/su3/gluodynamics/36^4/beta6.3/HYP0_alpha=1_1_0.5_APE_alpha=0.5/potential_original.csv'",
     "output_type": "error",
     "traceback": [
      "\u001b[0;31m---------------------------------------------------------------------------\u001b[0m",
      "\u001b[0;31mFileNotFoundError\u001b[0m                         Traceback (most recent call last)",
      "\u001b[0;32m<ipython-input-15-1e79c04bbd67>\u001b[0m in \u001b[0;36m<module>\u001b[0;34m\u001b[0m\n\u001b[0;32m----> 1\u001b[0;31m \u001b[0mmake_plot_decomposition\u001b[0m\u001b[0;34m(\u001b[0m\u001b[0;34m'../../result/potential/wilson_loop/adjoint/su3/gluodynamics'\u001b[0m\u001b[0;34m,\u001b[0m \u001b[0;34m'36^4'\u001b[0m\u001b[0;34m,\u001b[0m \u001b[0;36m6.3\u001b[0m\u001b[0;34m,\u001b[0m \u001b[0;34m'beta6.3'\u001b[0m\u001b[0;34m,\u001b[0m \u001b[0;34m'steps_500/copies=3'\u001b[0m\u001b[0;34m,\u001b[0m \u001b[0;34m'compensate_1'\u001b[0m\u001b[0;34m,\u001b[0m \u001b[0;36m12\u001b[0m\u001b[0;34m,\u001b[0m \u001b[0;36m11\u001b[0m\u001b[0;34m,\u001b[0m \u001b[0;34m(\u001b[0m\u001b[0;34m-\u001b[0m\u001b[0;36m1\u001b[0m\u001b[0;34m,\u001b[0m \u001b[0;36m8\u001b[0m\u001b[0;34m)\u001b[0m\u001b[0;34m)\u001b[0m\u001b[0;34m\u001b[0m\u001b[0;34m\u001b[0m\u001b[0m\n\u001b[0m",
      "\u001b[0;32m<ipython-input-12-39f6fb355756>\u001b[0m in \u001b[0;36mmake_plot_decomposition\u001b[0;34m(path1, size, beta, beta_str, params, compensate, r_max, T_max, y_lims)\u001b[0m\n\u001b[1;32m     11\u001b[0m     \u001b[0mfit_range\u001b[0m \u001b[0;34m=\u001b[0m \u001b[0;34m(\u001b[0m\u001b[0;36m2\u001b[0m\u001b[0;34m,\u001b[0m \u001b[0mr_max\u001b[0m\u001b[0;34m)\u001b[0m\u001b[0;34m\u001b[0m\u001b[0;34m\u001b[0m\u001b[0m\n\u001b[1;32m     12\u001b[0m     \u001b[0mremove_from_plot\u001b[0m \u001b[0;34m=\u001b[0m \u001b[0;34m[\u001b[0m\u001b[0;34m]\u001b[0m\u001b[0;34m\u001b[0m\u001b[0;34m\u001b[0m\u001b[0m\n\u001b[0;32m---> 13\u001b[0;31m     \u001b[0mdecomposition\u001b[0m\u001b[0;34m.\u001b[0m\u001b[0mpotential_decomposition\u001b[0m\u001b[0;34m(\u001b[0m\u001b[0mpaths\u001b[0m\u001b[0;34m,\u001b[0m \u001b[0;34mf'../../images/potential/decomposition/su3/gluodynamics/{size}/{beta_str}'\u001b[0m\u001b[0;34m,\u001b[0m \u001b[0;34mf'potential_decomposition_full_fit_from_original_{size}_{beta1}'\u001b[0m\u001b[0;34m,\u001b[0m \u001b[0mbeta\u001b[0m\u001b[0;34m,\u001b[0m \u001b[0my_lims\u001b[0m\u001b[0;34m,\u001b[0m \u001b[0;32mTrue\u001b[0m\u001b[0;34m,\u001b[0m \u001b[0mr0\u001b[0m\u001b[0;34m,\u001b[0m \u001b[0mfit_range\u001b[0m\u001b[0;34m,\u001b[0m \u001b[0mremove_from_plot\u001b[0m\u001b[0;34m,\u001b[0m \u001b[0;32mFalse\u001b[0m\u001b[0;34m)\u001b[0m\u001b[0;34m\u001b[0m\u001b[0;34m\u001b[0m\u001b[0m\n\u001b[0m\u001b[1;32m     14\u001b[0m \u001b[0;31m#     decomposition.potential_decomposition(paths, f'../../images/potential/decomposition/su3/gluodynamics/{size}/{beta_str}', f'potential_decomposition_full_fit_from_original_{size}_{beta1}_black', beta, y_lims, True, r0, fit_range, remove_from_plot, True)\u001b[0m\u001b[0;34m\u001b[0m\u001b[0;34m\u001b[0m\u001b[0;34m\u001b[0m\u001b[0m\n\u001b[1;32m     15\u001b[0m \u001b[0;31m#     decomposition.potential_decomposition(paths, f'../../images/potential/decomposition/su3/gluodynamics/{size}/{beta_str}', f'potential_decomposition_full_fit_separate_{size}_{beta1}', beta, y_lims, False, r0, fit_range, remove_from_plot, False)\u001b[0m\u001b[0;34m\u001b[0m\u001b[0;34m\u001b[0m\u001b[0;34m\u001b[0m\u001b[0m\n",
      "\u001b[0;32m~/soft/lattice/observables/python_jupyter/potential/decomposition.py\u001b[0m in \u001b[0;36mpotential_decomposition\u001b[0;34m(paths, image_path, image_name, beta, y_lims, fit_original, r0, fit_range, remove_from_plot, black_colors)\u001b[0m\n\u001b[1;32m     68\u001b[0m \u001b[0;34m\u001b[0m\u001b[0m\n\u001b[1;32m     69\u001b[0m \u001b[0;32mdef\u001b[0m \u001b[0mpotential_decomposition\u001b[0m\u001b[0;34m(\u001b[0m\u001b[0mpaths\u001b[0m\u001b[0;34m,\u001b[0m \u001b[0mimage_path\u001b[0m\u001b[0;34m,\u001b[0m \u001b[0mimage_name\u001b[0m\u001b[0;34m,\u001b[0m \u001b[0mbeta\u001b[0m\u001b[0;34m,\u001b[0m \u001b[0my_lims\u001b[0m\u001b[0;34m,\u001b[0m \u001b[0mfit_original\u001b[0m\u001b[0;34m,\u001b[0m \u001b[0mr0\u001b[0m\u001b[0;34m,\u001b[0m \u001b[0mfit_range\u001b[0m\u001b[0;34m,\u001b[0m \u001b[0mremove_from_plot\u001b[0m\u001b[0;34m,\u001b[0m \u001b[0mblack_colors\u001b[0m\u001b[0;34m)\u001b[0m\u001b[0;34m:\u001b[0m\u001b[0;34m\u001b[0m\u001b[0;34m\u001b[0m\u001b[0m\n\u001b[0;32m---> 70\u001b[0;31m     \u001b[0mdata_decomposition\u001b[0m \u001b[0;34m=\u001b[0m \u001b[0mpotential_data\u001b[0m\u001b[0;34m.\u001b[0m\u001b[0mDataDecomposition\u001b[0m\u001b[0;34m(\u001b[0m\u001b[0mpaths\u001b[0m\u001b[0;34m)\u001b[0m\u001b[0;34m\u001b[0m\u001b[0;34m\u001b[0m\u001b[0m\n\u001b[0m\u001b[1;32m     71\u001b[0m     \u001b[0mprint\u001b[0m\u001b[0;34m(\u001b[0m\u001b[0mdata_decomposition\u001b[0m\u001b[0;34m.\u001b[0m\u001b[0mdata\u001b[0m\u001b[0;34m)\u001b[0m\u001b[0;34m\u001b[0m\u001b[0;34m\u001b[0m\u001b[0m\n\u001b[1;32m     72\u001b[0m     \u001b[0mdata_decomposition\u001b[0m\u001b[0;34m.\u001b[0m\u001b[0mget_single_T\u001b[0m\u001b[0;34m(\u001b[0m\u001b[0;34m)\u001b[0m\u001b[0;34m\u001b[0m\u001b[0;34m\u001b[0m\u001b[0m\n",
      "\u001b[0;32m~/soft/lattice/observables/python_jupyter/potential/potential_data.py\u001b[0m in \u001b[0;36m__init__\u001b[0;34m(self, paths)\u001b[0m\n\u001b[1;32m     16\u001b[0m         \u001b[0mdata\u001b[0m \u001b[0;34m=\u001b[0m \u001b[0;34m[\u001b[0m\u001b[0;34m]\u001b[0m\u001b[0;34m\u001b[0m\u001b[0;34m\u001b[0m\u001b[0m\n\u001b[1;32m     17\u001b[0m         \u001b[0;32mfor\u001b[0m \u001b[0mtype\u001b[0m\u001b[0;34m,\u001b[0m \u001b[0mpath\u001b[0m \u001b[0;32min\u001b[0m \u001b[0mpaths\u001b[0m\u001b[0;34m.\u001b[0m\u001b[0mitems\u001b[0m\u001b[0;34m(\u001b[0m\u001b[0;34m)\u001b[0m\u001b[0;34m:\u001b[0m\u001b[0;34m\u001b[0m\u001b[0;34m\u001b[0m\u001b[0m\n\u001b[0;32m---> 18\u001b[0;31m             \u001b[0mdata\u001b[0m\u001b[0;34m.\u001b[0m\u001b[0mappend\u001b[0m\u001b[0;34m(\u001b[0m\u001b[0mpd\u001b[0m\u001b[0;34m.\u001b[0m\u001b[0mread_csv\u001b[0m\u001b[0;34m(\u001b[0m\u001b[0mpath\u001b[0m\u001b[0;34m[\u001b[0m\u001b[0;34m'path'\u001b[0m\u001b[0;34m]\u001b[0m\u001b[0;34m,\u001b[0m \u001b[0mindex_col\u001b[0m\u001b[0;34m=\u001b[0m\u001b[0;32mNone\u001b[0m\u001b[0;34m)\u001b[0m\u001b[0;34m)\u001b[0m\u001b[0;34m\u001b[0m\u001b[0;34m\u001b[0m\u001b[0m\n\u001b[0m\u001b[1;32m     19\u001b[0m             \u001b[0mdata\u001b[0m\u001b[0;34m[\u001b[0m\u001b[0;34m-\u001b[0m\u001b[0;36m1\u001b[0m\u001b[0;34m]\u001b[0m\u001b[0;34m.\u001b[0m\u001b[0mreset_index\u001b[0m\u001b[0;34m(\u001b[0m\u001b[0mdrop\u001b[0m\u001b[0;34m=\u001b[0m\u001b[0;32mTrue\u001b[0m\u001b[0;34m,\u001b[0m \u001b[0minplace\u001b[0m\u001b[0;34m=\u001b[0m\u001b[0;32mTrue\u001b[0m\u001b[0;34m)\u001b[0m\u001b[0;34m\u001b[0m\u001b[0;34m\u001b[0m\u001b[0m\n\u001b[1;32m     20\u001b[0m             \u001b[0;32mif\u001b[0m \u001b[0;34m'constraints'\u001b[0m \u001b[0;32min\u001b[0m \u001b[0mpath\u001b[0m\u001b[0;34m:\u001b[0m\u001b[0;34m\u001b[0m\u001b[0;34m\u001b[0m\u001b[0m\n",
      "\u001b[0;32m~/.local/lib/python3.8/site-packages/pandas/util/_decorators.py\u001b[0m in \u001b[0;36mwrapper\u001b[0;34m(*args, **kwargs)\u001b[0m\n\u001b[1;32m    209\u001b[0m                 \u001b[0;32melse\u001b[0m\u001b[0;34m:\u001b[0m\u001b[0;34m\u001b[0m\u001b[0;34m\u001b[0m\u001b[0m\n\u001b[1;32m    210\u001b[0m                     \u001b[0mkwargs\u001b[0m\u001b[0;34m[\u001b[0m\u001b[0mnew_arg_name\u001b[0m\u001b[0;34m]\u001b[0m \u001b[0;34m=\u001b[0m \u001b[0mnew_arg_value\u001b[0m\u001b[0;34m\u001b[0m\u001b[0;34m\u001b[0m\u001b[0m\n\u001b[0;32m--> 211\u001b[0;31m             \u001b[0;32mreturn\u001b[0m \u001b[0mfunc\u001b[0m\u001b[0;34m(\u001b[0m\u001b[0;34m*\u001b[0m\u001b[0margs\u001b[0m\u001b[0;34m,\u001b[0m \u001b[0;34m**\u001b[0m\u001b[0mkwargs\u001b[0m\u001b[0;34m)\u001b[0m\u001b[0;34m\u001b[0m\u001b[0;34m\u001b[0m\u001b[0m\n\u001b[0m\u001b[1;32m    212\u001b[0m \u001b[0;34m\u001b[0m\u001b[0m\n\u001b[1;32m    213\u001b[0m         \u001b[0;32mreturn\u001b[0m \u001b[0mcast\u001b[0m\u001b[0;34m(\u001b[0m\u001b[0mF\u001b[0m\u001b[0;34m,\u001b[0m \u001b[0mwrapper\u001b[0m\u001b[0;34m)\u001b[0m\u001b[0;34m\u001b[0m\u001b[0;34m\u001b[0m\u001b[0m\n",
      "\u001b[0;32m~/.local/lib/python3.8/site-packages/pandas/util/_decorators.py\u001b[0m in \u001b[0;36mwrapper\u001b[0;34m(*args, **kwargs)\u001b[0m\n\u001b[1;32m    329\u001b[0m                     \u001b[0mstacklevel\u001b[0m\u001b[0;34m=\u001b[0m\u001b[0mfind_stack_level\u001b[0m\u001b[0;34m(\u001b[0m\u001b[0;34m)\u001b[0m\u001b[0;34m,\u001b[0m\u001b[0;34m\u001b[0m\u001b[0;34m\u001b[0m\u001b[0m\n\u001b[1;32m    330\u001b[0m                 )\n\u001b[0;32m--> 331\u001b[0;31m             \u001b[0;32mreturn\u001b[0m \u001b[0mfunc\u001b[0m\u001b[0;34m(\u001b[0m\u001b[0;34m*\u001b[0m\u001b[0margs\u001b[0m\u001b[0;34m,\u001b[0m \u001b[0;34m**\u001b[0m\u001b[0mkwargs\u001b[0m\u001b[0;34m)\u001b[0m\u001b[0;34m\u001b[0m\u001b[0;34m\u001b[0m\u001b[0m\n\u001b[0m\u001b[1;32m    332\u001b[0m \u001b[0;34m\u001b[0m\u001b[0m\n\u001b[1;32m    333\u001b[0m         \u001b[0;31m# error: \"Callable[[VarArg(Any), KwArg(Any)], Any]\" has no\u001b[0m\u001b[0;34m\u001b[0m\u001b[0;34m\u001b[0m\u001b[0;34m\u001b[0m\u001b[0m\n",
      "\u001b[0;32m~/.local/lib/python3.8/site-packages/pandas/io/parsers/readers.py\u001b[0m in \u001b[0;36mread_csv\u001b[0;34m(filepath_or_buffer, sep, delimiter, header, names, index_col, usecols, squeeze, prefix, mangle_dupe_cols, dtype, engine, converters, true_values, false_values, skipinitialspace, skiprows, skipfooter, nrows, na_values, keep_default_na, na_filter, verbose, skip_blank_lines, parse_dates, infer_datetime_format, keep_date_col, date_parser, dayfirst, cache_dates, iterator, chunksize, compression, thousands, decimal, lineterminator, quotechar, quoting, doublequote, escapechar, comment, encoding, encoding_errors, dialect, error_bad_lines, warn_bad_lines, on_bad_lines, delim_whitespace, low_memory, memory_map, float_precision, storage_options)\u001b[0m\n\u001b[1;32m    948\u001b[0m     \u001b[0mkwds\u001b[0m\u001b[0;34m.\u001b[0m\u001b[0mupdate\u001b[0m\u001b[0;34m(\u001b[0m\u001b[0mkwds_defaults\u001b[0m\u001b[0;34m)\u001b[0m\u001b[0;34m\u001b[0m\u001b[0;34m\u001b[0m\u001b[0m\n\u001b[1;32m    949\u001b[0m \u001b[0;34m\u001b[0m\u001b[0m\n\u001b[0;32m--> 950\u001b[0;31m     \u001b[0;32mreturn\u001b[0m \u001b[0m_read\u001b[0m\u001b[0;34m(\u001b[0m\u001b[0mfilepath_or_buffer\u001b[0m\u001b[0;34m,\u001b[0m \u001b[0mkwds\u001b[0m\u001b[0;34m)\u001b[0m\u001b[0;34m\u001b[0m\u001b[0;34m\u001b[0m\u001b[0m\n\u001b[0m\u001b[1;32m    951\u001b[0m \u001b[0;34m\u001b[0m\u001b[0m\n\u001b[1;32m    952\u001b[0m \u001b[0;34m\u001b[0m\u001b[0m\n",
      "\u001b[0;32m~/.local/lib/python3.8/site-packages/pandas/io/parsers/readers.py\u001b[0m in \u001b[0;36m_read\u001b[0;34m(filepath_or_buffer, kwds)\u001b[0m\n\u001b[1;32m    603\u001b[0m \u001b[0;34m\u001b[0m\u001b[0m\n\u001b[1;32m    604\u001b[0m     \u001b[0;31m# Create the parser.\u001b[0m\u001b[0;34m\u001b[0m\u001b[0;34m\u001b[0m\u001b[0;34m\u001b[0m\u001b[0m\n\u001b[0;32m--> 605\u001b[0;31m     \u001b[0mparser\u001b[0m \u001b[0;34m=\u001b[0m \u001b[0mTextFileReader\u001b[0m\u001b[0;34m(\u001b[0m\u001b[0mfilepath_or_buffer\u001b[0m\u001b[0;34m,\u001b[0m \u001b[0;34m**\u001b[0m\u001b[0mkwds\u001b[0m\u001b[0;34m)\u001b[0m\u001b[0;34m\u001b[0m\u001b[0;34m\u001b[0m\u001b[0m\n\u001b[0m\u001b[1;32m    606\u001b[0m \u001b[0;34m\u001b[0m\u001b[0m\n\u001b[1;32m    607\u001b[0m     \u001b[0;32mif\u001b[0m \u001b[0mchunksize\u001b[0m \u001b[0;32mor\u001b[0m \u001b[0miterator\u001b[0m\u001b[0;34m:\u001b[0m\u001b[0;34m\u001b[0m\u001b[0;34m\u001b[0m\u001b[0m\n",
      "\u001b[0;32m~/.local/lib/python3.8/site-packages/pandas/io/parsers/readers.py\u001b[0m in \u001b[0;36m__init__\u001b[0;34m(self, f, engine, **kwds)\u001b[0m\n\u001b[1;32m   1440\u001b[0m \u001b[0;34m\u001b[0m\u001b[0m\n\u001b[1;32m   1441\u001b[0m         \u001b[0mself\u001b[0m\u001b[0;34m.\u001b[0m\u001b[0mhandles\u001b[0m\u001b[0;34m:\u001b[0m \u001b[0mIOHandles\u001b[0m \u001b[0;34m|\u001b[0m \u001b[0;32mNone\u001b[0m \u001b[0;34m=\u001b[0m \u001b[0;32mNone\u001b[0m\u001b[0;34m\u001b[0m\u001b[0;34m\u001b[0m\u001b[0m\n\u001b[0;32m-> 1442\u001b[0;31m         \u001b[0mself\u001b[0m\u001b[0;34m.\u001b[0m\u001b[0m_engine\u001b[0m \u001b[0;34m=\u001b[0m \u001b[0mself\u001b[0m\u001b[0;34m.\u001b[0m\u001b[0m_make_engine\u001b[0m\u001b[0;34m(\u001b[0m\u001b[0mf\u001b[0m\u001b[0;34m,\u001b[0m \u001b[0mself\u001b[0m\u001b[0;34m.\u001b[0m\u001b[0mengine\u001b[0m\u001b[0;34m)\u001b[0m\u001b[0;34m\u001b[0m\u001b[0;34m\u001b[0m\u001b[0m\n\u001b[0m\u001b[1;32m   1443\u001b[0m \u001b[0;34m\u001b[0m\u001b[0m\n\u001b[1;32m   1444\u001b[0m     \u001b[0;32mdef\u001b[0m \u001b[0mclose\u001b[0m\u001b[0;34m(\u001b[0m\u001b[0mself\u001b[0m\u001b[0;34m)\u001b[0m \u001b[0;34m->\u001b[0m \u001b[0;32mNone\u001b[0m\u001b[0;34m:\u001b[0m\u001b[0;34m\u001b[0m\u001b[0;34m\u001b[0m\u001b[0m\n",
      "\u001b[0;32m~/.local/lib/python3.8/site-packages/pandas/io/parsers/readers.py\u001b[0m in \u001b[0;36m_make_engine\u001b[0;34m(self, f, engine)\u001b[0m\n\u001b[1;32m   1733\u001b[0m                 \u001b[0;32mif\u001b[0m \u001b[0;34m\"b\"\u001b[0m \u001b[0;32mnot\u001b[0m \u001b[0;32min\u001b[0m \u001b[0mmode\u001b[0m\u001b[0;34m:\u001b[0m\u001b[0;34m\u001b[0m\u001b[0;34m\u001b[0m\u001b[0m\n\u001b[1;32m   1734\u001b[0m                     \u001b[0mmode\u001b[0m \u001b[0;34m+=\u001b[0m \u001b[0;34m\"b\"\u001b[0m\u001b[0;34m\u001b[0m\u001b[0;34m\u001b[0m\u001b[0m\n\u001b[0;32m-> 1735\u001b[0;31m             self.handles = get_handle(\n\u001b[0m\u001b[1;32m   1736\u001b[0m                 \u001b[0mf\u001b[0m\u001b[0;34m,\u001b[0m\u001b[0;34m\u001b[0m\u001b[0;34m\u001b[0m\u001b[0m\n\u001b[1;32m   1737\u001b[0m                 \u001b[0mmode\u001b[0m\u001b[0;34m,\u001b[0m\u001b[0;34m\u001b[0m\u001b[0;34m\u001b[0m\u001b[0m\n",
      "\u001b[0;32m~/.local/lib/python3.8/site-packages/pandas/io/common.py\u001b[0m in \u001b[0;36mget_handle\u001b[0;34m(path_or_buf, mode, encoding, compression, memory_map, is_text, errors, storage_options)\u001b[0m\n\u001b[1;32m    854\u001b[0m         \u001b[0;32mif\u001b[0m \u001b[0mioargs\u001b[0m\u001b[0;34m.\u001b[0m\u001b[0mencoding\u001b[0m \u001b[0;32mand\u001b[0m \u001b[0;34m\"b\"\u001b[0m \u001b[0;32mnot\u001b[0m \u001b[0;32min\u001b[0m \u001b[0mioargs\u001b[0m\u001b[0;34m.\u001b[0m\u001b[0mmode\u001b[0m\u001b[0;34m:\u001b[0m\u001b[0;34m\u001b[0m\u001b[0;34m\u001b[0m\u001b[0m\n\u001b[1;32m    855\u001b[0m             \u001b[0;31m# Encoding\u001b[0m\u001b[0;34m\u001b[0m\u001b[0;34m\u001b[0m\u001b[0;34m\u001b[0m\u001b[0m\n\u001b[0;32m--> 856\u001b[0;31m             handle = open(\n\u001b[0m\u001b[1;32m    857\u001b[0m                 \u001b[0mhandle\u001b[0m\u001b[0;34m,\u001b[0m\u001b[0;34m\u001b[0m\u001b[0;34m\u001b[0m\u001b[0m\n\u001b[1;32m    858\u001b[0m                 \u001b[0mioargs\u001b[0m\u001b[0;34m.\u001b[0m\u001b[0mmode\u001b[0m\u001b[0;34m,\u001b[0m\u001b[0;34m\u001b[0m\u001b[0;34m\u001b[0m\u001b[0m\n",
      "\u001b[0;31mFileNotFoundError\u001b[0m: [Errno 2] No such file or directory: '../../result/potential/wilson_loop/adjoint/su3/gluodynamics/36^4/beta6.3/HYP0_alpha=1_1_0.5_APE_alpha=0.5/potential_original.csv'"
     ]
    }
   ],
   "source": [
    "make_plot_decomposition('../../result/potential/wilson_loop/adjoint/su3/gluodynamics', '36^4', 6.3, 'beta6.3', 'steps_500/copies=3', 'compensate_1', 12, 11, (-1, 8))"
   ]
  },
  {
   "cell_type": "code",
   "execution_count": 5,
   "metadata": {},
   "outputs": [
    {
     "ename": "TypeError",
     "evalue": "The number of func parameters=3 must not exceed the number of data points=2",
     "output_type": "error",
     "traceback": [
      "\u001b[0;31m---------------------------------------------------------------------------\u001b[0m",
      "\u001b[0;31mTypeError\u001b[0m                                 Traceback (most recent call last)",
      "\u001b[0;32m<ipython-input-5-55f9aefab8d7>\u001b[0m in \u001b[0;36m<module>\u001b[0;34m\u001b[0m\n\u001b[0;32m----> 1\u001b[0;31m \u001b[0mmake_plot_decomposition\u001b[0m\u001b[0;34m(\u001b[0m\u001b[0;34m'../../result/potential/wilson_loop/fundamental/su3/gluodynamics'\u001b[0m\u001b[0;34m,\u001b[0m \u001b[0;34m'24^4'\u001b[0m\u001b[0;34m,\u001b[0m \u001b[0;36m6.0\u001b[0m\u001b[0;34m,\u001b[0m \u001b[0;34m'beta6.0'\u001b[0m\u001b[0;34m,\u001b[0m \u001b[0;34m'steps_500/copies=3'\u001b[0m\u001b[0;34m,\u001b[0m \u001b[0;34m'compensate_1'\u001b[0m\u001b[0;34m,\u001b[0m \u001b[0;36m12\u001b[0m\u001b[0;34m,\u001b[0m \u001b[0;36m11\u001b[0m\u001b[0;34m,\u001b[0m \u001b[0;34m(\u001b[0m\u001b[0;34m-\u001b[0m\u001b[0;36m0.5\u001b[0m\u001b[0;34m,\u001b[0m \u001b[0;36m6.8\u001b[0m\u001b[0;34m)\u001b[0m\u001b[0;34m)\u001b[0m\u001b[0;34m\u001b[0m\u001b[0;34m\u001b[0m\u001b[0m\n\u001b[0m",
      "\u001b[0;32m<ipython-input-2-529e73258cf7>\u001b[0m in \u001b[0;36mmake_plot_decomposition\u001b[0;34m(path1, size, beta, beta_str, params, compensate, r_max, T_max, y_lims)\u001b[0m\n\u001b[1;32m     11\u001b[0m     \u001b[0mfit_range\u001b[0m \u001b[0;34m=\u001b[0m \u001b[0;34m(\u001b[0m\u001b[0;36m2\u001b[0m\u001b[0;34m,\u001b[0m \u001b[0mr_max\u001b[0m\u001b[0;34m)\u001b[0m\u001b[0;34m\u001b[0m\u001b[0;34m\u001b[0m\u001b[0m\n\u001b[1;32m     12\u001b[0m     \u001b[0mremove_from_plot\u001b[0m \u001b[0;34m=\u001b[0m \u001b[0;34m[\u001b[0m\u001b[0;34m]\u001b[0m\u001b[0;34m\u001b[0m\u001b[0;34m\u001b[0m\u001b[0m\n\u001b[0;32m---> 13\u001b[0;31m     \u001b[0mdecomposition\u001b[0m\u001b[0;34m.\u001b[0m\u001b[0mpotential_decomposition\u001b[0m\u001b[0;34m(\u001b[0m\u001b[0mpaths\u001b[0m\u001b[0;34m,\u001b[0m \u001b[0;34mf'../../images/potential/decomposition/su3/gluodynamics/{size}/{beta_str}'\u001b[0m\u001b[0;34m,\u001b[0m \u001b[0;34mf'potential_decomposition_full_fit_from_original_{size}_{beta1}'\u001b[0m\u001b[0;34m,\u001b[0m \u001b[0mbeta\u001b[0m\u001b[0;34m,\u001b[0m \u001b[0my_lims\u001b[0m\u001b[0;34m,\u001b[0m \u001b[0;32mTrue\u001b[0m\u001b[0;34m,\u001b[0m \u001b[0mr0\u001b[0m\u001b[0;34m,\u001b[0m \u001b[0mfit_range\u001b[0m\u001b[0;34m,\u001b[0m \u001b[0mremove_from_plot\u001b[0m\u001b[0;34m,\u001b[0m \u001b[0;32mFalse\u001b[0m\u001b[0;34m)\u001b[0m\u001b[0;34m\u001b[0m\u001b[0;34m\u001b[0m\u001b[0m\n\u001b[0m\u001b[1;32m     14\u001b[0m \u001b[0;31m#     decomposition.potential_decomposition(paths, f'../../images/potential/decomposition/su3/gluodynamics/{size}/{beta_str}', f'potential_decomposition_full_fit_from_original_{size}_{beta1}_black', beta, y_lims, True, r0, fit_range, remove_from_plot, True)\u001b[0m\u001b[0;34m\u001b[0m\u001b[0;34m\u001b[0m\u001b[0;34m\u001b[0m\u001b[0m\n\u001b[1;32m     15\u001b[0m \u001b[0;31m#     decomposition.potential_decomposition(paths, f'../../images/potential/decomposition/su3/gluodynamics/{size}/{beta_str}', f'potential_decomposition_full_fit_separate_{size}_{beta1}', beta, y_lims, False, r0, fit_range, remove_from_plot, False)\u001b[0m\u001b[0;34m\u001b[0m\u001b[0;34m\u001b[0m\u001b[0;34m\u001b[0m\u001b[0m\n",
      "\u001b[0;32m~/soft/lattice/observables/python_jupyter/potential/decomposition.py\u001b[0m in \u001b[0;36mpotential_decomposition\u001b[0;34m(paths, image_path, image_name, beta, y_lims, fit_original, r0, fit_range, remove_from_plot, black_colors)\u001b[0m\n\u001b[1;32m     71\u001b[0m     \u001b[0mdata_decomposition\u001b[0m\u001b[0;34m.\u001b[0m\u001b[0mget_single_T\u001b[0m\u001b[0;34m(\u001b[0m\u001b[0;34m)\u001b[0m\u001b[0;34m\u001b[0m\u001b[0;34m\u001b[0m\u001b[0m\n\u001b[1;32m     72\u001b[0m     \u001b[0mdata_decomposition\u001b[0m\u001b[0;34m.\u001b[0m\u001b[0mscale_by_r0\u001b[0m\u001b[0;34m(\u001b[0m\u001b[0mr0\u001b[0m\u001b[0;34m)\u001b[0m\u001b[0;34m\u001b[0m\u001b[0;34m\u001b[0m\u001b[0m\n\u001b[0;32m---> 73\u001b[0;31m     \u001b[0mfit_params\u001b[0m \u001b[0;34m=\u001b[0m \u001b[0mdata_decomposition\u001b[0m\u001b[0;34m.\u001b[0m\u001b[0mmake_fits\u001b[0m\u001b[0;34m(\u001b[0m\u001b[0mfit_original\u001b[0m\u001b[0;34m,\u001b[0m \u001b[0mfit_range\u001b[0m\u001b[0;34m)\u001b[0m\u001b[0;34m\u001b[0m\u001b[0;34m\u001b[0m\u001b[0m\n\u001b[0m\u001b[1;32m     74\u001b[0m     \u001b[0mprint\u001b[0m\u001b[0;34m(\u001b[0m\u001b[0mfit_params\u001b[0m\u001b[0;34m)\u001b[0m\u001b[0;34m\u001b[0m\u001b[0;34m\u001b[0m\u001b[0m\n\u001b[1;32m     75\u001b[0m     \u001b[0mdata_decomposition\u001b[0m\u001b[0;34m.\u001b[0m\u001b[0mremove_from_plot\u001b[0m\u001b[0;34m(\u001b[0m\u001b[0mremove_from_plot\u001b[0m\u001b[0;34m)\u001b[0m\u001b[0;34m\u001b[0m\u001b[0;34m\u001b[0m\u001b[0m\n",
      "\u001b[0;32m~/soft/lattice/observables/python_jupyter/potential/potential_data.py\u001b[0m in \u001b[0;36mmake_fits\u001b[0;34m(self, fit_original, fit_range)\u001b[0m\n\u001b[1;32m     59\u001b[0m                 \u001b[0mmonopole_name\u001b[0m \u001b[0;34m=\u001b[0m \u001b[0mself\u001b[0m\u001b[0;34m.\u001b[0m\u001b[0mpaths\u001b[0m\u001b[0;34m[\u001b[0m\u001b[0;34m'monopole'\u001b[0m\u001b[0;34m]\u001b[0m\u001b[0;34m[\u001b[0m\u001b[0;34m'name'\u001b[0m\u001b[0;34m]\u001b[0m\u001b[0;34m\u001b[0m\u001b[0;34m\u001b[0m\u001b[0m\n\u001b[1;32m     60\u001b[0m                 \u001b[0mmonopoless_name\u001b[0m \u001b[0;34m=\u001b[0m \u001b[0mself\u001b[0m\u001b[0;34m.\u001b[0m\u001b[0mpaths\u001b[0m\u001b[0;34m[\u001b[0m\u001b[0;34m'monopoless'\u001b[0m\u001b[0;34m]\u001b[0m\u001b[0;34m[\u001b[0m\u001b[0;34m'name'\u001b[0m\u001b[0;34m]\u001b[0m\u001b[0;34m\u001b[0m\u001b[0;34m\u001b[0m\u001b[0m\n\u001b[0;32m---> 61\u001b[0;31m                 fit_data, params_original, params_original_err, c_coloumb, c_coloumb_err, c_string, c_string_err = fit.make_fit_original(\n\u001b[0m\u001b[1;32m     62\u001b[0m                     self.data, original_name, monopoless_name, monopole_name, fit_range)\n\u001b[1;32m     63\u001b[0m                 \u001b[0mself\u001b[0m\u001b[0;34m.\u001b[0m\u001b[0mdata_fits\u001b[0m\u001b[0;34m.\u001b[0m\u001b[0mappend\u001b[0m\u001b[0;34m(\u001b[0m\u001b[0mfit_data\u001b[0m\u001b[0;34m)\u001b[0m\u001b[0;34m\u001b[0m\u001b[0;34m\u001b[0m\u001b[0m\n",
      "\u001b[0;32m~/soft/lattice/observables/python_jupyter/potential/fit.py\u001b[0m in \u001b[0;36mmake_fit_original\u001b[0;34m(data, orig_pot_name, coloumb_name, string_name, fit_range)\u001b[0m\n\u001b[1;32m     62\u001b[0m \u001b[0;34m\u001b[0m\u001b[0m\n\u001b[1;32m     63\u001b[0m \u001b[0;32mdef\u001b[0m \u001b[0mmake_fit_original\u001b[0m\u001b[0;34m(\u001b[0m\u001b[0mdata\u001b[0m\u001b[0;34m,\u001b[0m \u001b[0morig_pot_name\u001b[0m\u001b[0;34m,\u001b[0m \u001b[0mcoloumb_name\u001b[0m\u001b[0;34m,\u001b[0m \u001b[0mstring_name\u001b[0m\u001b[0;34m,\u001b[0m \u001b[0mfit_range\u001b[0m\u001b[0;34m)\u001b[0m\u001b[0;34m:\u001b[0m\u001b[0;34m\u001b[0m\u001b[0;34m\u001b[0m\u001b[0m\n\u001b[0;32m---> 64\u001b[0;31m     \u001b[0mpopt\u001b[0m\u001b[0;34m,\u001b[0m \u001b[0mpcov\u001b[0m \u001b[0;34m=\u001b[0m \u001b[0mfit_string\u001b[0m\u001b[0;34m(\u001b[0m\u001b[0mdata\u001b[0m\u001b[0;34m,\u001b[0m \u001b[0mfit_range\u001b[0m\u001b[0;34m,\u001b[0m \u001b[0morig_pot_name\u001b[0m\u001b[0;34m)\u001b[0m\u001b[0;34m\u001b[0m\u001b[0;34m\u001b[0m\u001b[0m\n\u001b[0m\u001b[1;32m     65\u001b[0m     \u001b[0mperr\u001b[0m \u001b[0;34m=\u001b[0m \u001b[0mnp\u001b[0m\u001b[0;34m.\u001b[0m\u001b[0msqrt\u001b[0m\u001b[0;34m(\u001b[0m\u001b[0mnp\u001b[0m\u001b[0;34m.\u001b[0m\u001b[0mdiag\u001b[0m\u001b[0;34m(\u001b[0m\u001b[0mpcov\u001b[0m\u001b[0;34m)\u001b[0m\u001b[0;34m)\u001b[0m\u001b[0;34m\u001b[0m\u001b[0;34m\u001b[0m\u001b[0m\n\u001b[1;32m     66\u001b[0m     c_coloumb, err_coloumb, c_string, err_string = fit_consts(\n",
      "\u001b[0;32m~/soft/lattice/observables/python_jupyter/potential/fit.py\u001b[0m in \u001b[0;36mfit_string\u001b[0;34m(data, fit_range, fit_name)\u001b[0m\n\u001b[1;32m     47\u001b[0m     \u001b[0my_err\u001b[0m \u001b[0;34m=\u001b[0m \u001b[0mdata\u001b[0m\u001b[0;34m[\u001b[0m\u001b[0;34m'err_'\u001b[0m \u001b[0;34m+\u001b[0m \u001b[0mfit_name\u001b[0m\u001b[0;34m]\u001b[0m\u001b[0;34m\u001b[0m\u001b[0;34m\u001b[0m\u001b[0m\n\u001b[1;32m     48\u001b[0m     \u001b[0mx\u001b[0m \u001b[0;34m=\u001b[0m \u001b[0mdata\u001b[0m\u001b[0;34m[\u001b[0m\u001b[0;34m'r/a'\u001b[0m\u001b[0;34m]\u001b[0m\u001b[0;34m.\u001b[0m\u001b[0mto_numpy\u001b[0m\u001b[0;34m(\u001b[0m\u001b[0mdtype\u001b[0m\u001b[0;34m=\u001b[0m\u001b[0mnp\u001b[0m\u001b[0;34m.\u001b[0m\u001b[0mfloat64\u001b[0m\u001b[0;34m)\u001b[0m\u001b[0;34m\u001b[0m\u001b[0;34m\u001b[0m\u001b[0m\n\u001b[0;32m---> 49\u001b[0;31m     \u001b[0mpopt\u001b[0m\u001b[0;34m,\u001b[0m \u001b[0mpcov\u001b[0m \u001b[0;34m=\u001b[0m \u001b[0mcurve_fit\u001b[0m\u001b[0;34m(\u001b[0m\u001b[0mfunc_quark_potential\u001b[0m\u001b[0;34m,\u001b[0m \u001b[0mx\u001b[0m\u001b[0;34m,\u001b[0m \u001b[0my\u001b[0m\u001b[0;34m,\u001b[0m \u001b[0msigma\u001b[0m\u001b[0;34m=\u001b[0m\u001b[0my_err\u001b[0m\u001b[0;34m)\u001b[0m\u001b[0;34m\u001b[0m\u001b[0;34m\u001b[0m\u001b[0m\n\u001b[0m\u001b[1;32m     50\u001b[0m     \u001b[0;32mreturn\u001b[0m \u001b[0mpopt\u001b[0m\u001b[0;34m,\u001b[0m \u001b[0mpcov\u001b[0m\u001b[0;34m\u001b[0m\u001b[0;34m\u001b[0m\u001b[0m\n\u001b[1;32m     51\u001b[0m \u001b[0;34m\u001b[0m\u001b[0m\n",
      "\u001b[0;32m~/.local/lib/python3.8/site-packages/scipy/optimize/_minpack_py.py\u001b[0m in \u001b[0;36mcurve_fit\u001b[0;34m(f, xdata, ydata, p0, sigma, absolute_sigma, check_finite, bounds, method, jac, full_output, **kwargs)\u001b[0m\n\u001b[1;32m    830\u001b[0m         \u001b[0;31m# if ydata.size == 1, this might be used for broadcast.\u001b[0m\u001b[0;34m\u001b[0m\u001b[0;34m\u001b[0m\u001b[0;34m\u001b[0m\u001b[0m\n\u001b[1;32m    831\u001b[0m         \u001b[0;32mif\u001b[0m \u001b[0mydata\u001b[0m\u001b[0;34m.\u001b[0m\u001b[0msize\u001b[0m \u001b[0;34m!=\u001b[0m \u001b[0;36m1\u001b[0m \u001b[0;32mand\u001b[0m \u001b[0mn\u001b[0m \u001b[0;34m>\u001b[0m \u001b[0mydata\u001b[0m\u001b[0;34m.\u001b[0m\u001b[0msize\u001b[0m\u001b[0;34m:\u001b[0m\u001b[0;34m\u001b[0m\u001b[0;34m\u001b[0m\u001b[0m\n\u001b[0;32m--> 832\u001b[0;31m             raise TypeError(f\"The number of func parameters={n} must not\"\n\u001b[0m\u001b[1;32m    833\u001b[0m                             f\" exceed the number of data points={ydata.size}\")\n\u001b[1;32m    834\u001b[0m         \u001b[0mres\u001b[0m \u001b[0;34m=\u001b[0m \u001b[0mleastsq\u001b[0m\u001b[0;34m(\u001b[0m\u001b[0mfunc\u001b[0m\u001b[0;34m,\u001b[0m \u001b[0mp0\u001b[0m\u001b[0;34m,\u001b[0m \u001b[0mDfun\u001b[0m\u001b[0;34m=\u001b[0m\u001b[0mjac\u001b[0m\u001b[0;34m,\u001b[0m \u001b[0mfull_output\u001b[0m\u001b[0;34m=\u001b[0m\u001b[0;36m1\u001b[0m\u001b[0;34m,\u001b[0m \u001b[0;34m**\u001b[0m\u001b[0mkwargs\u001b[0m\u001b[0;34m)\u001b[0m\u001b[0;34m\u001b[0m\u001b[0;34m\u001b[0m\u001b[0m\n",
      "\u001b[0;31mTypeError\u001b[0m: The number of func parameters=3 must not exceed the number of data points=2"
     ]
    }
   ],
   "source": [
    "make_plot_decomposition('../../result/potential/wilson_loop/fundamental/su3/gluodynamics', '24^4', 6.0, 'beta6.0', 'steps_500/copies=3', 'compensate_1', 12, 11, (-0.5, 6.8))"
   ]
  },
  {
   "cell_type": "code",
   "execution_count": null,
   "metadata": {},
   "outputs": [],
   "source": [
    "make_plot_decomposition('../../result/potential/wilson_loop/fundamental/su3/gluodynamics', '24^4', 6.0, 'beta6.0', 'steps_1000/copies=3', 'compensate_1', 12, 11, (-0.5, 6.8))"
   ]
  },
  {
   "cell_type": "code",
   "execution_count": null,
   "metadata": {},
   "outputs": [],
   "source": [
    "make_plot_decomposition('../../result/potential/wilson_loop/fundamental/su3/gluodynamics', '24^4', 6.0, 'beta6.0', 'steps_2000/copies=3', 'compensate_1', 12, 11, (-0.5, 6.8))"
   ]
  },
  {
   "cell_type": "code",
   "execution_count": null,
   "metadata": {},
   "outputs": [],
   "source": [
    "make_plot_decomposition('../../result/potential/wilson_loop/fundamental/su3/gluodynamics', '24^4', 6.0, 'beta6.0', 'steps_4000/copies=3', 'compensate_1', 12, 11, (-0.5, 6.8))"
   ]
  },
  {
   "cell_type": "code",
   "execution_count": null,
   "metadata": {},
   "outputs": [],
   "source": [
    "make_plot_decomposition('../../result/potential/wilson_loop/fundamental/su3/gluodynamics', '24^4', 6.0, 'beta6.0', 'steps_8000/copies=3', 'compensate_1', 12, 11, (-0.5, 6.8))"
   ]
  },
  {
   "cell_type": "code",
   "execution_count": null,
   "metadata": {},
   "outputs": [],
   "source": [
    "make_plot_decomposition('../../result/potential/wilson_loop/fundamental/su3/gluodynamics', '28^4', 6.1, 'beta6.1', 'steps_500/copies=3', 'compensate_1', 14, 14, (-0.5, 7.5))"
   ]
  },
  {
   "cell_type": "code",
   "execution_count": null,
   "metadata": {},
   "outputs": [],
   "source": [
    "make_plot_decomposition('../../result/potential/wilson_loop/fundamental/su3/gluodynamics', '32^4', 6.2, 'beta6.2', 'steps_500/copies=3', 'compensate_1', 16, 16, (-0.5, 8.5))"
   ]
  },
  {
   "cell_type": "code",
   "execution_count": 11,
   "metadata": {},
   "outputs": [
    {
     "ename": "TypeError",
     "evalue": "Improper input: func input vector length N=3 must not exceed func output vector length M=1",
     "output_type": "error",
     "traceback": [
      "\u001b[0;31m---------------------------------------------------------------------------\u001b[0m",
      "\u001b[0;31mTypeError\u001b[0m                                 Traceback (most recent call last)",
      "\u001b[0;32m<ipython-input-11-2015616ca1c7>\u001b[0m in \u001b[0;36m<module>\u001b[0;34m\u001b[0m\n\u001b[0;32m----> 1\u001b[0;31m \u001b[0mmake_plot_decomposition\u001b[0m\u001b[0;34m(\u001b[0m\u001b[0;34m'../../result/potential/wilson_loop/fundamental/su3/gluodynamics'\u001b[0m\u001b[0;34m,\u001b[0m \u001b[0;34m'36^4'\u001b[0m\u001b[0;34m,\u001b[0m \u001b[0;36m6.3\u001b[0m\u001b[0;34m,\u001b[0m \u001b[0;34m'beta6.3'\u001b[0m\u001b[0;34m,\u001b[0m \u001b[0;34m'steps_500/copies=3'\u001b[0m\u001b[0;34m,\u001b[0m \u001b[0;34m'compensate_1'\u001b[0m\u001b[0;34m,\u001b[0m \u001b[0;36m18\u001b[0m\u001b[0;34m,\u001b[0m \u001b[0;36m16\u001b[0m\u001b[0;34m,\u001b[0m \u001b[0;34m(\u001b[0m\u001b[0;34m-\u001b[0m\u001b[0;36m1\u001b[0m\u001b[0;34m,\u001b[0m \u001b[0;36m8.5\u001b[0m\u001b[0;34m)\u001b[0m\u001b[0;34m)\u001b[0m\u001b[0;34m\u001b[0m\u001b[0;34m\u001b[0m\u001b[0m\n\u001b[0m",
      "\u001b[0;32m<ipython-input-10-529e73258cf7>\u001b[0m in \u001b[0;36mmake_plot_decomposition\u001b[0;34m(path1, size, beta, beta_str, params, compensate, r_max, T_max, y_lims)\u001b[0m\n\u001b[1;32m     11\u001b[0m     \u001b[0mfit_range\u001b[0m \u001b[0;34m=\u001b[0m \u001b[0;34m(\u001b[0m\u001b[0;36m2\u001b[0m\u001b[0;34m,\u001b[0m \u001b[0mr_max\u001b[0m\u001b[0;34m)\u001b[0m\u001b[0;34m\u001b[0m\u001b[0;34m\u001b[0m\u001b[0m\n\u001b[1;32m     12\u001b[0m     \u001b[0mremove_from_plot\u001b[0m \u001b[0;34m=\u001b[0m \u001b[0;34m[\u001b[0m\u001b[0;34m]\u001b[0m\u001b[0;34m\u001b[0m\u001b[0;34m\u001b[0m\u001b[0m\n\u001b[0;32m---> 13\u001b[0;31m     \u001b[0mdecomposition\u001b[0m\u001b[0;34m.\u001b[0m\u001b[0mpotential_decomposition\u001b[0m\u001b[0;34m(\u001b[0m\u001b[0mpaths\u001b[0m\u001b[0;34m,\u001b[0m \u001b[0;34mf'../../images/potential/decomposition/su3/gluodynamics/{size}/{beta_str}'\u001b[0m\u001b[0;34m,\u001b[0m \u001b[0;34mf'potential_decomposition_full_fit_from_original_{size}_{beta1}'\u001b[0m\u001b[0;34m,\u001b[0m \u001b[0mbeta\u001b[0m\u001b[0;34m,\u001b[0m \u001b[0my_lims\u001b[0m\u001b[0;34m,\u001b[0m \u001b[0;32mTrue\u001b[0m\u001b[0;34m,\u001b[0m \u001b[0mr0\u001b[0m\u001b[0;34m,\u001b[0m \u001b[0mfit_range\u001b[0m\u001b[0;34m,\u001b[0m \u001b[0mremove_from_plot\u001b[0m\u001b[0;34m,\u001b[0m \u001b[0;32mFalse\u001b[0m\u001b[0;34m)\u001b[0m\u001b[0;34m\u001b[0m\u001b[0;34m\u001b[0m\u001b[0m\n\u001b[0m\u001b[1;32m     14\u001b[0m \u001b[0;31m#     decomposition.potential_decomposition(paths, f'../../images/potential/decomposition/su3/gluodynamics/{size}/{beta_str}', f'potential_decomposition_full_fit_from_original_{size}_{beta1}_black', beta, y_lims, True, r0, fit_range, remove_from_plot, True)\u001b[0m\u001b[0;34m\u001b[0m\u001b[0;34m\u001b[0m\u001b[0;34m\u001b[0m\u001b[0m\n\u001b[1;32m     15\u001b[0m \u001b[0;31m#     decomposition.potential_decomposition(paths, f'../../images/potential/decomposition/su3/gluodynamics/{size}/{beta_str}', f'potential_decomposition_full_fit_separate_{size}_{beta1}', beta, y_lims, False, r0, fit_range, remove_from_plot, False)\u001b[0m\u001b[0;34m\u001b[0m\u001b[0;34m\u001b[0m\u001b[0;34m\u001b[0m\u001b[0m\n",
      "\u001b[0;32m~/soft/lattice/observables/python_jupyter/potential/decomposition.py\u001b[0m in \u001b[0;36mpotential_decomposition\u001b[0;34m(paths, image_path, image_name, beta, y_lims, fit_original, r0, fit_range, remove_from_plot, black_colors)\u001b[0m\n\u001b[1;32m     71\u001b[0m     \u001b[0mdata_decomposition\u001b[0m\u001b[0;34m.\u001b[0m\u001b[0mget_single_T\u001b[0m\u001b[0;34m(\u001b[0m\u001b[0;34m)\u001b[0m\u001b[0;34m\u001b[0m\u001b[0;34m\u001b[0m\u001b[0m\n\u001b[1;32m     72\u001b[0m     \u001b[0mdata_decomposition\u001b[0m\u001b[0;34m.\u001b[0m\u001b[0mscale_by_r0\u001b[0m\u001b[0;34m(\u001b[0m\u001b[0mr0\u001b[0m\u001b[0;34m)\u001b[0m\u001b[0;34m\u001b[0m\u001b[0;34m\u001b[0m\u001b[0m\n\u001b[0;32m---> 73\u001b[0;31m     \u001b[0mfit_params\u001b[0m \u001b[0;34m=\u001b[0m \u001b[0mdata_decomposition\u001b[0m\u001b[0;34m.\u001b[0m\u001b[0mmake_fits\u001b[0m\u001b[0;34m(\u001b[0m\u001b[0mfit_original\u001b[0m\u001b[0;34m,\u001b[0m \u001b[0mfit_range\u001b[0m\u001b[0;34m)\u001b[0m\u001b[0;34m\u001b[0m\u001b[0;34m\u001b[0m\u001b[0m\n\u001b[0m\u001b[1;32m     74\u001b[0m     \u001b[0mprint\u001b[0m\u001b[0;34m(\u001b[0m\u001b[0mfit_params\u001b[0m\u001b[0;34m)\u001b[0m\u001b[0;34m\u001b[0m\u001b[0;34m\u001b[0m\u001b[0m\n\u001b[1;32m     75\u001b[0m     \u001b[0mdata_decomposition\u001b[0m\u001b[0;34m.\u001b[0m\u001b[0mremove_from_plot\u001b[0m\u001b[0;34m(\u001b[0m\u001b[0mremove_from_plot\u001b[0m\u001b[0;34m)\u001b[0m\u001b[0;34m\u001b[0m\u001b[0;34m\u001b[0m\u001b[0m\n",
      "\u001b[0;32m~/soft/lattice/observables/python_jupyter/potential/potential_data.py\u001b[0m in \u001b[0;36mmake_fits\u001b[0;34m(self, fit_original, fit_range)\u001b[0m\n\u001b[1;32m     59\u001b[0m                 \u001b[0mmonopole_name\u001b[0m \u001b[0;34m=\u001b[0m \u001b[0mself\u001b[0m\u001b[0;34m.\u001b[0m\u001b[0mpaths\u001b[0m\u001b[0;34m[\u001b[0m\u001b[0;34m'monopole'\u001b[0m\u001b[0;34m]\u001b[0m\u001b[0;34m[\u001b[0m\u001b[0;34m'name'\u001b[0m\u001b[0;34m]\u001b[0m\u001b[0;34m\u001b[0m\u001b[0;34m\u001b[0m\u001b[0m\n\u001b[1;32m     60\u001b[0m                 \u001b[0mmonopoless_name\u001b[0m \u001b[0;34m=\u001b[0m \u001b[0mself\u001b[0m\u001b[0;34m.\u001b[0m\u001b[0mpaths\u001b[0m\u001b[0;34m[\u001b[0m\u001b[0;34m'monopoless'\u001b[0m\u001b[0;34m]\u001b[0m\u001b[0;34m[\u001b[0m\u001b[0;34m'name'\u001b[0m\u001b[0;34m]\u001b[0m\u001b[0;34m\u001b[0m\u001b[0;34m\u001b[0m\u001b[0m\n\u001b[0;32m---> 61\u001b[0;31m                 fit_data, params_original, params_original_err, c_coloumb, c_coloumb_err, c_string, c_string_err = fit.make_fit_original(\n\u001b[0m\u001b[1;32m     62\u001b[0m                     self.data, original_name, monopoless_name, monopole_name, fit_range)\n\u001b[1;32m     63\u001b[0m                 \u001b[0mself\u001b[0m\u001b[0;34m.\u001b[0m\u001b[0mdata_fits\u001b[0m\u001b[0;34m.\u001b[0m\u001b[0mappend\u001b[0m\u001b[0;34m(\u001b[0m\u001b[0mfit_data\u001b[0m\u001b[0;34m)\u001b[0m\u001b[0;34m\u001b[0m\u001b[0;34m\u001b[0m\u001b[0m\n",
      "\u001b[0;32m~/soft/lattice/observables/python_jupyter/potential/fit.py\u001b[0m in \u001b[0;36mmake_fit_original\u001b[0;34m(data, orig_pot_name, coloumb_name, string_name, fit_range)\u001b[0m\n\u001b[1;32m     62\u001b[0m \u001b[0;34m\u001b[0m\u001b[0m\n\u001b[1;32m     63\u001b[0m \u001b[0;32mdef\u001b[0m \u001b[0mmake_fit_original\u001b[0m\u001b[0;34m(\u001b[0m\u001b[0mdata\u001b[0m\u001b[0;34m,\u001b[0m \u001b[0morig_pot_name\u001b[0m\u001b[0;34m,\u001b[0m \u001b[0mcoloumb_name\u001b[0m\u001b[0;34m,\u001b[0m \u001b[0mstring_name\u001b[0m\u001b[0;34m,\u001b[0m \u001b[0mfit_range\u001b[0m\u001b[0;34m)\u001b[0m\u001b[0;34m:\u001b[0m\u001b[0;34m\u001b[0m\u001b[0;34m\u001b[0m\u001b[0m\n\u001b[0;32m---> 64\u001b[0;31m     \u001b[0mpopt\u001b[0m\u001b[0;34m,\u001b[0m \u001b[0mpcov\u001b[0m \u001b[0;34m=\u001b[0m \u001b[0mfit_string\u001b[0m\u001b[0;34m(\u001b[0m\u001b[0mdata\u001b[0m\u001b[0;34m,\u001b[0m \u001b[0mfit_range\u001b[0m\u001b[0;34m,\u001b[0m \u001b[0morig_pot_name\u001b[0m\u001b[0;34m)\u001b[0m\u001b[0;34m\u001b[0m\u001b[0;34m\u001b[0m\u001b[0m\n\u001b[0m\u001b[1;32m     65\u001b[0m     \u001b[0mperr\u001b[0m \u001b[0;34m=\u001b[0m \u001b[0mnp\u001b[0m\u001b[0;34m.\u001b[0m\u001b[0msqrt\u001b[0m\u001b[0;34m(\u001b[0m\u001b[0mnp\u001b[0m\u001b[0;34m.\u001b[0m\u001b[0mdiag\u001b[0m\u001b[0;34m(\u001b[0m\u001b[0mpcov\u001b[0m\u001b[0;34m)\u001b[0m\u001b[0;34m)\u001b[0m\u001b[0;34m\u001b[0m\u001b[0;34m\u001b[0m\u001b[0m\n\u001b[1;32m     66\u001b[0m     c_coloumb, err_coloumb, c_string, err_string = fit_consts(\n",
      "\u001b[0;32m~/soft/lattice/observables/python_jupyter/potential/fit.py\u001b[0m in \u001b[0;36mfit_string\u001b[0;34m(data, fit_range, fit_name)\u001b[0m\n\u001b[1;32m     47\u001b[0m     \u001b[0my_err\u001b[0m \u001b[0;34m=\u001b[0m \u001b[0mdata\u001b[0m\u001b[0;34m[\u001b[0m\u001b[0;34m'err_'\u001b[0m \u001b[0;34m+\u001b[0m \u001b[0mfit_name\u001b[0m\u001b[0;34m]\u001b[0m\u001b[0;34m\u001b[0m\u001b[0;34m\u001b[0m\u001b[0m\n\u001b[1;32m     48\u001b[0m     \u001b[0mx\u001b[0m \u001b[0;34m=\u001b[0m \u001b[0mdata\u001b[0m\u001b[0;34m[\u001b[0m\u001b[0;34m'r/a'\u001b[0m\u001b[0;34m]\u001b[0m\u001b[0;34m.\u001b[0m\u001b[0mto_numpy\u001b[0m\u001b[0;34m(\u001b[0m\u001b[0mdtype\u001b[0m\u001b[0;34m=\u001b[0m\u001b[0mnp\u001b[0m\u001b[0;34m.\u001b[0m\u001b[0mfloat64\u001b[0m\u001b[0;34m)\u001b[0m\u001b[0;34m\u001b[0m\u001b[0;34m\u001b[0m\u001b[0m\n\u001b[0;32m---> 49\u001b[0;31m     \u001b[0mpopt\u001b[0m\u001b[0;34m,\u001b[0m \u001b[0mpcov\u001b[0m \u001b[0;34m=\u001b[0m \u001b[0mcurve_fit\u001b[0m\u001b[0;34m(\u001b[0m\u001b[0mfunc_quark_potential\u001b[0m\u001b[0;34m,\u001b[0m \u001b[0mx\u001b[0m\u001b[0;34m,\u001b[0m \u001b[0my\u001b[0m\u001b[0;34m,\u001b[0m \u001b[0msigma\u001b[0m\u001b[0;34m=\u001b[0m\u001b[0my_err\u001b[0m\u001b[0;34m)\u001b[0m\u001b[0;34m\u001b[0m\u001b[0;34m\u001b[0m\u001b[0m\n\u001b[0m\u001b[1;32m     50\u001b[0m     \u001b[0;32mreturn\u001b[0m \u001b[0mpopt\u001b[0m\u001b[0;34m,\u001b[0m \u001b[0mpcov\u001b[0m\u001b[0;34m\u001b[0m\u001b[0;34m\u001b[0m\u001b[0m\n\u001b[1;32m     51\u001b[0m \u001b[0;34m\u001b[0m\u001b[0m\n",
      "\u001b[0;32m~/.local/lib/python3.8/site-packages/scipy/optimize/_minpack_py.py\u001b[0m in \u001b[0;36mcurve_fit\u001b[0;34m(f, xdata, ydata, p0, sigma, absolute_sigma, check_finite, bounds, method, jac, full_output, **kwargs)\u001b[0m\n\u001b[1;32m    832\u001b[0m             raise TypeError(f\"The number of func parameters={n} must not\"\n\u001b[1;32m    833\u001b[0m                             f\" exceed the number of data points={ydata.size}\")\n\u001b[0;32m--> 834\u001b[0;31m         \u001b[0mres\u001b[0m \u001b[0;34m=\u001b[0m \u001b[0mleastsq\u001b[0m\u001b[0;34m(\u001b[0m\u001b[0mfunc\u001b[0m\u001b[0;34m,\u001b[0m \u001b[0mp0\u001b[0m\u001b[0;34m,\u001b[0m \u001b[0mDfun\u001b[0m\u001b[0;34m=\u001b[0m\u001b[0mjac\u001b[0m\u001b[0;34m,\u001b[0m \u001b[0mfull_output\u001b[0m\u001b[0;34m=\u001b[0m\u001b[0;36m1\u001b[0m\u001b[0;34m,\u001b[0m \u001b[0;34m**\u001b[0m\u001b[0mkwargs\u001b[0m\u001b[0;34m)\u001b[0m\u001b[0;34m\u001b[0m\u001b[0;34m\u001b[0m\u001b[0m\n\u001b[0m\u001b[1;32m    835\u001b[0m         \u001b[0mpopt\u001b[0m\u001b[0;34m,\u001b[0m \u001b[0mpcov\u001b[0m\u001b[0;34m,\u001b[0m \u001b[0minfodict\u001b[0m\u001b[0;34m,\u001b[0m \u001b[0merrmsg\u001b[0m\u001b[0;34m,\u001b[0m \u001b[0mier\u001b[0m \u001b[0;34m=\u001b[0m \u001b[0mres\u001b[0m\u001b[0;34m\u001b[0m\u001b[0;34m\u001b[0m\u001b[0m\n\u001b[1;32m    836\u001b[0m         \u001b[0mysize\u001b[0m \u001b[0;34m=\u001b[0m \u001b[0mlen\u001b[0m\u001b[0;34m(\u001b[0m\u001b[0minfodict\u001b[0m\u001b[0;34m[\u001b[0m\u001b[0;34m'fvec'\u001b[0m\u001b[0;34m]\u001b[0m\u001b[0;34m)\u001b[0m\u001b[0;34m\u001b[0m\u001b[0;34m\u001b[0m\u001b[0m\n",
      "\u001b[0;32m~/.local/lib/python3.8/site-packages/scipy/optimize/_minpack_py.py\u001b[0m in \u001b[0;36mleastsq\u001b[0;34m(func, x0, args, Dfun, full_output, col_deriv, ftol, xtol, gtol, maxfev, epsfcn, factor, diag)\u001b[0m\n\u001b[1;32m    412\u001b[0m \u001b[0;34m\u001b[0m\u001b[0m\n\u001b[1;32m    413\u001b[0m     \u001b[0;32mif\u001b[0m \u001b[0mn\u001b[0m \u001b[0;34m>\u001b[0m \u001b[0mm\u001b[0m\u001b[0;34m:\u001b[0m\u001b[0;34m\u001b[0m\u001b[0;34m\u001b[0m\u001b[0m\n\u001b[0;32m--> 414\u001b[0;31m         raise TypeError(f\"Improper input: func input vector length N={n} must\"\n\u001b[0m\u001b[1;32m    415\u001b[0m                         f\" not exceed func output vector length M={m}\")\n\u001b[1;32m    416\u001b[0m \u001b[0;34m\u001b[0m\u001b[0m\n",
      "\u001b[0;31mTypeError\u001b[0m: Improper input: func input vector length N=3 must not exceed func output vector length M=1"
     ]
    }
   ],
   "source": [
    "make_plot_decomposition('../../result/potential/wilson_loop/fundamental/su3/gluodynamics', '36^4', 6.3, 'beta6.3', 'steps_500/copies=3', 'compensate_1', 18, 16, (-1, 8.5))"
   ]
  },
  {
   "cell_type": "code",
   "execution_count": null,
   "metadata": {},
   "outputs": [],
   "source": [
    "make_plot_decomposition('../../result/potential/wilson_loop/fundamental/su3/gluodynamics', '36^4', 6.3, 'beta6.3', 'steps_1000/copies=3', 'compensate_1', 18, 17, (-1, 8.5))"
   ]
  },
  {
   "cell_type": "code",
   "execution_count": null,
   "metadata": {},
   "outputs": [],
   "source": [
    "make_plot_decomposition('../../result/potential/wilson_loop/fundamental/su3/gluodynamics', '36^4', 6.3, 'beta6.3', 'steps_2000/copies=3', 'compensate_1', 18, 17, (-1, 8.5))"
   ]
  },
  {
   "cell_type": "code",
   "execution_count": null,
   "metadata": {},
   "outputs": [],
   "source": [
    "make_plot_decomposition('../../result/potential/wilson_loop/fundamental/su3/gluodynamics', '36^4', 6.3, 'beta6.3', 'steps_4000/copies=3', 'compensate_1', 18, 17, (-1, 8.5))"
   ]
  },
  {
   "cell_type": "code",
   "execution_count": null,
   "metadata": {},
   "outputs": [],
   "source": [
    "fit_coefs = {'SU(3)': (3.611, -0.337, 1.343),\n",
    "                'mon+mod': (3.978, -0.390, 0.939)}\n",
    "path = '../../result/potential/wilson_loop/fundamental/su3/gluodynamics/24^4/beta6.0/vitaly'\n",
    "image_path = '../../images/potential/decomposition/su3/gluodynamics/24^4/beta6.0/vitaly'\n",
    "image_name = 'potential_decomposition_abel_offdiag_mon+mod_24^4_beta6p0'\n",
    "terms = ['SU(3)', 'mon', 'mod']\n",
    "to_fit = ['abel', 'offdiag', 'abel+offdiag']\n",
    "to_remove = ['mon', 'mod']\n",
    "y_lims = (-0.5, 6.8)\n",
    "beta = 6.0\n",
    "path1 = '../../result/potential/wilson_loop/fundamental/su3/gluodynamics/24^4/beta6.0'\n",
    "paths = ({'name' : 'abel', 'path' : f'{path1}/HYP0_alpha=1_1_0.5_APE_alpha=0.5/steps_500/copies=3/potential_abelian.csv', 'T' : 8},\n",
    "        {'name' : 'offdiag', 'path' : f'{path1}/HYP0_alpha=1_1_0.5_APE_alpha=0.5/steps_500/copies=3/compensate_1/potential_offdiagonal.csv', 'T' : 6})\n",
    "potential_decomposition_general(paths, path, image_path, image_name, fit_coefs, to_fit, to_remove, terms, y_lims, beta, 12)"
   ]
  },
  {
   "cell_type": "code",
   "execution_count": null,
   "metadata": {},
   "outputs": [],
   "source": [
    "fit_coefs = {'SU(3)': (3.611, -0.337, 1.343)}\n",
    "path = '../../result/potential/wilson_loop/fundamental/su3/gluodynamics/24^4/beta6.0/vitaly'\n",
    "image_path = '../../images/potential/decomposition/su3/gluodynamics/24^4/beta6.0/vitaly'\n",
    "image_name = 'potential_decomposition_abel_offdiag_24^4_beta6p0'\n",
    "terms = ['SU(3)', 'mon', 'mod']\n",
    "to_fit = ['abel', 'offdiag', 'abel+offdiag']\n",
    "to_remove = ['mon', 'mod', 'mon+mod']\n",
    "y_lims = (-0.5, 6.8)\n",
    "beta = 6.0\n",
    "path1 = '../../result/potential/wilson_loop/fundamental/su3/gluodynamics/24^4/beta6.0'\n",
    "paths = ({'name' : 'abel', 'path' : f'{path1}/HYP0_alpha=1_1_0.5_APE_alpha=0.5/steps_500/copies=3/potential_abelian.csv', 'T' : 8},\n",
    "        {'name' : 'offdiag', 'path' : f'{path1}/HYP0_alpha=1_1_0.5_APE_alpha=0.5/steps_500/copies=3/compensate_1/potential_offdiagonal.csv', 'T' : 6})\n",
    "potential_decomposition_general(paths, path, image_path, image_name, fit_coefs, to_fit, to_remove, terms, y_lims, beta, 12)"
   ]
  },
  {
   "cell_type": "code",
   "execution_count": null,
   "metadata": {},
   "outputs": [],
   "source": [
    "fit_coefs = {'SU(3)': (3.611, -0.337, 1.343),\n",
    "        'mon': (-0.365, 0.0887, 0.993),\n",
    "        'mod': (4.222, -0.424, 0),\n",
    "        'mon+mod': (3.978, -0.390, 0.939)}\n",
    "path = '../../result/potential/wilson_loop/fundamental/su3/gluodynamics/24^4/beta6.0/vitaly'\n",
    "image_path = '../../images/potential/decomposition/su3/gluodynamics/24^4/beta6.0/vitaly'\n",
    "image_name = 'potential_decomposition_full_24^4_beta6p0'\n",
    "terms = ['SU(3)', 'mon', 'mod']\n",
    "to_fit = ['abel', 'offdiag', 'abel+offdiag']\n",
    "to_remove = []\n",
    "y_lims = (-0.5, 6.8)\n",
    "beta = 6.0\n",
    "path1 = '../../result/potential/wilson_loop/fundamental/su3/gluodynamics/24^4/beta6.0'\n",
    "paths = ({'name' : 'abel', 'path' : f'{path1}/HYP0_alpha=1_1_0.5_APE_alpha=0.5/steps_500/copies=3/potential_abelian.csv', 'T' : 8},\n",
    "        {'name' : 'offdiag', 'path' : f'{path1}/HYP0_alpha=1_1_0.5_APE_alpha=0.5/steps_500/copies=3/compensate_1/potential_offdiagonal.csv', 'T' : 6})\n",
    "potential_decomposition_general(paths, path, image_path, image_name, fit_coefs, to_fit, to_remove, terms, y_lims, beta, 12)"
   ]
  },
  {
   "cell_type": "code",
   "execution_count": null,
   "metadata": {},
   "outputs": [],
   "source": [
    "coefs = {'SU(3)': (3.611, -0.337, 1.343),\n",
    "        'mon': (-0.365, 0.0887, 0.993),\n",
    "        'mod': (4.222, -0.424, 0),\n",
    "        'mon+mod': (3.978, -0.390, 0.939)}\n",
    "path = '../../result/potential/wilson_loop/fundamental/su3/gluodynamics/24^4/beta6.0/vitaly'\n",
    "image_path = '../../images/potential/decomposition/su3/gluodynamics/24^4/beta6.0/vitaly'\n",
    "image_name = 'potential_decomposition_mon_mod_abel+offdiag_24^4_beta6p0'\n",
    "terms = ['SU(3)', 'mon', 'mod']\n",
    "y_lims = (-0.5, 6.8)\n",
    "beta = 6.0\n",
    "path1 = '../../result/potential/wilson_loop/fundamental/su3/gluodynamics/24^4/beta6.0'\n",
    "paths = ({'name' : 'abel', 'path' : f'{path1}/HYP0_alpha=1_1_0.5_APE_alpha=0.5/steps_500/copies=3/potential_abelian.csv', 'T' : 8},\n",
    "        {'name' : 'offdiag', 'path' : f'{path1}/HYP0_alpha=1_1_0.5_APE_alpha=0.5/steps_500/copies=3/compensate_1/potential_offdiagonal.csv', 'T' : 6})\n",
    "potential_decomposition_vitaly1(paths, path, image_path, image_name, coefs, terms, y_lims, beta, 12)"
   ]
  },
  {
   "cell_type": "code",
   "execution_count": null,
   "metadata": {},
   "outputs": [],
   "source": [
    "coefs = {'SU(3)': (3.611, -0.337, 1.343),\n",
    "        'mon': (-0.365, 0.0887, 0.993),\n",
    "        'mod': (4.222, -0.424, 0),\n",
    "        'mon+mod': (3.978, -0.390, 0.939)}\n",
    "path = '../../result/potential/wilson_loop/fundamental/su3/gluodynamics/24^4/beta6.0/vitaly'\n",
    "image_path = '../../images/potential/decomposition/su3/gluodynamics/24^4/beta6.0/vitaly'\n",
    "image_name = 'potential_decomposition_mon_mod_24^4_beta6p0'\n",
    "terms = ['SU(3)', 'mon', 'mod']\n",
    "y_lims = (-0.5, 6.8)\n",
    "beta = 6.0\n",
    "potential_decomposition_vitaly(path, image_path, image_name, coefs, terms, y_lims, beta)"
   ]
  },
  {
   "cell_type": "code",
   "execution_count": null,
   "metadata": {},
   "outputs": [],
   "source": [
    "path = '../../result/potential/wilson_loop/fundamental/su3/gluodynamics/24^4/beta6.0'\n",
    "paths = ({'name' : 'SU3', 'path' : f'{path}/HYP0_alpha=1_1_0.5_APE_alpha=0.5/potential_original.csv'},\n",
    "        {'name' : 'mon', 'path' : f'{path}/HYP0_alpha=1_1_0.5_APE_alpha=0.5/steps_500/copies=3/compensate_1/potential_monopole.csv', 'T' : 12},\n",
    "        {'name' : 'mod', 'path' : f'{path}/HYP0_alpha=1_1_0.5_APE_alpha=0.5/steps_500/copies=3/compensate_1/potential_monopoless.csv', 'T' : 8})\n",
    "potential_decomposition(paths, f'../../images/potential/decomposition/su3/gluodynamics/24^4/beta6.0', 'potential_decomposition_fit_original_24^4_beta6p0',\n",
    "                        1, 6.0, 12, (-0.5, 6.8), 'SU3', 'mod', 'mon', 'original')"
   ]
  },
  {
   "cell_type": "code",
   "execution_count": null,
   "metadata": {},
   "outputs": [],
   "source": [
    "path = '../../result/potential/wilson_loop/fundamental/su3/gluodynamics/24^4/beta6.0'\n",
    "paths = ({'name' : 'SU3', 'path' : f'{path}/HYP0_alpha=1_1_0.5_APE_alpha=0.5/potential_original.csv', 'T' : 5},\n",
    "        {'name' : 'mon', 'path' : f'{path}/HYP0_alpha=1_1_0.5_APE_alpha=0.5/steps_500/copies=3/compensate_1/potential_monopole.csv', 'T' : 12},\n",
    "        {'name' : 'mod', 'path' : f'{path}/HYP0_alpha=1_1_0.5_APE_alpha=0.5/steps_500/copies=3/compensate_1/potential_monopoless.csv', 'T' : 8})\n",
    "potential_decomposition(paths, f'../../images/potential/decomposition/su3/gluodynamics/24^4/beta6.0', 'potential_decomposition_fit_separate_24^4_beta6p0',\n",
    "                        1, 6.0, 12, (-0.5, 6.8), 'SU3', 'mod', 'mon', 'separate')"
   ]
  },
  {
   "cell_type": "code",
   "execution_count": null,
   "metadata": {},
   "outputs": [],
   "source": [
    "path = '../../result/potential/wilson_loop/fundamental/su3/gluodynamics/24^4/beta6.0'\n",
    "paths = ({'name' : 'SU3', 'path' : f'{path}/HYP0_alpha=1_1_0.5_APE_alpha=0.5/potential_original.csv', 'T' : 5},\n",
    "        {'name' : 'abel', 'path' : f'{path}/HYP0_alpha=1_1_0.5_APE_alpha=0.5/steps_500/copies=3/potential_abelian.csv', 'T' : 6},\n",
    "        {'name' : 'offdiag', 'path' : f'{path}/HYP0_alpha=1_1_0.5_APE_alpha=0.5/steps_500/copies=3/compensate_1/potential_offdiagonal.csv', 'T' : 6})\n",
    "\n",
    "potential_decomposition(paths, f'../../images/potential/decomposition/su3/gluodynamics/24^4/beta6.0', 'potential_decomposition1_fit_original_24^4_beta6p0',\n",
    "                        1, 6.0, 12, (-0.5, 6.8), 'SU3', 'offdiag', 'abel', 'original')"
   ]
  },
  {
   "cell_type": "code",
   "execution_count": null,
   "metadata": {},
   "outputs": [],
   "source": [
    "path = '../../result/potential/wilson_loop/fundamental/su3/gluodynamics/24^4/beta6.0'\n",
    "paths = ({'name' : 'SU3', 'path' : f'{path}/HYP0_alpha=1_1_0.5_APE_alpha=0.5/potential_original.csv', 'T' : 5},\n",
    "        {'name' : 'abel', 'path' : f'{path}/HYP0_alpha=1_1_0.5_APE_alpha=0.5/steps_500/copies=3/potential_abelian.csv', 'T' : 6},\n",
    "        {'name' : 'offdiag', 'path' : f'{path}/HYP0_alpha=1_1_0.5_APE_alpha=0.5/steps_500/copies=3/compensate_1/potential_offdiagonal.csv', 'T' : 6})\n",
    "potential_decomposition(paths, f'../../images/potential/decomposition/su3/gluodynamics/24^4/beta6.0', 'potential_decomposition1_fit_separate_24^4_beta6p0',\n",
    "                        1, 6.0, 12, (-0.5, 6.8), 'SU3', 'offdiag', 'abel', 'separate')"
   ]
  },
  {
   "cell_type": "code",
   "execution_count": null,
   "metadata": {},
   "outputs": [],
   "source": [
    "path = '../../result/potential/wilson_loop/fundamental/su3/gluodynamics/36^4/beta6.3'\n",
    "paths = ({'name' : 'SU3', 'path' : f'{path}/HYP0_alpha=1_1_0.5_APE_alpha=0.5/potential_original.csv', 'T' : 5},\n",
    "        {'name' : 'mon', 'path' : f'{path}/HYP0_alpha=1_1_0.5_APE_alpha=0.5/steps_500/copies=3/compensate_1/potential_monopole.csv', 'T' : 12},\n",
    "        {'name' : 'mod', 'path' : f'{path}/HYP0_alpha=1_1_0.5_APE_alpha=0.5/steps_500/copies=3/compensate_1/potential_monopoless.csv', 'T' : 8})\n",
    "potential_decomposition(paths, f'../../images/potential/decomposition/su3/gluodynamics/36^4/beta6.3', 'potential_decomposition_fit_separate_36^4_beta6p3',\n",
    "                        1, 6.0, 12, (-0.5, 6.8), 'SU3', 'mod', 'mon', 'separate')"
   ]
  },
  {
   "cell_type": "code",
   "execution_count": null,
   "metadata": {},
   "outputs": [],
   "source": [
    "path = '../../result/potential/wilson_loop/fundamental/su3/gluodynamics/36^4/beta6.3'\n",
    "paths = ({'name' : 'SU3', 'path' : f'{path}/HYP0_alpha=1_1_0.5_APE_alpha=0.5/potential_original.csv', 'T' : 5},\n",
    "        {'name' : 'abel', 'path' : f'{path}/HYP0_alpha=1_1_0.5_APE_alpha=0.5/steps_500/copies=3/potential_abelian.csv', 'T' : 6},\n",
    "        {'name' : 'offdiag', 'path' : f'{path}/HYP0_alpha=1_1_0.5_APE_alpha=0.5/steps_500/copies=3/compensate_1/potential_offdiagonal.csv', 'T' : 6})\n",
    "potential_decomposition(paths, f'../../images/potential/decomposition/su3/gluodynamics/36^4/beta6.3', 'potential_decomposition1_fit_separate_36^4_beta6p3',\n",
    "                        1, 6.0, 12, (-0.5, 6.8), 'SU3', 'offdiag', 'abel', 'separate')"
   ]
  },
  {
   "cell_type": "code",
   "execution_count": null,
   "metadata": {},
   "outputs": [],
   "source": [
    "path = '../../result/potential/wilson_loop/potential/su2/su2_suzuki/24^4/beta2.5'\n",
    "paths = ({'name' : 'SU2', 'path' : f'{path}/HYP0_alpha=1_1_0.5_APE_alpha=0.5/potential_original.csv', 'T' : 5},\n",
    "        {'name' : 'mon', 'path' : f'{path}/HYP0_alpha=1_1_0.5_APE_alpha=0.5/T_step=0.0001/potential_monopole.csv', 'T' : 12},\n",
    "        {'name' : 'mod', 'path' : f'{path}/HYP0_alpha=1_1_0.5_APE_alpha=0.5/T_step=0.0001/potential_monopoless.csv', 'T' : 8})\n",
    "potential_decomposition(paths, f'../../images/potential/decomposition/su2/su2_suzuki/24^4/beta2.5', 'potential_decomposition_24^4_beta2p5',\n",
    "                        1, 6.0, 12, (-0.5, 6.8), 'SU3', 'mod', 'mon', 'separate')"
   ]
  },
  {
   "cell_type": "code",
   "execution_count": null,
   "metadata": {},
   "outputs": [],
   "source": [
    "path = '../../result/potential/wilson_loop/potential/su2/su2_suzuki/24^4/beta2.5'\n",
    "paths = ({'name' : 'SU2', 'path' : f'{path}/HYP0_alpha=1_1_0.5_APE_alpha=0.5/potential_original.csv', 'T' : 5},\n",
    "        {'name' : 'abel', 'path' : f'{path}/HYP0_alpha=1_1_0.5_APE_alpha=0.5/T_step=0.0001/potential_abelian.csv', 'T' : 6},\n",
    "        {'name' : 'offdiag', 'path' : f'{path}/HYP0_alpha=1_1_0.5_APE_alpha=0.5/T_step=0.0001/potential_offdiagonal.csv', 'T' : 6})\n",
    "potential_decomposition(paths, f'../../images/potential/decomposition/su2/su2_suzuki/24^4/beta2.5', 'potential_decomposition1_24^4_beta2p5',\n",
    "                        1, 6.0, 12, (-0.5, 6.8), 'SU3', 'mod', 'mon', 'separate')"
   ]
  },
  {
   "cell_type": "code",
   "execution_count": null,
   "metadata": {},
   "outputs": [],
   "source": [
    "path = '../../result/potential/wilson_loop/potential/su2/su2_suzuki/24^4/beta2.5'\n",
    "paths = ({'name' : 'SU2', 'path' : f'{path}/HYP0_alpha=1_1_0.5_APE_alpha=0.5/potential_original.csv', 'T' : 5},\n",
    "        {'name' : 'mon', 'path' : f'{path}/HYP0_alpha=1_1_0.5_APE_alpha=0.5/T_step=0.0001/potential_monopole.csv', 'T' : 12},\n",
    "        {'name' : 'mod', 'path' : f'{path}/HYP0_alpha=1_1_0.5_APE_alpha=0.5/T_step=0.0001/potential_monopoless.csv', 'T' : 8})\n",
    "potential_decomposition(paths, f'../../images/potential/decomposition/su2/su2_suzuki/24^4/beta5.5', 'potential_decomposition_24^4_beta2p5',\n",
    "                        1, 6.0, 12, (-0.5, 6.8), 'SU3', 'mod', 'mon', 'separate')"
   ]
  },
  {
   "cell_type": "code",
   "execution_count": null,
   "metadata": {},
   "outputs": [],
   "source": [
    "path = '../../result/potential/on-axis/su3/gluodynamics/24^4/beta6.0'\n",
    "paths = ({'name' : 'SU3', 'path' : f'{path}/HYP0_alpha=1_1_0.5_APE_alpha=0.5/potential_original.csv', 'T' : 5},\n",
    "        {'name' : 'mon', 'path' : f'{path}/HYP0_alpha=1_1_0.5_APE_alpha=0.5/steps_500/copies=3/compensate_1/potential_monopole.csv', 'T' : 12},\n",
    "        {'name' : 'mod', 'path' : f'{path}/HYP0_alpha=1_1_0.5_APE_alpha=0.5/steps_500/copies=3/compensate_1/potential_monopoless.csv', 'T' : 8})\n",
    "potential_decomposition(paths, f'../../images/potential/decomposition/su3/gluodynamics/24^4/beta6.0', 'potential_decomposition_24^4_beta6p0', 1, 6.0, 12)"
   ]
  },
  {
   "cell_type": "code",
   "execution_count": null,
   "metadata": {},
   "outputs": [],
   "source": [
    "path = '../../result/smearing/potential/su2/su2_suzuki/24^4/beta2.4'\n",
    "paths = {'su2': (f'{path}/HYP0_alpha=1_1_0.5_APE_alpha=0.5/potential_original.csv', 4, 100),\n",
    "        'mon': (f'{path}/HYP0_alpha=1_1_0.5_APE_alpha=0.5/T_step=0.0001/T_final=0.0001/OR_steps=6/potential_monopole.csv', 6, 80),\n",
    "        'monless': (f'{path}/HYP0_alpha=1_1_0.5_APE_alpha=0.5/T_step=0.0001/T_final=0.0001/OR_steps=6/potential_monopoless.csv', 6, 80)}\n",
    "potential_decomposition(paths, f'../images/potential/decomposition/qc2dstag', 'potential_qc2dstag_mu00', 1, 12)"
   ]
  },
  {
   "cell_type": "code",
   "execution_count": null,
   "metadata": {},
   "outputs": [],
   "source": [
    "path = '../../result/smearing/potential/su2/su2_suzuki/48^4/beta2.7'\n",
    "paths = {'su2': (f'{path}/HYP0_alpha=1_1_0.5_APE_alpha=0.5/potential_original.csv', 6, 400),\n",
    "        'mon': (f'{path}/HYP0_alpha=1_1_0.5_APE_alpha=0.5/T_step=0.0005/T_final=0.5/OR_steps=4/potential_monopole.csv', 16, 400),\n",
    "        'monless': (f'{path}/HYP0_alpha=1_1_0.5_APE_alpha=0.5/T_step=0.0005/T_final=0.5/OR_steps=4/potential_monopoless.csv', 6, 400)}\n",
    "potential_decomposition(paths, f'../images/potential/decomposition/su2_suzuki', 'potential_su2_suzuki_beta2p7', 1, 24)"
   ]
  },
  {
   "cell_type": "code",
   "execution_count": null,
   "metadata": {},
   "outputs": [],
   "source": [
    "path = '../../result/smearing/potential/su2/su2_suzuki/48^4/beta2.8'\n",
    "paths = {'su2': (f'{path}/HYP0_alpha=1_1_0.5_APE_alpha=0.5/potential_original.csv', 6, 400),\n",
    "        'mon': (f'{path}/HYP0_alpha=1_1_0.5_APE_alpha=0.5/T_step=0.001/T_final=0.5/OR_steps=4/potential_monopole.csv', 16, 300),\n",
    "        'monless': (f'{path}/HYP0_alpha=1_1_0.5_APE_alpha=0.5/T_step=0.001/T_final=0.5/OR_steps=4/potential_monopoless.csv', 6, 300)}\n",
    "potential_decomposition(paths, f'../../images/potential/decomposition/su2_suzuki', 'potential_su2_suzuki_beta2p8_0p001', 1, 24)"
   ]
  },
  {
   "cell_type": "code",
   "execution_count": null,
   "metadata": {},
   "outputs": [],
   "source": [
    "path = '../../result/smearing/potential/su2/su2_suzuki/48^4/beta2.8'\n",
    "paths = {'su2': (f'{path}/HYP0_alpha=1_1_0.5_APE_alpha=0.5/potential_original.csv', 6, 400),\n",
    "        'mon': (f'{path}/HYP0_alpha=1_1_0.5_APE_alpha=0.5/T_step=0.0005/T_final=0.0005/OR_steps=4/potential_monopole.csv', 16, 30),\n",
    "        'monless': (f'{path}/HYP0_alpha=1_1_0.5_APE_alpha=0.5/T_step=0.0005/T_final=0.0005/OR_steps=4/potential_monopoless.csv', 6, 300)}\n",
    "potential_decomposition(paths, f'../../images/potential/decomposition/su2_suzuki', 'potential_su2_suzuki_beta2p8_0p0005', 1, 24)"
   ]
  },
  {
   "cell_type": "code",
   "execution_count": null,
   "metadata": {},
   "outputs": [],
   "source": [
    "path = '../../result/smearing/potential/su2/su2_suzuki/48^4/beta2.8'\n",
    "paths = {'su2': (f'{path}/HYP0_alpha=1_1_0.5_APE_alpha=0.5/potential_original.csv', 6, 400),\n",
    "        'mon': (f'{path}/HYP0_alpha=1_1_0.5_APE_alpha=0.5/T_step=0.0001/T_final=0.5/OR_steps=4/potential_monopole.csv', 16, 200),\n",
    "        'monless': (f'{path}/HYP0_alpha=1_1_0.5_APE_alpha=0.5/T_step=0.0001/T_final=0.5/OR_steps=4/potential_monopoless.csv', 6, 300)}\n",
    "potential_decomposition(paths, f'../../images/potential/decomposition/su2_suzuki', 'potential_su2_suzuki_beta2p8_0p0001', 1, 24)"
   ]
  },
  {
   "cell_type": "code",
   "execution_count": null,
   "metadata": {},
   "outputs": [],
   "source": [
    "path = '../../result/smearing/potential/su2/su2_suzuki/48^4/beta2.8'\n",
    "paths = {'su2': (f'{path}/HYP0_alpha=1_1_0.5_APE_alpha=0.5/potential_original.csv', 6, 400),\n",
    "        'mon': (f'{path}/HYP0_alpha=1_1_0.5_APE_alpha=0.5/T_step=5e-05/T_final=0.5/OR_steps=4/potential_monopole.csv', 6, 400),\n",
    "        'monless': (f'{path}/HYP0_alpha=1_1_0.5_APE_alpha=0.5/T_step=5e-05/T_final=0.5/OR_steps=4/potential_monopoless.csv', 8, 400)}\n",
    "potential_decomposition(paths, f'../../images/potential/decomposition/su2_suzuki', 'potential_su2_suzuki_beta2p8_5e-05', 1, 24)"
   ]
  },
  {
   "cell_type": "code",
   "execution_count": null,
   "metadata": {},
   "outputs": [],
   "source": [
    "path = '../../result/smearing/potential/su2/su2_suzuki/48^4/beta2.8'\n",
    "paths = {'su2': (f'{path}/HYP1_alpha=1_1_0.5_APE_alpha=0.5/potential_original.csv', 8, 360),\n",
    "        'mon': (f'{path}/HYP1_alpha=1_1_0.5_APE_alpha=0.5/T_step=5e-05/T_final=0.5/OR_steps=4/potential_monopole.csv', 23, 400),\n",
    "        'monless': (f'{path}/HYP1_alpha=1_1_0.5_APE_alpha=0.5/T_step=5e-05/T_final=0.5/OR_steps=4/potential_monopoless.csv', 16, 400)}\n",
    "potential_decomposition(paths, f'../../images/potential/decomposition/su2_suzuki', 'potential_su2_suzuki_beta2p8_5e-05', 1, 24)"
   ]
  },
  {
   "cell_type": "code",
   "execution_count": null,
   "metadata": {},
   "outputs": [],
   "source": [
    "path = '../../result/smearing/potential/su3/gluodynamics/16^4/beta6.0'\n",
    "paths = {'su3': (f'{path}/HYP0_alpha=1_1_0.5_APE_alpha=0.5/potential_original.csv', 5, 600),\n",
    "        'mon': (f'{path}/HYP0_alpha=1_1_0.5_APE_alpha=0.5/compensate_1/potential_monopole.csv', 5, 600),\n",
    "        'monless': (f'{path}/HYP0_alpha=1_1_0.5_APE_alpha=0.5/compensate_1/potential_monopoless.csv', 5, 600)}\n",
    "potential_decomposition(paths, f'../../images/potential/decomposition/su3/gluodynamics/16^4/beta6.0', 'potential_decomposition_16^4_beta6p0', 1, 8)"
   ]
  },
  {
   "cell_type": "code",
   "execution_count": null,
   "metadata": {},
   "outputs": [],
   "source": [
    "path = '../../result/smearing/potential/su3/gluodynamics/16^4/beta6.0'\n",
    "paths = {'su3': (f'{path}/HYP1_alpha=1_1_0.5_APE_alpha=0.5/potential_original.csv', 5, 600),\n",
    "        'mon': (f'{path}/HYP1_alpha=1_1_0.5_APE_alpha=0.5/compensate_1/potential_monopole.csv', 5, 600),\n",
    "        'monless': (f'{path}/HYP1_alpha=1_1_0.5_APE_alpha=0.5/compensate_1/potential_monopoless.csv', 5, 600)}\n",
    "potential_decomposition(paths, f'../../images/potential/decomposition/su3/gluodynamics/16^4/beta6.0', 'potential_decomposition_16^4_beta6p0', 1, 8)"
   ]
  },
  {
   "cell_type": "code",
   "execution_count": null,
   "metadata": {},
   "outputs": [],
   "source": [
    "path = '../../result/smearing/potential/su3/gluodynamics/16^4/beta6.0'\n",
    "paths = {'su3': (f'{path}/HYP0_alpha=1_1_0.5_APE_alpha=0.5/potential_original.csv', 5, 600),\n",
    "        'abel': (f'{path}/HYP0_alpha=1_1_0.5_APE_alpha=0.5/potential_abelian.csv', 6, 600),\n",
    "        'offdiag': (f'{path}/HYP0_alpha=1_1_0.5_APE_alpha=0.5/compensate_1/potential_offdiagonal.csv', 6, 600)}\n",
    "potential_decomposition(paths, f'../../images/potential/decomposition/su3/gluodynamics/16^4/beta6.0', 'potential_decomposition1_16^4_beta6p0', 1, 8)"
   ]
  },
  {
   "cell_type": "code",
   "execution_count": null,
   "metadata": {},
   "outputs": [],
   "source": [
    "path = '../../result/smearing/potential/su3/gluodynamics/16^4/beta6.0'\n",
    "paths = {'su3': (f'{path}/HYP1_alpha=1_1_0.5_APE_alpha=0.5/potential_original.csv', 5, 600),\n",
    "        'abel': (f'{path}/HYP1_alpha=1_1_0.5_APE_alpha=0.5/potential_abelian.csv', 6, 600),\n",
    "        'offdiag': (f'{path}/HYP1_alpha=1_1_0.5_APE_alpha=0.5/compensate_1/potential_offdiagonal.csv', 6, 600)}\n",
    "potential_decomposition(paths, f'../../images/potential/decomposition/su3/gluodynamics/16^4/beta6.0', 'potential_decomposition1_16^4_beta6p0', 1, 8)"
   ]
  },
  {
   "cell_type": "code",
   "execution_count": null,
   "metadata": {},
   "outputs": [],
   "source": [
    "path = '../../result/smearing/potential/su3/gluodynamics/16^4/beta6.0'\n",
    "paths = {'abel': (f'{path}/HYP0_alpha=1_1_0.5_APE_alpha=0.5/potential_abelian.csv', 6, 600),\n",
    "        'mon': (f'{path}/HYP0_alpha=1_1_0.5_APE_alpha=0.5/compensate_1/potential_monopole.csv', 6, 600),\n",
    "        'phot': (f'{path}/HYP0_alpha=1_1_0.5_APE_alpha=0.5/compensate_1/potential_photon.csv', 6, 600)}\n",
    "potential_decomposition(paths, f'../../images/potential/decomposition/su3/gluodynamics/16^4/beta6.0', 'potential_decomposition2_16^4_beta6p0', 1, 8)"
   ]
  },
  {
   "cell_type": "code",
   "execution_count": null,
   "metadata": {},
   "outputs": [],
   "source": [
    "path = '../../result/smearing/potential/su3/gluodynamics/16^4/beta6.0'\n",
    "paths = {'abel': (f'{path}/HYP1_alpha=1_1_0.5_APE_alpha=0.5/potential_abelian.csv', 6, 600),\n",
    "        'mon': (f'{path}/HYP1_alpha=1_1_0.5_APE_alpha=0.5/compensate_1/potential_monopole.csv', 6, 600),\n",
    "        'phot': (f'{path}/HYP1_alpha=1_1_0.5_APE_alpha=0.5/compensate_1/potential_photon.csv', 6, 600)}\n",
    "potential_decomposition(paths, f'../../images/potential/decomposition/su3/gluodynamics/16^4/beta6.0', 'potential_decomposition2_16^4_beta6p0', 1, 8)"
   ]
  },
  {
   "cell_type": "code",
   "execution_count": null,
   "metadata": {},
   "outputs": [],
   "source": [
    "path = '../../result/potential/on-axis/su3/gluodynamics/24^4/beta6.0'\n",
    "paths = {'su3': (f'{path}/HYP0_alpha=1_1_0.5_APE_alpha=0.5/potential_original.csv', 6),\n",
    "        'mon': (f'{path}/HYP0_alpha=1_1_0.5_APE_alpha=0.5/steps_500/copies=3/compensate_1/potential_monopole.csv', 12),\n",
    "        'monless': (f'{path}/HYP0_alpha=1_1_0.5_APE_alpha=0.5/steps_500/copies=3/compensate_1/potential_monopoless.csv', 8)}\n",
    "potential_decomposition(paths, f'../../images/potential/decomposition/su3/gluodynamics/24^4/beta6.0', 'potential_decomposition_24^4_beta6p0', 1, 6.0, 12)"
   ]
  },
  {
   "cell_type": "code",
   "execution_count": null,
   "metadata": {},
   "outputs": [],
   "source": [
    "path = '../../result/potential/on-axis/su3/gluodynamics/24^4/beta6.0'\n",
    "paths = {'su3': (f'{path}/HYP0_alpha=1_1_0.5_APE_alpha=0.5/potential_original.csv', 6),\n",
    "        'abel': (f'{path}/HYP0_alpha=1_1_0.5_APE_alpha=0.5/steps_500/copies=3/potential_abelian.csv', 6),\n",
    "        'offdiag': (f'{path}/HYP0_alpha=1_1_0.5_APE_alpha=0.5/steps_500/copies=3/compensate_1/potential_offdiagonal.csv', 6)}\n",
    "\n",
    "potential_decomposition(paths, f'../../images/potential/decomposition/su3/gluodynamics/24^4/beta6.0', 'potential_decomposition1_24^4_beta6p0', 1, 12)"
   ]
  },
  {
   "cell_type": "code",
   "execution_count": null,
   "metadata": {},
   "outputs": [],
   "source": [
    "path = '../../result/potential/on-axis/su3/gluodynamics/24^4/beta6.0'\n",
    "paths = {'abel': (f'{path}/HYP0_alpha=1_1_0.5_APE_alpha=0.5/steps_500/copies=3/potential_abelian.csv', 6),\n",
    "        'mon': (f'{path}/HYP0_alpha=1_1_0.5_APE_alpha=0.5/steps_500/copies=3/compensate_1/potential_monopole.csv', 6),\n",
    "        'phot': (f'{path}/HYP0_alpha=1_1_0.5_APE_alpha=0.5/steps_500/copies=3/compensate_1/potential_photon.csv', 6)}\n",
    "potential_decomposition(paths, f'../../images/potential/decomposition/su3/gluodynamics/24^4/beta6.0', 'potential_decomposition2_24^4_beta6p0', 1, 12)"
   ]
  },
  {
   "cell_type": "code",
   "execution_count": null,
   "metadata": {},
   "outputs": [],
   "source": [
    "path = '../../result/potential/on-axis/su3/gluodynamics/24^4/beta6.0'\n",
    "paths = {'su3_HYP0': (f'{path}/HYP0_alpha=1_1_0.5_APE_alpha=0.5/potential_original.csv', 6),\n",
    "         'su3_HYP1': (f'{path}/HYP1_alpha=1_1_0.5_APE_alpha=0.5/potential_original.csv', 6)}\n",
    "potentials_together(paths, 1, 12)"
   ]
  },
  {
   "cell_type": "code",
   "execution_count": null,
   "metadata": {},
   "outputs": [],
   "source": [
    "path = '../../result/potential/wilson_loop/potential/su3/gluodynamics/36^4/beta6.3'\n",
    "paths = {'su3': (f'{path}/HYP0_alpha=1_1_0.5_APE_alpha=0.5/potential_original.csv', 7),\n",
    "        'mon': (f'{path}/HYP0_alpha=1_1_0.5_APE_alpha=0.5/steps_500/copies=3/compensate_1/potential_monopole.csv', 18),\n",
    "        'monless': (f'{path}/HYP0_alpha=1_1_0.5_APE_alpha=0.5/steps_500/copies=3/compensate_1/potential_monopoless.csv', 7)}\n",
    "potential_decomposition(paths, f'../../images/potential/decomposition/su3/gluodynamics/36^4/beta6.3', 'potential_decomposition_36^4_beta6p3', 1, 18)"
   ]
  },
  {
   "cell_type": "code",
   "execution_count": null,
   "metadata": {},
   "outputs": [],
   "source": [
    "path = '../../result/potential/wilson_loop/potential/su3/gluodynamics/36^4/beta6.3'\n",
    "paths = {'su3': (f'{path}/HYP0_alpha=1_1_0.5_APE_alpha=0.5/potential_original.csv', 7),\n",
    "        'abel': (f'{path}/HYP0_alpha=1_1_0.5_APE_alpha=0.5/steps_500/copies=3/potential_abelian.csv', 12),\n",
    "        'offdiag': (f'{path}/HYP0_alpha=1_1_0.5_APE_alpha=0.5/steps_500/copies=3/compensate_1/potential_offdiagonal.csv', 12)}\n",
    "potential_decomposition(paths, f'../../images/potential/decomposition/su3/gluodynamics/36^4/beta6.3', 'potential_decomposition1_36^4_beta6p3', 1, 18)"
   ]
  },
  {
   "cell_type": "code",
   "execution_count": null,
   "metadata": {},
   "outputs": [],
   "source": [
    "path = '../../result/potential/wilson_loop/potential/su3/gluodynamics/36^4/beta6.3'\n",
    "paths = {'abel': (f'{path}/HYP0_alpha=1_1_0.5_APE_alpha=0.5/steps_500/copies=3/potential_abelian.csv', 12),\n",
    "        'mon': (f'{path}/HYP0_alpha=1_1_0.5_APE_alpha=0.5/steps_500/copies=3/compensate_1/potential_monopole.csv', 12),\n",
    "        'phot': (f'{path}/HYP0_alpha=1_1_0.5_APE_alpha=0.5/steps_500/copies=3/compensate_1/potential_photon.csv', 12)}\n",
    "potential_decomposition(paths, f'../../images/potential/decomposition/su3/gluodynamics/36^4/beta6.3', 'potential_decomposition2_36^4_beta6p3', 1, 18)"
   ]
  },
  {
   "cell_type": "code",
   "execution_count": null,
   "metadata": {},
   "outputs": [],
   "source": [
    "def plot_time_dependence(path, space_size, T_max, image_path, image_name):\n",
    "    df_data = pd.read_csv(path, index_col=None)\n",
    "\n",
    "    df_data = df_data[df_data['r/a'] == space_size]\n",
    "    df_data = df_data[df_data['T'] <= T_max]\n",
    "    fg = seaborn.FacetGrid(data=df_data, height=3.5, aspect=1.61)\n",
    "    fg.fig.suptitle(f'r={space_size}')\n",
    "    fg.map(plt.errorbar, 'T', 'aV(r)', 'err', marker=\"o\", fmt='', linestyle = '').add_legend()\n",
    "\n",
    "    plt.show()\n",
    "\n",
    "    save_image(image_path, image_name, fg)\n",
    "\n",
    "def plot_time_dependence_space(mu, monopole, smearing, lattice_size):\n",
    "    df_data_40_5 = pd.read_csv(f\"../result/potential_spatial/{monopole}/qc2dstag/{lattice_size}/potential_spatial_mu=0.{mu}.csv\", index_col=None)\n",
    "\n",
    "    time_sizes = [6, 8, 10, 12, 14, 16, 18, 20]\n",
    "\n",
    "    df1 = df_data_40_5[df_data_40_5['T'].isin(time_sizes)]\n",
    "    fg = seaborn.FacetGrid(data=df1, hue='T',  aspect=1.61)\n",
    "    fg.map(plt.errorbar, 'r/a', 'aV(r)', 'err', marker=\"o\", fmt='', linestyle = '').add_legend()\n",
    "\n",
    "    image_path = f'../images/potential_spatial/qc2dstag/{lattice_size}'\n",
    "    try:\n",
    "        os.makedirs(image_path)\n",
    "    except:\n",
    "        pass\n",
    "\n",
    "    image_path = f'{image_path}/potential_space_{monopole}_mu=0p{mu}_time_dependence'\n",
    "    fg.savefig(image_path)"
   ]
  },
  {
   "cell_type": "code",
   "execution_count": null,
   "metadata": {},
   "outputs": [],
   "source": [
    "def make_plot_T(common_path, T_max_arr, space_sizes, additional_parameters, compensate):\n",
    "    print('original')\n",
    "    for r in space_sizes:\n",
    "        print('r =', r)\n",
    "        path = f'../../result/potential/wilson_loop/fundamental/{common_path}/potential/potential_original.csv'\n",
    "        image_path = f'../../images/potential/fundamental/wilson_loop/time_dependence/{common_path}'\n",
    "        image_name = f'potential_time_original_r={r}'\n",
    "        plot_time_dependence(path, r, T_max_arr[0], image_path, image_name)\n",
    "    print('monopole')\n",
    "    for r in space_sizes:\n",
    "        print('r =', r)\n",
    "        path = f'../../result/potential/wilson_loop/fundamental/{common_path}/{additional_parameters}/{compensate}/potential/potential_monopole.csv'\n",
    "        image_path = f'../../images/potential/fundamental/wilson_loop/time_dependence/{common_path}/{additional_parameters}'\n",
    "        image_name = f'potential_time_monopole_r={r}'\n",
    "        plot_time_dependence(path, r, T_max_arr[1], image_path, image_name)\n",
    "    print('monopoless')\n",
    "    for r in space_sizes:\n",
    "        print('r =', r)\n",
    "        path = f'../../result/potential/wilson_loop/fundamental/{common_path}/{additional_parameters}/{compensate}/potential/potential_monopoless.csv'\n",
    "        image_path = f'../../images/potential/fundamental/wilson_loop/time_dependence/{common_path}/{additional_parameters}'\n",
    "        image_name = f'potential_time_monopoless_r={r}'\n",
    "        plot_time_dependence(path, r, T_max_arr[2], image_path, image_name)\n",
    "    print('abelian')\n",
    "    for r in space_sizes:\n",
    "        print('r =', r)\n",
    "        path = f'../../result/potential/wilson_loop/fundamental/{common_path}/{additional_parameters}/potential/potential_abelian.csv'\n",
    "        image_path = f'../../images/potential/fundamental/wilson_loop/time_dependence/{common_path}'\n",
    "        image_name = f'potential_time_abelian_r={r}'\n",
    "        plot_time_dependence(path, r, T_max_arr[3], image_path, image_name)\n",
    "    print('offdiagonal')\n",
    "    for r in space_sizes:\n",
    "        print('r =', r)\n",
    "        path = f'../../result/potential/wilson_loop/fundamental/{common_path}/{additional_parameters}/{compensate}/potential/potential_offdiagonal.csv'\n",
    "        image_path = f'../../images/potential/fundamental/wilson_loop/time_dependence/{common_path}/{additional_parameters}'\n",
    "        image_name = f'potential_time_offdiagonal_r={r}'\n",
    "        plot_time_dependence(path, r, T_max_arr[4], image_path, image_name)\n",
    "    print('photon')\n",
    "    for r in space_sizes:\n",
    "        print('r =', r)\n",
    "        path = f'../../result/potential/wilson_loop/fundamental/{common_path}/{additional_parameters}/{compensate}/potential/potential_photon.csv'\n",
    "        image_path = f'../../images/potential/fundamental/wilson_loop/time_dependence/{common_path}/{additional_parameters}'\n",
    "        image_name = f'potential_time_photon_r={r}'\n",
    "        plot_time_dependence(path, r, T_max_arr[5], image_path, image_name)"
   ]
  },
  {
   "cell_type": "code",
   "execution_count": null,
   "metadata": {},
   "outputs": [],
   "source": [
    "common_path = 'su2/qc2dstag/40^4/mu0.00/HYP1_alpha=1_1_0.5_APE_alpha=0.5'\n",
    "T_max_arr = [8, 20, 8, 8, 8, 8]\n",
    "space_sizes = [2, 4, 8, 12, 16, 20]\n",
    "compensate = ''\n",
    "additional_parameters = '/'\n",
    "make_plot_T(common_path, T_max_arr, space_sizes, additional_parameters, compensate)"
   ]
  },
  {
   "cell_type": "code",
   "execution_count": null,
   "metadata": {},
   "outputs": [],
   "source": [
    "common_path = 'su2/su2_suzuki/48^4/beta2.8/HYP0_alpha=1_1_0.5_APE_alpha=0.5'\n",
    "T_max_arr = [8, 8, 8, 8, 8, 8]\n",
    "space_sizes = [2, 4, 8, 12, 16, 20, 24]\n",
    "compensate = ''\n",
    "additional_parameters = 'T_step=0.0001'\n",
    "make_plot_T(common_path, T_max_arr, space_sizes, additional_parameters, compensate)"
   ]
  },
  {
   "cell_type": "code",
   "execution_count": null,
   "metadata": {},
   "outputs": [],
   "source": [
    "common_path = 'su3/gluodynamics/36^4/beta6.3/HYP0_alpha=1_1_0.5_APE_alpha=0.5'\n",
    "T_max_arr = [10, 18, 12, 18, 18, 18]\n",
    "space_sizes = [2, 4, 8, 12, 16, 20, 24, 30, 36]\n",
    "compensate = 'compensate_1'\n",
    "additional_parameters = 'steps_500/copies=3'\n",
    "make_plot_T(common_path, T_max_arr, space_sizes, additional_parameters, compensate)"
   ]
  },
  {
   "cell_type": "code",
   "execution_count": null,
   "metadata": {},
   "outputs": [],
   "source": [
    "common_path = 'su3/gluodynamics/36^4/beta6.3/HYP1_alpha=1_1_0.5_APE_alpha=0.5'\n",
    "T_max_arr = [10, 18, 12, 18, 18, 18]\n",
    "space_sizes = [2, 4, 8, 12, 16, 20, 24, 30, 36]\n",
    "compensate = 'compensate_1'\n",
    "additional_parameters = 'steps_500/copies=3'\n",
    "make_plot_T(common_path, T_max_arr, space_sizes, additional_parameters, compensate)"
   ]
  },
  {
   "cell_type": "code",
   "execution_count": null,
   "metadata": {},
   "outputs": [],
   "source": [
    "common_path = 'su3/gluodynamics/24^4/beta6.0/HYP0_alpha=1_1_0.5_APE_alpha=0.5'\n",
    "T_max_arr = [7, 24, 12, 16, 16, 24]\n",
    "space_sizes = [2, 4, 8, 10, 11, 12]\n",
    "compensate = 'compensate_1'\n",
    "additional_parameters = 'steps_500/copies=3'\n",
    "make_plot_T(common_path, T_max_arr, space_sizes, additional_parameters, compensate)"
   ]
  },
  {
   "cell_type": "code",
   "execution_count": null,
   "metadata": {},
   "outputs": [],
   "source": [
    "common_path = 'su3/gluodynamics/24^4/beta6.0/HYP1_alpha=1_1_0.5_APE_alpha=0.5'\n",
    "T_max_arr = [12, 18, 12, 24, 24, 24]\n",
    "space_sizes = [2, 4, 8, 12, 16, 20, 24]\n",
    "compensate = 'compensate_1'\n",
    "additional_parameters = 'steps_500/copies=3'\n",
    "make_plot_T(common_path, T_max_arr, space_sizes, additional_parameters, compensate)"
   ]
  },
  {
   "cell_type": "code",
   "execution_count": null,
   "metadata": {},
   "outputs": [],
   "source": [
    "plot_time_dependence('05', 'monopole', '40^4', 'smeared')\n",
    "plot_time_dependence('35', 'monopole', '40^4')\n",
    "plot_time_dependence('45', 'monopole', '40^4')"
   ]
  },
  {
   "cell_type": "code",
   "execution_count": null,
   "metadata": {},
   "outputs": [],
   "source": [
    "plot_time_dependence('05', 'monopoless', '40^4')\n",
    "plot_time_dependence('35', 'monopoless', '40^4')\n",
    "plot_time_dependence('45', 'monopoless', '40^4')"
   ]
  },
  {
   "cell_type": "code",
   "execution_count": null,
   "metadata": {},
   "outputs": [],
   "source": [
    "plot_time_dependence('05', '', '40^4', 'smeared')\n",
    "plot_time_dependence('35', '', '40^4', 'smeared')\n",
    "plot_time_dependence('45', '', '40^4', 'smeared')"
   ]
  },
  {
   "cell_type": "code",
   "execution_count": null,
   "metadata": {},
   "outputs": [],
   "source": [
    "plot_time_dependence('05', '', '40^4', 'unsmeared')"
   ]
  },
  {
   "cell_type": "code",
   "execution_count": null,
   "metadata": {},
   "outputs": [],
   "source": [
    "plot_time_dependence('00', 'monopole', '32^4', 'unsmeared')\n",
    "plot_time_dependence('00', 'monopoless', '32^4', 'smeared')\n",
    "plot_time_dependence('00', '', '32^4', 'smeared')"
   ]
  },
  {
   "cell_type": "code",
   "execution_count": null,
   "metadata": {},
   "outputs": [],
   "source": [
    "plot_time_dependence('00', '', '32^4', 'HYP1_alpha=1_1_0.5_APE60_APE_alpha=0.75', '')\n",
    "plot_time_dependence('00', '', '32^4', 'HYP1_alpha=1_1_0.5_APE60_APE_alpha=0.75', '1')\n",
    "plot_time_dependence('00', '', '32^4', 'HYP1_alpha=1_1_0.5_APE60_APE_alpha=0.75', '2')"
   ]
  },
  {
   "cell_type": "code",
   "execution_count": null,
   "metadata": {},
   "outputs": [],
   "source": [
    "plot_time_dependence_space('05', '', '', '40^4')"
   ]
  },
  {
   "cell_type": "code",
   "execution_count": null,
   "metadata": {},
   "outputs": [],
   "source": [
    "def plot_time_dependence_several_sizes(mu, monopole, lattice_size, smearing, space_sizes, statistics_type):\n",
    "    df_data = pd.read_csv(f\"../result/potential/on-axis/{monopole}/qc2dstag/{smearing}/{lattice_size}/potential_mu=0.{mu}.csv\", index_col=None)\n",
    "\n",
    "#     time_sizes = [6, 8, 10, 12, 14, 16, 18, 20]\n",
    "#     space_sizes = [1, 2, 3]\n",
    "\n",
    "    df1 = df_data[df_data['r/a'].isin(space_sizes)]\n",
    "    df1 = df1[df1['T'] <= 16]\n",
    "    fg = seaborn.FacetGrid(data=df1, hue='r/a',  aspect=1.61)\n",
    "    fg.map(plt.errorbar, 'T', f'aV{statistics_type}(r)', f'err{statistics_type}', marker=\"o\", fmt='', linestyle = '').add_legend()\n",
    "\n",
    "    image_path = f'../images/potential/on-axis/qc2dstag/{smearing}/{lattice_size}'\n",
    "    try:\n",
    "        os.makedirs(image_path)\n",
    "    except:\n",
    "        pass\n",
    "\n",
    "    image_path = f'{image_path}/potential_{monopole}_mu=0p{mu}_time_dependence'\n",
    "    fg.savefig(image_path)"
   ]
  },
  {
   "cell_type": "code",
   "execution_count": null,
   "metadata": {},
   "outputs": [],
   "source": [
    "space_sizes = [[1], [6], [10], [14], [18]]\n",
    "for space_size in space_sizes:\n",
    "    plot_time_dependence_several_sizes('05', '', '40^4', 'smeared', space_size, '')"
   ]
  },
  {
   "cell_type": "code",
   "execution_count": null,
   "metadata": {},
   "outputs": [],
   "source": [
    "space_sizes = [[1], [2], [3], [4], [6], [10], [14], [16]]\n",
    "for space_size in space_sizes:\n",
    "    plot_time_dependence_several_sizes('00', '', '32^4', 'HYP1_alpha=1_1_0.5_APE60_APE_alpha=0.75', space_size, '')"
   ]
  },
  {
   "cell_type": "code",
   "execution_count": null,
   "metadata": {},
   "outputs": [],
   "source": [
    "space_sizes = [[1], [2], [3], [4], [6], [10], [14], [16]]\n",
    "for space_size in space_sizes:\n",
    "    plot_time_dependence_several_sizes('00', '', '32^4', 'HYP1_alpha=1_1_0.5_APE60_APE_alpha=0.75', space_size, '1')"
   ]
  },
  {
   "cell_type": "code",
   "execution_count": null,
   "metadata": {},
   "outputs": [],
   "source": [
    "space_sizes = [[1], [2], [3], [4], [6], [10], [14], [16]]\n",
    "for space_size in space_sizes:\n",
    "    plot_time_dependence_several_sizes('00', '', '32^4', 'HYP1_alpha=1_1_0.5_APE60_APE_alpha=0.75', space_size, '2')"
   ]
  },
  {
   "cell_type": "code",
   "execution_count": null,
   "metadata": {},
   "outputs": [],
   "source": [
    "from scipy.optimize import curve_fit\n",
    "\n",
    "def make_potential_trunin(data, df1, df, time_size_max):\n",
    "\n",
    "    time_size = data[\"T\"].iloc[0]\n",
    "    space_size = data[\"r/a\"].iloc[0]\n",
    "\n",
    "    if time_size < time_size_max:\n",
    "\n",
    "        wilson_loop_T = df[(df['T'] == time_size) & (df['r/a'] == space_size)]['wilson_loop'].values[0]\n",
    "        wilson_loop_T1 = df[(df['T'] == time_size + 1) & (df['r/a'] == space_size)]['wilson_loop'].values[0]\n",
    "\n",
    "        wilson_loop_err_T = df[(df['T'] == time_size) & (df['r/a'] == space_size)]['wilson_loop_err'].values[0]\n",
    "        wilson_loop_err_T1 = df[(df['T'] == time_size + 1) & (df['r/a'] == space_size)]['wilson_loop_err'].values[0]\n",
    "\n",
    "        try:\n",
    "            new_row = {'aV(r)': math.log(wilson_loop_T/wilson_loop_T1), 'err': math.sqrt(wilson_loop_err_T ** 2 / wilson_loop_T1 ** 2 + wilson_loop_err_T1 ** 2 * wilson_loop_T ** 2 / wilson_loop_T1 ** 4)}\n",
    "\n",
    "            df1 = df1.append(new_row, ignore_index=True)\n",
    "\n",
    "            return df1\n",
    "        except ValueError:\n",
    "            return df1\n",
    "\n",
    "def plots_T(data, fit_start, fit_end, procedure, T_lim):\n",
    "\n",
    "    x = data[(data['T'] >= fit_start) & (data['T'] <= fit_end)]['T'].to_numpy()\n",
    "    y = data[(data['T'] >= fit_start) & (data['T'] <= fit_end)]['aV(r)'].to_numpy()\n",
    "\n",
    "    fg = seaborn.FacetGrid(data=data, height=5, aspect=1.2)\n",
    "    fg.map(plt.errorbar, 'T', 'aV(r)', 'err', marker=\"o\", fmt='', linestyle = '')\n",
    "\n",
    "    if procedure == 'fitting':\n",
    "        popt, pcov = curve_fit(func_exponent, x, y)\n",
    "\n",
    "        x1 = np.arange(x.min(), x.max(), 0.01)\n",
    "        y1 = func_exponent(x1, popt[0], popt[1], popt[2])\n",
    "\n",
    "        plt.plot(x1, y1)\n",
    "\n",
    "    plt.show()\n",
    "\n",
    "    if procedure == 'fitting':\n",
    "        return pd.Series([popt[0], math.sqrt(pcov[0][0])], index=['aV(r)', 'err'])\n",
    "    elif procedure == 'limit':\n",
    "        return pd.Series([data[data['T'] == T_lim]['aV(r)'].iloc[0], data[data['T'] == T_lim]['err'].iloc[0]], index=['aV(r)', 'err'])\n",
    "\n",
    "\n",
    "def func_exponent(x, a, b, c):\n",
    "    return a + b * np.exp(-x * c)\n",
    "\n",
    "def func_linear_potential(x, c, alpha, sigma):\n",
    "    return c + alpha * np.power(x, -1) + sigma * x\n",
    "\n",
    "def func_coulomb(x, c, alpha, mu):\n",
    "    return c + alpha * np.exp(-mu * x) * np.power(x, -1)\n"
   ]
  },
  {
   "cell_type": "code",
   "execution_count": null,
   "metadata": {},
   "outputs": [],
   "source": [
    "def get_string_tension(path, fit_start, fit_end, procedure):\n",
    "\n",
    "    data = pd.read_csv(path, header=0, names=['r/a', \"T\", \"wilson_loop\", \"wilson_loop_err\"], delim_whitespace=True)\n",
    "\n",
    "    time_size_max = data[\"T\"].max()\n",
    "\n",
    "    df1 = pd.DataFrame(columns=[\"aV(r)\", \"err\"])\n",
    "\n",
    "    df1 = data.groupby(['T', 'r/a']).apply(make_potential_trunin, df1, data, time_size_max).reset_index()\n",
    "\n",
    "    print(\"fitting\")\n",
    "\n",
    "    df = df1.groupby(['r/a']).apply(plots_T, 2, 10, procedure, 10).reset_index()\n",
    "\n",
    "    x = df[(df['r/a'] >= fit_start) & (df['r/a'] <= fit_end)]['r/a'].to_numpy()\n",
    "    y = df[(df['r/a'] >= fit_start) & (df['r/a'] <= fit_end)]['aV(r)'].to_numpy()\n",
    "\n",
    "    popt, pcov = curve_fit(func_linear_potential, x, y)\n",
    "\n",
    "    print(popt[0], popt[1], popt[2])\n",
    "\n",
    "    fg = seaborn.FacetGrid(data=df, height=5, aspect=1.2)\n",
    "    fg.map(plt.errorbar, 'r/a', 'aV(r)', 'err', marker=\"o\", fmt='', linestyle = '')\n",
    "\n",
    "    x1 = np.arange(x.min(), x.max(), 0.01)\n",
    "    y1 = func_linear_potential(x1, popt[0], popt[1], popt[2])\n",
    "\n",
    "    plt.plot(x1, y1)\n",
    "\n",
    "    plt.show()\n",
    "\n",
    "    return popt[2], math.sqrt(pcov[2][2])\n",
    "\n",
    "def get_string_tension_test(path, fit_start, fit_end):\n",
    "\n",
    "    df_common = []\n",
    "\n",
    "    data = pd.read_csv(path, header=0, names=['r/a', \"T\", \"wilson_loop\", \"wilson_loop_err\"], delim_whitespace=True)\n",
    "\n",
    "    time_size_max = data[\"T\"].max()\n",
    "\n",
    "    df1 = pd.DataFrame(columns=[\"aV(r)\", \"err\"])\n",
    "\n",
    "    df1 = data.groupby(['T', 'r/a']).apply(make_potential_trunin, df1, data, time_size_max).reset_index()\n",
    "\n",
    "    df = df1.groupby(['r/a']).apply(plots_T, 2, 10, 'fitting', 8).reset_index()\n",
    "\n",
    "    df_common.append(df)\n",
    "    df_common[-1]['procedure'] = 'fitting'\n",
    "\n",
    "    x = df[(df['r/a'] >= fit_start) & (df['r/a'] <= fit_end)]['r/a'].to_numpy()\n",
    "    y = df[(df['r/a'] >= fit_start) & (df['r/a'] <= fit_end)]['aV(r)'].to_numpy()\n",
    "\n",
    "    popt, pcov = curve_fit(func_linear_potential, x, y)\n",
    "\n",
    "    print(popt[0], popt[1], popt[2])\n",
    "\n",
    "    # fg = seaborn.FacetGrid(data=df, height=5, aspect=1.2)\n",
    "    # fg.map(plt.errorbar, 'r/a', 'aV(r)', 'err', marker=\"o\", fmt='', linestyle = '')\n",
    "\n",
    "    x1 = np.arange(x.min(), x.max(), 0.01)\n",
    "    y1 = func_linear_potential(x1, popt[0], popt[1], popt[2])\n",
    "\n",
    "    df = df1.groupby(['r/a']).apply(plots_T, 2, 10, 'limit', 8).reset_index()\n",
    "\n",
    "    df_common.append(df)\n",
    "    df_common[-1]['procedure'] = 'limit'\n",
    "\n",
    "    df_common = pd.concat(df_common)\n",
    "\n",
    "    x = df[(df['r/a'] >= fit_start) & (df['r/a'] <= fit_end)]['r/a'].to_numpy()\n",
    "    y = df[(df['r/a'] >= fit_start) & (df['r/a'] <= fit_end)]['aV(r)'].to_numpy()\n",
    "\n",
    "    popt, pcov = curve_fit(func_linear_potential, x, y)\n",
    "\n",
    "    print(popt[0], popt[1], popt[2])\n",
    "\n",
    "    fg = seaborn.FacetGrid(data=df_common, hue = 'procedure', height=5, aspect=1.2)\n",
    "    fg.map(plt.errorbar, 'r/a', 'aV(r)', 'err', marker=\"o\", fmt='', linestyle = '').add_legend()\n",
    "\n",
    "    x2 = np.arange(x.min(), x.max(), 0.01)\n",
    "    y2 = func_linear_potential(x1, popt[0], popt[1], popt[2])\n",
    "\n",
    "    # plt.plot(x1, y1)\n",
    "\n",
    "    # plt.plot(x2, y2)\n",
    "\n",
    "    plt.show()"
   ]
  },
  {
   "cell_type": "code",
   "execution_count": null,
   "metadata": {},
   "outputs": [],
   "source": [
    "def string_tension_dependence(nt):\n",
    "    arr_mu = ['0.0', '0.25', '0.35', '0.45']\n",
    "    string_tension = []\n",
    "    string_tension_err = []\n",
    "\n",
    "    for mu in arr_mu:\n",
    "        sigma, err = get_string_tension(f\"../result/potential/on-axis/su2/trunin/Wr_mu={mu}_nt={nt}\", 2, 10, 'limit')\n",
    "        string_tension.append(sigma)\n",
    "        string_tension_err.append(err)\n",
    "\n",
    "    print(string_tension)\n",
    "    plt.errorbar(list(map(float, arr_mu)), string_tension)"
   ]
  },
  {
   "cell_type": "code",
   "execution_count": null,
   "metadata": {},
   "outputs": [],
   "source": [
    "string_tension_dependence(20)"
   ]
  },
  {
   "cell_type": "code",
   "execution_count": null,
   "metadata": {},
   "outputs": [],
   "source": [
    "string_tension_dependence(24)"
   ]
  },
  {
   "cell_type": "code",
   "execution_count": null,
   "metadata": {},
   "outputs": [],
   "source": [
    "string_tension_dependence(28)"
   ]
  },
  {
   "cell_type": "code",
   "execution_count": null,
   "metadata": {},
   "outputs": [],
   "source": [
    "string_tension_dependence(32)"
   ]
  },
  {
   "cell_type": "code",
   "execution_count": null,
   "metadata": {},
   "outputs": [],
   "source": [
    "string_tension_dependence(36)"
   ]
  },
  {
   "cell_type": "code",
   "execution_count": null,
   "metadata": {},
   "outputs": [],
   "source": [
    "string_tension_dependence(40)"
   ]
  },
  {
   "cell_type": "code",
   "execution_count": null,
   "metadata": {},
   "outputs": [],
   "source": [
    "get_string_tension_test(f\"../result/potential/on-axis/su2/trunin/Wr_mu=0.0_nt=20\", 2, 10)\n",
    "get_string_tension_test(f\"../result/potential/on-axis/su2/trunin/Wr_mu=0.25_nt=20\", 2, 10)\n",
    "get_string_tension_test(f\"../result/potential/on-axis/su2/trunin/Wr_mu=0.35_nt=20\", 2, 10)\n",
    "get_string_tension_test(f\"../result/potential/on-axis/su2/trunin/Wr_mu=0.45_nt=20\", 2, 10)"
   ]
  }
 ],
 "metadata": {
  "interpreter": {
   "hash": "916dbcbb3f70747c44a77c7bcd40155683ae19c65e1c03b4aa3499c5328201f1"
  },
  "kernelspec": {
   "display_name": "Python 3.8.5 64-bit",
   "language": "python",
   "name": "python3"
  },
  "language_info": {
   "codemirror_mode": {
    "name": "ipython",
    "version": 3
   },
   "file_extension": ".py",
   "mimetype": "text/x-python",
   "name": "python",
   "nbconvert_exporter": "python",
   "pygments_lexer": "ipython3",
   "version": "3.8.10"
  }
 },
 "nbformat": 4,
 "nbformat_minor": 2
}
