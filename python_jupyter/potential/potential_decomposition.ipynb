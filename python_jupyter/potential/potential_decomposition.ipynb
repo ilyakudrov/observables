{
 "cells": [
  {
   "cell_type": "code",
   "execution_count": 1,
   "metadata": {},
   "outputs": [],
   "source": [
    "import pandas as pd\n",
    "import math\n",
    "import matplotlib.pyplot as plt\n",
    "import seaborn\n",
    "import os\n",
    "import warnings\n",
    "import numpy as np\n",
    "from scipy.optimize import curve_fit\n",
    "from scipy.optimize import OptimizeWarning\n",
    "\n",
    "import decomposition\n",
    "import scaler\n",
    "import potential_data\n",
    "import plots\n",
    "import fit\n",
    "\n",
    "pd.options.mode.chained_assignment = None\n",
    "warnings.simplefilter(\"ignore\", OptimizeWarning)"
   ]
  },
  {
   "cell_type": "code",
   "execution_count": 2,
   "metadata": {},
   "outputs": [],
   "source": [
    "def potential_fits(df, reset=[]):\n",
    "    df_fit = df.groupby(df.index.names).apply(fit.make_fit_range, fit.func_cornell, 6, ['V0', 'alpha', 'sigma'], 'r/a', 'aV(r)', err_col='err').reset_index(level=-1, drop=True)\n",
    "    df_fit = df_fit.groupby(df_fit.index.names).apply(fit.average_fit_p_value, ['V0', 'alpha', 'sigma'], 'r/a').reset_index(level=-1, drop=True)\n",
    "    df_curves = df_fit.groupby(df_fit.index.names).apply(fit.make_fit_curve, fit.func_cornell, 'r/a', 'aV(r)', ['V0', 'alpha', 'sigma']).reset_index(level=-1, drop=True)\n",
    "    df_fit = df_fit.reset_index(level=reset)\n",
    "    df_curves = df_curves.reset_index(level=reset)\n",
    "    return df_fit, df_curves"
   ]
  },
  {
   "cell_type": "code",
   "execution_count": 3,
   "metadata": {},
   "outputs": [
    {
     "name": "stdout",
     "output_type": "stream",
     "text": [
      "                         smearing_step  r/a  copy  T     aV(r)       err  \\\n",
      "beta decomposition_type                                                    \n",
      "6.0  original                       30    1     0  1  0.058437  0.000118   \n",
      "     original                       30    1     0  2  0.054148  0.000118   \n",
      "     original                       30    1     0  3  0.053002  0.000108   \n",
      "     original                       30    1     0  4  0.052565  0.000104   \n",
      "     original                       30    1     0  5  0.052417  0.000115   \n",
      "...                                ...  ...   ... ..       ...       ...   \n",
      "     mod                            30    8     1  3  0.769523  0.000719   \n",
      "     mod                            30    8     1  4  0.750662  0.001517   \n",
      "     mod                            30    8     1  5  0.740552  0.002659   \n",
      "     mod                            30    8     1  6  0.730730  0.003074   \n",
      "     mod                            30    8     1  7  0.734854  0.007803   \n",
      "\n",
      "                         bin_size  \n",
      "beta decomposition_type            \n",
      "6.0  original                 103  \n",
      "     original                 103  \n",
      "     original                 103  \n",
      "     original                 103  \n",
      "     original                 103  \n",
      "...                           ...  \n",
      "     mod                      103  \n",
      "     mod                      103  \n",
      "     mod                      103  \n",
      "     mod                      103  \n",
      "     mod                      103  \n",
      "\n",
      "[168 rows x 7 columns]\n",
      "                    r/a     T     aV(r)       err\n",
      "decomposition_type                               \n",
      "mod                   1  None  0.404781  0.000128\n",
      "mod                   2  None  0.569964  0.000422\n",
      "mod                   3  None  0.642606  0.001010\n",
      "mod                   4  None  0.680972  0.001515\n",
      "mod                   5  None  0.702707  0.001313\n",
      "mod                   6  None  0.714715  0.002383\n",
      "mod                   7  None  0.719681  0.003370\n",
      "mod                   8  None  0.722721  0.003779\n",
      "mon                   1  None  0.018743  0.000113\n",
      "mon                   2  None  0.046629  0.002433\n",
      "mon                   3  None  0.078256  0.002506\n",
      "mon                   4  None  0.113237  0.004198\n",
      "mon                   5  None  0.151297  0.006776\n",
      "mon                   6  None  0.192092  0.010288\n",
      "mon                   7  None  0.235015  0.014506\n",
      "mon                   8  None  0.279010  0.017821\n",
      "original              1  None  0.052326  0.000094\n",
      "original              2  None  0.116959  0.000350\n",
      "original              3  None  0.207178  0.000961\n",
      "original              4  None  0.276867  0.001998\n",
      "original              5  None  0.338066  0.003639\n",
      "original              6  None  0.394942  0.005841\n",
      "original              7  None  0.450982  0.008128\n",
      "original              8  None  0.506899  0.009489\n",
      "mon+mod               1  None  0.423524  0.000171\n",
      "mon+mod               2  None  0.616593  0.002469\n",
      "mon+mod               3  None  0.720862  0.002702\n",
      "mon+mod               4  None  0.794209  0.004463\n",
      "mon+mod               5  None  0.854004  0.006902\n",
      "mon+mod               6  None  0.906807  0.010561\n",
      "mon+mod               7  None  0.954697  0.014892\n",
      "mon+mod               8  None  1.001731  0.018217\n",
      "V 0.49626643228991074 0.001538243541958756\n",
      "   decomposition_type  r/a     T     aV(r)       err\n",
      "0                 mod    1  None  0.404781  0.000128\n",
      "1                 mod    2  None  0.569964  0.000422\n",
      "2                 mod    3  None  0.642606  0.001010\n",
      "3                 mod    4  None  0.680972  0.001515\n",
      "4                 mod    5  None  0.702707  0.001313\n",
      "5                 mod    6  None  0.714715  0.002383\n",
      "6                 mod    7  None  0.719681  0.003370\n",
      "7                 mod    8  None  0.722721  0.003779\n",
      "8                 mon    1  None  0.018743  0.000113\n",
      "9                 mon    2  None  0.046629  0.002433\n",
      "10                mon    3  None  0.078256  0.002506\n",
      "11                mon    4  None  0.113237  0.004198\n",
      "12                mon    5  None  0.151297  0.006776\n",
      "13                mon    6  None  0.192092  0.010288\n",
      "14                mon    7  None  0.235015  0.014506\n",
      "15                mon    8  None  0.279010  0.017821\n",
      "16           original    1  None  0.548592  0.001541\n",
      "17           original    2  None  0.613225  0.001578\n",
      "18           original    3  None  0.703445  0.001814\n",
      "19           original    4  None  0.773134  0.002521\n",
      "20           original    5  None  0.834332  0.003951\n",
      "21           original    6  None  0.891208  0.006040\n",
      "22           original    7  None  0.947248  0.008273\n",
      "23           original    8  None  1.003166  0.009613\n",
      "24            mon+mod    1  None  0.423524  0.000171\n",
      "25            mon+mod    2  None  0.616593  0.002469\n",
      "26            mon+mod    3  None  0.720862  0.002702\n",
      "27            mon+mod    4  None  0.794209  0.004463\n",
      "28            mon+mod    5  None  0.854004  0.006902\n",
      "29            mon+mod    6  None  0.906807  0.010561\n",
      "30            mon+mod    7  None  0.954697  0.014892\n",
      "31            mon+mod    8  None  1.001731  0.018217\n"
     ]
    },
    {
     "data": {
      "image/png": "[encoded data removed]",
      "text/plain": [
       "<Figure size 956.236x500 with 1 Axes>"
      ]
     },
     "metadata": {},
     "output_type": "display_data"
    },
    {
     "data": {
      "text/plain": [
       "<seaborn.axisgrid.FacetGrid at 0x7faef3b81940>"
      ]
     },
     "execution_count": 3,
     "metadata": {},
     "output_type": "execute_result"
    }
   ],
   "source": [
    "paths_APE = [{'path': '../../result/smearing/binning/potential/wilson_loop/fundamental/on-axis/su3/gluodynamics/16^4/beta6.0/HYP0_alpha=1_1_0.5_APE_alpha=0.6/potential_original.csv',\n",
    "          'parameters': {'beta': 6.0, 'decomposition_type': 'original'}, 'constraints': {'r/a': (1, 8), 'T': (1, 7), 'smearing_step': (30, 30), 'bin_size': (103, 103)}}]\n",
    "paths = [{'path': '../../result/smearing/binning/potential/wilson_loop/fundamental/on-axis/su3/gluodynamics/16^4/beta6.0/HYP1_alpha=1_1_0.5_APE_alpha=0.6/potential_original.csv',\n",
    "          'parameters': {'beta': 6.0, 'decomposition_type': 'original'}, 'constraints': {'r/a': (1, 8), 'T': (1, 7), 'smearing_step': (30, 30), 'bin_size': (103, 103)}},\n",
    "          {'path': '../../result/smearing/binning/potential/wilson_loop/fundamental/on-axis/su3/gluodynamics/16^4/beta6.0/HYP0_alpha=1_1_0.5_APE_alpha=0.6/steps_0/copies=20/potential_monopole.csv',\n",
    "          'parameters': {'beta': 6.0, 'decomposition_type': 'mon'}, 'constraints': {'r/a': (1, 8), 'T': (1, 7), 'smearing_step': (30, 30), 'bin_size': (103, 103), 'copy': (1, 1)}},\n",
    "          {'path': '../../result/smearing/binning/potential/wilson_loop/fundamental/on-axis/su3/gluodynamics/16^4/beta6.0/HYP0_alpha=1_1_0.5_APE_alpha=0.6/steps_0/copies=20/potential_monopoless.csv',\n",
    "          'parameters': {'beta': 6.0, 'decomposition_type': 'mod'}, 'constraints': {'r/a': (1, 8), 'T': (1, 7), 'smearing_step': (30, 30), 'bin_size': (103, 103), 'copy': (1, 1)}}]\n",
    "df = potential_data.get_potantial_df(paths)\n",
    "df_APE = potential_data.get_potantial_df(paths_APE)\n",
    "print(df)\n",
    "df = df.groupby(df.index.names + ['r/a']).apply(fit.potential_fit_T_range, 5).reset_index(level=['r/a']).reset_index(level=-1, drop=True)\n",
    "df = df.reset_index(level='decomposition_type')\n",
    "df = potential_data.find_sum(df, 'mon', 'mod')\n",
    "df = df.set_index('decomposition_type')\n",
    "df_APE = df_APE.groupby(df_APE.index.names + ['r/a']).apply(fit.potential_fit_T_range, 5).reset_index(level=['r/a']).reset_index(level=-1, drop=True)\n",
    "print(df)\n",
    "df_fit, df_curves = potential_fits(df, reset=['decomposition_type'])\n",
    "df_fit_APE, df_curves_APE = potential_fits(df, reset=['decomposition_type'])\n",
    "df = df.reset_index(level='decomposition_type')\n",
    "V, V_err = fit.fit_curve_shift(df_APE, df_fit.loc[df_fit['decomposition_type'] == 'original', ['V0', 'alpha', 'sigma']].values[0], 'r/a', 'aV(r)', 'err', fit.func_cornell)\n",
    "print('V', V, V_err)\n",
    "df.loc[df['decomposition_type'] == 'original', 'aV(r)'] = df.loc[df['decomposition_type'] == 'original', 'aV(r)'] + V\n",
    "df.loc[df['decomposition_type'] == 'original', 'err'] = np.sqrt(df.loc[df['decomposition_type'] == 'original', 'err'] ** 2 + V_err ** 2)\n",
    "print(df)\n",
    "df_curves.loc[df_curves['decomposition_type'] == 'original', 'aV(r)'] = df_curves.loc[df_curves['decomposition_type'] == 'original', 'aV(r)'] + V\n",
    "image_path = '../../images/potential/decomposition/su3/gluodynamics/16^4/beta6.0'\n",
    "plots.plot_potential_single(df, 'r/a', 'aV(r)', 'decomposition_type', 'T', 'aV(r)', 'potential original', image_path, f'potential_decomposition_steps_0_copies=20_copy=1', True, err='err', df_fits=df_curves)"
   ]
  },
  {
   "cell_type": "code",
   "execution_count": null,
   "metadata": {},
   "outputs": [],
   "source": [
    "show_plot = True\n",
    "coordinate = 'r/a'\n",
    "hue = 'beta'\n",
    "groupby = []\n",
    "paths = [{'path': '../../result/smearing/binning/potential/wilson_loop/fundamental/on-axis/su3/gluodynamics/16^4/beta6.0/HYP0_alpha=1_1_0.5_APE_alpha=0.6/steps_0/copies=20/potential_monopoless.csv',\n",
    "          'parameters': {'beta': 6.0}, 'constraints': {'r/a': (1, 8), 'T': (1, 7), 'smearing_step': (30, 30), 'bin_size': (103, 103)}},\n",
    "          {'path': '../../result/smearing/binning/potential/wilson_loop/fundamental/on-axis/su3/gluodynamics/16^4/beta6.0/HYP0_alpha=1_1_0.5_APE_alpha=0.6/steps_0/copies=20/potential_monopole.csv',\n",
    "          'parameters': {'beta': 6.0}, 'constraints': {'r/a': (1, 8), 'T': (1, 7), 'smearing_step': (30, 30), 'bin_size': (103, 103)}},\n",
    "          {'path': '../../result/potential/wilson_loop/fundamental/on-axis/su3/gluodynamics/16^4/beta6.0/HYP1_alpha=1_1_0.5_APE_alpha=0.5/potential_original.csv',\n",
    "          'parameters': {'beta': 6.0}, 'constraints': {'r/a': (1, 12), 'T': (1, 11), }}]\n",
    "image_path = f'../../images/potential/su3/gluodynamics/'\n",
    "image_name = f'beta_comparison'\n",
    "df = potential_data.get_potantial_df(paths)\n",
    "df = df.groupby(df.index.names + ['r/a', 'bin_size', 'copy']).apply(fit.potential_fit_T_range, 5).reset_index(level=['r/a', 'bin_size', 'copy']).reset_index(level=-1, drop=True)\n",
    "print(df)\n",
    "plots.plot_potential_single(df, 'r/a', 'aV(r)', 'copy', 'T', 'aV(r)', 'potential original', image_path, f'potential_monopole', show_plot, err='err')\n",
    "df_fit = df.groupby(df.index.names + ['bin_size', 'copy']).apply(fit.make_fit_range, fit.func_cornell, 6, ['V0', 'alpha', 'sigma'], 'r/a', 'aV(r)', err_col='err').reset_index(level=-1, drop=True)\n",
    "print(df_fit)\n",
    "df_fit = df_fit.groupby(df_fit.index.names).apply(fit.average_fit_p_value, ['V0', 'alpha', 'sigma'], 'r/a').reset_index(level=-1, drop=True).reset_index(level=['bin_size', 'copy'])\n",
    "print(df_fit)\n",
    "df_curves = df_fit.groupby(df_fit.index.names + ['bin_size', 'copy']).apply(fit.make_fit_curve, fit.func_cornell, 'r/a', 'aV(r)', ['V0', 'alpha', 'sigma']).reset_index(level=-1, drop=True).reset_index(level=['bin_size', 'copy'])\n",
    "print(df_curves)\n",
    "\n",
    "plots.plot_potential_single(df_fit, 'copy', 'sigma', None, 'copy', 'sigma', 'string tension', f'../../images/potential/su3/gluodynamics/', 'string_tension', show_plot, err='sigma_err')\n",
    "plots.plot_potential_single(df_fit, 'copy', 'alpha', None, 'copy', 'alpha', 'string tension', f'../../images/potential/su3/gluodynamics/', 'string_tension', show_plot, err='alpha_err')"
   ]
  },
  {
   "cell_type": "code",
   "execution_count": 2,
   "metadata": {},
   "outputs": [
    {
     "name": "stdout",
     "output_type": "stream",
     "text": [
      "(<matplotlib.lines.Line2D object at 0x7f9bda1f3220>, (<matplotlib.lines.Line2D object at 0x7f9bda1f38e0>, <matplotlib.lines.Line2D object at 0x7f9bda1f3970>), (<matplotlib.collections.LineCollection object at 0x7f9bda1f3370>,))\n",
      "(<matplotlib.lines.Line2D object at 0x7f9bda19d880>, (<matplotlib.lines.Line2D object at 0x7f9bda19ddf0>, <matplotlib.lines.Line2D object at 0x7f9bda19de80>), (<matplotlib.collections.LineCollection object at 0x7f9bda194d60>,))\n",
      "(<matplotlib.lines.Line2D object at 0x7f9bda13bbb0>, (<matplotlib.lines.Line2D object at 0x7f9bda1493a0>, <matplotlib.lines.Line2D object at 0x7f9bda149430>), (<matplotlib.collections.LineCollection object at 0x7f9bda13bd30>,))\n",
      "(<matplotlib.lines.Line2D object at 0x7f9bda15d280>, (<matplotlib.lines.Line2D object at 0x7f9bda15da60>, <matplotlib.lines.Line2D object at 0x7f9bda15daf0>), (<matplotlib.collections.LineCollection object at 0x7f9bda15d3d0>,))\n",
      "(<matplotlib.lines.Line2D object at 0x7f9bda0f88b0>, (<matplotlib.lines.Line2D object at 0x7f9bda1743a0>, <matplotlib.lines.Line2D object at 0x7f9bda1746a0>), (<matplotlib.collections.LineCollection object at 0x7f9bda0f8a00>,))\n",
      "(<matplotlib.lines.Line2D object at 0x7f9bda109a00>, (<matplotlib.lines.Line2D object at 0x7f9bda109f70>, <matplotlib.lines.Line2D object at 0x7f9bda119040>), (<matplotlib.collections.LineCollection object at 0x7f9bda109b50>,))\n",
      "(<matplotlib.lines.Line2D object at 0x7f9bda11ecd0>, (<matplotlib.lines.Line2D object at 0x7f9bda12d490>, <matplotlib.lines.Line2D object at 0x7f9bda12d520>), (<matplotlib.collections.LineCollection object at 0x7f9bda11ee20>,))\n",
      "(<matplotlib.lines.Line2D object at 0x7f9bda157d90>, (<matplotlib.lines.Line2D object at 0x7f9bda1574c0>, <matplotlib.lines.Line2D object at 0x7f9bda157b80>), (<matplotlib.collections.LineCollection object at 0x7f9bda157730>,))\n"
     ]
    },
    {
     "data": {
      "image/png": "[encoded data removed]",
      "text/plain": [
       "<Figure size 579.6x360 with 1 Axes>"
      ]
     },
     "metadata": {
      "needs_background": "light"
     },
     "output_type": "display_data"
    },
    {
     "name": "stdout",
     "output_type": "stream",
     "text": [
      "../../images/potential/su3/gluodynamics/decomposition/original_sum_beta\n"
     ]
    }
   ],
   "source": [
    "path1 = '../../result/potential/wilson_loop/fundamental/on-axis/su3/gluodynamics'\n",
    "paths = [{'original': {'path' : f'{path1}/24^4/beta6.0/HYP0_APE_alpha=0.5/potential_original.csv', 'parameters': {'beta': 6.0, 'name': 'SU(3)'}, 'constraints': {'r/a': (1, 12), 'T': (1, 12)}},\n",
    "        'monopole': {'path' : f'{path1}/24^4/beta6.0/HYP0_APE_alpha=0.5/steps_500/copies=4/potential_monopole.csv', 'parameters': {'beta': 6.0, 'name': 'mon'}, 'constraints': {'r/a': (1, 12), 'T': (11, 11)}},\n",
    "        'monopoless': {'path' : f'{path1}/24^4/beta6.0/HYP0_APE_alpha=0.5/steps_500/copies=4/potential_monopoless.csv', 'parameters': {'beta': 6.0, 'name': 'mod'}, 'constraints': {'r/a': (1, 12), 'T': (8, 8)}}},\n",
    "        {'original': {'path' : f'{path1}/28^4/beta6.1/HYP0_APE_alpha=0.5/potential_original.csv', 'parameters': {'beta': 6.1, 'name': 'SU(3)'}, 'constraints': {'r/a': (1, 14), 'T': (1, 14)}},\n",
    "        'monopole': {'path' : f'{path1}/28^4/beta6.1/HYP0_APE_alpha=0.5/steps_500/copies=3/potential_monopole.csv', 'parameters': {'beta': 6.1, 'name': 'mon'}, 'constraints': {'r/a': (1, 14), 'T': (13, 13)}},\n",
    "        'monopoless': {'path' : f'{path1}/28^4/beta6.1/HYP0_APE_alpha=0.5/steps_500/copies=3/potential_monopoless.csv', 'parameters': {'beta': 6.1, 'name': 'mod'}, 'constraints': {'r/a': (1, 14), 'T': (8, 8)}}},\n",
    "        {'original': {'path' : f'{path1}/32^4/beta6.2/HYP0_APE_alpha=0.5/potential_original.csv', 'parameters': {'beta': 6.2, 'name': 'SU(3)'}, 'constraints': {'r/a': (1, 16), 'T': (1, 16)}},\n",
    "        'monopole': {'path' : f'{path1}/32^4/beta6.2/HYP0_APE_alpha=0.5/steps_500/copies=3/potential_monopole.csv', 'parameters': {'beta': 6.2, 'name': 'mon'}, 'constraints': {'r/a': (1, 16), 'T': (15, 15)}},\n",
    "        'monopoless': {'path' : f'{path1}/32^4/beta6.2/HYP0_APE_alpha=0.5/steps_500/copies=3/potential_monopoless.csv', 'parameters': {'beta': 6.2, 'name': 'mod'}, 'constraints': {'r/a': (1, 16), 'T': (8, 8)}}},\n",
    "        {'original': {'path' : f'{path1}/36^4/beta6.3/HYP0_APE_alpha=0.5/potential_original.csv', 'parameters': {'beta': 6.3, 'name': 'SU(3)'}, 'constraints': {'r/a': (1, 18), 'T': (1, 18)}},\n",
    "        'monopole': {'path' : f'{path1}/36^4/beta6.3/HYP0_APE_alpha=0.5/steps_500/copies=4/potential_monopole.csv', 'parameters': {'beta': 6.3, 'name': 'mon'}, 'constraints': {'r/a': (1, 18), 'T': (17, 17)}},\n",
    "        'monopoless': {'path' : f'{path1}/36^4/beta6.3/HYP0_APE_alpha=0.5/steps_500/copies=4/potential_monopoless.csv', 'parameters': {'beta': 6.3, 'name': 'mod'}, 'constraints': {'r/a': (1, 18), 'T': (8, 8)}}}]\n",
    "data_beta = []\n",
    "for path in paths:\n",
    "    data = potential_data.DataDecomposition(path)\n",
    "    data.fit_original_T((2, 8))\n",
    "    data.df = data.df.drop('T', axis = 1)\n",
    "    data.find_sum('monopole', 'monopoless')\n",
    "    data.remove_from_plot(['monopole', 'monopoless'])\n",
    "    r0 = scaler.get_r0(path['original']['parameters']['beta'])\n",
    "    data.scale_potentials(r0)\n",
    "    popt, pcov = fit.fit_single(data.df[data.df['potential_type'] == 'original'], (3*r0, 18*r0), fit.func_quark_potential)\n",
    "    data.df['aV(r)'] = data.df['aV(r)'] - fit.func_quark_potential(0.5, *popt)\n",
    "    data_beta.append(data.df)\n",
    "data_beta = pd.concat(data_beta)\n",
    "data_beta.loc[data_beta['beta'] == 6.0, 'marker'] = 'v'\n",
    "data_beta.loc[data_beta['beta'] == 6.1, 'marker'] = '^'\n",
    "data_beta.loc[data_beta['beta'] == 6.2, 'marker'] = 'o'\n",
    "data_beta.loc[data_beta['beta'] == 6.3, 'marker'] = 's'\n",
    "# print(data_beta)\n",
    "plots.plot_potential_err_markers(data_beta, 'r/a', 'aV(r)', 'err', ['name', 'beta'], 'r/a', 'aV(r)', 'original potential', f'../../images/potential/su3/gluodynamics/decomposition', 'original_sum_beta', True)\n"
   ]
  },
  {
   "cell_type": "code",
   "execution_count": 2,
   "metadata": {},
   "outputs": [],
   "source": [
    "def get_latttice_spacing_su3(beta):\n",
    "    return 0.5 * scaler.get_r0(beta)\n",
    "\n",
    "def get_lattice_size(beta, size):\n",
    "    return get_latttice_spacing_su3(beta) * size"
   ]
  },
  {
   "cell_type": "code",
   "execution_count": 3,
   "metadata": {},
   "outputs": [
    {
     "name": "stdout",
     "output_type": "stream",
     "text": [
      "6 5.367702622812138 0.09314972067846226 16 1.4903955308553962\n",
      "6 5.367702622812138 0.09314972067846226 24 2.2355932962830942\n",
      "6 5.367702622812138 0.09314972067846226 32 2.9807910617107924\n",
      "6.1 6.336355747797897 0.07890971086555033 28 2.2094719042354094\n",
      "6.2 7.382899148340123 0.06772407288164212 32 2.1671703322125477\n",
      "6.3 8.513427304567733 0.058730753445411295 36 2.1143071240348066\n",
      "6.4 9.741500877672125 0.0513267930967412 40 2.053071723869648\n"
     ]
    }
   ],
   "source": [
    "beta_arr = [6, 6, 6, 6.1, 6.2, 6.3, 6.4]\n",
    "size_arr = [16, 24, 32, 28, 32, 36, 40]\n",
    "for i in range(len(beta_arr)):\n",
    "    print(beta_arr[i], 1/scaler.get_r0(beta_arr[i]), get_latttice_spacing_su3(beta_arr[i]), size_arr[i], get_lattice_size(beta_arr[i], size_arr[i]))"
   ]
  },
  {
   "cell_type": "code",
   "execution_count": null,
   "metadata": {},
   "outputs": [],
   "source": [
    "path1 = '../../result/potential/wilson_loop/fundamental/su3/gluodynamics'\n",
    "params = 'steps_500/copies=3'\n",
    "compensate = 'compensate_1'\n",
    "r_max = 18\n",
    "T_max = 11\n",
    "y_lims = (-2, 3)\n",
    "constraints = {'r/a': (1, r_max), 'T': (1, T_max)}\n",
    "paths = []\n",
    "# param_arr = ['steps_25/copies=4', 'steps_50/copies=4',\n",
    "#              'steps_100/copies=4', 'steps_200/copies=4',\n",
    "#              'steps_1000/copies=4', 'steps_2000/copies=4']\n",
    "param_arr = ['steps_25/copies=4']\n",
    "for params in param_arr:\n",
    "    paths.append({'beta': 6.0, 'fit_range': (2, 12),\n",
    "        'data': {'original': {'name' : 'SU3', 'path' : f'{path1}/24^4/beta6.0/HYP0_APE_alpha=0.5/potential/potential_original.csv', 'T' : 6, 'constraints': {'r/a': (1, 11), 'T': (1, 11)}},\n",
    "        'monopole': {'name' : 'mon', 'path' : f'{path1}/24^4/beta6.0/HYP0_APE_alpha=0.5/{params}/potential/potential_monopole.csv', 'T' : 11, 'constraints': {'r/a': (1, 11), 'T': (1, 11)}},\n",
    "        'monopoless': {'name' : 'mod', 'path' : f'{path1}/24^4/beta6.0/HYP0_APE_alpha=0.5/{params}/potential/potential_monopoless.csv', 'T' : 8, 'constraints': {'r/a': (1, 11), 'T': (1, 11)}}}})\n",
    "remove_from_plot = ['monopole', 'monopoless']\n",
    "term = 'mon+mod'\n",
    "\n",
    "decomposition.potential_together_shifted(paths, f'../../images/potential/together/su3/gluodynamics/beta_dependence', f'potential_mon_mod', y_lims, False, remove_from_plot, False, term, 'sum')"
   ]
  },
  {
   "cell_type": "code",
   "execution_count": null,
   "metadata": {},
   "outputs": [],
   "source": [
    "path1 = '../../result/potential/wilson_loop/fundamental/su3/gluodynamics'\n",
    "params = 'steps_500/copies=3'\n",
    "compensate = 'compensate_1'\n",
    "r_max = 18\n",
    "T_max = 11\n",
    "y_lims = (-2, 3)\n",
    "constraints = {'r/a': (1, r_max), 'T': (1, T_max)}\n",
    "paths = [{'beta': 6.0, 'fit_range': (2, 12),\n",
    "        'data': {'original': {'name' : 'SU3', 'path' : f'{path1}/24^4/beta6.0/HYP0_alpha=1_1_0.5_APE_alpha=0.5/potential/potential_original.csv', 'constraints': {'r/a': (1, 12), 'T': (1, 12)}},\n",
    "        'monopole': {'name' : 'mon', 'path' : f'{path1}/24^4/beta6.0/HYP0_alpha=1_1_0.5_APE_alpha=0.5/{params}/{compensate}/potential/potential_monopole.csv', 'T' : 11, 'constraints': {'r/a': (1, 12), 'T': (1, 12)}},\n",
    "        'monopoless': {'name' : 'mod', 'path' : f'{path1}/24^4/beta6.0/HYP0_alpha=1_1_0.5_APE_alpha=0.5/{params}/{compensate}/potential/potential_monopoless.csv', 'T' : 8, 'constraints': {'r/a': (1, 12), 'T': (1, 12)}}}},\n",
    "        {'beta': 6.1, 'fit_range': (2, 14),\n",
    "        'data': {'original': {'name' : 'SU3', 'path' : f'{path1}/28^4/beta6.1/HYP0_alpha=1_1_0.5_APE_alpha=0.5/potential/potential_original.csv', 'constraints': {'r/a': (1, 14), 'T': (1, 13)}},\n",
    "        'monopole': {'name' : 'mon', 'path' : f'{path1}/28^4/beta6.1/HYP0_alpha=1_1_0.5_APE_alpha=0.5/{params}/{compensate}/potential/potential_monopole.csv', 'T' : 11, 'constraints': {'r/a': (1, 14), 'T': (1, 13)}},\n",
    "        'monopoless': {'name' : 'mod', 'path' : f'{path1}/28^4/beta6.1/HYP0_alpha=1_1_0.5_APE_alpha=0.5/{params}/{compensate}/potential/potential_monopoless.csv', 'T' : 8, 'constraints': {'r/a': (1, 14), 'T': (1, 13)}}}},\n",
    "        {'beta': 6.2, 'constraints': {'r/a': (1, 16), 'T': (1, 15)}, 'fit_range': (2, 16),\n",
    "        'data': {'original': {'name' : 'SU3', 'path' : f'{path1}/32^4/beta6.2/HYP0_alpha=1_1_0.5_APE_alpha=0.5/potential/potential_original.csv', 'constraints': {'r/a': (1, 16), 'T': (1, 15)}},\n",
    "        'monopole': {'name' : 'mon', 'path' : f'{path1}/32^4/beta6.2/HYP0_alpha=1_1_0.5_APE_alpha=0.5/{params}/{compensate}/potential/potential_monopole.csv', 'T' : 11, 'constraints': {'r/a': (1, 16), 'T': (1, 15)}},\n",
    "        'monopoless': {'name' : 'mod', 'path' : f'{path1}/32^4/beta6.2/HYP0_alpha=1_1_0.5_APE_alpha=0.5/{params}/{compensate}/potential/potential_monopoless.csv', 'T' : 8, 'constraints': {'r/a': (1, 16), 'T': (1, 15)}}}},\n",
    "        {'beta': 6.3, 'constraints': {'r/a': (1, 18), 'T': (1, 17)}, 'fit_range': (2, 18),\n",
    "        'data': {'original': {'name' : 'SU3', 'path' : f'{path1}/36^4/beta6.3/HYP0_alpha=1_1_0.5_APE_alpha=0.5/potential/potential_original.csv', 'constraints': {'r/a': (1, 18), 'T': (1, 17)}},\n",
    "        'monopole': {'name' : 'mon', 'path' : f'{path1}/36^4/beta6.3/HYP0_alpha=1_1_0.5_APE_alpha=0.5/{params}/{compensate}/potential/potential_monopole.csv', 'T' : 11, 'constraints': {'r/a': (1, 18), 'T': (1, 17)}},\n",
    "        'monopoless': {'name' : 'mod', 'path' : f'{path1}/36^4/beta6.3/HYP0_alpha=1_1_0.5_APE_alpha=0.5/{params}/{compensate}/potential/potential_monopoless.csv', 'T' : 8, 'constraints': {'r/a': (1, 18), 'T': (1, 17)}}}}]\n",
    "fit_range = (2, 12)\n",
    "remove_from_plot = ['monopole', 'monopoless']\n",
    "term = 'mon+mod'\n",
    "\n",
    "decomposition.potential_together_shifted(paths, f'../../images/potential/together/su3/gluodynamics/beta_dependence', f'potential_mon_mod', y_lims, False, remove_from_plot, False, term, 'sum')"
   ]
  },
  {
   "cell_type": "code",
   "execution_count": null,
   "metadata": {},
   "outputs": [],
   "source": [
    "path1 = '../../result/potential/wilson_loop/fundamental/su3/gluodynamics'\n",
    "size = '24^4'\n",
    "params = 'steps_500/copies=3'\n",
    "compensate = 'compensate_1'\n",
    "r_max = 18\n",
    "T_max = 11\n",
    "y_lims = (-2, 3)\n",
    "constraints = {'r/a': (1, r_max), 'T': (1, T_max)}\n",
    "paths = [{'beta': 6.0, 'fit_range': (2, 12),\n",
    "        'data': {'original': {'name' : 'SU3', 'path' : f'{path1}/24^4/beta6.0/HYP0_alpha=1_1_0.5_APE_alpha=0.5/potential/potential_original.csv', 'constraints': {'r/a': (1, 11), 'T': (1, 12)}},\n",
    "        'abelian': {'name' : 'abelian', 'path' : f'{path1}/24^4/beta6.0/HYP0_alpha=1_1_0.5_APE_alpha=0.5/{params}/potential/potential_abelian.csv', 'T' : 8, 'constraints': {'r/a': (1, 12), 'T': (1, 11)}}}},\n",
    "        {'beta': 6.1, 'fit_range': (2, 14),\n",
    "        'data': {'original': {'name' : 'SU3', 'path' : f'{path1}/28^4/beta6.1/HYP0_alpha=1_1_0.5_APE_alpha=0.5/potential/potential_original.csv', 'constraints': {'r/a': (1, 13), 'T': (1, 13)}},\n",
    "        'abelian': {'name' : 'abelian', 'path' : f'{path1}/28^4/beta6.1/HYP0_alpha=1_1_0.5_APE_alpha=0.5/{params}/potential/potential_abelian.csv', 'T' : 8, 'constraints': {'r/a': (1, 14), 'T': (1, 13)}}}},\n",
    "        {'beta': 6.2, 'constraints': {'r/a': (1, 16), 'T': (1, 15)}, 'fit_range': (2, 16),\n",
    "        'data': {'original': {'name' : 'SU3', 'path' : f'{path1}/32^4/beta6.2/HYP0_alpha=1_1_0.5_APE_alpha=0.5/potential/potential_original.csv', 'constraints': {'r/a': (1, 15), 'T': (1, 15)}},\n",
    "        'abelian': {'name' : 'abelian', 'path' : f'{path1}/32^4/beta6.2/HYP0_alpha=1_1_0.5_APE_alpha=0.5/{params}/potential/potential_abelian.csv', 'T' : 8, 'constraints': {'r/a': (1, 16), 'T': (1, 15)}}}},\n",
    "        {'beta': 6.3, 'constraints': {'r/a': (1, 18), 'T': (1, 17)}, 'fit_range': (2, 18),\n",
    "        'data': {'original': {'name' : 'SU3', 'path' : f'{path1}/36^4/beta6.3/HYP0_alpha=1_1_0.5_APE_alpha=0.5/potential/potential_original.csv', 'constraints': {'r/a': (1, 17), 'T': (1, 17)}},\n",
    "        'abelian': {'name' : 'abelian', 'path' : f'{path1}/36^4/beta6.3/HYP0_alpha=1_1_0.5_APE_alpha=0.5/{params}/potential/potential_abelian.csv', 'T' : 8, 'constraints': {'r/a': (1, 18), 'T': (1, 17)}}}}]\n",
    "fit_range = (2, r_max)\n",
    "remove_from_plot = []\n",
    "term = 'SU3'\n",
    "\n",
    "decomposition.potential_together_shifted(paths, f'../../images/potential/together/su3/gluodynamics/beta_dependence', f'potential_abelian', y_lims, False, remove_from_plot, False, term, 'abelian')"
   ]
  },
  {
   "cell_type": "code",
   "execution_count": null,
   "metadata": {},
   "outputs": [],
   "source": [
    "r_max = 20\n",
    "constraints = {'r/a': (1, r_max)}\n",
    "fit_range = (10, 20)\n",
    "mu_arr = ['mu0.45']\n",
    "paths = []\n",
    "r0 = 9.8\n",
    "y_lims = (0, 0.6)\n",
    "for mu in mu_arr:\n",
    "    path = f'../../result/potential/wilson_loop/fundamental/su2/qc2dstag/40^4/{mu}'\n",
    "    paths.append({'name' : 'SU2', 'path' : f'{path}/HYP1_alpha=1_1_0.5_APE_alpha=0.5/potential/potential_monopole.csv', 'T': 15, 'constraints': constraints, })\n",
    "decomposition.potentials_fit(paths, 'SU2', fit_range, r0, y_lims,  f'../../images/potential/decomposition/su2/qc2dstag/40^4/{mu}', 'potential_fit')"
   ]
  },
  {
   "cell_type": "code",
   "execution_count": null,
   "metadata": {},
   "outputs": [],
   "source": [
    "r_max = 20\n",
    "constraints = {'r/a': (1, r_max)}\n",
    "fit_range = (5, 20)\n",
    "mu_arr = ['mu0.35']\n",
    "paths = []\n",
    "r0 = 9.8\n",
    "y_lims = (0, 0.6)\n",
    "for mu in mu_arr:\n",
    "    path = f'../../result/potential/wilson_loop/fundamental/su2/qc2dstag/40^4/{mu}'\n",
    "    paths.append({'name' : 'SU2', 'path' : f'{path}/HYP0_alpha=1_1_0.5_APE_alpha=0.5/potential/potential_monopole.csv', 'T': 15, 'constraints': constraints, })\n",
    "decomposition.potentials_fit(paths, 'SU2', fit_range, r0, y_lims,  f'../../images/potential/decomposition/su2/qc2dstag/40^4/{mu}', 'potential_fit')"
   ]
  },
  {
   "cell_type": "code",
   "execution_count": null,
   "metadata": {},
   "outputs": [],
   "source": [
    "r_max = 17\n",
    "constraints = {'r/a': (1, r_max)}\n",
    "fit_range = (8, r_max)\n",
    "mu_arr = ['mu0.40', 'mu0.45']\n",
    "paths = []\n",
    "r0 = 9.8\n",
    "y_lims = (0, 0.6)\n",
    "for mu in mu_arr:\n",
    "    path = f'../../result/potential/wilson_loop/fundamental/su2/qc2dstag/40^4/{mu}'\n",
    "    paths.append({'name' : 'SU2', 'path' : f'{path}/HYP1_alpha=1_1_0.5_APE_alpha=0.5/potential/potential_original.csv', 'constraints': constraints})\n",
    "decomposition.potentials_fit(paths, 'SU2', fit_range, r0, y_lims,  f'../../images/potential/decomposition/su2/qc2dstag/40^4/{mu}', 'potential_fit')"
   ]
  },
  {
   "cell_type": "code",
   "execution_count": null,
   "metadata": {},
   "outputs": [],
   "source": [
    "def make_plot_decomposition_su2(path1, size, beta, beta_str, params, compensate, r_max, y_lims, representation):\n",
    "    beta1 = beta_str.replace('.', 'p')\n",
    "    path = f'{path1}/{size}/{beta_str}'\n",
    "    constraints = {'r/a': (1, r_max)}\n",
    "    paths = {'original': {'name' : 'SU2', 'path' : f'{path}/HYP1_alpha=1_1_0.5_APE_alpha=0.5/potential/potential_original.csv', 'T' : 8, 'constraints': constraints},\n",
    "            'monopole': {'name' : 'monopole', 'path' : f'{path}/HYP1_alpha=1_1_0.5_APE_alpha=0.5/{params}/{compensate}/potential/potential_monopole.csv', 'T' : 8, 'constraints': constraints},\n",
    "            'monopoless': {'name' : 'modified', 'path' : f'{path}/HYP1_alpha=1_1_0.5_APE_alpha=0.5/{params}/{compensate}/potential/potential_monopoless.csv', 'T' : 8, 'constraints': constraints},\n",
    "            'abelian': {'name' : 'abel', 'path' : f'{path}/HYP1_alpha=1_1_0.5_APE_alpha=0.5/{params}/potential/potential_abelian.csv', 'T' : 8},\n",
    "            'offdiagonal': {'name' : 'offdiag', 'path' : f'{path}/HYP1_alpha=1_1_0.5_APE_alpha=0.5/{params}/{compensate}/potential/potential_offdiagonal.csv', 'T' : 8}}\n",
    "    r0 = 1/9.8\n",
    "    fit_range = (3*r0, r_max*r0)\n",
    "    remove_from_plot = []\n",
    "    # decomposition.potential_decomposition(paths, f'../../images/potential/decomposition/su2/qc2dstag/{size}/{beta1}', f'potential_decomposition_full_fit_from_original_{size}_{beta1}', beta, y_lims, True, r0, fit_range, remove_from_plot, False)\n",
    "#     decomposition.potential_decomposition(paths, f'../../images/potential/decomposition/su2/qc2dstag/{size}/{beta1}', f'potential_decomposition_full_fit_from_original_{size}_{beta1}_black', beta, y_lims, True, r0, fit_range, remove_from_plot, True)\n",
    "#     decomposition.potential_decomposition(paths, f'../../images/potential/decomposition/su2/qc2dstag/{size}/{beta1}', f'potential_decomposition_full_fit_separate_{size}_{beta1}', beta, y_lims, False, r0, fit_range, remove_from_plot, False)\n",
    "#     decomposition.potential_decomposition(paths, f'../../images/potential/decomposition/su2/qc2dstag/{size}/{beta1}', f'potential_decomposition_full_fit_separate_{size}_{beta1}_black', beta, y_lims, False, r0, fit_range, remove_from_plot, True)\n",
    "#     remove_from_plot = ['monopole', 'monopoless']\n",
    "#     decomposition.potential_decomposition(paths, f'../../images/potential/decomposition/su2/qc2dstag/{size}/{beta1}', f'potential_decomposition_full_mon_mod_removed_fit_from_original_{size}_{beta1}', beta, y_lims, True, r0, fit_range, remove_from_plot, False)\n",
    "#     decomposition.potential_decomposition(paths, f'../../images/potential/decomposition/su2/qc2dstag/{size}/{beta1}', f'potential_decomposition_full_mon_mod_removed_fit_from_original_{size}_{beta1}_black', beta, y_lims, True, r0, fit_range, remove_from_plot, True)\n",
    "#     decomposition.potential_decomposition(paths, f'../../images/potential/decomposition/su2/qc2dstag/{size}/{beta1}', f'potential_decomposition_full_mon_mod_removed_fit_separate_{size}_{beta1}', beta, y_lims, False, r0, fit_range, remove_from_plot, False)\n",
    "#     decomposition.potential_decomposition(paths, f'../../images/potential/decomposition/su2/qc2dstag/{size}/{beta1}', f'potential_decomposition_full_mon_mod_removed_fit_separate_{size}_{beta1}_black', beta, y_lims, False, r0, fit_range, remove_from_plot, True)\n",
    "    paths = {'original': {'name' : 'SU2', 'path' : f'{path}/HYP1_alpha=1_1_0.5_APE_alpha=0.5/potential/potential_original.csv', 'T': 6, 'constraints': constraints},\n",
    "            'monopole': {'name' : 'monopole', 'path' : f'{path}/HYP1_alpha=1_1_0.5_APE_alpha=0.5/{params}/{compensate}/potential/potential_monopole.csv', 'T' : 12, 'constraints': constraints},\n",
    "            'monopoless': {'name' : 'modified', 'path' : f'{path}/HYP1_alpha=1_1_0.5_APE_alpha=0.5/{params}/{compensate}/potential/potential_monopoless.csv', 'T' : 8, 'constraints': constraints}}\n",
    "    remove_from_plot = []\n",
    "    decomposition.potential_decomposition(paths, f'../../images/potential/{representation}/decomposition/su2/qc2dstag/{size}', f'potential_decomposition_mon_mod_fit_from_original_{size}_{beta1}', beta, y_lims, True, r0, fit_range, remove_from_plot, False)\n",
    "#     decomposition.potential_decomposition(paths, f'../../images/potential/decomposition/su2/qc2dstag/{size}/{beta1}', f'potential_decomposition_mon_mod_fit_from_original_{size}_{beta1}_black', beta, y_lims, True, r0, fit_range, remove_from_plot, True)\n",
    "    decomposition.potential_decomposition(paths, f'../../images/potential/{representation}/decomposition/su2/qc2dstag/{size}', f'potential_decomposition_mon_mod_fit_separate_{size}_{beta1}', beta, y_lims, False, r0, fit_range, remove_from_plot, False)\n",
    "#     decomposition.potential_decomposition(paths, f'../../images/potential/decomposition/su2/qc2dstag/{size}/{beta1}', f'potential_decomposition_mon_mod_fit_separate_{size}_{beta1}_black', beta, y_lims, False, r0, fit_range, remove_from_plot, True)"
   ]
  },
  {
   "cell_type": "code",
   "execution_count": null,
   "metadata": {},
   "outputs": [],
   "source": [
    "make_plot_decomposition_su2('../../result/potential/wilson_loop/adjoint/su2/su2_suzuki', '48^4', 2.8, 'beta2.8', 'T_step=0.0002', '/', 24, (-0.1, 2))"
   ]
  },
  {
   "cell_type": "code",
   "execution_count": null,
   "metadata": {},
   "outputs": [],
   "source": [
    "make_plot_decomposition_su2('../../result/potential/wilson_loop/fundamental/su2/su2_suzuki', '48^4', 2.6, 'beta2.6', 'T_step=0.01', '/', 24, (-0.03, 0.75))"
   ]
  },
  {
   "cell_type": "code",
   "execution_count": null,
   "metadata": {},
   "outputs": [],
   "source": [
    "params = ['T_step=0.0001', 'T_step=0.0002', 'T_step=0.0004', 'T_step=0.0008', 'T_step=0.0016', 'T_step=0.0032']\n",
    "for p in params:\n",
    "    make_plot_decomposition_su2('../../result/potential/wilson_loop/fundamental/su2/su2_suzuki', '48^4', 2.7, 'beta2.7', p, '/', 24, (-0.03, 0.61))"
   ]
  },
  {
   "cell_type": "code",
   "execution_count": null,
   "metadata": {},
   "outputs": [],
   "source": [
    "params = ['T_step=0.0001', 'T_step=0.0002', 'T_step=0.0004', 'T_step=0.0008', 'T_step=0.001', 'T_step=0.002', 'T_step=0.004', 'T_step=0.008', 'T_step=5e-05']\n",
    "for p in params:\n",
    "    print(p)\n",
    "    make_plot_decomposition_su2('../../result/potential/wilson_loop/fundamental/su2/su2_suzuki', '48^4', 2.8, 'beta2.8', p, '/', 24, (-0.03, 0.61))"
   ]
  },
  {
   "cell_type": "code",
   "execution_count": null,
   "metadata": {},
   "outputs": [],
   "source": [
    "params = ['T_step=0.0001', 'T_step=0.0002', 'T_step=0.0004', 'T_step=0.0008', 'T_step=0.0016', 'T_step=0.0032']\n",
    "for p in params:\n",
    "    make_plot_decomposition_su2('../../result/potential/wilson_loop/fundamental/su2/su2_suzuki', '48^4', 2.6, 'beta2.7', p, '/', 24, (-0.03, 0.61))"
   ]
  },
  {
   "cell_type": "code",
   "execution_count": null,
   "metadata": {},
   "outputs": [],
   "source": [
    "for mu in ['mu0.00', 'mu0.05', 'mu0.20', 'mu0.25', 'mu0.30', 'mu0.35', 'mu0.40', 'mu0.45']:\n",
    "    print(mu)\n",
    "    make_plot_decomposition_su2('../../result/potential/wilson_loop/fundamental/su2/qc2dstag', '40^4', 1, mu, '/', '/', 20, (-2, 6.1), 'fundamental')"
   ]
  },
  {
   "cell_type": "code",
   "execution_count": null,
   "metadata": {},
   "outputs": [],
   "source": [
    "for mu in ['mu0.00', 'mu0.05', 'mu0.20', 'mu0.25', 'mu0.30', 'mu0.35', 'mu0.45']:\n",
    "    print(mu)\n",
    "    make_plot_decomposition_su2('../../result/potential/wilson_loop/adjoint/su2/qc2dstag', '40^4', 1, mu, '/', '/', 12, (-0.4, 11), 'adjoint')"
   ]
  },
  {
   "cell_type": "code",
   "execution_count": null,
   "metadata": {},
   "outputs": [],
   "source": [
    "def make_plot_decomposition(path1, size, beta, beta_str, params, compensate, r_max, T_max, y_lims):\n",
    "    beta1 = beta_str.replace('.', 'p')\n",
    "    path = f'{path1}/{size}/{beta_str}'\n",
    "    constraints = {'r/a': (1, r_max), 'T': (1, T_max)}\n",
    "    paths = {'original': {'name' : 'SU3', 'path' : f'{path}/HYP0_alpha=1_1_0.5_APE_alpha=0.5/potential_original.csv', 'constraints': constraints},\n",
    "            'monopole': {'name' : 'mon', 'path' : f'{path}/HYP0_alpha=1_1_0.5_APE_alpha=0.5/{params}/{compensate}/potential_monopole.csv', 'T' : 11, 'constraints': constraints},\n",
    "            'monopoless': {'name' : 'mod', 'path' : f'{path}/HYP0_alpha=1_1_0.5_APE_alpha=0.5/{params}/{compensate}/potential_monopoless.csv', 'T' : 8, 'constraints': constraints},\n",
    "            'abelian': {'name' : 'abel', 'path' : f'{path}/HYP0_alpha=1_1_0.5_APE_alpha=0.5/{params}/potential_abelian.csv', 'T' : 8},\n",
    "            'offdiagonal': {'name' : 'offdiag', 'path' : f'{path}/HYP0_alpha=1_1_0.5_APE_alpha=0.5/{params}/{compensate}/potential_offdiagonal.csv', 'T' : 6}}\n",
    "    r0 = scaler.get_r0(beta)\n",
    "    fit_range = (2, r_max)\n",
    "    remove_from_plot = []\n",
    "    # decomposition.potential_decomposition(paths, f'../../images/potential/decomposition/su3/gluodynamics/{size}/{beta_str}', f'potential_decomposition_full_fit_from_original_{size}_{beta1}', beta, y_lims, True, r0, fit_range, remove_from_plot, False)\n",
    "#     decomposition.potential_decomposition(paths, f'../../images/potential/decomposition/su3/gluodynamics/{size}/{beta_str}', f'potential_decomposition_full_fit_from_original_{size}_{beta1}_black', beta, y_lims, True, r0, fit_range, remove_from_plot, True)\n",
    "    # decomposition.potential_decomposition(paths, f'../../images/potential/decomposition/su3/gluodynamics/{size}/{beta_str}', f'potential_decomposition_full_fit_separate_{size}_{beta1}', beta, y_lims, False, r0, fit_range, remove_from_plot, False)\n",
    "#     decomposition.potential_decomposition(paths, f'../../images/potential/decomposition/su3/gluodynamics/{size}/{beta_str}', f'potential_decomposition_full_fit_separate_{size}_{beta1}_black', beta, y_lims, False, r0, fit_range, remove_from_plot, True)\n",
    "    remove_from_plot = ['monopole', 'monopoless']\n",
    "#     decomposition.potential_decomposition(paths, f'../../images/potential/decomposition/su3/gluodynamics/{size}/{beta_str}', f'potential_decomposition_full_mon_mod_removed_fit_from_original_{size}_{beta1}', beta, y_lims, True, r0, fit_range, remove_from_plot, False)\n",
    "#     decomposition.potential_decomposition(paths, f'../../images/potential/decomposition/su3/gluodynamics/{size}/{beta_str}', f'potential_decomposition_full_mon_mod_removed_fit_from_original_{size}_{beta1}_black', beta, y_lims, True, r0, fit_range, remove_from_plot, True)\n",
    "    decomposition.potential_decomposition(paths, f'../../images/potential/decomposition/su3/gluodynamics/{size}/{beta_str}', f'potential_decomposition_full_mon_mod_removed_fit_separate_{size}_{beta1}', beta, y_lims, False, r0, fit_range, remove_from_plot, False)\n",
    "#     decomposition.potential_decomposition(paths, f'../../images/potential/decomposition/su3/gluodynamics/{size}/{beta_str}', f'potential_decomposition_full_mon_mod_removed_fit_separate_{size}_{beta1}_black', beta, y_lims, False, r0, fit_range, remove_from_plot, True)\n",
    "    paths = {'original': {'name' : 'SU3', 'path' : f'{path}/HYP0_alpha=1_1_0.5_APE_alpha=0.5/potential_original.csv', 'constraints': constraints},\n",
    "            'monopole': {'name' : 'mon', 'path' : f'{path}/HYP0_alpha=1_1_0.5_APE_alpha=0.5/{params}/{compensate}/potential_monopole.csv', 'T' : 11, 'constraints': constraints},\n",
    "            'monopoless': {'name' : 'mod', 'path' : f'{path}/HYP0_alpha=1_1_0.5_APE_alpha=0.5/{params}/{compensate}/potential_monopoless.csv', 'T' : 8, 'constraints': constraints}}\n",
    "    remove_from_plot = []\n",
    "    # decomposition.potential_decomposition(paths, f'../../images/potential/decomposition/su3/gluodynamics/{size}/{beta_str}', f'potential_decomposition_mon_mod_fit_from_original_{size}_{beta1}', beta, y_lims, True, r0, fit_range, remove_from_plot, False)\n",
    "#     decomposition.potential_decomposition(paths, f'../../images/potential/decomposition/su3/gluodynamics/{size}/{beta_str}', f'potential_decomposition_mon_mod_fit_from_original_{size}_{beta1}_black', beta, y_lims, True, r0, fit_range, remove_from_plot, True)\n",
    "    decomposition.potential_decomposition(paths, f'../../images/potential/decomposition/su3/gluodynamics/{size}/{beta_str}', f'potential_decomposition_mon_mod_fit_separate_{size}_{beta1}', beta, y_lims, False, r0, fit_range, remove_from_plot, False)\n",
    "#     decomposition.potential_decomposition(paths, f'../../images/potential/decomposition/su3/gluodynamics/{size}/{beta_str}', f'potential_decomposition_mon_mod_fit_separate_{size}_{beta1}_black', beta, y_lims, False, r0, fit_range, remove_from_plot, True)"
   ]
  },
  {
   "cell_type": "code",
   "execution_count": null,
   "metadata": {},
   "outputs": [],
   "source": [
    "a = {}\n",
    "for beta in [6, 6.1, 6.2, 6.3]:\n",
    "    a[beta] = 1/ scaler.get_r0(beta)\n",
    "print(a)"
   ]
  },
  {
   "cell_type": "code",
   "execution_count": null,
   "metadata": {},
   "outputs": [],
   "source": [
    "# make_plot_decomposition('../../result/potential/wilson_loop/fundamental/su3/gluodynamics', '24^4', 6.0, 'beta6.0', 'steps_25/copies=4', '/', 12, 11, (-1, 8))\n",
    "# make_plot_decomposition('../../result/potential/wilson_loop/fundamental/su3/gluodynamics', '24^4', 6.0, 'beta6.0', 'steps_50/copies=4', '/', 12, 11, (-1, 8))\n",
    "make_plot_decomposition('../../result/potential/wilson_loop/fundamental/su3/gluodynamics', '24^4', 6.0, 'beta6.0', 'steps_100/copies=4', '/', 12, 11, (-1, 8))\n",
    "# make_plot_decomposition('../../result/potential/wilson_loop/fundamental/su3/gluodynamics', '24^4', 6.0, 'beta6.0', 'steps_200/copies=4', '/', 12, 11, (-1, 8))\n",
    "# make_plot_decomposition('../../result/potential/wilson_loop/fundamental/su3/gluodynamics', '24^4', 6.0, 'beta6.0', 'steps_1000/copies=4', '/', 12, 11, (-1, 8))"
   ]
  },
  {
   "cell_type": "code",
   "execution_count": null,
   "metadata": {},
   "outputs": [],
   "source": [
    "make_plot_decomposition('../../result/potential/wilson_loop/fundamental/su3/gluodynamics', '36^4', 6.3, 'beta6.3', 'steps_25/copies=4', '/', 18, 16, (-1, 8.5))"
   ]
  },
  {
   "cell_type": "code",
   "execution_count": null,
   "metadata": {},
   "outputs": [],
   "source": [
    "make_plot_decomposition('../../result/potential/wilson_loop/fundamental/su3/gluodynamics', '36^4', 6.3, 'beta6.3', 'steps_50/copies=4', '/', 18, 16, (-1, 8.5))"
   ]
  },
  {
   "cell_type": "code",
   "execution_count": null,
   "metadata": {},
   "outputs": [],
   "source": [
    "make_plot_decomposition('../../result/potential/wilson_loop/fundamental/su3/gluodynamics', '36^4', 6.3, 'beta6.3', 'steps_100/copies=4', '/', 18, 16, (-1, 8.5))"
   ]
  },
  {
   "cell_type": "code",
   "execution_count": null,
   "metadata": {},
   "outputs": [],
   "source": [
    "make_plot_decomposition('../../result/potential/wilson_loop/fundamental/su3/gluodynamics', '36^4', 6.3, 'beta6.3', 'steps_200/copies=4', '/', 18, 16, (-1, 8.5))"
   ]
  },
  {
   "cell_type": "code",
   "execution_count": null,
   "metadata": {},
   "outputs": [],
   "source": [
    "make_plot_decomposition('../../result/potential/wilson_loop/fundamental/su3/gluodynamics', '36^4', 6.3, 'beta6.3', 'steps_500/copies=4', '/', 18, 16, (-1, 8.5))"
   ]
  },
  {
   "cell_type": "code",
   "execution_count": null,
   "metadata": {},
   "outputs": [],
   "source": [
    "make_plot_decomposition('../../result/potential/wilson_loop/adjoint/su3/gluodynamics', '36^4', 6.3, 'beta6.3', 'steps_500/copies=3', 'compensate_1', 12, 11, (-1, 8))"
   ]
  },
  {
   "cell_type": "code",
   "execution_count": null,
   "metadata": {},
   "outputs": [],
   "source": [
    "make_plot_decomposition('../../result/potential/wilson_loop/fundamental/su3/gluodynamics', '24^4', 6.0, 'beta6.0', 'steps_500/copies=3', 'compensate_1', 12, 11, (-0.5, 6.8))"
   ]
  },
  {
   "cell_type": "code",
   "execution_count": null,
   "metadata": {},
   "outputs": [],
   "source": [
    "make_plot_decomposition('../../result/potential/wilson_loop/fundamental/su3/gluodynamics', '24^4', 6.0, 'beta6.0', 'steps_1000/copies=3', 'compensate_1', 12, 11, (-0.5, 6.8))"
   ]
  },
  {
   "cell_type": "code",
   "execution_count": null,
   "metadata": {},
   "outputs": [],
   "source": [
    "make_plot_decomposition('../../result/potential/wilson_loop/fundamental/su3/gluodynamics', '24^4', 6.0, 'beta6.0', 'steps_2000/copies=3', 'compensate_1', 12, 11, (-0.5, 6.8))"
   ]
  },
  {
   "cell_type": "code",
   "execution_count": null,
   "metadata": {},
   "outputs": [],
   "source": [
    "make_plot_decomposition('../../result/potential/wilson_loop/fundamental/su3/gluodynamics', '24^4', 6.0, 'beta6.0', 'steps_4000/copies=3', 'compensate_1', 12, 11, (-0.5, 6.8))"
   ]
  },
  {
   "cell_type": "code",
   "execution_count": null,
   "metadata": {},
   "outputs": [],
   "source": [
    "make_plot_decomposition('../../result/potential/wilson_loop/fundamental/su3/gluodynamics', '24^4', 6.0, 'beta6.0', 'steps_8000/copies=3', 'compensate_1', 12, 11, (-0.5, 6.8))"
   ]
  },
  {
   "cell_type": "code",
   "execution_count": null,
   "metadata": {},
   "outputs": [],
   "source": [
    "make_plot_decomposition('../../result/potential/wilson_loop/fundamental/su3/gluodynamics', '28^4', 6.1, 'beta6.1', 'steps_500/copies=3', 'compensate_1', 14, 14, (-0.5, 7.5))"
   ]
  },
  {
   "cell_type": "code",
   "execution_count": null,
   "metadata": {},
   "outputs": [],
   "source": [
    "make_plot_decomposition('../../result/potential/wilson_loop/fundamental/su3/gluodynamics', '32^4', 6.2, 'beta6.2', 'steps_500/copies=3', 'compensate_1', 16, 16, (-0.5, 8.5))"
   ]
  },
  {
   "cell_type": "code",
   "execution_count": null,
   "metadata": {},
   "outputs": [],
   "source": [
    "make_plot_decomposition('../../result/potential/wilson_loop/fundamental/su3/gluodynamics', '36^4', 6.3, 'beta6.3', 'steps_500/copies=3', 'compensate_1', 18, 16, (-1, 8.5))"
   ]
  },
  {
   "cell_type": "code",
   "execution_count": null,
   "metadata": {},
   "outputs": [],
   "source": [
    "make_plot_decomposition('../../result/potential/wilson_loop/fundamental/su3/gluodynamics', '36^4', 6.3, 'beta6.3', 'steps_1000/copies=3', 'compensate_1', 18, 17, (-1, 8.5))"
   ]
  },
  {
   "cell_type": "code",
   "execution_count": null,
   "metadata": {},
   "outputs": [],
   "source": [
    "make_plot_decomposition('../../result/potential/wilson_loop/fundamental/su3/gluodynamics', '36^4', 6.3, 'beta6.3', 'steps_2000/copies=3', 'compensate_1', 18, 17, (-1, 8.5))"
   ]
  },
  {
   "cell_type": "code",
   "execution_count": null,
   "metadata": {},
   "outputs": [],
   "source": [
    "make_plot_decomposition('../../result/potential/wilson_loop/fundamental/su3/gluodynamics', '36^4', 6.3, 'beta6.3', 'steps_4000/copies=3', 'compensate_1', 18, 17, (-1, 8.5))"
   ]
  },
  {
   "cell_type": "code",
   "execution_count": null,
   "metadata": {},
   "outputs": [],
   "source": [
    "fit_coefs = {'SU(3)': (3.611, -0.337, 1.343),\n",
    "                'mon+mod': (3.978, -0.390, 0.939)}\n",
    "path = '../../result/potential/wilson_loop/fundamental/su3/gluodynamics/24^4/beta6.0/vitaly'\n",
    "image_path = '../../images/potential/decomposition/su3/gluodynamics/24^4/beta6.0/vitaly'\n",
    "image_name = 'potential_decomposition_abel_offdiag_mon+mod_24^4_beta6p0'\n",
    "terms = ['SU(3)', 'mon', 'mod']\n",
    "to_fit = ['abel', 'offdiag', 'abel+offdiag']\n",
    "to_remove = ['mon', 'mod']\n",
    "y_lims = (-0.5, 6.8)\n",
    "beta = 6.0\n",
    "path1 = '../../result/potential/wilson_loop/fundamental/su3/gluodynamics/24^4/beta6.0'\n",
    "paths = ({'name' : 'abel', 'path' : f'{path1}/HYP0_alpha=1_1_0.5_APE_alpha=0.5/steps_500/copies=3/potential_abelian.csv', 'T' : 8},\n",
    "        {'name' : 'offdiag', 'path' : f'{path1}/HYP0_alpha=1_1_0.5_APE_alpha=0.5/steps_500/copies=3/compensate_1/potential_offdiagonal.csv', 'T' : 6})\n",
    "potential_decomposition_general(paths, path, image_path, image_name, fit_coefs, to_fit, to_remove, terms, y_lims, beta, 12)"
   ]
  },
  {
   "cell_type": "code",
   "execution_count": null,
   "metadata": {},
   "outputs": [],
   "source": [
    "fit_coefs = {'SU(3)': (3.611, -0.337, 1.343)}\n",
    "path = '../../result/potential/wilson_loop/fundamental/su3/gluodynamics/24^4/beta6.0/vitaly'\n",
    "image_path = '../../images/potential/decomposition/su3/gluodynamics/24^4/beta6.0/vitaly'\n",
    "image_name = 'potential_decomposition_abel_offdiag_24^4_beta6p0'\n",
    "terms = ['SU(3)', 'mon', 'mod']\n",
    "to_fit = ['abel', 'offdiag', 'abel+offdiag']\n",
    "to_remove = ['mon', 'mod', 'mon+mod']\n",
    "y_lims = (-0.5, 6.8)\n",
    "beta = 6.0\n",
    "path1 = '../../result/potential/wilson_loop/fundamental/su3/gluodynamics/24^4/beta6.0'\n",
    "paths = ({'name' : 'abel', 'path' : f'{path1}/HYP0_alpha=1_1_0.5_APE_alpha=0.5/steps_500/copies=3/potential_abelian.csv', 'T' : 8},\n",
    "        {'name' : 'offdiag', 'path' : f'{path1}/HYP0_alpha=1_1_0.5_APE_alpha=0.5/steps_500/copies=3/compensate_1/potential_offdiagonal.csv', 'T' : 6})\n",
    "potential_decomposition_general(paths, path, image_path, image_name, fit_coefs, to_fit, to_remove, terms, y_lims, beta, 12)"
   ]
  },
  {
   "cell_type": "code",
   "execution_count": null,
   "metadata": {},
   "outputs": [],
   "source": [
    "fit_coefs = {'SU(3)': (3.611, -0.337, 1.343),\n",
    "        'mon': (-0.365, 0.0887, 0.993),\n",
    "        'mod': (4.222, -0.424, 0),\n",
    "        'mon+mod': (3.978, -0.390, 0.939)}\n",
    "path = '../../result/potential/wilson_loop/fundamental/su3/gluodynamics/24^4/beta6.0/vitaly'\n",
    "image_path = '../../images/potential/decomposition/su3/gluodynamics/24^4/beta6.0/vitaly'\n",
    "image_name = 'potential_decomposition_full_24^4_beta6p0'\n",
    "terms = ['SU(3)', 'mon', 'mod']\n",
    "to_fit = ['abel', 'offdiag', 'abel+offdiag']\n",
    "to_remove = []\n",
    "y_lims = (-0.5, 6.8)\n",
    "beta = 6.0\n",
    "path1 = '../../result/potential/wilson_loop/fundamental/su3/gluodynamics/24^4/beta6.0'\n",
    "paths = ({'name' : 'abel', 'path' : f'{path1}/HYP0_alpha=1_1_0.5_APE_alpha=0.5/steps_500/copies=3/potential_abelian.csv', 'T' : 8},\n",
    "        {'name' : 'offdiag', 'path' : f'{path1}/HYP0_alpha=1_1_0.5_APE_alpha=0.5/steps_500/copies=3/compensate_1/potential_offdiagonal.csv', 'T' : 6})\n",
    "potential_decomposition_general(paths, path, image_path, image_name, fit_coefs, to_fit, to_remove, terms, y_lims, beta, 12)"
   ]
  },
  {
   "cell_type": "code",
   "execution_count": null,
   "metadata": {},
   "outputs": [],
   "source": [
    "coefs = {'SU(3)': (3.611, -0.337, 1.343),\n",
    "        'mon': (-0.365, 0.0887, 0.993),\n",
    "        'mod': (4.222, -0.424, 0),\n",
    "        'mon+mod': (3.978, -0.390, 0.939)}\n",
    "path = '../../result/potential/wilson_loop/fundamental/su3/gluodynamics/24^4/beta6.0/vitaly'\n",
    "image_path = '../../images/potential/decomposition/su3/gluodynamics/24^4/beta6.0/vitaly'\n",
    "image_name = 'potential_decomposition_mon_mod_abel+offdiag_24^4_beta6p0'\n",
    "terms = ['SU(3)', 'mon', 'mod']\n",
    "y_lims = (-0.5, 6.8)\n",
    "beta = 6.0\n",
    "path1 = '../../result/potential/wilson_loop/fundamental/su3/gluodynamics/24^4/beta6.0'\n",
    "paths = ({'name' : 'abel', 'path' : f'{path1}/HYP0_alpha=1_1_0.5_APE_alpha=0.5/steps_500/copies=3/potential_abelian.csv', 'T' : 8},\n",
    "        {'name' : 'offdiag', 'path' : f'{path1}/HYP0_alpha=1_1_0.5_APE_alpha=0.5/steps_500/copies=3/compensate_1/potential_offdiagonal.csv', 'T' : 6})\n",
    "potential_decomposition_vitaly1(paths, path, image_path, image_name, coefs, terms, y_lims, beta, 12)"
   ]
  },
  {
   "cell_type": "code",
   "execution_count": null,
   "metadata": {},
   "outputs": [],
   "source": [
    "coefs = {'SU(3)': (3.611, -0.337, 1.343),\n",
    "        'mon': (-0.365, 0.0887, 0.993),\n",
    "        'mod': (4.222, -0.424, 0),\n",
    "        'mon+mod': (3.978, -0.390, 0.939)}\n",
    "path = '../../result/potential/wilson_loop/fundamental/su3/gluodynamics/24^4/beta6.0/vitaly'\n",
    "image_path = '../../images/potential/decomposition/su3/gluodynamics/24^4/beta6.0/vitaly'\n",
    "image_name = 'potential_decomposition_mon_mod_24^4_beta6p0'\n",
    "terms = ['SU(3)', 'mon', 'mod']\n",
    "y_lims = (-0.5, 6.8)\n",
    "beta = 6.0\n",
    "potential_decomposition_vitaly(path, image_path, image_name, coefs, terms, y_lims, beta)"
   ]
  },
  {
   "cell_type": "code",
   "execution_count": null,
   "metadata": {},
   "outputs": [],
   "source": [
    "path = '../../result/potential/wilson_loop/fundamental/su3/gluodynamics/24^4/beta6.0'\n",
    "paths = ({'name' : 'SU3', 'path' : f'{path}/HYP0_alpha=1_1_0.5_APE_alpha=0.5/potential_original.csv'},\n",
    "        {'name' : 'mon', 'path' : f'{path}/HYP0_alpha=1_1_0.5_APE_alpha=0.5/steps_500/copies=3/compensate_1/potential_monopole.csv', 'T' : 12},\n",
    "        {'name' : 'mod', 'path' : f'{path}/HYP0_alpha=1_1_0.5_APE_alpha=0.5/steps_500/copies=3/compensate_1/potential_monopoless.csv', 'T' : 8})\n",
    "potential_decomposition(paths, f'../../images/potential/decomposition/su3/gluodynamics/24^4/beta6.0', 'potential_decomposition_fit_original_24^4_beta6p0',\n",
    "                        1, 6.0, 12, (-0.5, 6.8), 'SU3', 'mod', 'mon', 'original')"
   ]
  },
  {
   "cell_type": "code",
   "execution_count": null,
   "metadata": {},
   "outputs": [],
   "source": [
    "path = '../../result/potential/wilson_loop/fundamental/su3/gluodynamics/24^4/beta6.0'\n",
    "paths = ({'name' : 'SU3', 'path' : f'{path}/HYP0_alpha=1_1_0.5_APE_alpha=0.5/potential_original.csv', 'T' : 5},\n",
    "        {'name' : 'mon', 'path' : f'{path}/HYP0_alpha=1_1_0.5_APE_alpha=0.5/steps_500/copies=3/compensate_1/potential_monopole.csv', 'T' : 12},\n",
    "        {'name' : 'mod', 'path' : f'{path}/HYP0_alpha=1_1_0.5_APE_alpha=0.5/steps_500/copies=3/compensate_1/potential_monopoless.csv', 'T' : 8})\n",
    "potential_decomposition(paths, f'../../images/potential/decomposition/su3/gluodynamics/24^4/beta6.0', 'potential_decomposition_fit_separate_24^4_beta6p0',\n",
    "                        1, 6.0, 12, (-0.5, 6.8), 'SU3', 'mod', 'mon', 'separate')"
   ]
  },
  {
   "cell_type": "code",
   "execution_count": null,
   "metadata": {},
   "outputs": [],
   "source": [
    "path = '../../result/potential/wilson_loop/fundamental/su3/gluodynamics/24^4/beta6.0'\n",
    "paths = ({'name' : 'SU3', 'path' : f'{path}/HYP0_alpha=1_1_0.5_APE_alpha=0.5/potential_original.csv', 'T' : 5},\n",
    "        {'name' : 'abel', 'path' : f'{path}/HYP0_alpha=1_1_0.5_APE_alpha=0.5/steps_500/copies=3/potential_abelian.csv', 'T' : 6},\n",
    "        {'name' : 'offdiag', 'path' : f'{path}/HYP0_alpha=1_1_0.5_APE_alpha=0.5/steps_500/copies=3/compensate_1/potential_offdiagonal.csv', 'T' : 6})\n",
    "\n",
    "potential_decomposition(paths, f'../../images/potential/decomposition/su3/gluodynamics/24^4/beta6.0', 'potential_decomposition1_fit_original_24^4_beta6p0',\n",
    "                        1, 6.0, 12, (-0.5, 6.8), 'SU3', 'offdiag', 'abel', 'original')"
   ]
  },
  {
   "cell_type": "code",
   "execution_count": null,
   "metadata": {},
   "outputs": [],
   "source": [
    "path = '../../result/potential/wilson_loop/fundamental/su3/gluodynamics/24^4/beta6.0'\n",
    "paths = ({'name' : 'SU3', 'path' : f'{path}/HYP0_alpha=1_1_0.5_APE_alpha=0.5/potential_original.csv', 'T' : 5},\n",
    "        {'name' : 'abel', 'path' : f'{path}/HYP0_alpha=1_1_0.5_APE_alpha=0.5/steps_500/copies=3/potential_abelian.csv', 'T' : 6},\n",
    "        {'name' : 'offdiag', 'path' : f'{path}/HYP0_alpha=1_1_0.5_APE_alpha=0.5/steps_500/copies=3/compensate_1/potential_offdiagonal.csv', 'T' : 6})\n",
    "potential_decomposition(paths, f'../../images/potential/decomposition/su3/gluodynamics/24^4/beta6.0', 'potential_decomposition1_fit_separate_24^4_beta6p0',\n",
    "                        1, 6.0, 12, (-0.5, 6.8), 'SU3', 'offdiag', 'abel', 'separate')"
   ]
  },
  {
   "cell_type": "code",
   "execution_count": null,
   "metadata": {},
   "outputs": [],
   "source": [
    "path = '../../result/potential/wilson_loop/fundamental/su3/gluodynamics/36^4/beta6.3'\n",
    "paths = ({'name' : 'SU3', 'path' : f'{path}/HYP0_alpha=1_1_0.5_APE_alpha=0.5/potential_original.csv', 'T' : 5},\n",
    "        {'name' : 'mon', 'path' : f'{path}/HYP0_alpha=1_1_0.5_APE_alpha=0.5/steps_500/copies=3/compensate_1/potential_monopole.csv', 'T' : 12},\n",
    "        {'name' : 'mod', 'path' : f'{path}/HYP0_alpha=1_1_0.5_APE_alpha=0.5/steps_500/copies=3/compensate_1/potential_monopoless.csv', 'T' : 8})\n",
    "potential_decomposition(paths, f'../../images/potential/decomposition/su3/gluodynamics/36^4/beta6.3', 'potential_decomposition_fit_separate_36^4_beta6p3',\n",
    "                        1, 6.0, 12, (-0.5, 6.8), 'SU3', 'mod', 'mon', 'separate')"
   ]
  },
  {
   "cell_type": "code",
   "execution_count": null,
   "metadata": {},
   "outputs": [],
   "source": [
    "path = '../../result/potential/wilson_loop/fundamental/su3/gluodynamics/36^4/beta6.3'\n",
    "paths = ({'name' : 'SU3', 'path' : f'{path}/HYP0_alpha=1_1_0.5_APE_alpha=0.5/potential_original.csv', 'T' : 5},\n",
    "        {'name' : 'abel', 'path' : f'{path}/HYP0_alpha=1_1_0.5_APE_alpha=0.5/steps_500/copies=3/potential_abelian.csv', 'T' : 6},\n",
    "        {'name' : 'offdiag', 'path' : f'{path}/HYP0_alpha=1_1_0.5_APE_alpha=0.5/steps_500/copies=3/compensate_1/potential_offdiagonal.csv', 'T' : 6})\n",
    "potential_decomposition(paths, f'../../images/potential/decomposition/su3/gluodynamics/36^4/beta6.3', 'potential_decomposition1_fit_separate_36^4_beta6p3',\n",
    "                        1, 6.0, 12, (-0.5, 6.8), 'SU3', 'offdiag', 'abel', 'separate')"
   ]
  },
  {
   "cell_type": "code",
   "execution_count": null,
   "metadata": {},
   "outputs": [],
   "source": [
    "path = '../../result/potential/wilson_loop/potential/su2/su2_suzuki/24^4/beta2.5'\n",
    "paths = ({'name' : 'SU2', 'path' : f'{path}/HYP0_alpha=1_1_0.5_APE_alpha=0.5/potential_original.csv', 'T' : 5},\n",
    "        {'name' : 'mon', 'path' : f'{path}/HYP0_alpha=1_1_0.5_APE_alpha=0.5/T_step=0.0001/potential_monopole.csv', 'T' : 12},\n",
    "        {'name' : 'mod', 'path' : f'{path}/HYP0_alpha=1_1_0.5_APE_alpha=0.5/T_step=0.0001/potential_monopoless.csv', 'T' : 8})\n",
    "potential_decomposition(paths, f'../../images/potential/decomposition/su2/su2_suzuki/24^4/beta2.5', 'potential_decomposition_24^4_beta2p5',\n",
    "                        1, 6.0, 12, (-0.5, 6.8), 'SU3', 'mod', 'mon', 'separate')"
   ]
  },
  {
   "cell_type": "code",
   "execution_count": null,
   "metadata": {},
   "outputs": [],
   "source": [
    "path = '../../result/potential/wilson_loop/potential/su2/su2_suzuki/24^4/beta2.5'\n",
    "paths = ({'name' : 'SU2', 'path' : f'{path}/HYP0_alpha=1_1_0.5_APE_alpha=0.5/potential_original.csv', 'T' : 5},\n",
    "        {'name' : 'abel', 'path' : f'{path}/HYP0_alpha=1_1_0.5_APE_alpha=0.5/T_step=0.0001/potential_abelian.csv', 'T' : 6},\n",
    "        {'name' : 'offdiag', 'path' : f'{path}/HYP0_alpha=1_1_0.5_APE_alpha=0.5/T_step=0.0001/potential_offdiagonal.csv', 'T' : 6})\n",
    "potential_decomposition(paths, f'../../images/potential/decomposition/su2/su2_suzuki/24^4/beta2.5', 'potential_decomposition1_24^4_beta2p5',\n",
    "                        1, 6.0, 12, (-0.5, 6.8), 'SU3', 'mod', 'mon', 'separate')"
   ]
  },
  {
   "cell_type": "code",
   "execution_count": null,
   "metadata": {},
   "outputs": [],
   "source": [
    "path = '../../result/potential/wilson_loop/potential/su2/su2_suzuki/24^4/beta2.5'\n",
    "paths = ({'name' : 'SU2', 'path' : f'{path}/HYP0_alpha=1_1_0.5_APE_alpha=0.5/potential_original.csv', 'T' : 5},\n",
    "        {'name' : 'mon', 'path' : f'{path}/HYP0_alpha=1_1_0.5_APE_alpha=0.5/T_step=0.0001/potential_monopole.csv', 'T' : 12},\n",
    "        {'name' : 'mod', 'path' : f'{path}/HYP0_alpha=1_1_0.5_APE_alpha=0.5/T_step=0.0001/potential_monopoless.csv', 'T' : 8})\n",
    "potential_decomposition(paths, f'../../images/potential/decomposition/su2/su2_suzuki/24^4/beta5.5', 'potential_decomposition_24^4_beta2p5',\n",
    "                        1, 6.0, 12, (-0.5, 6.8), 'SU3', 'mod', 'mon', 'separate')"
   ]
  },
  {
   "cell_type": "code",
   "execution_count": null,
   "metadata": {},
   "outputs": [],
   "source": [
    "path = '../../result/potential/on-axis/su3/gluodynamics/24^4/beta6.0'\n",
    "paths = ({'name' : 'SU3', 'path' : f'{path}/HYP0_alpha=1_1_0.5_APE_alpha=0.5/potential_original.csv', 'T' : 5},\n",
    "        {'name' : 'mon', 'path' : f'{path}/HYP0_alpha=1_1_0.5_APE_alpha=0.5/steps_500/copies=3/compensate_1/potential_monopole.csv', 'T' : 12},\n",
    "        {'name' : 'mod', 'path' : f'{path}/HYP0_alpha=1_1_0.5_APE_alpha=0.5/steps_500/copies=3/compensate_1/potential_monopoless.csv', 'T' : 8})\n",
    "potential_decomposition(paths, f'../../images/potential/decomposition/su3/gluodynamics/24^4/beta6.0', 'potential_decomposition_24^4_beta6p0', 1, 6.0, 12)"
   ]
  },
  {
   "cell_type": "code",
   "execution_count": null,
   "metadata": {},
   "outputs": [],
   "source": [
    "path = '../../result/smearing/potential/su2/su2_suzuki/24^4/beta2.4'\n",
    "paths = {'su2': (f'{path}/HYP0_alpha=1_1_0.5_APE_alpha=0.5/potential_original.csv', 4, 100),\n",
    "        'mon': (f'{path}/HYP0_alpha=1_1_0.5_APE_alpha=0.5/T_step=0.0001/T_final=0.0001/OR_steps=6/potential_monopole.csv', 6, 80),\n",
    "        'monless': (f'{path}/HYP0_alpha=1_1_0.5_APE_alpha=0.5/T_step=0.0001/T_final=0.0001/OR_steps=6/potential_monopoless.csv', 6, 80)}\n",
    "potential_decomposition(paths, f'../images/potential/decomposition/qc2dstag', 'potential_qc2dstag_mu00', 1, 12)"
   ]
  },
  {
   "cell_type": "code",
   "execution_count": null,
   "metadata": {},
   "outputs": [],
   "source": [
    "path = '../../result/smearing/potential/su2/su2_suzuki/48^4/beta2.7'\n",
    "paths = {'su2': (f'{path}/HYP0_alpha=1_1_0.5_APE_alpha=0.5/potential_original.csv', 6, 400),\n",
    "        'mon': (f'{path}/HYP0_alpha=1_1_0.5_APE_alpha=0.5/T_step=0.0005/T_final=0.5/OR_steps=4/potential_monopole.csv', 16, 400),\n",
    "        'monless': (f'{path}/HYP0_alpha=1_1_0.5_APE_alpha=0.5/T_step=0.0005/T_final=0.5/OR_steps=4/potential_monopoless.csv', 6, 400)}\n",
    "potential_decomposition(paths, f'../images/potential/decomposition/su2_suzuki', 'potential_su2_suzuki_beta2p7', 1, 24)"
   ]
  },
  {
   "cell_type": "code",
   "execution_count": null,
   "metadata": {},
   "outputs": [],
   "source": [
    "path = '../../result/smearing/potential/su2/su2_suzuki/48^4/beta2.8'\n",
    "paths = {'su2': (f'{path}/HYP0_alpha=1_1_0.5_APE_alpha=0.5/potential_original.csv', 6, 400),\n",
    "        'mon': (f'{path}/HYP0_alpha=1_1_0.5_APE_alpha=0.5/T_step=0.001/T_final=0.5/OR_steps=4/potential_monopole.csv', 16, 300),\n",
    "        'monless': (f'{path}/HYP0_alpha=1_1_0.5_APE_alpha=0.5/T_step=0.001/T_final=0.5/OR_steps=4/potential_monopoless.csv', 6, 300)}\n",
    "potential_decomposition(paths, f'../../images/potential/decomposition/su2_suzuki', 'potential_su2_suzuki_beta2p8_0p001', 1, 24)"
   ]
  },
  {
   "cell_type": "code",
   "execution_count": null,
   "metadata": {},
   "outputs": [],
   "source": [
    "path = '../../result/smearing/potential/su2/su2_suzuki/48^4/beta2.8'\n",
    "paths = {'su2': (f'{path}/HYP0_alpha=1_1_0.5_APE_alpha=0.5/potential_original.csv', 6, 400),\n",
    "        'mon': (f'{path}/HYP0_alpha=1_1_0.5_APE_alpha=0.5/T_step=0.0005/T_final=0.0005/OR_steps=4/potential_monopole.csv', 16, 30),\n",
    "        'monless': (f'{path}/HYP0_alpha=1_1_0.5_APE_alpha=0.5/T_step=0.0005/T_final=0.0005/OR_steps=4/potential_monopoless.csv', 6, 300)}\n",
    "potential_decomposition(paths, f'../../images/potential/decomposition/su2_suzuki', 'potential_su2_suzuki_beta2p8_0p0005', 1, 24)"
   ]
  },
  {
   "cell_type": "code",
   "execution_count": null,
   "metadata": {},
   "outputs": [],
   "source": [
    "path = '../../result/smearing/potential/su2/su2_suzuki/48^4/beta2.8'\n",
    "paths = {'su2': (f'{path}/HYP0_alpha=1_1_0.5_APE_alpha=0.5/potential_original.csv', 6, 400),\n",
    "        'mon': (f'{path}/HYP0_alpha=1_1_0.5_APE_alpha=0.5/T_step=0.0001/T_final=0.5/OR_steps=4/potential_monopole.csv', 16, 200),\n",
    "        'monless': (f'{path}/HYP0_alpha=1_1_0.5_APE_alpha=0.5/T_step=0.0001/T_final=0.5/OR_steps=4/potential_monopoless.csv', 6, 300)}\n",
    "potential_decomposition(paths, f'../../images/potential/decomposition/su2_suzuki', 'potential_su2_suzuki_beta2p8_0p0001', 1, 24)"
   ]
  },
  {
   "cell_type": "code",
   "execution_count": null,
   "metadata": {},
   "outputs": [],
   "source": [
    "path = '../../result/smearing/potential/su2/su2_suzuki/48^4/beta2.8'\n",
    "paths = {'su2': (f'{path}/HYP0_alpha=1_1_0.5_APE_alpha=0.5/potential_original.csv', 6, 400),\n",
    "        'mon': (f'{path}/HYP0_alpha=1_1_0.5_APE_alpha=0.5/T_step=5e-05/T_final=0.5/OR_steps=4/potential_monopole.csv', 6, 400),\n",
    "        'monless': (f'{path}/HYP0_alpha=1_1_0.5_APE_alpha=0.5/T_step=5e-05/T_final=0.5/OR_steps=4/potential_monopoless.csv', 8, 400)}\n",
    "potential_decomposition(paths, f'../../images/potential/decomposition/su2_suzuki', 'potential_su2_suzuki_beta2p8_5e-05', 1, 24)"
   ]
  },
  {
   "cell_type": "code",
   "execution_count": null,
   "metadata": {},
   "outputs": [],
   "source": [
    "path = '../../result/smearing/potential/su2/su2_suzuki/48^4/beta2.8'\n",
    "paths = {'su2': (f'{path}/HYP1_alpha=1_1_0.5_APE_alpha=0.5/potential_original.csv', 8, 360),\n",
    "        'mon': (f'{path}/HYP1_alpha=1_1_0.5_APE_alpha=0.5/T_step=5e-05/T_final=0.5/OR_steps=4/potential_monopole.csv', 23, 400),\n",
    "        'monless': (f'{path}/HYP1_alpha=1_1_0.5_APE_alpha=0.5/T_step=5e-05/T_final=0.5/OR_steps=4/potential_monopoless.csv', 16, 400)}\n",
    "potential_decomposition(paths, f'../../images/potential/decomposition/su2_suzuki', 'potential_su2_suzuki_beta2p8_5e-05', 1, 24)"
   ]
  },
  {
   "cell_type": "code",
   "execution_count": null,
   "metadata": {},
   "outputs": [],
   "source": [
    "path = '../../result/smearing/potential/su3/gluodynamics/16^4/beta6.0'\n",
    "paths = {'su3': (f'{path}/HYP0_alpha=1_1_0.5_APE_alpha=0.5/potential_original.csv', 5, 600),\n",
    "        'mon': (f'{path}/HYP0_alpha=1_1_0.5_APE_alpha=0.5/compensate_1/potential_monopole.csv', 5, 600),\n",
    "        'monless': (f'{path}/HYP0_alpha=1_1_0.5_APE_alpha=0.5/compensate_1/potential_monopoless.csv', 5, 600)}\n",
    "potential_decomposition(paths, f'../../images/potential/decomposition/su3/gluodynamics/16^4/beta6.0', 'potential_decomposition_16^4_beta6p0', 1, 8)"
   ]
  },
  {
   "cell_type": "code",
   "execution_count": null,
   "metadata": {},
   "outputs": [],
   "source": [
    "path = '../../result/smearing/potential/su3/gluodynamics/16^4/beta6.0'\n",
    "paths = {'su3': (f'{path}/HYP1_alpha=1_1_0.5_APE_alpha=0.5/potential_original.csv', 5, 600),\n",
    "        'mon': (f'{path}/HYP1_alpha=1_1_0.5_APE_alpha=0.5/compensate_1/potential_monopole.csv', 5, 600),\n",
    "        'monless': (f'{path}/HYP1_alpha=1_1_0.5_APE_alpha=0.5/compensate_1/potential_monopoless.csv', 5, 600)}\n",
    "potential_decomposition(paths, f'../../images/potential/decomposition/su3/gluodynamics/16^4/beta6.0', 'potential_decomposition_16^4_beta6p0', 1, 8)"
   ]
  },
  {
   "cell_type": "code",
   "execution_count": null,
   "metadata": {},
   "outputs": [],
   "source": [
    "path = '../../result/smearing/potential/su3/gluodynamics/16^4/beta6.0'\n",
    "paths = {'su3': (f'{path}/HYP0_alpha=1_1_0.5_APE_alpha=0.5/potential_original.csv', 5, 600),\n",
    "        'abel': (f'{path}/HYP0_alpha=1_1_0.5_APE_alpha=0.5/potential_abelian.csv', 6, 600),\n",
    "        'offdiag': (f'{path}/HYP0_alpha=1_1_0.5_APE_alpha=0.5/compensate_1/potential_offdiagonal.csv', 6, 600)}\n",
    "potential_decomposition(paths, f'../../images/potential/decomposition/su3/gluodynamics/16^4/beta6.0', 'potential_decomposition1_16^4_beta6p0', 1, 8)"
   ]
  },
  {
   "cell_type": "code",
   "execution_count": null,
   "metadata": {},
   "outputs": [],
   "source": [
    "path = '../../result/smearing/potential/su3/gluodynamics/16^4/beta6.0'\n",
    "paths = {'su3': (f'{path}/HYP1_alpha=1_1_0.5_APE_alpha=0.5/potential_original.csv', 5, 600),\n",
    "        'abel': (f'{path}/HYP1_alpha=1_1_0.5_APE_alpha=0.5/potential_abelian.csv', 6, 600),\n",
    "        'offdiag': (f'{path}/HYP1_alpha=1_1_0.5_APE_alpha=0.5/compensate_1/potential_offdiagonal.csv', 6, 600)}\n",
    "potential_decomposition(paths, f'../../images/potential/decomposition/su3/gluodynamics/16^4/beta6.0', 'potential_decomposition1_16^4_beta6p0', 1, 8)"
   ]
  },
  {
   "cell_type": "code",
   "execution_count": null,
   "metadata": {},
   "outputs": [],
   "source": [
    "path = '../../result/smearing/potential/su3/gluodynamics/16^4/beta6.0'\n",
    "paths = {'abel': (f'{path}/HYP0_alpha=1_1_0.5_APE_alpha=0.5/potential_abelian.csv', 6, 600),\n",
    "        'mon': (f'{path}/HYP0_alpha=1_1_0.5_APE_alpha=0.5/compensate_1/potential_monopole.csv', 6, 600),\n",
    "        'phot': (f'{path}/HYP0_alpha=1_1_0.5_APE_alpha=0.5/compensate_1/potential_photon.csv', 6, 600)}\n",
    "potential_decomposition(paths, f'../../images/potential/decomposition/su3/gluodynamics/16^4/beta6.0', 'potential_decomposition2_16^4_beta6p0', 1, 8)"
   ]
  },
  {
   "cell_type": "code",
   "execution_count": null,
   "metadata": {},
   "outputs": [],
   "source": [
    "path = '../../result/smearing/potential/su3/gluodynamics/16^4/beta6.0'\n",
    "paths = {'abel': (f'{path}/HYP1_alpha=1_1_0.5_APE_alpha=0.5/potential_abelian.csv', 6, 600),\n",
    "        'mon': (f'{path}/HYP1_alpha=1_1_0.5_APE_alpha=0.5/compensate_1/potential_monopole.csv', 6, 600),\n",
    "        'phot': (f'{path}/HYP1_alpha=1_1_0.5_APE_alpha=0.5/compensate_1/potential_photon.csv', 6, 600)}\n",
    "potential_decomposition(paths, f'../../images/potential/decomposition/su3/gluodynamics/16^4/beta6.0', 'potential_decomposition2_16^4_beta6p0', 1, 8)"
   ]
  },
  {
   "cell_type": "code",
   "execution_count": null,
   "metadata": {},
   "outputs": [],
   "source": [
    "path = '../../result/potential/on-axis/su3/gluodynamics/24^4/beta6.0'\n",
    "paths = {'su3': (f'{path}/HYP0_alpha=1_1_0.5_APE_alpha=0.5/potential_original.csv', 6),\n",
    "        'mon': (f'{path}/HYP0_alpha=1_1_0.5_APE_alpha=0.5/steps_500/copies=3/compensate_1/potential_monopole.csv', 12),\n",
    "        'monless': (f'{path}/HYP0_alpha=1_1_0.5_APE_alpha=0.5/steps_500/copies=3/compensate_1/potential_monopoless.csv', 8)}\n",
    "potential_decomposition(paths, f'../../images/potential/decomposition/su3/gluodynamics/24^4/beta6.0', 'potential_decomposition_24^4_beta6p0', 1, 6.0, 12)"
   ]
  },
  {
   "cell_type": "code",
   "execution_count": null,
   "metadata": {},
   "outputs": [],
   "source": [
    "path = '../../result/potential/on-axis/su3/gluodynamics/24^4/beta6.0'\n",
    "paths = {'su3': (f'{path}/HYP0_alpha=1_1_0.5_APE_alpha=0.5/potential_original.csv', 6),\n",
    "        'abel': (f'{path}/HYP0_alpha=1_1_0.5_APE_alpha=0.5/steps_500/copies=3/potential_abelian.csv', 6),\n",
    "        'offdiag': (f'{path}/HYP0_alpha=1_1_0.5_APE_alpha=0.5/steps_500/copies=3/compensate_1/potential_offdiagonal.csv', 6)}\n",
    "\n",
    "potential_decomposition(paths, f'../../images/potential/decomposition/su3/gluodynamics/24^4/beta6.0', 'potential_decomposition1_24^4_beta6p0', 1, 12)"
   ]
  },
  {
   "cell_type": "code",
   "execution_count": null,
   "metadata": {},
   "outputs": [],
   "source": [
    "path = '../../result/potential/on-axis/su3/gluodynamics/24^4/beta6.0'\n",
    "paths = {'abel': (f'{path}/HYP0_alpha=1_1_0.5_APE_alpha=0.5/steps_500/copies=3/potential_abelian.csv', 6),\n",
    "        'mon': (f'{path}/HYP0_alpha=1_1_0.5_APE_alpha=0.5/steps_500/copies=3/compensate_1/potential_monopole.csv', 6),\n",
    "        'phot': (f'{path}/HYP0_alpha=1_1_0.5_APE_alpha=0.5/steps_500/copies=3/compensate_1/potential_photon.csv', 6)}\n",
    "potential_decomposition(paths, f'../../images/potential/decomposition/su3/gluodynamics/24^4/beta6.0', 'potential_decomposition2_24^4_beta6p0', 1, 12)"
   ]
  },
  {
   "cell_type": "code",
   "execution_count": null,
   "metadata": {},
   "outputs": [],
   "source": [
    "path = '../../result/potential/on-axis/su3/gluodynamics/24^4/beta6.0'\n",
    "paths = {'su3_HYP0': (f'{path}/HYP0_alpha=1_1_0.5_APE_alpha=0.5/potential_original.csv', 6),\n",
    "         'su3_HYP1': (f'{path}/HYP1_alpha=1_1_0.5_APE_alpha=0.5/potential_original.csv', 6)}\n",
    "potentials_together(paths, 1, 12)"
   ]
  },
  {
   "cell_type": "code",
   "execution_count": null,
   "metadata": {},
   "outputs": [],
   "source": [
    "path = '../../result/potential/wilson_loop/potential/su3/gluodynamics/36^4/beta6.3'\n",
    "paths = {'su3': (f'{path}/HYP0_alpha=1_1_0.5_APE_alpha=0.5/potential_original.csv', 7),\n",
    "        'mon': (f'{path}/HYP0_alpha=1_1_0.5_APE_alpha=0.5/steps_500/copies=3/compensate_1/potential_monopole.csv', 18),\n",
    "        'monless': (f'{path}/HYP0_alpha=1_1_0.5_APE_alpha=0.5/steps_500/copies=3/compensate_1/potential_monopoless.csv', 7)}\n",
    "potential_decomposition(paths, f'../../images/potential/decomposition/su3/gluodynamics/36^4/beta6.3', 'potential_decomposition_36^4_beta6p3', 1, 18)"
   ]
  },
  {
   "cell_type": "code",
   "execution_count": null,
   "metadata": {},
   "outputs": [],
   "source": [
    "path = '../../result/potential/wilson_loop/potential/su3/gluodynamics/36^4/beta6.3'\n",
    "paths = {'su3': (f'{path}/HYP0_alpha=1_1_0.5_APE_alpha=0.5/potential_original.csv', 7),\n",
    "        'abel': (f'{path}/HYP0_alpha=1_1_0.5_APE_alpha=0.5/steps_500/copies=3/potential_abelian.csv', 12),\n",
    "        'offdiag': (f'{path}/HYP0_alpha=1_1_0.5_APE_alpha=0.5/steps_500/copies=3/compensate_1/potential_offdiagonal.csv', 12)}\n",
    "potential_decomposition(paths, f'../../images/potential/decomposition/su3/gluodynamics/36^4/beta6.3', 'potential_decomposition1_36^4_beta6p3', 1, 18)"
   ]
  },
  {
   "cell_type": "code",
   "execution_count": null,
   "metadata": {},
   "outputs": [],
   "source": [
    "path = '../../result/potential/wilson_loop/potential/su3/gluodynamics/36^4/beta6.3'\n",
    "paths = {'abel': (f'{path}/HYP0_alpha=1_1_0.5_APE_alpha=0.5/steps_500/copies=3/potential_abelian.csv', 12),\n",
    "        'mon': (f'{path}/HYP0_alpha=1_1_0.5_APE_alpha=0.5/steps_500/copies=3/compensate_1/potential_monopole.csv', 12),\n",
    "        'phot': (f'{path}/HYP0_alpha=1_1_0.5_APE_alpha=0.5/steps_500/copies=3/compensate_1/potential_photon.csv', 12)}\n",
    "potential_decomposition(paths, f'../../images/potential/decomposition/su3/gluodynamics/36^4/beta6.3', 'potential_decomposition2_36^4_beta6p3', 1, 18)"
   ]
  },
  {
   "cell_type": "code",
   "execution_count": null,
   "metadata": {},
   "outputs": [],
   "source": [
    "def plot_time_dependence(path, space_size, T_max, image_path, image_name):\n",
    "    df_data = pd.read_csv(path, index_col=None)\n",
    "\n",
    "    df_data = df_data[df_data['r/a'] == space_size]\n",
    "    df_data = df_data[df_data['T'] <= T_max]\n",
    "    fg = seaborn.FacetGrid(data=df_data, height=3.5, aspect=1.61)\n",
    "    fg.fig.suptitle(f'r={space_size}')\n",
    "    fg.map(plt.errorbar, 'T', 'aV(r)', 'err', marker=\"o\", fmt='', linestyle = '').add_legend()\n",
    "\n",
    "    plt.show()\n",
    "\n",
    "    save_image(image_path, image_name, fg)\n",
    "\n",
    "def plot_time_dependence_space(mu, monopole, smearing, lattice_size):\n",
    "    df_data_40_5 = pd.read_csv(f\"../result/potential_spatial/{monopole}/qc2dstag/{lattice_size}/potential_spatial_mu=0.{mu}.csv\", index_col=None)\n",
    "\n",
    "    time_sizes = [6, 8, 10, 12, 14, 16, 18, 20]\n",
    "\n",
    "    df1 = df_data_40_5[df_data_40_5['T'].isin(time_sizes)]\n",
    "    fg = seaborn.FacetGrid(data=df1, hue='T',  aspect=1.61)\n",
    "    fg.map(plt.errorbar, 'r/a', 'aV(r)', 'err', marker=\"o\", fmt='', linestyle = '').add_legend()\n",
    "\n",
    "    image_path = f'../images/potential_spatial/qc2dstag/{lattice_size}'\n",
    "    try:\n",
    "        os.makedirs(image_path)\n",
    "    except:\n",
    "        pass\n",
    "\n",
    "    image_path = f'{image_path}/potential_space_{monopole}_mu=0p{mu}_time_dependence'\n",
    "    fg.savefig(image_path)"
   ]
  },
  {
   "cell_type": "code",
   "execution_count": null,
   "metadata": {},
   "outputs": [],
   "source": [
    "def make_plot_T(common_path, T_max_arr, space_sizes, additional_parameters, compensate):\n",
    "    print('original')\n",
    "    for r in space_sizes:\n",
    "        print('r =', r)\n",
    "        path = f'../../result/potential/wilson_loop/fundamental/{common_path}/potential/potential_original.csv'\n",
    "        image_path = f'../../images/potential/fundamental/wilson_loop/time_dependence/{common_path}'\n",
    "        image_name = f'potential_time_original_r={r}'\n",
    "        plot_time_dependence(path, r, T_max_arr[0], image_path, image_name)\n",
    "    print('monopole')\n",
    "    for r in space_sizes:\n",
    "        print('r =', r)\n",
    "        path = f'../../result/potential/wilson_loop/fundamental/{common_path}/{additional_parameters}/{compensate}/potential/potential_monopole.csv'\n",
    "        image_path = f'../../images/potential/fundamental/wilson_loop/time_dependence/{common_path}/{additional_parameters}'\n",
    "        image_name = f'potential_time_monopole_r={r}'\n",
    "        plot_time_dependence(path, r, T_max_arr[1], image_path, image_name)\n",
    "    print('monopoless')\n",
    "    for r in space_sizes:\n",
    "        print('r =', r)\n",
    "        path = f'../../result/potential/wilson_loop/fundamental/{common_path}/{additional_parameters}/{compensate}/potential/potential_monopoless.csv'\n",
    "        image_path = f'../../images/potential/fundamental/wilson_loop/time_dependence/{common_path}/{additional_parameters}'\n",
    "        image_name = f'potential_time_monopoless_r={r}'\n",
    "        plot_time_dependence(path, r, T_max_arr[2], image_path, image_name)\n",
    "    print('abelian')\n",
    "    for r in space_sizes:\n",
    "        print('r =', r)\n",
    "        path = f'../../result/potential/wilson_loop/fundamental/{common_path}/{additional_parameters}/potential/potential_abelian.csv'\n",
    "        image_path = f'../../images/potential/fundamental/wilson_loop/time_dependence/{common_path}'\n",
    "        image_name = f'potential_time_abelian_r={r}'\n",
    "        plot_time_dependence(path, r, T_max_arr[3], image_path, image_name)\n",
    "    print('offdiagonal')\n",
    "    for r in space_sizes:\n",
    "        print('r =', r)\n",
    "        path = f'../../result/potential/wilson_loop/fundamental/{common_path}/{additional_parameters}/{compensate}/potential/potential_offdiagonal.csv'\n",
    "        image_path = f'../../images/potential/fundamental/wilson_loop/time_dependence/{common_path}/{additional_parameters}'\n",
    "        image_name = f'potential_time_offdiagonal_r={r}'\n",
    "        plot_time_dependence(path, r, T_max_arr[4], image_path, image_name)\n",
    "    print('photon')\n",
    "    for r in space_sizes:\n",
    "        print('r =', r)\n",
    "        path = f'../../result/potential/wilson_loop/fundamental/{common_path}/{additional_parameters}/{compensate}/potential/potential_photon.csv'\n",
    "        image_path = f'../../images/potential/fundamental/wilson_loop/time_dependence/{common_path}/{additional_parameters}'\n",
    "        image_name = f'potential_time_photon_r={r}'\n",
    "        plot_time_dependence(path, r, T_max_arr[5], image_path, image_name)"
   ]
  },
  {
   "cell_type": "code",
   "execution_count": null,
   "metadata": {},
   "outputs": [],
   "source": [
    "common_path = 'su2/qc2dstag/40^4/mu0.00/HYP1_alpha=1_1_0.5_APE_alpha=0.5'\n",
    "T_max_arr = [8, 20, 8, 8, 8, 8]\n",
    "space_sizes = [2, 4, 8, 12, 16, 20]\n",
    "compensate = ''\n",
    "additional_parameters = '/'\n",
    "make_plot_T(common_path, T_max_arr, space_sizes, additional_parameters, compensate)"
   ]
  },
  {
   "cell_type": "code",
   "execution_count": null,
   "metadata": {},
   "outputs": [],
   "source": [
    "common_path = 'su2/su2_suzuki/48^4/beta2.8/HYP0_alpha=1_1_0.5_APE_alpha=0.5'\n",
    "T_max_arr = [8, 8, 8, 8, 8, 8]\n",
    "space_sizes = [2, 4, 8, 12, 16, 20, 24]\n",
    "compensate = ''\n",
    "additional_parameters = 'T_step=0.0001'\n",
    "make_plot_T(common_path, T_max_arr, space_sizes, additional_parameters, compensate)"
   ]
  },
  {
   "cell_type": "code",
   "execution_count": null,
   "metadata": {},
   "outputs": [],
   "source": [
    "common_path = 'su3/gluodynamics/36^4/beta6.3/HYP0_alpha=1_1_0.5_APE_alpha=0.5'\n",
    "T_max_arr = [10, 18, 12, 18, 18, 18]\n",
    "space_sizes = [2, 4, 8, 12, 16, 20, 24, 30, 36]\n",
    "compensate = 'compensate_1'\n",
    "additional_parameters = 'steps_500/copies=3'\n",
    "make_plot_T(common_path, T_max_arr, space_sizes, additional_parameters, compensate)"
   ]
  },
  {
   "cell_type": "code",
   "execution_count": null,
   "metadata": {},
   "outputs": [],
   "source": [
    "common_path = 'su3/gluodynamics/36^4/beta6.3/HYP1_alpha=1_1_0.5_APE_alpha=0.5'\n",
    "T_max_arr = [10, 18, 12, 18, 18, 18]\n",
    "space_sizes = [2, 4, 8, 12, 16, 20, 24, 30, 36]\n",
    "compensate = 'compensate_1'\n",
    "additional_parameters = 'steps_500/copies=3'\n",
    "make_plot_T(common_path, T_max_arr, space_sizes, additional_parameters, compensate)"
   ]
  },
  {
   "cell_type": "code",
   "execution_count": null,
   "metadata": {},
   "outputs": [],
   "source": [
    "common_path = 'su3/gluodynamics/24^4/beta6.0/HYP0_alpha=1_1_0.5_APE_alpha=0.5'\n",
    "T_max_arr = [7, 24, 12, 16, 16, 24]\n",
    "space_sizes = [2, 4, 8, 10, 11, 12]\n",
    "compensate = 'compensate_1'\n",
    "additional_parameters = 'steps_500/copies=3'\n",
    "make_plot_T(common_path, T_max_arr, space_sizes, additional_parameters, compensate)"
   ]
  },
  {
   "cell_type": "code",
   "execution_count": null,
   "metadata": {},
   "outputs": [],
   "source": [
    "common_path = 'su3/gluodynamics/24^4/beta6.0/HYP1_alpha=1_1_0.5_APE_alpha=0.5'\n",
    "T_max_arr = [12, 18, 12, 24, 24, 24]\n",
    "space_sizes = [2, 4, 8, 12, 16, 20, 24]\n",
    "compensate = 'compensate_1'\n",
    "additional_parameters = 'steps_500/copies=3'\n",
    "make_plot_T(common_path, T_max_arr, space_sizes, additional_parameters, compensate)"
   ]
  },
  {
   "cell_type": "code",
   "execution_count": null,
   "metadata": {},
   "outputs": [],
   "source": [
    "plot_time_dependence('05', 'monopole', '40^4', 'smeared')\n",
    "plot_time_dependence('35', 'monopole', '40^4')\n",
    "plot_time_dependence('45', 'monopole', '40^4')"
   ]
  },
  {
   "cell_type": "code",
   "execution_count": null,
   "metadata": {},
   "outputs": [],
   "source": [
    "plot_time_dependence('05', 'monopoless', '40^4')\n",
    "plot_time_dependence('35', 'monopoless', '40^4')\n",
    "plot_time_dependence('45', 'monopoless', '40^4')"
   ]
  },
  {
   "cell_type": "code",
   "execution_count": null,
   "metadata": {},
   "outputs": [],
   "source": [
    "plot_time_dependence('05', '', '40^4', 'smeared')\n",
    "plot_time_dependence('35', '', '40^4', 'smeared')\n",
    "plot_time_dependence('45', '', '40^4', 'smeared')"
   ]
  },
  {
   "cell_type": "code",
   "execution_count": null,
   "metadata": {},
   "outputs": [],
   "source": [
    "plot_time_dependence('05', '', '40^4', 'unsmeared')"
   ]
  },
  {
   "cell_type": "code",
   "execution_count": null,
   "metadata": {},
   "outputs": [],
   "source": [
    "plot_time_dependence('00', 'monopole', '32^4', 'unsmeared')\n",
    "plot_time_dependence('00', 'monopoless', '32^4', 'smeared')\n",
    "plot_time_dependence('00', '', '32^4', 'smeared')"
   ]
  },
  {
   "cell_type": "code",
   "execution_count": null,
   "metadata": {},
   "outputs": [],
   "source": [
    "plot_time_dependence('00', '', '32^4', 'HYP1_alpha=1_1_0.5_APE60_APE_alpha=0.75', '')\n",
    "plot_time_dependence('00', '', '32^4', 'HYP1_alpha=1_1_0.5_APE60_APE_alpha=0.75', '1')\n",
    "plot_time_dependence('00', '', '32^4', 'HYP1_alpha=1_1_0.5_APE60_APE_alpha=0.75', '2')"
   ]
  },
  {
   "cell_type": "code",
   "execution_count": null,
   "metadata": {},
   "outputs": [],
   "source": [
    "plot_time_dependence_space('05', '', '', '40^4')"
   ]
  },
  {
   "cell_type": "code",
   "execution_count": null,
   "metadata": {},
   "outputs": [],
   "source": [
    "def plot_time_dependence_several_sizes(mu, monopole, lattice_size, smearing, space_sizes, statistics_type):\n",
    "    df_data = pd.read_csv(f\"../result/potential/on-axis/{monopole}/qc2dstag/{smearing}/{lattice_size}/potential_mu=0.{mu}.csv\", index_col=None)\n",
    "\n",
    "#     time_sizes = [6, 8, 10, 12, 14, 16, 18, 20]\n",
    "#     space_sizes = [1, 2, 3]\n",
    "\n",
    "    df1 = df_data[df_data['r/a'].isin(space_sizes)]\n",
    "    df1 = df1[df1['T'] <= 16]\n",
    "    fg = seaborn.FacetGrid(data=df1, hue='r/a',  aspect=1.61)\n",
    "    fg.map(plt.errorbar, 'T', f'aV{statistics_type}(r)', f'err{statistics_type}', marker=\"o\", fmt='', linestyle = '').add_legend()\n",
    "\n",
    "    image_path = f'../images/potential/on-axis/qc2dstag/{smearing}/{lattice_size}'\n",
    "    try:\n",
    "        os.makedirs(image_path)\n",
    "    except:\n",
    "        pass\n",
    "\n",
    "    image_path = f'{image_path}/potential_{monopole}_mu=0p{mu}_time_dependence'\n",
    "    fg.savefig(image_path)"
   ]
  },
  {
   "cell_type": "code",
   "execution_count": null,
   "metadata": {},
   "outputs": [],
   "source": [
    "space_sizes = [[1], [6], [10], [14], [18]]\n",
    "for space_size in space_sizes:\n",
    "    plot_time_dependence_several_sizes('05', '', '40^4', 'smeared', space_size, '')"
   ]
  },
  {
   "cell_type": "code",
   "execution_count": null,
   "metadata": {},
   "outputs": [],
   "source": [
    "space_sizes = [[1], [2], [3], [4], [6], [10], [14], [16]]\n",
    "for space_size in space_sizes:\n",
    "    plot_time_dependence_several_sizes('00', '', '32^4', 'HYP1_alpha=1_1_0.5_APE60_APE_alpha=0.75', space_size, '')"
   ]
  },
  {
   "cell_type": "code",
   "execution_count": null,
   "metadata": {},
   "outputs": [],
   "source": [
    "space_sizes = [[1], [2], [3], [4], [6], [10], [14], [16]]\n",
    "for space_size in space_sizes:\n",
    "    plot_time_dependence_several_sizes('00', '', '32^4', 'HYP1_alpha=1_1_0.5_APE60_APE_alpha=0.75', space_size, '1')"
   ]
  },
  {
   "cell_type": "code",
   "execution_count": null,
   "metadata": {},
   "outputs": [],
   "source": [
    "space_sizes = [[1], [2], [3], [4], [6], [10], [14], [16]]\n",
    "for space_size in space_sizes:\n",
    "    plot_time_dependence_several_sizes('00', '', '32^4', 'HYP1_alpha=1_1_0.5_APE60_APE_alpha=0.75', space_size, '2')"
   ]
  },
  {
   "cell_type": "code",
   "execution_count": null,
   "metadata": {},
   "outputs": [],
   "source": [
    "from scipy.optimize import curve_fit\n",
    "\n",
    "def make_potential_trunin(data, df1, df, time_size_max):\n",
    "\n",
    "    time_size = data[\"T\"].iloc[0]\n",
    "    space_size = data[\"r/a\"].iloc[0]\n",
    "\n",
    "    if time_size < time_size_max:\n",
    "\n",
    "        wilson_loop_T = df[(df['T'] == time_size) & (df['r/a'] == space_size)]['wilson_loop'].values[0]\n",
    "        wilson_loop_T1 = df[(df['T'] == time_size + 1) & (df['r/a'] == space_size)]['wilson_loop'].values[0]\n",
    "\n",
    "        wilson_loop_err_T = df[(df['T'] == time_size) & (df['r/a'] == space_size)]['wilson_loop_err'].values[0]\n",
    "        wilson_loop_err_T1 = df[(df['T'] == time_size + 1) & (df['r/a'] == space_size)]['wilson_loop_err'].values[0]\n",
    "\n",
    "        try:\n",
    "            new_row = {'aV(r)': math.log(wilson_loop_T/wilson_loop_T1), 'err': math.sqrt(wilson_loop_err_T ** 2 / wilson_loop_T1 ** 2 + wilson_loop_err_T1 ** 2 * wilson_loop_T ** 2 / wilson_loop_T1 ** 4)}\n",
    "\n",
    "            df1 = df1.append(new_row, ignore_index=True)\n",
    "\n",
    "            return df1\n",
    "        except ValueError:\n",
    "            return df1\n",
    "\n",
    "def plots_T(data, fit_start, fit_end, procedure, T_lim):\n",
    "\n",
    "    x = data[(data['T'] >= fit_start) & (data['T'] <= fit_end)]['T'].to_numpy()\n",
    "    y = data[(data['T'] >= fit_start) & (data['T'] <= fit_end)]['aV(r)'].to_numpy()\n",
    "\n",
    "    fg = seaborn.FacetGrid(data=data, height=5, aspect=1.2)\n",
    "    fg.map(plt.errorbar, 'T', 'aV(r)', 'err', marker=\"o\", fmt='', linestyle = '')\n",
    "\n",
    "    if procedure == 'fitting':\n",
    "        popt, pcov = curve_fit(func_exponent, x, y)\n",
    "\n",
    "        x1 = np.arange(x.min(), x.max(), 0.01)\n",
    "        y1 = func_exponent(x1, popt[0], popt[1], popt[2])\n",
    "\n",
    "        plt.plot(x1, y1)\n",
    "\n",
    "    plt.show()\n",
    "\n",
    "    if procedure == 'fitting':\n",
    "        return pd.Series([popt[0], math.sqrt(pcov[0][0])], index=['aV(r)', 'err'])\n",
    "    elif procedure == 'limit':\n",
    "        return pd.Series([data[data['T'] == T_lim]['aV(r)'].iloc[0], data[data['T'] == T_lim]['err'].iloc[0]], index=['aV(r)', 'err'])\n",
    "\n",
    "\n",
    "def func_exponent(x, a, b, c):\n",
    "    return a + b * np.exp(-x * c)\n",
    "\n",
    "def func_linear_potential(x, c, alpha, sigma):\n",
    "    return c + alpha * np.power(x, -1) + sigma * x\n",
    "\n",
    "def func_coulomb(x, c, alpha, mu):\n",
    "    return c + alpha * np.exp(-mu * x) * np.power(x, -1)\n"
   ]
  },
  {
   "cell_type": "code",
   "execution_count": null,
   "metadata": {},
   "outputs": [],
   "source": [
    "def get_string_tension(path, fit_start, fit_end, procedure):\n",
    "\n",
    "    data = pd.read_csv(path, header=0, names=['r/a', \"T\", \"wilson_loop\", \"wilson_loop_err\"], delim_whitespace=True)\n",
    "\n",
    "    time_size_max = data[\"T\"].max()\n",
    "\n",
    "    df1 = pd.DataFrame(columns=[\"aV(r)\", \"err\"])\n",
    "\n",
    "    df1 = data.groupby(['T', 'r/a']).apply(make_potential_trunin, df1, data, time_size_max).reset_index()\n",
    "\n",
    "    print(\"fitting\")\n",
    "\n",
    "    df = df1.groupby(['r/a']).apply(plots_T, 2, 10, procedure, 10).reset_index()\n",
    "\n",
    "    x = df[(df['r/a'] >= fit_start) & (df['r/a'] <= fit_end)]['r/a'].to_numpy()\n",
    "    y = df[(df['r/a'] >= fit_start) & (df['r/a'] <= fit_end)]['aV(r)'].to_numpy()\n",
    "\n",
    "    popt, pcov = curve_fit(func_linear_potential, x, y)\n",
    "\n",
    "    print(popt[0], popt[1], popt[2])\n",
    "\n",
    "    fg = seaborn.FacetGrid(data=df, height=5, aspect=1.2)\n",
    "    fg.map(plt.errorbar, 'r/a', 'aV(r)', 'err', marker=\"o\", fmt='', linestyle = '')\n",
    "\n",
    "    x1 = np.arange(x.min(), x.max(), 0.01)\n",
    "    y1 = func_linear_potential(x1, popt[0], popt[1], popt[2])\n",
    "\n",
    "    plt.plot(x1, y1)\n",
    "\n",
    "    plt.show()\n",
    "\n",
    "    return popt[2], math.sqrt(pcov[2][2])\n",
    "\n",
    "def get_string_tension_test(path, fit_start, fit_end):\n",
    "\n",
    "    df_common = []\n",
    "\n",
    "    data = pd.read_csv(path, header=0, names=['r/a', \"T\", \"wilson_loop\", \"wilson_loop_err\"], delim_whitespace=True)\n",
    "\n",
    "    time_size_max = data[\"T\"].max()\n",
    "\n",
    "    df1 = pd.DataFrame(columns=[\"aV(r)\", \"err\"])\n",
    "\n",
    "    df1 = data.groupby(['T', 'r/a']).apply(make_potential_trunin, df1, data, time_size_max).reset_index()\n",
    "\n",
    "    df = df1.groupby(['r/a']).apply(plots_T, 2, 10, 'fitting', 8).reset_index()\n",
    "\n",
    "    df_common.append(df)\n",
    "    df_common[-1]['procedure'] = 'fitting'\n",
    "\n",
    "    x = df[(df['r/a'] >= fit_start) & (df['r/a'] <= fit_end)]['r/a'].to_numpy()\n",
    "    y = df[(df['r/a'] >= fit_start) & (df['r/a'] <= fit_end)]['aV(r)'].to_numpy()\n",
    "\n",
    "    popt, pcov = curve_fit(func_linear_potential, x, y)\n",
    "\n",
    "    print(popt[0], popt[1], popt[2])\n",
    "\n",
    "    # fg = seaborn.FacetGrid(data=df, height=5, aspect=1.2)\n",
    "    # fg.map(plt.errorbar, 'r/a', 'aV(r)', 'err', marker=\"o\", fmt='', linestyle = '')\n",
    "\n",
    "    x1 = np.arange(x.min(), x.max(), 0.01)\n",
    "    y1 = func_linear_potential(x1, popt[0], popt[1], popt[2])\n",
    "\n",
    "    df = df1.groupby(['r/a']).apply(plots_T, 2, 10, 'limit', 8).reset_index()\n",
    "\n",
    "    df_common.append(df)\n",
    "    df_common[-1]['procedure'] = 'limit'\n",
    "\n",
    "    df_common = pd.concat(df_common)\n",
    "\n",
    "    x = df[(df['r/a'] >= fit_start) & (df['r/a'] <= fit_end)]['r/a'].to_numpy()\n",
    "    y = df[(df['r/a'] >= fit_start) & (df['r/a'] <= fit_end)]['aV(r)'].to_numpy()\n",
    "\n",
    "    popt, pcov = curve_fit(func_linear_potential, x, y)\n",
    "\n",
    "    print(popt[0], popt[1], popt[2])\n",
    "\n",
    "    fg = seaborn.FacetGrid(data=df_common, hue = 'procedure', height=5, aspect=1.2)\n",
    "    fg.map(plt.errorbar, 'r/a', 'aV(r)', 'err', marker=\"o\", fmt='', linestyle = '').add_legend()\n",
    "\n",
    "    x2 = np.arange(x.min(), x.max(), 0.01)\n",
    "    y2 = func_linear_potential(x1, popt[0], popt[1], popt[2])\n",
    "\n",
    "    # plt.plot(x1, y1)\n",
    "\n",
    "    # plt.plot(x2, y2)\n",
    "\n",
    "    plt.show()"
   ]
  },
  {
   "cell_type": "code",
   "execution_count": null,
   "metadata": {},
   "outputs": [],
   "source": [
    "def string_tension_dependence(nt):\n",
    "    arr_mu = ['0.0', '0.25', '0.35', '0.45']\n",
    "    string_tension = []\n",
    "    string_tension_err = []\n",
    "\n",
    "    for mu in arr_mu:\n",
    "        sigma, err = get_string_tension(f\"../result/potential/on-axis/su2/trunin/Wr_mu={mu}_nt={nt}\", 2, 10, 'limit')\n",
    "        string_tension.append(sigma)\n",
    "        string_tension_err.append(err)\n",
    "\n",
    "    print(string_tension)\n",
    "    plt.errorbar(list(map(float, arr_mu)), string_tension)"
   ]
  },
  {
   "cell_type": "code",
   "execution_count": null,
   "metadata": {},
   "outputs": [],
   "source": [
    "string_tension_dependence(20)"
   ]
  },
  {
   "cell_type": "code",
   "execution_count": null,
   "metadata": {},
   "outputs": [],
   "source": [
    "string_tension_dependence(24)"
   ]
  },
  {
   "cell_type": "code",
   "execution_count": null,
   "metadata": {},
   "outputs": [],
   "source": [
    "string_tension_dependence(28)"
   ]
  },
  {
   "cell_type": "code",
   "execution_count": null,
   "metadata": {},
   "outputs": [],
   "source": [
    "string_tension_dependence(32)"
   ]
  },
  {
   "cell_type": "code",
   "execution_count": null,
   "metadata": {},
   "outputs": [],
   "source": [
    "string_tension_dependence(36)"
   ]
  },
  {
   "cell_type": "code",
   "execution_count": null,
   "metadata": {},
   "outputs": [],
   "source": [
    "string_tension_dependence(40)"
   ]
  },
  {
   "cell_type": "code",
   "execution_count": null,
   "metadata": {},
   "outputs": [],
   "source": [
    "get_string_tension_test(f\"../result/potential/on-axis/su2/trunin/Wr_mu=0.0_nt=20\", 2, 10)\n",
    "get_string_tension_test(f\"../result/potential/on-axis/su2/trunin/Wr_mu=0.25_nt=20\", 2, 10)\n",
    "get_string_tension_test(f\"../result/potential/on-axis/su2/trunin/Wr_mu=0.35_nt=20\", 2, 10)\n",
    "get_string_tension_test(f\"../result/potential/on-axis/su2/trunin/Wr_mu=0.45_nt=20\", 2, 10)"
   ]
  }
 ],
 "metadata": {
  "interpreter": {
   "hash": "916dbcbb3f70747c44a77c7bcd40155683ae19c65e1c03b4aa3499c5328201f1"
  },
  "kernelspec": {
   "display_name": "Python 3.8.5 64-bit",
   "language": "python",
   "name": "python3"
  },
  "language_info": {
   "codemirror_mode": {
    "name": "ipython",
    "version": 3
   },
   "file_extension": ".py",
   "mimetype": "text/x-python",
   "name": "python",
   "nbconvert_exporter": "python",
   "pygments_lexer": "ipython3",
   "version": "3.11.5"
  }
 },
 "nbformat": 4,
 "nbformat_minor": 2
}
