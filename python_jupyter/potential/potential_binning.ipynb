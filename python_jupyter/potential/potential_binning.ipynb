{
 "cells": [
  {
   "cell_type": "code",
   "execution_count": 1,
   "metadata": {},
   "outputs": [],
   "source": [
    "import sys\n",
    "import os\n",
    "import warnings\n",
    "import matplotlib.pyplot as plt\n",
    "from scipy.optimize import OptimizeWarning\n",
    "\n",
    "import potential_data\n",
    "import fit\n",
    "sys.path.append(os.path.join(os.path.dirname(\n",
    "    os.path.abspath(''))))\n",
    "import common.plots as plots\n",
    "\n",
    "warnings.simplefilter(\"ignore\", OptimizeWarning)\n",
    "warnings.simplefilter(\"ignore\", RuntimeWarning)"
   ]
  },
  {
   "cell_type": "code",
   "execution_count": 12,
   "metadata": {},
   "outputs": [],
   "source": [
    "def binning_su3_gluodynamics(lattice_size, r_size, t_size, beta, smearing, decomposition_type, smearing_step, copy=None):\n",
    "    constraints = {'r/a': (1, r_size//2), 'T': (1, t_size//2-1), 'smearing_step': (smearing_step, smearing_step)}\n",
    "    if copy is not None:\n",
    "        constraints['copy'] = (copy, copy)\n",
    "    paths = [{'path': f'../../result/smearing/binning/potential/wilson_loop/fundamental/on-axis/su3/gluodynamics/{lattice_size}/beta{beta}/{smearing}/potential_{decomposition_type}.csv',\n",
    "              'parameters': {'beta': beta}, 'constraints': constraints}]\n",
    "    image_path = f'../../images/potential/su3/gluodynamics/'\n",
    "    df = potential_data.get_potantial_df(paths)\n",
    "    df = df.groupby(df.index.names + ['r/a', 'bin_size']).apply(fit.potential_fit_T_range, min(8, t_size//2-1)).reset_index(level=['r/a', 'bin_size']).reset_index(level=-1, drop=True)\n",
    "    image_path = f'../../images/potential_wilson/binning/su3/gluodynamics/{lattice_size}/beta{beta}/{decomposition_type}/{smearing}'\n",
    "    for r in df['r/a'].unique():\n",
    "        plots.make_plot(df[df['r/a'] == r], 'bin_size', 'err', None, 'bin size', 'error', f'error binning original {lattice_size} {beta} r={r}', image_path, f'error_binning_r={r}', False)\n",
    "        plt.close()\n",
    "\n",
    "def binning_su3_gluodynamics_all(smearing):\n",
    "    binning_su3_gluodynamics('16^4', 16, 16, '6.0', smearing, 'original', 30)\n",
    "    binning_su3_gluodynamics('24^4', 24, 24, '6.0', smearing, 'original', 30)\n",
    "    binning_su3_gluodynamics('32^4', 32, 32, '6.0', smearing, 'original', 30)\n",
    "    binning_su3_gluodynamics('28^4', 28, 28, '6.1', smearing, 'original', 30)\n",
    "    binning_su3_gluodynamics('32^4', 32, 32, '6.2', smearing, 'original', 30)\n",
    "    binning_su3_gluodynamics('36^4', 36, 36, '6.3', smearing, 'original', 30)\n",
    "    binning_su3_gluodynamics('40^4', 40, 40, '6.4', smearing, 'original', 30)"
   ]
  },
  {
   "cell_type": "code",
   "execution_count": 13,
   "metadata": {},
   "outputs": [
    {
     "ename": "",
     "evalue": "",
     "output_type": "error",
     "traceback": [
      "\u001b[1;31mThe Kernel crashed while executing code in the current cell or a previous cell. \n",
      "\u001b[1;31mPlease review the code in the cell(s) to identify a possible cause of the failure. \n",
      "\u001b[1;31mClick <a href='https://aka.ms/vscodeJupyterKernelCrash'>here</a> for more info. \n",
      "\u001b[1;31mView Jupyter <a href='command:jupyter.viewOutput'>log</a> for further details."
     ]
    }
   ],
   "source": [
    "binning_su3_gluodynamics_all('HYP0_alpha=1_1_0.5_APE_alpha=0.6')"
   ]
  },
  {
   "cell_type": "code",
   "execution_count": null,
   "metadata": {},
   "outputs": [],
   "source": [
    "binning_su3_gluodynamics_all('HYP1_alpha=1_1_0.5_APE_alpha=0.6')"
   ]
  },
  {
   "cell_type": "code",
   "execution_count": null,
   "metadata": {},
   "outputs": [],
   "source": [
    "binning_su3_gluodynamics_all('HYP3_alpha=1_1_0.5_APE_alpha=0.6')"
   ]
  }
 ],
 "metadata": {
  "kernelspec": {
   "display_name": "base",
   "language": "python",
   "name": "python3"
  },
  "language_info": {
   "codemirror_mode": {
    "name": "ipython",
    "version": 3
   },
   "file_extension": ".py",
   "mimetype": "text/x-python",
   "name": "python",
   "nbconvert_exporter": "python",
   "pygments_lexer": "ipython3",
   "version": "3.11.5"
  }
 },
 "nbformat": 4,
 "nbformat_minor": 2
}
