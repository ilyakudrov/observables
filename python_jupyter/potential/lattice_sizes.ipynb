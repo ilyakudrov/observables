{
 "cells": [
  {
   "cell_type": "code",
   "execution_count": 3,
   "metadata": {},
   "outputs": [],
   "source": [
    "import scaler"
   ]
  },
  {
   "cell_type": "code",
   "execution_count": 4,
   "metadata": {},
   "outputs": [],
   "source": [
    "def get_sizes(beta, lattices_size):\n",
    "    a = scaler.get_r0(beta) * 0.5\n",
    "    print('lattice spacing =', a, 'physical lattice size =', a * lattices_size)"
   ]
  },
  {
   "cell_type": "code",
   "execution_count": 5,
   "metadata": {},
   "outputs": [
    {
     "name": "stdout",
     "output_type": "stream",
     "text": [
      "lattice spacing = 0.09314972067846226 physical lattice size = 5.216384357993887\n",
      "lattice spacing = 0.07890971086555033 physical lattice size = 4.418943808470819\n",
      "lattice spacing = 0.06772407288164212 physical lattice size = 3.7925480813719585\n",
      "lattice spacing = 0.058730753445411295 physical lattice size = 3.2889221929430326\n",
      "lattice spacing = 0.0513267930967412 physical lattice size = 2.874300413417507\n",
      "lattice spacing = 0.04508425616992554 physical lattice size = 2.52471834551583\n",
      "lattice spacing = 0.03969666973563188 physical lattice size = 2.223013505195385\n"
     ]
    }
   ],
   "source": [
    "get_sizes(6, 56)\n",
    "get_sizes(6.1, 56)\n",
    "get_sizes(6.2, 56)\n",
    "get_sizes(6.3, 56)\n",
    "get_sizes(6.4, 56)\n",
    "get_sizes(6.5, 56)\n",
    "get_sizes(6.6, 56)"
   ]
  },
  {
   "cell_type": "code",
   "execution_count": null,
   "metadata": {},
   "outputs": [],
   "source": []
  }
 ],
 "metadata": {
  "kernelspec": {
   "display_name": "base",
   "language": "python",
   "name": "python3"
  },
  "language_info": {
   "codemirror_mode": {
    "name": "ipython",
    "version": 3
   },
   "file_extension": ".py",
   "mimetype": "text/x-python",
   "name": "python",
   "nbconvert_exporter": "python",
   "pygments_lexer": "ipython3",
   "version": "3.11.5"
  }
 },
 "nbformat": 4,
 "nbformat_minor": 2
}
