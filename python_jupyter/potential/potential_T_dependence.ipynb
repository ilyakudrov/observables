{
 "cells": [
  {
   "cell_type": "code",
   "execution_count": 36,
   "metadata": {},
   "outputs": [],
   "source": [
    "import os\n",
    "import sys\n",
    "import matplotlib.pyplot as plt\n",
    "import colorcet as cc\n",
    "sys.path.append(os.path.join(os.path.dirname(\n",
    "    os.path.abspath(''))))\n",
    "import common.plots as plots\n",
    "import potential_data"
   ]
  },
  {
   "cell_type": "code",
   "execution_count": 37,
   "metadata": {},
   "outputs": [],
   "source": [
    "def potential_T_dependence_gluodynamics(lattice_size, L, beta, smearing, additional_params, decomposition_type, smearing_max, copy=None):\n",
    "    paths = [{'path': f'../../result/smearing/potential/wilson_loop/fundamental/on-axis/su3/gluodynamics/{lattice_size}/beta{beta}/{smearing}/{additional_params}/potential_{decomposition_type}.csv',\n",
    "              'parameters': {'beta': f'beta={beta}'}, 'constraints': {'r/a': (1, L // 2), 'T': (1, L // 4 * 3), 'smearing_step': (0, smearing_max)}}]\n",
    "    if copy is not None:\n",
    "        paths[0]['constraints'] = {'copy': (copy, copy)}\n",
    "    image_path = f'../../images/smearing/potential/su3/gluodynamics/T_dependence/{lattice_size}/beta{beta}/{smearing}/{additional_params}/{decomposition_type}'\n",
    "    image_name = f'potential_abelian_smearing'\n",
    "    data = potential_data.get_potantial_df(paths)\n",
    "    for r in data['r/a'].unique():\n",
    "        fg = plots.make_plot(data[data['r/a'] == r], 'T', 'aV(r)', 'smearing_step', 'T', 'aV(r)', f'{decomposition_type} T_dependence r={r}', image_path, f'potential_{decomposition_type}_T_dependence_r={r}', False, err='err', color_palette=cc.glasbey)\n",
    "        plots.save_image(image_path, f'potential_{decomposition_type}_T_dependence_r={r}', fg)\n",
    "        plt.close()"
   ]
  },
  {
   "cell_type": "code",
   "execution_count": 38,
   "metadata": {},
   "outputs": [],
   "source": [
    "potential_T_dependence_gluodynamics('16^4', 16, '6.0', 'HYP0_alpha=1_1_0.5_APE_alpha=0.6', 'steps_0/copies=20', 'monopole', 91, copy=1)"
   ]
  },
  {
   "cell_type": "code",
   "execution_count": 39,
   "metadata": {},
   "outputs": [],
   "source": [
    "potential_T_dependence_gluodynamics('24^4', 24, '6.0', 'HYP0_alpha=1_1_0.5_APE_alpha=0.6', 'steps_0/copies=20', 'monopole', 91, copy=1)"
   ]
  },
  {
   "cell_type": "code",
   "execution_count": 40,
   "metadata": {},
   "outputs": [],
   "source": [
    "potential_T_dependence_gluodynamics('32^4', 32, '6.0', 'HYP0_alpha=1_1_0.5_APE_alpha=0.6', 'steps_0/copies=20', 'monopole', 91, copy=1)"
   ]
  },
  {
   "cell_type": "code",
   "execution_count": 41,
   "metadata": {},
   "outputs": [],
   "source": [
    "potential_T_dependence_gluodynamics('28^4', 28, '6.1', 'HYP0_alpha=1_1_0.5_APE_alpha=0.6', 'steps_0/copies=20', 'monopole', 91, copy=1)"
   ]
  },
  {
   "cell_type": "code",
   "execution_count": 42,
   "metadata": {},
   "outputs": [],
   "source": [
    "potential_T_dependence_gluodynamics('32^4', 32, '6.2', 'HYP0_alpha=1_1_0.5_APE_alpha=0.6', 'steps_0/copies=20', 'monopole', 91, copy=1)"
   ]
  },
  {
   "cell_type": "code",
   "execution_count": 43,
   "metadata": {},
   "outputs": [],
   "source": [
    "potential_T_dependence_gluodynamics('36^4', 36, '6.3', 'HYP0_alpha=1_1_0.5_APE_alpha=0.6', 'steps_0/copies=20', 'monopole', 91, copy=1)"
   ]
  },
  {
   "cell_type": "code",
   "execution_count": 44,
   "metadata": {},
   "outputs": [],
   "source": [
    "potential_T_dependence_gluodynamics('40^4', 40, '6.4', 'HYP0_alpha=1_1_0.5_APE_alpha=0.6', 'steps_0/copies=20', 'monopole', 91, copy=1)"
   ]
  },
  {
   "cell_type": "code",
   "execution_count": 45,
   "metadata": {},
   "outputs": [],
   "source": [
    "potential_T_dependence_gluodynamics('16^4', 16, '6.0', 'HYP0_alpha=1_1_0.5_APE_alpha=0.6', '', 'original', 91)"
   ]
  },
  {
   "cell_type": "code",
   "execution_count": 46,
   "metadata": {},
   "outputs": [],
   "source": [
    "potential_T_dependence_gluodynamics('24^4', 24, '6.0', 'HYP0_alpha=1_1_0.5_APE_alpha=0.6', '', 'original', 91)"
   ]
  },
  {
   "cell_type": "code",
   "execution_count": 47,
   "metadata": {},
   "outputs": [],
   "source": [
    "potential_T_dependence_gluodynamics('32^4', 32, '6.0', 'HYP0_alpha=1_1_0.5_APE_alpha=0.6', '', 'original', 91)"
   ]
  },
  {
   "cell_type": "code",
   "execution_count": 48,
   "metadata": {},
   "outputs": [],
   "source": [
    "potential_T_dependence_gluodynamics('28^4', 28, '6.1', 'HYP0_alpha=1_1_0.5_APE_alpha=0.6', '', 'original', 91)"
   ]
  },
  {
   "cell_type": "code",
   "execution_count": 49,
   "metadata": {},
   "outputs": [],
   "source": [
    "potential_T_dependence_gluodynamics('32^4', 32, '6.2', 'HYP0_alpha=1_1_0.5_APE_alpha=0.6', '', 'original', 91)"
   ]
  },
  {
   "cell_type": "code",
   "execution_count": 50,
   "metadata": {},
   "outputs": [],
   "source": [
    "potential_T_dependence_gluodynamics('36^4', 36, '6.3', 'HYP0_alpha=1_1_0.5_APE_alpha=0.6', '', 'original', 91)"
   ]
  },
  {
   "cell_type": "code",
   "execution_count": 51,
   "metadata": {},
   "outputs": [],
   "source": [
    "potential_T_dependence_gluodynamics('40^4', 40, '6.4', 'HYP0_alpha=1_1_0.5_APE_alpha=0.6', '', 'original', 91)"
   ]
  },
  {
   "cell_type": "code",
   "execution_count": 52,
   "metadata": {},
   "outputs": [],
   "source": [
    "potential_T_dependence_gluodynamics('16^4', 16, '6.0', 'HYP0_alpha=1_1_0.5_APE_alpha=0.6', '', 'original', 91)"
   ]
  },
  {
   "cell_type": "code",
   "execution_count": 53,
   "metadata": {},
   "outputs": [],
   "source": [
    "potential_T_dependence_gluodynamics('24^4', 24, '6.0', 'HYP0_alpha=1_1_0.5_APE_alpha=0.6', '', 'original', 91)"
   ]
  },
  {
   "cell_type": "code",
   "execution_count": 54,
   "metadata": {},
   "outputs": [],
   "source": [
    "potential_T_dependence_gluodynamics('32^4', 32, '6.0', 'HYP0_alpha=1_1_0.5_APE_alpha=0.6', '', 'original', 91)"
   ]
  },
  {
   "cell_type": "code",
   "execution_count": 55,
   "metadata": {},
   "outputs": [],
   "source": [
    "potential_T_dependence_gluodynamics('28^4', 28, '6.1', 'HYP0_alpha=1_1_0.5_APE_alpha=0.6', '', 'original', 91)"
   ]
  },
  {
   "cell_type": "code",
   "execution_count": 56,
   "metadata": {},
   "outputs": [],
   "source": [
    "potential_T_dependence_gluodynamics('32^4', 32, '6.2', 'HYP0_alpha=1_1_0.5_APE_alpha=0.6', '', 'original', 91)"
   ]
  },
  {
   "cell_type": "code",
   "execution_count": 57,
   "metadata": {},
   "outputs": [],
   "source": [
    "potential_T_dependence_gluodynamics('36^4', 36, '6.3', 'HYP0_alpha=1_1_0.5_APE_alpha=0.6', '', 'original', 91)"
   ]
  },
  {
   "cell_type": "code",
   "execution_count": 58,
   "metadata": {},
   "outputs": [],
   "source": [
    "potential_T_dependence_gluodynamics('40^4', 40, '6.4', 'HYP0_alpha=1_1_0.5_APE_alpha=0.6', '', 'original', 91)"
   ]
  }
 ],
 "metadata": {
  "kernelspec": {
   "display_name": "Python 3",
   "language": "python",
   "name": "python3"
  },
  "language_info": {
   "codemirror_mode": {
    "name": "ipython",
    "version": 3
   },
   "file_extension": ".py",
   "mimetype": "text/x-python",
   "name": "python",
   "nbconvert_exporter": "python",
   "pygments_lexer": "ipython3",
   "version": "3.11.5"
  }
 },
 "nbformat": 4,
 "nbformat_minor": 2
}
