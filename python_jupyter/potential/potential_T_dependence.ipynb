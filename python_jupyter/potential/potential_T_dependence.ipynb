{
 "cells": [
  {
   "cell_type": "code",
   "execution_count": 1,
   "metadata": {},
   "outputs": [],
   "source": [
    "import os\n",
    "import sys\n",
    "import matplotlib.pyplot as plt\n",
    "import colorcet as cc\n",
    "sys.path.append(os.path.join(os.path.dirname(\n",
    "    os.path.abspath(''))))\n",
    "import common.plots as plots\n",
    "import potential_data"
   ]
  },
  {
   "cell_type": "code",
   "execution_count": 2,
   "metadata": {},
   "outputs": [],
   "source": [
    "def potential_T_dependence_gluodynamics(lattice_size, L, beta, smearing, additional_params, decomposition_type, smearing_max, copy=None):\n",
    "    paths = [{'path': f'../../result/smearing/potential/wilson_loop/fundamental/on-axis/su3/gluodynamics/{lattice_size}/beta{beta}/{smearing}/{additional_params}/potential_{decomposition_type}.csv',\n",
    "              'parameters': {'beta': f'beta={beta}'}, 'constraints': {'r/a': (1, L // 2), 'T': (1, L // 4 * 3), 'smearing_step': (0, smearing_max)}}]\n",
    "    if copy is not None:\n",
    "        paths[0]['constraints'] = {'copy': (copy, copy)}\n",
    "    image_path = f'../../images/smearing/potential/su3/gluodynamics/T_dependence/{lattice_size}/beta{beta}/{smearing}/{additional_params}/{decomposition_type}'\n",
    "    image_name = f'potential_abelian_smearing'\n",
    "    data = potential_data.get_potantial_df(paths)\n",
    "    for r in data['r/a'].unique():\n",
    "        fg = plots.make_plot(data[data['r/a'] == r], 'T', 'aV(r)', 'smearing_step', 'T', 'aV(r)', f'{decomposition_type} T_dependence r={r}', image_path, f'potential_{decomposition_type}_T_dependence_r={r}', False, err='err', color_palette=cc.glasbey)\n",
    "        plots.save_image(image_path, f'potential_{decomposition_type}_T_dependence_r={r}', fg)\n",
    "        plt.close()"
   ]
  },
  {
   "cell_type": "code",
   "execution_count": 3,
   "metadata": {},
   "outputs": [],
   "source": [
    "potential_T_dependence_gluodynamics('16^4', 16, '6.0', 'HYP0_alpha=1_1_0.5_APE_alpha=0.6', 'steps_0/copies=20', 'monopole', 91, copy=1)"
   ]
  },
  {
   "cell_type": "code",
   "execution_count": 4,
   "metadata": {},
   "outputs": [],
   "source": [
    "potential_T_dependence_gluodynamics('24^4', 24, '6.0', 'HYP0_alpha=1_1_0.5_APE_alpha=0.6', 'steps_0/copies=20', 'monopole', 91, copy=1)"
   ]
  },
  {
   "cell_type": "code",
   "execution_count": 5,
   "metadata": {},
   "outputs": [],
   "source": [
    "potential_T_dependence_gluodynamics('32^4', 32, '6.0', 'HYP0_alpha=1_1_0.5_APE_alpha=0.6', 'steps_0/copies=20', 'monopole', 91, copy=1)"
   ]
  },
  {
   "cell_type": "code",
   "execution_count": 6,
   "metadata": {},
   "outputs": [],
   "source": [
    "potential_T_dependence_gluodynamics('28^4', 28, '6.1', 'HYP0_alpha=1_1_0.5_APE_alpha=0.6', 'steps_0/copies=20', 'monopole', 91, copy=1)"
   ]
  },
  {
   "cell_type": "code",
   "execution_count": 7,
   "metadata": {},
   "outputs": [],
   "source": [
    "potential_T_dependence_gluodynamics('32^4', 32, '6.2', 'HYP0_alpha=1_1_0.5_APE_alpha=0.6', 'steps_0/copies=20', 'monopole', 91, copy=1)"
   ]
  },
  {
   "cell_type": "code",
   "execution_count": 8,
   "metadata": {},
   "outputs": [],
   "source": [
    "potential_T_dependence_gluodynamics('36^4', 36, '6.3', 'HYP0_alpha=1_1_0.5_APE_alpha=0.6', 'steps_0/copies=20', 'monopole', 91, copy=1)"
   ]
  },
  {
   "cell_type": "code",
   "execution_count": 9,
   "metadata": {},
   "outputs": [],
   "source": [
    "potential_T_dependence_gluodynamics('40^4', 40, '6.4', 'HYP0_alpha=1_1_0.5_APE_alpha=0.6', 'steps_0/copies=20', 'monopole', 91, copy=1)"
   ]
  },
  {
   "cell_type": "code",
   "execution_count": 10,
   "metadata": {},
   "outputs": [],
   "source": [
    "potential_T_dependence_gluodynamics('16^4', 16, '6.0', 'HYP0_alpha=1_1_0.5_APE_alpha=0.6', '', 'original', 91)"
   ]
  },
  {
   "cell_type": "code",
   "execution_count": 11,
   "metadata": {},
   "outputs": [],
   "source": [
    "potential_T_dependence_gluodynamics('24^4', 24, '6.0', 'HYP0_alpha=1_1_0.5_APE_alpha=0.6', '', 'original', 91)"
   ]
  },
  {
   "cell_type": "code",
   "execution_count": 12,
   "metadata": {},
   "outputs": [],
   "source": [
    "potential_T_dependence_gluodynamics('32^4', 32, '6.0', 'HYP0_alpha=1_1_0.5_APE_alpha=0.6', '', 'original', 91)"
   ]
  },
  {
   "cell_type": "code",
   "execution_count": 13,
   "metadata": {},
   "outputs": [],
   "source": [
    "potential_T_dependence_gluodynamics('28^4', 28, '6.1', 'HYP0_alpha=1_1_0.5_APE_alpha=0.6', '', 'original', 91)"
   ]
  },
  {
   "cell_type": "code",
   "execution_count": 14,
   "metadata": {},
   "outputs": [],
   "source": [
    "potential_T_dependence_gluodynamics('32^4', 32, '6.2', 'HYP0_alpha=1_1_0.5_APE_alpha=0.6', '', 'original', 91)"
   ]
  },
  {
   "cell_type": "code",
   "execution_count": 15,
   "metadata": {},
   "outputs": [],
   "source": [
    "potential_T_dependence_gluodynamics('36^4', 36, '6.3', 'HYP0_alpha=1_1_0.5_APE_alpha=0.6', '', 'original', 91)"
   ]
  },
  {
   "cell_type": "code",
   "execution_count": 16,
   "metadata": {},
   "outputs": [],
   "source": [
    "potential_T_dependence_gluodynamics('40^4', 40, '6.4', 'HYP0_alpha=1_1_0.5_APE_alpha=0.6', '', 'original', 91)"
   ]
  },
  {
   "cell_type": "code",
   "execution_count": 17,
   "metadata": {},
   "outputs": [],
   "source": [
    "potential_T_dependence_gluodynamics('16^4', 16, '6.0', 'HYP0_alpha=1_1_0.5_APE_alpha=0.6', '', 'original', 91)"
   ]
  },
  {
   "cell_type": "code",
   "execution_count": 18,
   "metadata": {},
   "outputs": [],
   "source": [
    "potential_T_dependence_gluodynamics('24^4', 24, '6.0', 'HYP0_alpha=1_1_0.5_APE_alpha=0.6', '', 'original', 91)"
   ]
  },
  {
   "cell_type": "code",
   "execution_count": 19,
   "metadata": {},
   "outputs": [],
   "source": [
    "potential_T_dependence_gluodynamics('32^4', 32, '6.0', 'HYP0_alpha=1_1_0.5_APE_alpha=0.6', '', 'original', 91)"
   ]
  },
  {
   "cell_type": "code",
   "execution_count": 20,
   "metadata": {},
   "outputs": [],
   "source": [
    "potential_T_dependence_gluodynamics('28^4', 28, '6.1', 'HYP0_alpha=1_1_0.5_APE_alpha=0.6', '', 'original', 91)"
   ]
  },
  {
   "cell_type": "code",
   "execution_count": 21,
   "metadata": {},
   "outputs": [],
   "source": [
    "potential_T_dependence_gluodynamics('32^4', 32, '6.2', 'HYP0_alpha=1_1_0.5_APE_alpha=0.6', '', 'original', 91)"
   ]
  },
  {
   "cell_type": "code",
   "execution_count": 22,
   "metadata": {},
   "outputs": [],
   "source": [
    "potential_T_dependence_gluodynamics('36^4', 36, '6.3', 'HYP0_alpha=1_1_0.5_APE_alpha=0.6', '', 'original', 91)"
   ]
  },
  {
   "cell_type": "code",
   "execution_count": 23,
   "metadata": {},
   "outputs": [],
   "source": [
    "potential_T_dependence_gluodynamics('40^4', 40, '6.4', 'HYP0_alpha=1_1_0.5_APE_alpha=0.6', '', 'original', 91)"
   ]
  }
 ],
 "metadata": {
  "kernelspec": {
   "display_name": "Python 3",
   "language": "python",
   "name": "python3"
  },
  "language_info": {
   "codemirror_mode": {
    "name": "ipython",
    "version": 3
   },
   "file_extension": ".py",
   "mimetype": "text/x-python",
   "name": "python",
   "nbconvert_exporter": "python",
   "pygments_lexer": "ipython3",
   "version": "3.8.10"
  }
 },
 "nbformat": 4,
 "nbformat_minor": 2
}
