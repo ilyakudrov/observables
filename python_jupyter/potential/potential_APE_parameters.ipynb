{
 "cells": [
  {
   "cell_type": "code",
   "execution_count": 2,
   "metadata": {},
   "outputs": [],
   "source": [
    "import pandas as pd\n",
    "import os"
   ]
  },
  {
   "cell_type": "code",
   "execution_count": 3,
   "metadata": {},
   "outputs": [],
   "source": [
    "def save_csv(df, path, name):\n",
    "    try:\n",
    "        os.makedirs(path)\n",
    "    except:\n",
    "        pass\n",
    "    df.to_csv(f'{path}/{name}', index=False)"
   ]
  },
  {
   "cell_type": "code",
   "execution_count": 4,
   "metadata": {},
   "outputs": [],
   "source": [
    "# APE steps and T_dependence for gluodynamics\n",
    "# 16^4 beta=6.0\n",
    "df = pd.DataFrame({'r/a': list(range(1, 9)), 'smearing_step': [131, 71, 41, 41, 51, 51, 51, 61]})\n",
    "path = '../../result/smearing/potential/su3/gluodynamics/APE_parameters/16^4/beta6.0/HYP0_alpha=1_1_0.5_APE_alpha=0.6/steps_0/copies=20'\n",
    "name = 'APE_parameters_monopole.csv'\n",
    "save_csv(df, path, name)"
   ]
  },
  {
   "cell_type": "code",
   "execution_count": 5,
   "metadata": {},
   "outputs": [],
   "source": [
    "# APE steps and T_dependence for gluodynamics\n",
    "# 24^4 beta=6.0\n",
    "df = pd.DataFrame({'r/a': list(range(1, 13)), 'smearing_step': [81, 81, 81, 81, 81, 81, 81, 81, 81, 91, 91, 101]})\n",
    "path = '../../result/smearing/potential/su3/gluodynamics/APE_parameters/24^4/beta6.0/HYP0_alpha=1_1_0.5_APE_alpha=0.6/steps_0/copies=20'\n",
    "name = 'APE_parameters_monopole.csv'\n",
    "save_csv(df, path, name)\n",
    "df = pd.DataFrame({'r/a': list(range(1, 13)), 'smearing_step': [81, 81, 81, 81, 81, 81, 81, 81, 81, 91, 91, 101]})\n",
    "path = '../../result/smearing/potential/su3/gluodynamics/APE_parameters/24^4/beta6.0/HYP0_alpha=1_1_0.5_APE_alpha=0.5/steps_500/copies=4'\n",
    "name = 'APE_parameters_monopole.csv'\n",
    "save_csv(df, path, name)\n",
    "df = pd.DataFrame({'r/a': list(range(1, 13)), 'smearing_step': [81, 81, 81, 81, 81, 81, 81, 81, 81, 91, 91, 101]})\n",
    "path = '../../result/smearing/potential/su3/gluodynamics/APE_parameters/24^4/beta6.0/HYP1_alpha=1_1_0.5_APE_alpha=0.5/steps_500/copies=4'\n",
    "name = 'APE_parameters_monopole.csv'\n",
    "save_csv(df, path, name)\n",
    "df = pd.DataFrame({'r/a': list(range(1, 13)), 'smearing_step': [81, 81, 81, 81, 81, 81, 81, 81, 81, 91, 91, 101]})\n",
    "path = '../../result/smearing/potential/su3/gluodynamics/APE_parameters/24^4/beta6.0/HYP3_alpha=1_1_0.5_APE_alpha=0.5/steps_500/copies=4'\n",
    "name = 'APE_parameters_monopole.csv'\n",
    "save_csv(df, path, name)"
   ]
  },
  {
   "cell_type": "code",
   "execution_count": 5,
   "metadata": {},
   "outputs": [],
   "source": [
    "# APE steps and T_dependence for gluodynamics\n",
    "# 32^4 beta=6.0\n",
    "df = pd.DataFrame({'r/a': list(range(1, 17)), 'smearing_step': [81, 71, 81, 81, 81, 81, 81, 61, 61, 61, 61, 71, 71, 71, 71, 71]})\n",
    "path = '../../result/smearing/potential/su3/gluodynamics/APE_parameters/32^4/beta6.0/HYP0_alpha=1_1_0.5_APE_alpha=0.6/steps_0/copies=20'\n",
    "name = 'APE_parameters_monopole.csv'\n",
    "save_csv(df, path, name)"
   ]
  },
  {
   "cell_type": "code",
   "execution_count": 6,
   "metadata": {},
   "outputs": [],
   "source": [
    "# APE steps and T_dependence for gluodynamics\n",
    "# 28^4 beta=6.1\n",
    "df = pd.DataFrame({'r/a': list(range(1, 15)), 'smearing_step': [81, 71, 81, 81, 81, 81, 81, 81, 81, 81, 91, 91, 101, 71]})\n",
    "path = '../../result/smearing/potential/su3/gluodynamics/APE_parameters/28^4/beta6.1/HYP0_alpha=1_1_0.5_APE_alpha=0.6/steps_0/copies=20'\n",
    "name = 'APE_parameters_monopole.csv'\n",
    "save_csv(df, path, name)"
   ]
  },
  {
   "cell_type": "code",
   "execution_count": 7,
   "metadata": {},
   "outputs": [],
   "source": [
    "# APE steps and T_dependence for gluodynamics\n",
    "# 32^4 beta=6.2\n",
    "df = pd.DataFrame({'r/a': list(range(1, 17)), 'smearing_step': [81, 71, 81, 81, 81, 81, 81, 81, 81, 91, 71, 101, 111, 121, 71, 71]})\n",
    "path = '../../result/smearing/potential/su3/gluodynamics/APE_parameters/32^4/beta6.2/HYP0_alpha=1_1_0.5_APE_alpha=0.6/steps_0/copies=20'\n",
    "name = 'APE_parameters_monopole.csv'\n",
    "save_csv(df, path, name)"
   ]
  },
  {
   "cell_type": "code",
   "execution_count": 8,
   "metadata": {},
   "outputs": [],
   "source": [
    "# APE steps and T_dependence for gluodynamics\n",
    "# 36^4 beta=6.3\n",
    "df = pd.DataFrame({'r/a': list(range(1, 19)), 'smearing_step': [91, 81, 81, 81, 81, 81, 81, 81, 91, 91, 101, 111, 111, 121, 121, 81, 111, 81]})\n",
    "path = '../../result/smearing/potential/su3/gluodynamics/APE_parameters/36^4/beta6.3/HYP0_alpha=1_1_0.5_APE_alpha=0.6/steps_0/copies=20'\n",
    "name = 'APE_parameters_monopole.csv'\n",
    "save_csv(df, path, name)"
   ]
  },
  {
   "cell_type": "code",
   "execution_count": 9,
   "metadata": {},
   "outputs": [],
   "source": [
    "# APE steps and T_dependence for gluodynamics\n",
    "# 40^4 beta=6.4\n",
    "df = pd.DataFrame({'r/a': list(range(1, 21)), 'smearing_step': [91, 81, 91, 91, 91, 91, 91, 91, 91, 91, 91, 91, 91, 91, 91, 91, 101, 101, 101, 101]})\n",
    "path = '../../result/smearing/potential/su3/gluodynamics/APE_parameters/40^4/beta6.4/HYP0_alpha=1_1_0.5_APE_alpha=0.6/steps_0/copies=20'\n",
    "name = 'APE_parameters_monopole.csv'\n",
    "save_csv(df, path, name)"
   ]
  },
  {
   "cell_type": "code",
   "execution_count": null,
   "metadata": {},
   "outputs": [],
   "source": []
  }
 ],
 "metadata": {
  "kernelspec": {
   "display_name": "base",
   "language": "python",
   "name": "python3"
  },
  "language_info": {
   "codemirror_mode": {
    "name": "ipython",
    "version": 3
   },
   "file_extension": ".py",
   "mimetype": "text/x-python",
   "name": "python",
   "nbconvert_exporter": "python",
   "pygments_lexer": "ipython3",
   "version": "3.11.5"
  }
 },
 "nbformat": 4,
 "nbformat_minor": 2
}
