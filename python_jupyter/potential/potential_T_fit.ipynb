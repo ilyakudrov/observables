{
 "cells": [
  {
   "cell_type": "code",
   "execution_count": 2,
   "metadata": {},
   "outputs": [],
   "source": [
    "import matplotlib.pyplot as plt\n",
    "import pandas as pd\n",
    "import os\n",
    "from random import randrange\n",
    "from scipy.optimize import curve_fit\n",
    "from scipy.optimize import OptimizeWarning\n",
    "from scipy.stats import chi2\n",
    "import warnings\n",
    "import sys\n",
    "import multiprocessing\n",
    "\n",
    "sys.path.append(os.path.join(os.path.dirname(\n",
    "    os.path.abspath(''))))\n",
    "import common.plots as plots\n",
    "import potential_data\n",
    "import fit\n",
    "\n",
    "warnings.simplefilter(\"ignore\", OptimizeWarning)\n",
    "warnings.simplefilter(\"ignore\", RuntimeWarning)"
   ]
  },
  {
   "cell_type": "code",
   "execution_count": 3,
   "metadata": {},
   "outputs": [
    {
     "name": "stdout",
     "output_type": "stream",
     "text": [
      "   A  B\n",
      "0  1  1\n",
      "1  1  2\n",
      "2  1  3\n",
      "3  1  4\n",
      "1\n"
     ]
    }
   ],
   "source": [
    "df = pd.DataFrame({'A': [1, 1, 1, 1], 'B': [1, 2, 3, 4]})\n",
    "print(df)\n",
    "print(df.reset_index(drop=True).loc[0, 'A'])"
   ]
  },
  {
   "cell_type": "code",
   "execution_count": 2,
   "metadata": {},
   "outputs": [],
   "source": [
    "def plot_T_fit(df, df_pot, decomposition_type, image_path):\n",
    "    r = df.name[0]\n",
    "    smearing_step = df.name[1]\n",
    "    fg = plots.make_plot(df[(df['r/a'] == r) & (df['smearing_step'] == smearing_step)], 'T', 'aV(r)', 'range', 'T', 'aV(r)', f'potential {decomposition_type} smearing_step={smearing_step}', f'{image_path}/r={r}', \\\n",
    "                         f'potential_monopole_smearing_step={smearing_step}', False)\n",
    "    df1 = df_pot[(df_pot['r/a'] == r) & (df_pot['smearing_step'] == smearing_step)]\n",
    "    fg.ax.errorbar(df1['T'], df1['aV(r)'], df1['err'], mfc=None, fmt='o', ms=6, capsize=5, lw=0.5, ls=None)\n",
    "    plots.save_image(f'{image_path}/r={r}', f'potential_monopole_smearing_step={smearing_step}', fg)\n",
    "    plt.close()\n",
    "\n",
    "def potential_T_fit(lattice_size, L, beta, smearing, additional_params, decomposition_type, copy=None):\n",
    "    paths = [{'path': f'../../result/smearing/potential/wilson_loop/fundamental/on-axis/su3/gluodynamics/{lattice_size}/beta{beta}/{smearing}/{additional_params}/potential_{decomposition_type}.csv',\n",
    "            'parameters': {'beta': f'beta={beta}'}, 'constraints': {'r/a': (1, L // 2), 'T': (1, L // 2 - 1)}}]\n",
    "    if copy is not None:\n",
    "        paths[0]['constraints'] = {'copy': (copy, copy)}\n",
    "    image_path = f'../../images/smearing/potential/su3/gluodynamics/T_fit/{lattice_size}/beta{beta}/{smearing}/{additional_params}/{decomposition_type}'\n",
    "    df = potential_data.get_potantial_df(paths, coluns_to_multiindex=['smearing_step'])\n",
    "    df_fit = df.groupby(df.index.names + ['r/a']).apply(fit.make_fit_range, fit.func_exponent, L // 2 - 3, ['V', 'a', 'b'], 'T', 'aV(r)', err_col='err').reset_index(level=-1, drop=True).reset_index(level=df.index.names + ['r/a'])\n",
    "    df_curve = df_fit.groupby(df.index.names + ['r/a', 'T_min', 'T_max']).apply(fit.make_fit_curve, fit.func_exponent, 'T', 'aV(r)', ['V', 'a', 'b']).reset_index(level=-1, drop=True).reset_index(level=df.index.names + ['r/a', 'T_min', 'T_max'])\n",
    "    df_curve['range'] = '(' + df_curve['T_min'].astype(str) + ', ' + df_curve['T_max'].astype(str) + ')'\n",
    "    df = df.reset_index(level=['smearing_step'])\n",
    "    df_curve.groupby(['r/a', 'smearing_step']).apply(plot_T_fit, df, decomposition_type, image_path)"
   ]
  },
  {
   "cell_type": "code",
   "execution_count": 3,
   "metadata": {},
   "outputs": [],
   "source": [
    "potential_T_fit('16^4', 16, '6.0', 'HYP0_alpha=1_1_0.5_APE_alpha=0.6', 'steps_0/copies=20', 'monopole')"
   ]
  },
  {
   "cell_type": "code",
   "execution_count": 4,
   "metadata": {},
   "outputs": [
    {
     "ename": "",
     "evalue": "",
     "output_type": "error",
     "traceback": [
      "\u001b[1;31mThe Kernel crashed while executing code in the current cell or a previous cell. \n",
      "\u001b[1;31mPlease review the code in the cell(s) to identify a possible cause of the failure. \n",
      "\u001b[1;31mClick <a href='https://aka.ms/vscodeJupyterKernelCrash'>here</a> for more info. \n",
      "\u001b[1;31mView Jupyter <a href='command:jupyter.viewOutput'>log</a> for further details."
     ]
    }
   ],
   "source": [
    "potential_T_fit('24^4', 24, '6.0', 'HYP0_alpha=1_1_0.5_APE_alpha=0.6', 'steps_0/copies=20', 'monopole')"
   ]
  },
  {
   "cell_type": "code",
   "execution_count": null,
   "metadata": {},
   "outputs": [],
   "source": [
    "potential_T_fit('32^4', 32, '6.0', 'HYP0_alpha=1_1_0.5_APE_alpha=0.6', 'steps_0/copies=20', 'monopole')"
   ]
  },
  {
   "cell_type": "code",
   "execution_count": null,
   "metadata": {},
   "outputs": [],
   "source": [
    "potential_T_fit('28^4', 28, '6.1', 'HYP0_alpha=1_1_0.5_APE_alpha=0.6', 'steps_0/copies=20', 'monopole')"
   ]
  },
  {
   "cell_type": "code",
   "execution_count": null,
   "metadata": {},
   "outputs": [],
   "source": [
    "potential_T_fit('32^4', 32, '6.2', 'HYP0_alpha=1_1_0.5_APE_alpha=0.6', 'steps_0/copies=20', 'monopole')"
   ]
  },
  {
   "cell_type": "code",
   "execution_count": null,
   "metadata": {},
   "outputs": [],
   "source": [
    "potential_T_fit('36^4', 36, '6.3', 'HYP0_alpha=1_1_0.5_APE_alpha=0.6', 'steps_0/copies=20', 'monopole')"
   ]
  },
  {
   "cell_type": "code",
   "execution_count": null,
   "metadata": {},
   "outputs": [],
   "source": [
    "potential_T_fit('40^4', 40, '6.4', 'HYP0_alpha=1_1_0.5_APE_alpha=0.6', 'steps_0/copies=20', 'monopole')"
   ]
  },
  {
   "cell_type": "code",
   "execution_count": null,
   "metadata": {},
   "outputs": [],
   "source": []
  }
 ],
 "metadata": {
  "kernelspec": {
   "display_name": "Python 3",
   "language": "python",
   "name": "python3"
  },
  "language_info": {
   "codemirror_mode": {
    "name": "ipython",
    "version": 3
   },
   "file_extension": ".py",
   "mimetype": "text/x-python",
   "name": "python",
   "nbconvert_exporter": "python",
   "pygments_lexer": "ipython3",
   "version": "3.11.5"
  }
 },
 "nbformat": 4,
 "nbformat_minor": 2
}
