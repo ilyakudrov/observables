{
 "cells": [
  {
   "cell_type": "code",
   "execution_count": 2,
   "metadata": {},
   "outputs": [],
   "source": [
    "import numpy as np\n",
    "import pandas as pd\n",
    "import struct\n",
    "import math\n",
    "import matplotlib.pyplot as plt\n",
    "from scipy.optimize import curve_fit\n",
    "import seaborn as sns\n",
    "import sys\n",
    "import os\n",
    "import seaborn\n",
    "from  matplotlib import pyplot\n",
    "import scale_setters as scale"
   ]
  },
  {
   "cell_type": "code",
   "execution_count": 3,
   "metadata": {},
   "outputs": [],
   "source": [
    "def delta(x, c, z):\n",
    "    n = len(x)\n",
    "    sum1 = 0\n",
    "    sum2 = 0\n",
    "    sum3 = 0\n",
    "    for i in range(n):\n",
    "        sum1 += z[i]/c[i]\n",
    "        sum2 += z[i]/c[i] * x[i]**2\n",
    "        sum3 += z[i]/c[i] * x[i]\n",
    "    return sum1 * sum2 - sum3**2\n",
    "\n",
    "def sigma_a(x, c, z):\n",
    "    n = len(x)\n",
    "    sum = 0\n",
    "    for i in range(n):\n",
    "        sum += z[i]/c[i] * x[i]**2\n",
    "    return sum / delta(x, c, z)\n",
    "\n",
    "def make_c(Nt_arr):\n",
    "    c = []\n",
    "    for Nt in Nt_arr:\n",
    "        c.append(Nt**12)\n",
    "    sum = 0\n",
    "    for i in c:\n",
    "        sum += i\n",
    "    for i in range(len(c)):\n",
    "        c[i] = c[i] / sum\n",
    "    return c\n",
    "\n",
    "def make_z(Nt_arr, p):\n",
    "    c = []\n",
    "    for Nt in Nt_arr:\n",
    "        c.append(Nt**p)\n",
    "    sum = 0\n",
    "    for i in c:\n",
    "        sum += i\n",
    "    for i in range(len(c)):\n",
    "        c[i] = c[i] / sum\n",
    "    return c\n",
    "\n",
    "\n",
    "def calculate_sigma(Nt_arr, p):\n",
    "    x = []\n",
    "    for Nt in Nt_arr:\n",
    "        x.append(1/Nt**2)\n",
    "    c = make_c(Nt_arr)\n",
    "    z = make_z(Nt_arr, p)\n",
    "    return sigma_a(x, c, z)\n",
    "\n",
    "def optimize(Nt_arr, p_arr):\n",
    "    sigma_arr = []\n",
    "    for p in p_arr:\n",
    "        sigma_arr.append(calculate_sigma(Nt_arr, p))\n",
    "\n",
    "    return sigma_arr, p_arr    "
   ]
  },
  {
   "cell_type": "code",
   "execution_count": 9,
   "metadata": {},
   "outputs": [
    {
     "data": {
      "text/plain": [
       "Text(6.674999999999997, 0.5, '$\\\\sigma_{a}$')"
      ]
     },
     "execution_count": 9,
     "metadata": {},
     "output_type": "execute_result"
    },
    {
     "data": {
      "image/png": "[encoded data removed]",
      "text/plain": [
       "<Figure size 460.8x288 with 1 Axes>"
      ]
     },
     "metadata": {
      "needs_background": "light"
     },
     "output_type": "display_data"
    }
   ],
   "source": [
    "Nt_arr = [4, 5, 6]\n",
    "p_arr = [-2, -1, 0, 1, 2, 3, 4, 5, 6, 7, 8]\n",
    "\n",
    "sigma_arr, p_arr = optimize(Nt_arr, p_arr)\n",
    "\n",
    "data = pd.DataFrame(list(zip(p_arr, sigma_arr)), columns = ['p', 'sigma'])\n",
    "\n",
    "fg = seaborn.FacetGrid(data=data, height=4, aspect=1.6, legend_out=False)\n",
    "fg.fig.suptitle('optimization')\n",
    "fontsize = 13\n",
    "fg.map(plt.plot, 'p', 'sigma').add_legend()\n",
    "fg.ax.set_xlabel('p', fontsize=fontsize)\n",
    "fg.ax.set_ylabel(r'$\\sigma_{a}$', fontsize=fontsize)"
   ]
  },
  {
   "cell_type": "code",
   "execution_count": null,
   "metadata": {},
   "outputs": [],
   "source": []
  }
 ],
 "metadata": {
  "kernelspec": {
   "display_name": "Python 3.8.5 64-bit",
   "language": "python",
   "name": "python3"
  },
  "language_info": {
   "codemirror_mode": {
    "name": "ipython",
    "version": 3
   },
   "file_extension": ".py",
   "mimetype": "text/x-python",
   "name": "python",
   "nbconvert_exporter": "python",
   "pygments_lexer": "ipython3",
   "version": "3.8.5 (default, Jan 27 2021, 15:41:15) \n[GCC 9.3.0]"
  },
  "orig_nbformat": 4,
  "vscode": {
   "interpreter": {
    "hash": "31f2aee4e71d21fbe5cf8b01ff0e069b9275f58929596ceb00d14d90e3e16cd6"
   }
  }
 },
 "nbformat": 4,
 "nbformat_minor": 2
}
