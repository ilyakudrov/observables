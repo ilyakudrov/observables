{
 "cells": [
  {
   "cell_type": "code",
   "execution_count": 1,
   "metadata": {},
   "outputs": [],
   "source": [
    "import numpy as np\n",
    "import pandas as pd\n",
    "import matplotlib.pyplot as plt\n",
    "import seaborn\n",
    "import os\n",
    "import io\n",
    "import math\n",
    "from scipy.optimize import curve_fit"
   ]
  },
  {
   "cell_type": "code",
   "execution_count": 2,
   "metadata": {},
   "outputs": [],
   "source": [
    "def save_image(image_path, image_name, fg):\n",
    "    try:\n",
    "        os.makedirs(image_path)\n",
    "    except:\n",
    "        pass\n",
    "    \n",
    "    output_path = f'{image_path}/{image_name}'\n",
    "    fg.savefig(output_path, dpi=400)"
   ]
  },
  {
   "cell_type": "code",
   "execution_count": 3,
   "metadata": {},
   "outputs": [
    {
     "data": {
      "image/png": "[encoded data removed]",
      "text/plain": [
       "<Figure size 355.76x216 with 1 Axes>"
      ]
     },
     "metadata": {
      "needs_background": "light"
     },
     "output_type": "display_data"
    }
   ],
   "source": [
    "path = '../data/SU3_gluodynamics'\n",
    "\n",
    "data_0 = pd.read_csv(f'{path}/beta_actS_0.txt', sep=' ', header = 0, names = ['beta', 'action', 'err'])\n",
    "\n",
    "data_T = pd.read_csv(f'{path}/beta_actS_T.txt', sep=' ', header = 0, names = ['beta', 'action', 'err'])\n",
    "\n",
    "data_0['action'] = data_0['action'] - data_T['action']\n",
    "data_0['err'] = np.sqrt(data_0['err']**2 + data_T['err']**2)\n",
    "\n",
    "\n",
    "fg = seaborn.FacetGrid(data=data_0,  aspect=1.61)\n",
    "fg.map(plt.errorbar, 'beta', 'action', 'err', marker=\"o\", fmt='', linestyle = '').add_legend()\n",
    "\n",
    "save_image('../images/SU3_gluodynamics', 'action_difference', fg)"
   ]
  }
 ],
 "metadata": {
  "kernelspec": {
   "display_name": "Python 3.8.5 64-bit",
   "language": "python",
   "name": "python3"
  },
  "language_info": {
   "codemirror_mode": {
    "name": "ipython",
    "version": 3
   },
   "file_extension": ".py",
   "mimetype": "text/x-python",
   "name": "python",
   "nbconvert_exporter": "python",
   "pygments_lexer": "ipython3",
   "version": "3.8.5"
  },
  "orig_nbformat": 4,
  "vscode": {
   "interpreter": {
    "hash": "31f2aee4e71d21fbe5cf8b01ff0e069b9275f58929596ceb00d14d90e3e16cd6"
   }
  }
 },
 "nbformat": 4,
 "nbformat_minor": 2
}
