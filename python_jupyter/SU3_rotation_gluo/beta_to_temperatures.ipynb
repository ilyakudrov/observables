{
 "cells": [
  {
   "cell_type": "code",
   "execution_count": 1,
   "metadata": {},
   "outputs": [],
   "source": [
    "import numpy as np\n",
    "import pandas as pd\n",
    "import struct\n",
    "import math\n",
    "import matplotlib.pyplot as plt\n",
    "from scipy.optimize import curve_fit\n",
    "import seaborn as sns\n",
    "import sys\n",
    "import os\n",
    "import seaborn\n",
    "from  matplotlib import pyplot\n",
    "import scale_setters as scale"
   ]
  },
  {
   "cell_type": "code",
   "execution_count": 2,
   "metadata": {},
   "outputs": [],
   "source": [
    "def beta_to_temperature(Nt, beta_crit, betas):\n",
    "    scale_setter = scale.SymanzikScaleSetter()\n",
    "    a_crit = scale_setter._get_spacing_in_fm(beta_crit)\n",
    "    a_arr = scale_setter.get_spacing_in_fm(betas)\n",
    "\n",
    "    return [a_crit / a for a in a_arr]"
   ]
  },
  {
   "cell_type": "code",
   "execution_count": 3,
   "metadata": {},
   "outputs": [
    {
     "name": "stdout",
     "output_type": "stream",
     "text": [
      "1 2\n",
      "3 4\n"
     ]
    }
   ],
   "source": [
    "a = [(1, 2), (3, 4)]\n",
    "for i in a:\n",
    "    print(i[0], i[1])"
   ]
  },
  {
   "cell_type": "code",
   "execution_count": 4,
   "metadata": {},
   "outputs": [],
   "source": [
    "def get_closest(betas_arr, value):\n",
    "    closest_T = 0\n",
    "    for i in range(len(betas_arr)):\n",
    "        if abs(betas_arr[i][0] - value) < abs(closest_T - value):\n",
    "            closest_T = betas_arr[i][0]\n",
    "            index = i\n",
    "    return betas_arr[index]\n",
    "\n",
    "def find_closest_betas(betas_fixed, betas_test):\n",
    "    betas_result = []\n",
    "    for beta in betas_fixed:\n",
    "        betas_result.append(get_closest(betas_test, beta[0]))\n",
    "    return betas_result"
   ]
  },
  {
   "cell_type": "code",
   "execution_count": 5,
   "metadata": {},
   "outputs": [
    {
     "name": "stdout",
     "output_type": "stream",
     "text": [
      "[(0.7019428809672871, 3.88), (0.9439817460156759, 4.04), (1.0836579053625524, 4.12), (1.2369973962720728, 4.2), (1.3615068100588277, 4.26), (1.5882825655926287, 4.36), (2.005654161496961, 4.52), (2.4987751805148486, 4.68), (3.0802157220974715, 4.84), (3.766205290047355, 5.0)]\n",
      "[(0.7018098698279484, 4.099000000000033), (0.9443472742287518, 4.281000000000094), (1.0837238488789929, 4.371000000000124), (1.2372356696950624, 4.461000000000154), (1.361342541048485, 4.528000000000176), (1.5890878057742406, 4.640000000000214), (2.0045286881625666, 4.8160000000002725), (2.499648429799155, 4.991000000000331), (3.0793280630932105, 5.162000000000388), (3.7656513586930456, 5.3310000000004445)]\n",
      "          T   beta  Nt\n",
      "0  0.701943  3.880   4\n",
      "1  0.943982  4.040   4\n",
      "2  1.083658  4.120   4\n",
      "3  1.236997  4.200   4\n",
      "4  1.361507  4.260   4\n",
      "5  1.588283  4.360   4\n",
      "6  2.005654  4.520   4\n",
      "7  2.498775  4.680   4\n",
      "8  3.080216  4.840   4\n",
      "9  3.766205  5.000   4\n",
      "0  0.701810  4.099   6\n",
      "1  0.944347  4.281   6\n",
      "2  1.083724  4.371   6\n",
      "3  1.237236  4.461   6\n",
      "4  1.361343  4.528   6\n",
      "5  1.589088  4.640   6\n",
      "6  2.004529  4.816   6\n",
      "7  2.499648  4.991   6\n",
      "8  3.079328  5.162   6\n",
      "9  3.765651  5.331   6\n"
     ]
    },
    {
     "data": {
      "text/plain": [
       "<seaborn.axisgrid.FacetGrid at 0x7f26a54814f0>"
      ]
     },
     "execution_count": 5,
     "metadata": {},
     "output_type": "execute_result"
    },
    {
     "data": {
      "image/png": "[encoded data removed]",
      "text/plain": [
       "<Figure size 460.8x288 with 1 Axes>"
      ]
     },
     "metadata": {
      "needs_background": "light"
     },
     "output_type": "display_data"
    }
   ],
   "source": [
    "beta_crit = {4: 4.073, 5: 4.202, 6: 4.318}\n",
    "betas_4 = [3.88, 4.04, 4.12, 4.2, 4.26, 4.36, 4.52, 4.68, 4.84, 5.0]\n",
    "# betas = [4.0, 4.04, 4.08, 4.12, 4.20, 4.26, 4.36, 4.52, 4.68, 4.84, 5.00]\n",
    "# 0.7 0.9 1.1 1.3 1.5 1.7 1.9 2.1 2.4 2.78\n",
    "# betas = [4.04, 4.16, 4.28, 4.4, 4.5, 4.6, 4.68, 4.76, 4.88, 5.00]\n",
    "betas_test_5 = np.arange(4, 6, 0.001)\n",
    "betas_test_6 = np.arange(4, 6, 0.001)\n",
    "T_4 = beta_to_temperature(4, beta_crit[4], betas_4)\n",
    "T_test_5 = beta_to_temperature(5, beta_crit[5], betas_test_5)\n",
    "T_test_6 = beta_to_temperature(6, beta_crit[6], betas_test_6)\n",
    "# closest_betas_5 = find_closest_betas(list(zip(T_4, betas_4)), list(zip(T_test_5, betas_test_5)))\n",
    "closest_betas_6 = find_closest_betas(list(zip(T_4, betas_4)), list(zip(T_test_6, betas_test_6)))\n",
    "\n",
    "print(list(zip(T_4, betas_4)))\n",
    "# print(closest_betas_5)\n",
    "print(closest_betas_6)\n",
    "\n",
    "# x = [i[0] for i in closest_betas_5]\n",
    "# y = [i[1] for i in closest_betas_5]\n",
    "x = [i[0] for i in closest_betas_6]\n",
    "y = [i[1] for i in closest_betas_6]\n",
    "\n",
    "df_4 = pd.DataFrame(list(zip(T_4, betas_4)), columns=['T', 'beta'])\n",
    "df_4['Nt'] = 4\n",
    "# df_5 = pd.DataFrame(closest_betas_5, columns=['T', 'beta'])\n",
    "# df_5['Nt'] = 5\n",
    "# df = pd.concat([df_4, df_5])\n",
    "df_6 = pd.DataFrame(closest_betas_6, columns=['T', 'beta'])\n",
    "df_6['Nt'] = 6\n",
    "df = pd.concat([df_4, df_6])\n",
    "print(df)\n",
    "\n",
    "fg = seaborn.FacetGrid(data=df, hue = 'Nt', height=4, aspect=1.6, legend_out=False)\n",
    "fg.fig.suptitle('scaling')\n",
    "fontsize = 13\n",
    "fg.ax.set_xlabel(r'$T/T_{0}$', fontsize=fontsize)\n",
    "fg.ax.set_ylabel(r'$\\beta$', fontsize=fontsize)\n",
    "fg.map(plt.scatter, 'T', 'beta').add_legend()"
   ]
  },
  {
   "cell_type": "code",
   "execution_count": 7,
   "metadata": {},
   "outputs": [
    {
     "name": "stdout",
     "output_type": "stream",
     "text": [
      "[(0.7019428809672871, 3.88), (0.9439817460156759, 4.04), (1.0836579053625524, 4.12), (1.2369973962720728, 4.2), (1.3615068100588277, 4.26), (1.5882825655926287, 4.36), (2.005654161496961, 4.52), (2.4987751805148486, 4.68), (3.0802157220974715, 4.84), (3.766205290047355, 5.0)]\n",
      "[(0.7082801677504683, 4.0), (0.9444150855816807, 4.167000000000056), (1.0833229946333303, 4.252000000000084), (1.2379006818421867, 4.338000000000113), (1.3606558948531131, 4.401000000000134), (1.5889099962784257, 4.50800000000017), (2.005426128578226, 4.677000000000226), (2.4979380770814528, 4.845000000000282), (3.0800711257293987, 5.012000000000338), (3.764442238535339, 5.177000000000393)]\n",
      "          T   beta  Nt\n",
      "0  0.701943  3.880   4\n",
      "1  0.943982  4.040   4\n",
      "2  1.083658  4.120   4\n",
      "3  1.236997  4.200   4\n",
      "4  1.361507  4.260   4\n",
      "5  1.588283  4.360   4\n",
      "6  2.005654  4.520   4\n",
      "7  2.498775  4.680   4\n",
      "8  3.080216  4.840   4\n",
      "9  3.766205  5.000   4\n",
      "0  0.708280  4.000   5\n",
      "1  0.944415  4.167   5\n",
      "2  1.083323  4.252   5\n",
      "3  1.237901  4.338   5\n",
      "4  1.360656  4.401   5\n",
      "5  1.588910  4.508   5\n",
      "6  2.005426  4.677   5\n",
      "7  2.497938  4.845   5\n",
      "8  3.080071  5.012   5\n",
      "9  3.764442  5.177   5\n"
     ]
    },
    {
     "data": {
      "text/plain": [
       "<seaborn.axisgrid.FacetGrid at 0x7f26a5545e80>"
      ]
     },
     "execution_count": 7,
     "metadata": {},
     "output_type": "execute_result"
    },
    {
     "data": {
      "image/png": "[encoded data removed]",
      "text/plain": [
       "<Figure size 460.8x288 with 1 Axes>"
      ]
     },
     "metadata": {
      "needs_background": "light"
     },
     "output_type": "display_data"
    }
   ],
   "source": [
    "beta_crit = {4: 4.073, 5: 4.202, 6: 4.318}\n",
    "betas_4 = [3.88, 4.04, 4.12, 4.2, 4.26, 4.36, 4.52, 4.68, 4.84, 5.0]\n",
    "# betas = [4.0, 4.04, 4.08, 4.12, 4.20, 4.26, 4.36, 4.52, 4.68, 4.84, 5.00]\n",
    "# 0.7 0.9 1.1 1.3 1.5 1.7 1.9 2.1 2.4 2.78\n",
    "# betas = [4.04, 4.16, 4.28, 4.4, 4.5, 4.6, 4.68, 4.76, 4.88, 5.00]\n",
    "betas_test_5 = np.arange(4, 6, 0.001)\n",
    "betas_test_6 = np.arange(4, 6, 0.001)\n",
    "T_4 = beta_to_temperature(4, beta_crit[4], betas_4)\n",
    "T_test_5 = beta_to_temperature(5, beta_crit[5], betas_test_5)\n",
    "T_test_6 = beta_to_temperature(6, beta_crit[6], betas_test_6)\n",
    "closest_betas_5 = find_closest_betas(list(zip(T_4, betas_4)), list(zip(T_test_5, betas_test_5)))\n",
    "closest_betas_6 = find_closest_betas(list(zip(T_4, betas_4)), list(zip(T_test_6, betas_test_6)))\n",
    "\n",
    "print(list(zip(T_4, betas_4)))\n",
    "print(closest_betas_5)\n",
    "# print(closest_betas_6)\n",
    "\n",
    "x = [i[0] for i in closest_betas_5]\n",
    "y = [i[1] for i in closest_betas_5]\n",
    "# x = [i[0] for i in closest_betas_6]\n",
    "# y = [i[1] for i in closest_betas_6]\n",
    "\n",
    "df_4 = pd.DataFrame(list(zip(T_4, betas_4)), columns=['T', 'beta'])\n",
    "df_4['Nt'] = 4\n",
    "df_5 = pd.DataFrame(closest_betas_5, columns=['T', 'beta'])\n",
    "df_5['Nt'] = 5\n",
    "df = pd.concat([df_4, df_5])\n",
    "# df_6 = pd.DataFrame(closest_betas_6, columns=['T', 'beta'])\n",
    "# df_6['Nt'] = 6\n",
    "# df = pd.concat([df_4, df_6])\n",
    "print(df)\n",
    "\n",
    "fg = seaborn.FacetGrid(data=df, hue = 'Nt', height=4, aspect=1.6, legend_out=False)\n",
    "fg.fig.suptitle('scaling')\n",
    "fontsize = 13\n",
    "fg.ax.set_xlabel(r'$T/T_{0}$', fontsize=fontsize)\n",
    "fg.ax.set_ylabel(r'$\\beta$', fontsize=fontsize)\n",
    "fg.map(plt.scatter, 'T', 'beta').add_legend()"
   ]
  },
  {
   "cell_type": "code",
   "execution_count": 5,
   "metadata": {},
   "outputs": [
    {
     "name": "stdout",
     "output_type": "stream",
     "text": [
      "[(0.7001333930400707, 3.88), (0.9422977863699302, 4.04), (1.0862739733760185, 4.12), (1.2435781900630793, 4.2), (1.3698213256177822, 4.26), (1.5957140755404429, 4.36), (1.999566677958668, 4.52), (2.4639184571560095, 4.68), (3.0030925821277275, 4.84), (3.635311674327241, 5.0)]\n",
      "[(0.7000410904049937, 4.100000000000033), (0.9417948766839797, 4.279000000000093), (1.087049952157927, 4.374000000000125), (1.2427630484580536, 4.468000000000156), (1.368936993554376, 4.53900000000018), (1.5948943315102013, 4.656000000000219), (1.9992579599624793, 4.83800000000028), (2.423163730322137, 4.999000000000334), (2.423163730322137, 4.999000000000334), (2.423163730322137, 4.999000000000334)]\n",
      "          T   beta  Nt\n",
      "0  0.700133  3.880   4\n",
      "1  0.942298  4.040   4\n",
      "2  1.086274  4.120   4\n",
      "3  1.243578  4.200   4\n",
      "4  1.369821  4.260   4\n",
      "5  1.595714  4.360   4\n",
      "6  1.999567  4.520   4\n",
      "7  2.463918  4.680   4\n",
      "8  3.003093  4.840   4\n",
      "9  3.635312  5.000   4\n",
      "0  0.700041  4.100   6\n",
      "1  0.941795  4.279   6\n",
      "2  1.087050  4.374   6\n",
      "3  1.242763  4.468   6\n",
      "4  1.368937  4.539   6\n",
      "5  1.594894  4.656   6\n",
      "6  1.999258  4.838   6\n",
      "7  2.423164  4.999   6\n",
      "8  2.423164  4.999   6\n",
      "9  2.423164  4.999   6\n"
     ]
    },
    {
     "data": {
      "text/plain": [
       "<seaborn.axisgrid.FacetGrid at 0x7f1cb311c3a0>"
      ]
     },
     "execution_count": 5,
     "metadata": {},
     "output_type": "execute_result"
    },
    {
     "data": {
      "image/png": "[encoded data removed]",
      "text/plain": [
       "<Figure size 460.8x288 with 1 Axes>"
      ]
     },
     "metadata": {
      "needs_background": "light"
     },
     "output_type": "display_data"
    }
   ],
   "source": [
    "beta_crit = {4: 4.073, 5: 4.202, 6: 4.318}\n",
    "betas_4 = [3.88, 4.04, 4.12, 4.2, 4.26, 4.36, 4.52, 4.68, 4.84, 5.0]\n",
    "# betas = [4.0, 4.04, 4.08, 4.12, 4.20, 4.26, 4.36, 4.52, 4.68, 4.84, 5.00]\n",
    "# 0.7 0.9 1.1 1.3 1.5 1.7 1.9 2.1 2.4 2.78\n",
    "# betas = [4.04, 4.16, 4.28, 4.4, 4.5, 4.6, 4.68, 4.76, 4.88, 5.00]\n",
    "betas_test_5 = np.arange(4, 5, 0.001)\n",
    "betas_test_6 = np.arange(4, 5, 0.001)\n",
    "T_4 = beta_to_temperature(4, beta_crit[4], betas_4)\n",
    "T_test_5 = beta_to_temperature(5, beta_crit[5], betas_test_5)\n",
    "T_test_6 = beta_to_temperature(6, beta_crit[6], betas_test_6)\n",
    "# closest_betas_5 = find_closest_betas(list(zip(T_4, betas_4)), list(zip(T_test_5, betas_test_5)))\n",
    "closest_betas_6 = find_closest_betas(list(zip(T_4, betas_4)), list(zip(T_test_6, betas_test_6)))\n",
    "\n",
    "print(list(zip(T_4, betas_4)))\n",
    "# print(closest_betas_5)\n",
    "print(closest_betas_6)\n",
    "\n",
    "# x = [i[0] for i in closest_betas_5]\n",
    "# y = [i[1] for i in closest_betas_5]\n",
    "x = [i[0] for i in closest_betas_6]\n",
    "y = [i[1] for i in closest_betas_6]\n",
    "\n",
    "df_4 = pd.DataFrame(list(zip(T_4, betas_4)), columns=['T', 'beta'])\n",
    "df_4['Nt'] = 4\n",
    "# df_5 = pd.DataFrame(closest_betas_5, columns=['T', 'beta'])\n",
    "# df_5['Nt'] = 5\n",
    "# df = pd.concat([df_4, df_5])\n",
    "df_6 = pd.DataFrame(closest_betas_6, columns=['T', 'beta'])\n",
    "df_6['Nt'] = 6\n",
    "df = pd.concat([df_4, df_6])\n",
    "print(df)\n",
    "\n",
    "fg = seaborn.FacetGrid(data=df, hue = 'Nt', height=4, aspect=1.6, legend_out=False)\n",
    "fg.fig.suptitle('scaling')\n",
    "fontsize = 13\n",
    "fg.ax.set_xlabel(r'$T/T_{0}$', fontsize=fontsize)\n",
    "fg.ax.set_ylabel(r'$\\beta$', fontsize=fontsize)\n",
    "fg.map(plt.scatter, 'T', 'beta').add_legend()\n"
   ]
  },
  {
   "cell_type": "code",
   "execution_count": 6,
   "metadata": {},
   "outputs": [],
   "source": [
    "def closest_a(a, betas_test, scale_setter):\n",
    "    a_test = scale_setter.get_spacing_in_fm(betas_test)\n",
    "    closest_a = 0\n",
    "    for i in range(len(a_test)):\n",
    "        if abs(a_test[i] - a) < abs(closest_a - a):\n",
    "             closest_a = a_test[i]\n",
    "             index = i\n",
    "\n",
    "    return betas_test[index]\n",
    "\n",
    "def find_beta(beta1, Nt1, Nt2):\n",
    "    scale_setter = scale.SymanzikScaleSetter()\n",
    "    a1 = scale_setter._get_spacing_in_fm(beta1)\n",
    "    a2 = a1 / Nt2 * Nt1\n",
    "    betas_test = np.arange(3.85, 5, 0.001)\n",
    "    return closest_a(a2, betas_test, scale_setter)"
   ]
  },
  {
   "cell_type": "code",
   "execution_count": 7,
   "metadata": {},
   "outputs": [
    {
     "name": "stdout",
     "output_type": "stream",
     "text": [
      "3.960999999999988\n",
      "3.959999999999988\n",
      "3.960999999999988\n"
     ]
    }
   ],
   "source": [
    "beta_crit = {4: 4.12, 5: 4.253, 6: 4.374}\n",
    "for Nt, beta in beta_crit.items():\n",
    "    print(find_beta(beta, Nt, 3))"
   ]
  },
  {
   "cell_type": "code",
   "execution_count": null,
   "metadata": {},
   "outputs": [],
   "source": []
  }
 ],
 "metadata": {
  "kernelspec": {
   "display_name": "Python 3.8.5 64-bit",
   "language": "python",
   "name": "python3"
  },
  "language_info": {
   "codemirror_mode": {
    "name": "ipython",
    "version": 3
   },
   "file_extension": ".py",
   "mimetype": "text/x-python",
   "name": "python",
   "nbconvert_exporter": "python",
   "pygments_lexer": "ipython3",
   "version": "3.8.10"
  },
  "orig_nbformat": 4,
  "vscode": {
   "interpreter": {
    "hash": "31f2aee4e71d21fbe5cf8b01ff0e069b9275f58929596ceb00d14d90e3e16cd6"
   }
  }
 },
 "nbformat": 4,
 "nbformat_minor": 2
}
